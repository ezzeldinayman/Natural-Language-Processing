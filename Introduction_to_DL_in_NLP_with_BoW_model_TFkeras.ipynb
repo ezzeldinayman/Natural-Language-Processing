{
  "cells": [
    {
      "cell_type": "markdown",
      "metadata": {
        "id": "nXAn2KBtMQ6Y"
      },
      "source": [
        "# Introduction to DL NLP with BoW\n",
        "\n",
        "In this tutorial, we will cover:\n",
        "\n",
        "- Simple BoW model on ready processed `keras.datasets.imdb`.\n",
        "- NLP data pre-processing on `aclimbd` raw data set.\n",
        "- Text binarization using keras `Tokenizer`\n",
        "- Text features using both sklearn and keras Tokenizer: `binary`, `count`, `freq` and `tfidf`\n",
        "- Introduce Keras `Embedding` layer and how to use it with Bag-of-word vectors model."
      ]
    },
    {
      "cell_type": "code",
      "execution_count": null,
      "metadata": {
        "colab": {
          "base_uri": "https://localhost:8080/"
        },
        "id": "_cY6rIse9SVL",
        "outputId": "87b0e8bf-0007-4997-d8e6-b78c6dcc5c42"
      },
      "outputs": [
        {
          "output_type": "stream",
          "name": "stderr",
          "text": [
            "[nltk_data] Downloading package punkt to /root/nltk_data...\n",
            "[nltk_data]   Package punkt is already up-to-date!\n",
            "[nltk_data] Downloading package stopwords to /root/nltk_data...\n",
            "[nltk_data]   Package stopwords is already up-to-date!\n",
            "[nltk_data] Downloading package wordnet to /root/nltk_data...\n",
            "[nltk_data]   Package wordnet is already up-to-date!\n"
          ]
        }
      ],
      "source": [
        "from tensorflow.keras.datasets import imdb\n",
        "from tensorflow.keras.preprocessing.text import text_to_word_sequence\n",
        "from tensorflow.keras.preprocessing.text import Tokenizer\n",
        "from tensorflow.keras.preprocessing.sequence import pad_sequences\n",
        "from tensorflow.keras import models\n",
        "from tensorflow.keras import layers\n",
        "from tensorflow.keras import losses\n",
        "from tensorflow.keras import metrics\n",
        "from tensorflow.keras import optimizers\n",
        "from tensorflow.keras.utils import plot_model\n",
        "\n",
        "import numpy as np\n",
        "import matplotlib.pyplot as plt\n",
        "\n",
        "from sklearn.feature_extraction.text import CountVectorizer\n",
        "from sklearn.feature_extraction.text import TfidfVectorizer\n",
        "from sklearn.model_selection import train_test_split\n",
        "\n",
        "from collections import Counter\n",
        "from pathlib import Path\n",
        "import os\n",
        "import numpy as np\n",
        "import re\n",
        "import string\n",
        "import nltk\n",
        "nltk.download('punkt')\n",
        "from nltk.tokenize import word_tokenize\n",
        "from nltk.corpus import stopwords\n",
        "nltk.download('stopwords')\n",
        "from nltk.stem.porter import PorterStemmer\n",
        "from nltk.stem import WordNetLemmatizer\n",
        "nltk.download('wordnet')\n",
        "from nltk.corpus import wordnet\n",
        "import unicodedata\n",
        "import html\n",
        "stop_words = stopwords.words('english')"
      ]
    },
    {
      "cell_type": "markdown",
      "metadata": {
        "id": "hdwIHLa2PRuW"
      },
      "source": [
        "# Classifying movie reviews with BoW model"
      ]
    },
    {
      "cell_type": "markdown",
      "metadata": {
        "id": "ZUo0oK6pJZ_h"
      },
      "source": [
        "__Core ideas:__\n",
        "\n",
        "1- How text is represented in ML/DL (vocab)\n",
        "\n",
        "2- Simple Dense keras model\n",
        "\n",
        "3- Binary classification loss and activation"
      ]
    },
    {
      "cell_type": "markdown",
      "metadata": {
        "id": "d7svi23njbbE"
      },
      "source": [
        "## The IMDB dataset\n",
        "\n",
        "\n",
        "We'll be working with \"IMDB dataset\", a set of 50,000 highly-polarized reviews from the Internet Movie Database. They are split into 25,000\n",
        "reviews for training and 25,000 reviews for testing, each set consisting in 50% negative and 50% positive reviews.\n",
        "\n",
        "Why do we have these two separate training and test sets? You should never test a machine learning model on the same data that you used to\n",
        "train it! Just because a model performs well on its training data doesn't mean that it will perform well on data it has never seen, and\n",
        "what you actually care about is your model's performance on new data (since you already know the labels of your training data -- obviously\n",
        "you don't need your model to predict those). For instance, it is possible that your model could end up merely _memorizing_ a mapping between\n",
        "your training samples and their targets -- which would be completely useless for the task of predicting targets for data never seen before.\n",
        "We will go over this point in much more detail in the next chapter.\n",
        "\n",
        "Just like the MNIST dataset, the IMDB dataset comes packaged with Keras. It has already been preprocessed: the reviews (sequences of words)\n",
        "have been turned into sequences of integers, where each integer stands for a specific word in a dictionary.\n",
        "\n",
        "The following code will load the dataset (when you run it for the first time, about 80MB of data will be downloaded to your machine):"
      ]
    },
    {
      "cell_type": "code",
      "execution_count": null,
      "metadata": {
        "colab": {
          "base_uri": "https://localhost:8080/"
        },
        "id": "STRUdYOnjbbF",
        "outputId": "49d459b9-025d-4273-b6d1-aadbede126c2"
      },
      "outputs": [
        {
          "output_type": "stream",
          "name": "stdout",
          "text": [
            "Downloading data from https://storage.googleapis.com/tensorflow/tf-keras-datasets/imdb.npz\n",
            "17465344/17464789 [==============================] - 0s 0us/step\n",
            "17473536/17464789 [==============================] - 0s 0us/step\n"
          ]
        }
      ],
      "source": [
        "\n",
        "\n",
        "(train_data, train_labels), (test_data, test_labels) = imdb.load_data(num_words=10000)"
      ]
    },
    {
      "cell_type": "markdown",
      "metadata": {
        "id": "fFL8SiSXjbbI"
      },
      "source": [
        "\n",
        "The argument `num_words=10000` means that we will only keep the top 10,000 most frequently occurring words in the training data. Rare words\n",
        "will be discarded. This allows us to work with vector data of manageable size.\n",
        "\n",
        "The variables `train_data` and `test_data` are lists of reviews, each review being a list of word indices (encoding a sequence of words).\n",
        "`train_labels` and `test_labels` are lists of 0s and 1s, where 0 stands for \"negative\" and 1 stands for \"positive\":"
      ]
    },
    {
      "cell_type": "code",
      "execution_count": null,
      "metadata": {
        "colab": {
          "base_uri": "https://localhost:8080/"
        },
        "id": "pzOFmWDNjbbJ",
        "outputId": "cf5776b8-9323-47a2-b905-5fbe2594b5e1"
      },
      "outputs": [
        {
          "output_type": "execute_result",
          "data": {
            "text/plain": [
              "[1,\n",
              " 14,\n",
              " 22,\n",
              " 16,\n",
              " 43,\n",
              " 530,\n",
              " 973,\n",
              " 1622,\n",
              " 1385,\n",
              " 65,\n",
              " 458,\n",
              " 4468,\n",
              " 66,\n",
              " 3941,\n",
              " 4,\n",
              " 173,\n",
              " 36,\n",
              " 256,\n",
              " 5,\n",
              " 25,\n",
              " 100,\n",
              " 43,\n",
              " 838,\n",
              " 112,\n",
              " 50,\n",
              " 670,\n",
              " 2,\n",
              " 9,\n",
              " 35,\n",
              " 480,\n",
              " 284,\n",
              " 5,\n",
              " 150,\n",
              " 4,\n",
              " 172,\n",
              " 112,\n",
              " 167,\n",
              " 2,\n",
              " 336,\n",
              " 385,\n",
              " 39,\n",
              " 4,\n",
              " 172,\n",
              " 4536,\n",
              " 1111,\n",
              " 17,\n",
              " 546,\n",
              " 38,\n",
              " 13,\n",
              " 447,\n",
              " 4,\n",
              " 192,\n",
              " 50,\n",
              " 16,\n",
              " 6,\n",
              " 147,\n",
              " 2025,\n",
              " 19,\n",
              " 14,\n",
              " 22,\n",
              " 4,\n",
              " 1920,\n",
              " 4613,\n",
              " 469,\n",
              " 4,\n",
              " 22,\n",
              " 71,\n",
              " 87,\n",
              " 12,\n",
              " 16,\n",
              " 43,\n",
              " 530,\n",
              " 38,\n",
              " 76,\n",
              " 15,\n",
              " 13,\n",
              " 1247,\n",
              " 4,\n",
              " 22,\n",
              " 17,\n",
              " 515,\n",
              " 17,\n",
              " 12,\n",
              " 16,\n",
              " 626,\n",
              " 18,\n",
              " 2,\n",
              " 5,\n",
              " 62,\n",
              " 386,\n",
              " 12,\n",
              " 8,\n",
              " 316,\n",
              " 8,\n",
              " 106,\n",
              " 5,\n",
              " 4,\n",
              " 2223,\n",
              " 5244,\n",
              " 16,\n",
              " 480,\n",
              " 66,\n",
              " 3785,\n",
              " 33,\n",
              " 4,\n",
              " 130,\n",
              " 12,\n",
              " 16,\n",
              " 38,\n",
              " 619,\n",
              " 5,\n",
              " 25,\n",
              " 124,\n",
              " 51,\n",
              " 36,\n",
              " 135,\n",
              " 48,\n",
              " 25,\n",
              " 1415,\n",
              " 33,\n",
              " 6,\n",
              " 22,\n",
              " 12,\n",
              " 215,\n",
              " 28,\n",
              " 77,\n",
              " 52,\n",
              " 5,\n",
              " 14,\n",
              " 407,\n",
              " 16,\n",
              " 82,\n",
              " 2,\n",
              " 8,\n",
              " 4,\n",
              " 107,\n",
              " 117,\n",
              " 5952,\n",
              " 15,\n",
              " 256,\n",
              " 4,\n",
              " 2,\n",
              " 7,\n",
              " 3766,\n",
              " 5,\n",
              " 723,\n",
              " 36,\n",
              " 71,\n",
              " 43,\n",
              " 530,\n",
              " 476,\n",
              " 26,\n",
              " 400,\n",
              " 317,\n",
              " 46,\n",
              " 7,\n",
              " 4,\n",
              " 2,\n",
              " 1029,\n",
              " 13,\n",
              " 104,\n",
              " 88,\n",
              " 4,\n",
              " 381,\n",
              " 15,\n",
              " 297,\n",
              " 98,\n",
              " 32,\n",
              " 2071,\n",
              " 56,\n",
              " 26,\n",
              " 141,\n",
              " 6,\n",
              " 194,\n",
              " 7486,\n",
              " 18,\n",
              " 4,\n",
              " 226,\n",
              " 22,\n",
              " 21,\n",
              " 134,\n",
              " 476,\n",
              " 26,\n",
              " 480,\n",
              " 5,\n",
              " 144,\n",
              " 30,\n",
              " 5535,\n",
              " 18,\n",
              " 51,\n",
              " 36,\n",
              " 28,\n",
              " 224,\n",
              " 92,\n",
              " 25,\n",
              " 104,\n",
              " 4,\n",
              " 226,\n",
              " 65,\n",
              " 16,\n",
              " 38,\n",
              " 1334,\n",
              " 88,\n",
              " 12,\n",
              " 16,\n",
              " 283,\n",
              " 5,\n",
              " 16,\n",
              " 4472,\n",
              " 113,\n",
              " 103,\n",
              " 32,\n",
              " 15,\n",
              " 16,\n",
              " 5345,\n",
              " 19,\n",
              " 178,\n",
              " 32]"
            ]
          },
          "metadata": {},
          "execution_count": 3
        }
      ],
      "source": [
        "train_data[0]"
      ]
    },
    {
      "cell_type": "code",
      "execution_count": null,
      "metadata": {
        "colab": {
          "base_uri": "https://localhost:8080/"
        },
        "id": "FfkzaEHkjbbM",
        "outputId": "087a4567-d91b-4935-d4a9-f80d16fcacc1"
      },
      "outputs": [
        {
          "output_type": "execute_result",
          "data": {
            "text/plain": [
              "1"
            ]
          },
          "metadata": {},
          "execution_count": 4
        }
      ],
      "source": [
        "train_labels[0]"
      ]
    },
    {
      "cell_type": "markdown",
      "metadata": {
        "id": "oPStDLSCjbbU"
      },
      "source": [
        "Since we restricted ourselves to the top 10,000 most frequent words, no word index will exceed 10,000:"
      ]
    },
    {
      "cell_type": "code",
      "execution_count": null,
      "metadata": {
        "colab": {
          "base_uri": "https://localhost:8080/"
        },
        "id": "9nS1RttSjbbV",
        "outputId": "f4ae54e9-2adf-445d-cda2-17829ec87650"
      },
      "outputs": [
        {
          "output_type": "execute_result",
          "data": {
            "text/plain": [
              "9999"
            ]
          },
          "metadata": {},
          "execution_count": 5
        }
      ],
      "source": [
        "max([max(sequence) for sequence in train_data])"
      ]
    },
    {
      "cell_type": "markdown",
      "metadata": {
        "id": "0GGQxMSMjbba"
      },
      "source": [
        "For kicks, here's how you can quickly decode one of these reviews back to English words:"
      ]
    },
    {
      "cell_type": "code",
      "execution_count": null,
      "metadata": {
        "colab": {
          "base_uri": "https://localhost:8080/"
        },
        "id": "PIq8Ykhkjbba",
        "outputId": "f4471256-ad86-4f43-df5e-09ece9b3ba01"
      },
      "outputs": [
        {
          "output_type": "stream",
          "name": "stdout",
          "text": [
            "Downloading data from https://storage.googleapis.com/tensorflow/tf-keras-datasets/imdb_word_index.json\n",
            "1646592/1641221 [==============================] - 0s 0us/step\n",
            "1654784/1641221 [==============================] - 0s 0us/step\n"
          ]
        }
      ],
      "source": [
        "# word_index is a dictionary mapping words to an integer index\n",
        "word_index = imdb.get_word_index()\n",
        "# We reverse it, mapping integer indices to words\n",
        "reverse_word_index = dict([(value, key) for (key, value) in word_index.items()])\n",
        "# We decode the review; note that our indices were offset by 3\n",
        "# because 0, 1 and 2 are reserved indices for \"padding\", \"start of sequence\", and \"unknown\".\n",
        "decoded_review = ' '.join([reverse_word_index.get(i - 3, '?') for i in train_data[0]])"
      ]
    },
    {
      "cell_type": "code",
      "execution_count": null,
      "metadata": {
        "colab": {
          "base_uri": "https://localhost:8080/",
          "height": 140
        },
        "id": "SKG0QBbTjbbf",
        "outputId": "b0daaf7b-e421-4013-b7e7-e3cd6604ccdc"
      },
      "outputs": [
        {
          "output_type": "execute_result",
          "data": {
            "text/plain": [
              "\"? this film was just brilliant casting location scenery story direction everyone's really suited the part they played and you could just imagine being there robert ? is an amazing actor and now the same being director ? father came from the same scottish island as myself so i loved the fact there was a real connection with this film the witty remarks throughout the film were great it was just brilliant so much that i bought the film as soon as it was released for ? and would recommend it to everyone to watch and the fly fishing was amazing really cried at the end it was so sad and you know what they say if you cry at a film it must have been good and this definitely was also ? to the two little boy's that played the ? of norman and paul they were just brilliant children are often left out of the ? list i think because the stars that play them all grown up are such a big profile for the whole film but these children are amazing and should be praised for what they have done don't you think the whole story was so lovely because it was true and was someone's life after all that was shared with us all\""
            ],
            "application/vnd.google.colaboratory.intrinsic+json": {
              "type": "string"
            }
          },
          "metadata": {},
          "execution_count": 7
        }
      ],
      "source": [
        "decoded_review"
      ]
    },
    {
      "cell_type": "markdown",
      "metadata": {
        "id": "gYxR0mbsLtG-"
      },
      "source": [
        "# Bag of Words\n",
        "\n",
        "The term BoW is used in many different occasions in NLP. In general, it referes to treating every word equally as the others, without consideration of sequential information of the sentence or document. In other words, the context of the words is not considered.\n",
        "\n",
        "In some settings, words in the bag are summed, averaged,...etc (or their vectors). In other settings, they are simply mutlipled by different _learnable_ weighting. This is the case we will consider. We will use the `Dense` layer, applied to a _long_ vector of 1's and 0's. The length of that vector is the same as the number of words in our vocab (we specified when loading the data above using the `num_words` param). We will have such vector for every sentence/document of the data. Whenever a word of the vocab is mentioned, we set the corresponding location to 1. Otherwise, it's 0.\n",
        "\n",
        "__You can imagine how sparse and inefficient is that vector!__\n",
        "\n",
        "__In this setting, we are treating the mention or absence of a word as a feature__\n",
        "\n",
        "The `Dense` layer will assign a _learnable_ weight to each word location. If the word is mentioned, that weight will be multiplied by 1, else it's 0. Then the output of the `Dense` is a number of neurons (hyper param), each represents different weighting of the input long vector of features/words.\n",
        "\n",
        "The next layers, are just further _refinements_ of the learnt features from the previous layers. Until we reach the final layer, which produces 1 or k outputs according to the problem or task (binary or multi classification).\n",
        "\n",
        "__Pros__:\n",
        "- All words are normalized, regardless of their index in the vocab\n",
        "\n",
        "__Cons__:\n",
        "\n",
        "- Sparsity = inefficiency = A lot of useless features = confusion of the model = unnecessary big model = more overfitting\n",
        "\n",
        "- Need to pad to max (again inefficiency):\n",
        "\n",
        "This model, requires ALL the data samples to have the same length, sense the `Dense` layer cannot handle variable length input (weight matrix is fixed). This mandates to perform padding\n",
        "\n",
        "- No context = no sequence = hard to model co-reference, sarcasm, negation...etc\n",
        "\n",
        "_Example_\n",
        "\n",
        "Such BoW model has no clue to differentiate the following cases:\n",
        "\n",
        "- This movie is good --> +\n",
        "\n",
        "- This movie is bad --> -\n",
        "\n",
        "- This movie is not good --> -\n",
        "\n",
        "- This movie is not bad --> +\n",
        "\n",
        "Simple because it cannot link the context of the words \"good\" and \"bad\" to the negatition or affirmation context \"not\"\n",
        "\n"
      ]
    },
    {
      "cell_type": "markdown",
      "metadata": {
        "id": "OHAoXs4IgRv6"
      },
      "source": []
    },
    {
      "cell_type": "markdown",
      "metadata": {
        "id": "yZy2lUo9jbbk"
      },
      "source": [
        "## Preparing the data\n",
        "\n",
        "\n",
        "We cannot feed lists of integers into a neural network. We have to turn our lists into tensors. There are two ways we could do that:\n",
        "\n",
        "* We could pad our lists so that they all have the same length, and turn them into an integer tensor of shape `(samples, word_indices)`,\n",
        "then use as first layer in our network a layer capable of handling such integer tensors (the `Embedding` layer, which we will cover in\n",
        "detail later).\n",
        "* We could one-hot-encode our lists to turn them into vectors of 0s and 1s. Concretely, this would mean for instance turning the sequence\n",
        "`[3, 5]` into a 10,000-dimensional vector that would be all-zeros except for indices 3 and 5, which would be ones. Then we could use as\n",
        "first layer in our network a `Dense` layer, capable of handling floating point vector data.\n",
        "\n",
        "We will go with the latter solution. Let's vectorize our data, which we will do manually for maximum clarity:"
      ]
    },
    {
      "cell_type": "code",
      "execution_count": null,
      "metadata": {
        "id": "hnIe0FhHjbbl"
      },
      "outputs": [],
      "source": [
        "\n",
        "\n",
        "def vectorize_sequences(sequences, dimension=10000):\n",
        "    # Create an all-zero matrix of shape (len(sequences), dimension)\n",
        "    results = np.zeros((len(sequences), dimension))\n",
        "    for i, sequence in enumerate(sequences):\n",
        "        results[i, sequence] = 1.  # set specific indices of results[i] to 1s\n",
        "    return results\n",
        "\n",
        "# Our vectorized training data\n",
        "x_train = vectorize_sequences(train_data)\n",
        "# Our vectorized test data\n",
        "x_test = vectorize_sequences(test_data)"
      ]
    },
    {
      "cell_type": "markdown",
      "metadata": {
        "id": "C3V-8_vvjbbn"
      },
      "source": [
        "Here's what our samples look like now:"
      ]
    },
    {
      "cell_type": "code",
      "execution_count": null,
      "metadata": {
        "colab": {
          "base_uri": "https://localhost:8080/"
        },
        "id": "pWzbi0o1jbbp",
        "outputId": "cb30d422-1047-4758-ce15-ca6724b2e9e2"
      },
      "outputs": [
        {
          "output_type": "execute_result",
          "data": {
            "text/plain": [
              "array([0., 1., 1., ..., 0., 0., 0.])"
            ]
          },
          "metadata": {},
          "execution_count": 9
        }
      ],
      "source": [
        "x_train[0]"
      ]
    },
    {
      "cell_type": "markdown",
      "metadata": {
        "id": "qjNw0fiUjbbs"
      },
      "source": [
        "We should also vectorize our labels, which is straightforward:"
      ]
    },
    {
      "cell_type": "code",
      "execution_count": null,
      "metadata": {
        "id": "UziknEIijbbv"
      },
      "outputs": [],
      "source": [
        "# Our vectorized labels\n",
        "y_train = np.asarray(train_labels).astype('float32')\n",
        "y_test = np.asarray(test_labels).astype('float32')"
      ]
    },
    {
      "cell_type": "markdown",
      "metadata": {
        "id": "cRvzkiQcjbbz"
      },
      "source": [
        "Now our data is ready to be fed into a neural network."
      ]
    },
    {
      "cell_type": "markdown",
      "metadata": {
        "id": "7KORE8-Bjbb2"
      },
      "source": [
        "## Building our network\n",
        "\n",
        "\n",
        "Our input data is simply vectors, and our labels are scalars (1s and 0s): this is the easiest setup you will ever encounter. A type of\n",
        "network that performs well on such a problem would be a simple stack of fully-connected (`Dense`) layers with `relu` activations: `Dense(16,\n",
        "activation='relu')`\n",
        "\n",
        "The argument being passed to each `Dense` layer (16) is the number of \"hidden units\" of the layer. What's a hidden unit? It's a dimension\n",
        "in the representation space of the layer. You may remember from the previous chapter that each such `Dense` layer with a `relu` activation implements\n",
        "the following chain of tensor operations:\n",
        "\n",
        "`output = relu(dot(W, input) + b)`\n",
        "\n",
        "Having 16 hidden units means that the weight matrix `W` will have shape `(input_dimension, 16)`, i.e. the dot product with `W` will project the\n",
        "input data onto a 16-dimensional representation space (and then we would add the bias vector `b` and apply the `relu` operation). You can\n",
        "intuitively understand the dimensionality of your representation space as \"how much freedom you are allowing the network to have when\n",
        "learning internal representations\". Having more hidden units (a higher-dimensional representation space) allows your network to learn more\n",
        "complex representations, but it makes your network more computationally expensive and may lead to learning unwanted patterns (patterns that\n",
        "will improve performance on the training data but not on the test data).\n",
        "\n",
        "There are two key architecture decisions to be made about such stack of dense layers:\n",
        "\n",
        "* How many layers to use.\n",
        "* How many \"hidden units\" to chose for each layer.\n",
        "\n",
        "In the next chapter, you will learn formal principles to guide you in making these choices.\n",
        "For the time being, you will have to trust us with the following architecture choice:\n",
        "two intermediate layers with 16 hidden units each,\n",
        "and a third layer which will output the scalar prediction regarding the sentiment of the current review.\n",
        "The intermediate layers will use `relu` as their \"activation function\",\n",
        "and the final layer will use a sigmoid activation so as to output a probability\n",
        "(a score between 0 and 1, indicating how likely the sample is to have the target \"1\", i.e. how likely the review is to be positive).\n",
        "A `relu` (rectified linear unit) is a function meant to zero-out negative values,\n",
        "while a sigmoid \"squashes\" arbitrary values into the `[0, 1]` interval, thus outputting something that can be interpreted as a probability."
      ]
    },
    {
      "cell_type": "markdown",
      "metadata": {
        "id": "2KE604Pajbb4"
      },
      "source": [
        "Here's what our network looks like:\n",
        "\n",
        "![3-layer network](https://s3.amazonaws.com/book.keras.io/img/ch3/3_layer_network.png)"
      ]
    },
    {
      "cell_type": "markdown",
      "metadata": {
        "id": "82FQQsEOjbb5"
      },
      "source": [
        "And here's the Keras implementation, very similar to the MNIST example you saw previously:"
      ]
    },
    {
      "cell_type": "code",
      "execution_count": null,
      "metadata": {
        "id": "rNFjVJdMjbb5"
      },
      "outputs": [],
      "source": [
        "from tensorflow.keras import models\n",
        "from tensorflow.keras import layers\n",
        "\n",
        "model = models.Sequential()\n",
        "model.add(layers.Dense(16, activation='relu', input_shape=(10000,)))\n",
        "model.add(layers.Dense(16, activation='relu'))\n",
        "model.add(layers.Dense(1, activation='sigmoid'))"
      ]
    },
    {
      "cell_type": "markdown",
      "metadata": {
        "id": "TwwZgXxqjbb9"
      },
      "source": [
        "\n",
        "Lastly, we need to pick a loss function and an optimizer. Since we are facing a binary classification problem and the output of our network\n",
        "is a probability (we end our network with a single-unit layer with a sigmoid activation), is it best to use the `binary_crossentropy` loss.\n",
        "It isn't the only viable choice: you could use, for instance, `mean_squared_error`. But crossentropy is usually the best choice when you\n",
        "are dealing with models that output probabilities. Crossentropy is a quantity from the field of Information Theory, that measures the \"distance\"\n",
        "between probability distributions, or in our case, between the ground-truth distribution and our predictions.\n",
        "\n",
        "Here's the step where we configure our model with the `rmsprop` optimizer and the `binary_crossentropy` loss function. Note that we will\n",
        "also monitor accuracy during training."
      ]
    },
    {
      "cell_type": "code",
      "execution_count": null,
      "metadata": {
        "id": "vVxj_E7njbb-"
      },
      "outputs": [],
      "source": [
        "model.compile(optimizer='rmsprop',\n",
        "              loss='binary_crossentropy',\n",
        "              metrics=['accuracy'])"
      ]
    },
    {
      "cell_type": "markdown",
      "metadata": {
        "id": "d6TJvwM4jbcC"
      },
      "source": [
        "We are passing our optimizer, loss function and metrics as strings, which is possible because `rmsprop`, `binary_crossentropy` and\n",
        "`accuracy` are packaged as part of Keras. Sometimes you may want to configure the parameters of your optimizer, or pass a custom loss\n",
        "function or metric function. This former can be done by passing an optimizer class instance as the `optimizer` argument:"
      ]
    },
    {
      "cell_type": "code",
      "execution_count": null,
      "metadata": {
        "colab": {
          "base_uri": "https://localhost:8080/"
        },
        "id": "ztOY0GfgjbcD",
        "outputId": "8dee5e26-ca9a-4e7c-b3f2-fe97317370e9"
      },
      "outputs": [
        {
          "output_type": "stream",
          "name": "stderr",
          "text": [
            "/usr/local/lib/python3.7/dist-packages/keras/optimizer_v2/rmsprop.py:130: UserWarning: The `lr` argument is deprecated, use `learning_rate` instead.\n",
            "  super(RMSprop, self).__init__(name, **kwargs)\n"
          ]
        }
      ],
      "source": [
        "from tensorflow.keras import optimizers\n",
        "\n",
        "model.compile(optimizer=optimizers.RMSprop(lr=0.001),\n",
        "              loss='binary_crossentropy',\n",
        "              metrics=['accuracy'])"
      ]
    },
    {
      "cell_type": "markdown",
      "metadata": {
        "id": "rLKiYKK7jbcI"
      },
      "source": [
        "The latter can be done by passing function objects as the `loss` or `metrics` arguments:"
      ]
    },
    {
      "cell_type": "code",
      "execution_count": null,
      "metadata": {
        "colab": {
          "base_uri": "https://localhost:8080/"
        },
        "id": "D-T98txDjbcJ",
        "outputId": "d071d18a-b980-4851-d2df-11130b42d615"
      },
      "outputs": [
        {
          "output_type": "stream",
          "name": "stderr",
          "text": [
            "/usr/local/lib/python3.7/dist-packages/keras/optimizer_v2/rmsprop.py:130: UserWarning: The `lr` argument is deprecated, use `learning_rate` instead.\n",
            "  super(RMSprop, self).__init__(name, **kwargs)\n"
          ]
        }
      ],
      "source": [
        "from tensorflow.keras import losses\n",
        "from tensorflow.keras import metrics\n",
        "\n",
        "model.compile(optimizer=optimizers.RMSprop(lr=0.001),\n",
        "              loss=losses.binary_crossentropy,\n",
        "              metrics=[metrics.binary_accuracy])"
      ]
    },
    {
      "cell_type": "markdown",
      "metadata": {
        "id": "6CV0gFrbjbcQ"
      },
      "source": [
        "## Validating our approach\n",
        "\n",
        "In order to monitor during training the accuracy of the model on data that it has never seen before, we will create a \"validation set\" by\n",
        "setting apart 10,000 samples from the original training data:"
      ]
    },
    {
      "cell_type": "code",
      "execution_count": null,
      "metadata": {
        "id": "8XuByTHhjbcQ"
      },
      "outputs": [],
      "source": [
        "x_val = x_train[:10000]\n",
        "partial_x_train = x_train[10000:]\n",
        "\n",
        "y_val = y_train[:10000]\n",
        "partial_y_train = y_train[10000:]"
      ]
    },
    {
      "cell_type": "markdown",
      "metadata": {
        "collapsed": true,
        "id": "d23VFZWejbcT"
      },
      "source": [
        "We will now train our model for 20 epochs (20 iterations over all samples in the `x_train` and `y_train` tensors), in mini-batches of 512\n",
        "samples. At this same time we will monitor loss and accuracy on the 10,000 samples that we set apart. This is done by passing the\n",
        "validation data as the `validation_data` argument:"
      ]
    },
    {
      "cell_type": "code",
      "execution_count": null,
      "metadata": {
        "colab": {
          "base_uri": "https://localhost:8080/"
        },
        "id": "Umy_h9kEjbcU",
        "outputId": "1e5504d8-9933-4930-d35b-61ba760b48e0"
      },
      "outputs": [
        {
          "output_type": "stream",
          "name": "stdout",
          "text": [
            "Epoch 1/20\n",
            "30/30 [==============================] - 7s 52ms/step - loss: 0.5185 - binary_accuracy: 0.7866 - val_loss: 0.4344 - val_binary_accuracy: 0.8144\n",
            "Epoch 2/20\n",
            "30/30 [==============================] - 1s 19ms/step - loss: 0.3149 - binary_accuracy: 0.9035 - val_loss: 0.3080 - val_binary_accuracy: 0.8898\n",
            "Epoch 3/20\n",
            "30/30 [==============================] - 1s 19ms/step - loss: 0.2266 - binary_accuracy: 0.9289 - val_loss: 0.2889 - val_binary_accuracy: 0.8857\n",
            "Epoch 4/20\n",
            "30/30 [==============================] - 1s 19ms/step - loss: 0.1808 - binary_accuracy: 0.9408 - val_loss: 0.2813 - val_binary_accuracy: 0.8881\n",
            "Epoch 5/20\n",
            "30/30 [==============================] - 1s 19ms/step - loss: 0.1439 - binary_accuracy: 0.9554 - val_loss: 0.2799 - val_binary_accuracy: 0.8891\n",
            "Epoch 6/20\n",
            "30/30 [==============================] - 1s 19ms/step - loss: 0.1218 - binary_accuracy: 0.9607 - val_loss: 0.3065 - val_binary_accuracy: 0.8838\n",
            "Epoch 7/20\n",
            "30/30 [==============================] - 1s 20ms/step - loss: 0.0989 - binary_accuracy: 0.9708 - val_loss: 0.3170 - val_binary_accuracy: 0.8798\n",
            "Epoch 8/20\n",
            "30/30 [==============================] - 1s 19ms/step - loss: 0.0840 - binary_accuracy: 0.9762 - val_loss: 0.3261 - val_binary_accuracy: 0.8812\n",
            "Epoch 9/20\n",
            "30/30 [==============================] - 1s 20ms/step - loss: 0.0659 - binary_accuracy: 0.9827 - val_loss: 0.3500 - val_binary_accuracy: 0.8785\n",
            "Epoch 10/20\n",
            "30/30 [==============================] - 1s 19ms/step - loss: 0.0563 - binary_accuracy: 0.9857 - val_loss: 0.3722 - val_binary_accuracy: 0.8782\n",
            "Epoch 11/20\n",
            "30/30 [==============================] - 1s 19ms/step - loss: 0.0453 - binary_accuracy: 0.9894 - val_loss: 0.4014 - val_binary_accuracy: 0.8758\n",
            "Epoch 12/20\n",
            "30/30 [==============================] - 1s 19ms/step - loss: 0.0354 - binary_accuracy: 0.9931 - val_loss: 0.4355 - val_binary_accuracy: 0.8749\n",
            "Epoch 13/20\n",
            "30/30 [==============================] - 1s 19ms/step - loss: 0.0282 - binary_accuracy: 0.9952 - val_loss: 0.4581 - val_binary_accuracy: 0.8732\n",
            "Epoch 14/20\n",
            "30/30 [==============================] - 1s 20ms/step - loss: 0.0219 - binary_accuracy: 0.9965 - val_loss: 0.4960 - val_binary_accuracy: 0.8717\n",
            "Epoch 15/20\n",
            "30/30 [==============================] - 1s 20ms/step - loss: 0.0214 - binary_accuracy: 0.9960 - val_loss: 0.5322 - val_binary_accuracy: 0.8701\n",
            "Epoch 16/20\n",
            "30/30 [==============================] - 1s 20ms/step - loss: 0.0130 - binary_accuracy: 0.9983 - val_loss: 0.5633 - val_binary_accuracy: 0.8670\n",
            "Epoch 17/20\n",
            "30/30 [==============================] - 1s 20ms/step - loss: 0.0111 - binary_accuracy: 0.9985 - val_loss: 0.5947 - val_binary_accuracy: 0.8670\n",
            "Epoch 18/20\n",
            "30/30 [==============================] - 1s 20ms/step - loss: 0.0079 - binary_accuracy: 0.9993 - val_loss: 0.6832 - val_binary_accuracy: 0.8601\n",
            "Epoch 19/20\n",
            "30/30 [==============================] - 1s 20ms/step - loss: 0.0053 - binary_accuracy: 0.9998 - val_loss: 0.6687 - val_binary_accuracy: 0.8652\n",
            "Epoch 20/20\n",
            "30/30 [==============================] - 1s 23ms/step - loss: 0.0060 - binary_accuracy: 0.9991 - val_loss: 0.6979 - val_binary_accuracy: 0.8652\n"
          ]
        }
      ],
      "source": [
        "history = model.fit(partial_x_train,\n",
        "                    partial_y_train,\n",
        "                    epochs=20,\n",
        "                    batch_size=512,\n",
        "                    validation_data=(x_val, y_val))"
      ]
    },
    {
      "cell_type": "markdown",
      "metadata": {
        "id": "A-7cRYJdjbcW"
      },
      "source": [
        "On CPU, this will take less than two seconds per epoch -- training is over in 20 seconds. At the end of every epoch, there is a slight pause\n",
        "as the model computes its loss and accuracy on the 10,000 samples of the validation data.\n",
        "\n",
        "Note that the call to `model.fit()` returns a `History` object. This object has a member `history`, which is a dictionary containing data\n",
        "about everything that happened during training. Let's take a look at it:"
      ]
    },
    {
      "cell_type": "code",
      "execution_count": null,
      "metadata": {
        "colab": {
          "base_uri": "https://localhost:8080/"
        },
        "id": "CX_DkiW8jbcX",
        "outputId": "99add6f7-badf-4255-a100-e9fa0fd7e4ef"
      },
      "outputs": [
        {
          "output_type": "execute_result",
          "data": {
            "text/plain": [
              "dict_keys(['loss', 'binary_accuracy', 'val_loss', 'val_binary_accuracy'])"
            ]
          },
          "metadata": {},
          "execution_count": 17
        }
      ],
      "source": [
        "history_dict = history.history\n",
        "history_dict.keys()"
      ]
    },
    {
      "cell_type": "markdown",
      "metadata": {
        "id": "9iWqNcRDjbcc"
      },
      "source": [
        "It contains 4 entries: one per metric that was being monitored, during training and during validation. Let's use Matplotlib to plot the\n",
        "training and validation loss side by side, as well as the training and validation accuracy:"
      ]
    },
    {
      "cell_type": "code",
      "execution_count": null,
      "metadata": {
        "colab": {
          "base_uri": "https://localhost:8080/",
          "height": 295
        },
        "id": "nqNXNQ3Ijbcc",
        "outputId": "346ea7fc-0fb6-4f8f-b876-0c53deac748d"
      },
      "outputs": [
        {
          "output_type": "display_data",
          "data": {
            "text/plain": [
              "<Figure size 432x288 with 1 Axes>"
            ],
            "image/png": "[encoded data removed]"
          },
          "metadata": {
            "needs_background": "light"
          }
        }
      ],
      "source": [
        "import matplotlib.pyplot as plt\n",
        "\n",
        "acc = history.history['binary_accuracy']\n",
        "val_acc = history.history['val_binary_accuracy']\n",
        "loss = history.history['loss']\n",
        "val_loss = history.history['val_loss']\n",
        "\n",
        "epochs = range(1, len(acc) + 1)\n",
        "\n",
        "# \"bo\" is for \"blue dot\"\n",
        "plt.plot(epochs, loss, 'bo', label='Training loss')\n",
        "# b is for \"solid blue line\"\n",
        "plt.plot(epochs, val_loss, 'b', label='Validation loss')\n",
        "plt.title('Training and validation loss')\n",
        "plt.xlabel('Epochs')\n",
        "plt.ylabel('Loss')\n",
        "plt.legend()\n",
        "\n",
        "plt.show()"
      ]
    },
    {
      "cell_type": "code",
      "execution_count": null,
      "metadata": {
        "colab": {
          "base_uri": "https://localhost:8080/",
          "height": 295
        },
        "id": "ePY12wXOjbcg",
        "outputId": "8014fe43-9b5c-4ee5-c70a-46a21f791641"
      },
      "outputs": [
        {
          "output_type": "display_data",
          "data": {
            "text/plain": [
              "<Figure size 432x288 with 1 Axes>"
            ],
            "image/png": "[encoded data removed]"
          },
          "metadata": {
            "needs_background": "light"
          }
        }
      ],
      "source": [
        "plt.clf()   # clear figure\n",
        "acc_values = history_dict['binary_accuracy']\n",
        "val_acc_values = history_dict['val_binary_accuracy']\n",
        "\n",
        "plt.plot(epochs, acc, 'bo', label='Training acc')\n",
        "plt.plot(epochs, val_acc, 'b', label='Validation acc')\n",
        "plt.title('Training and validation accuracy')\n",
        "plt.xlabel('Epochs')\n",
        "plt.ylabel('Loss')\n",
        "plt.legend()\n",
        "\n",
        "plt.show()"
      ]
    },
    {
      "cell_type": "markdown",
      "metadata": {
        "id": "KXSoAHZ4Kyzh"
      },
      "source": [
        "# Classifying movie reviews from scratch"
      ]
    },
    {
      "cell_type": "markdown",
      "metadata": {
        "id": "Oe3Un41lK5hw"
      },
      "source": [
        "So far, we have used the processed IMDB dataset in `keras`. As you have seen, for text to be \"usable\" in a DNN, we need to transform it into digital form, i.e. integers not strings.\n",
        "\n",
        "In the basic BoW Dense model, we treat every word as a _feature_\n",
        "\n",
        "Moreover, for neurons (or ML features in general), we need normalized values [0,1]. Otherwise, words with higher index will be interpretted as higher features importance.\n",
        "\n",
        "In `keras.datasets.imdb` this digitization was readily made for us. We could see the data represented as numbers:"
      ]
    },
    {
      "cell_type": "markdown",
      "metadata": {
        "id": "QKxW9bCTgKhp"
      },
      "source": [
        "However, the raw [IMDB](http://ai.stanford.edu/~amaas/data/sentiment/aclImdb_v1.tar.gz ) is just plain text:"
      ]
    },
    {
      "cell_type": "code",
      "execution_count": null,
      "metadata": {
        "id": "hRL1ymKKgwfs"
      },
      "outputs": [],
      "source": [
        "from pathlib import Path\n",
        "import os\n",
        "DATA_PATH=Path('./dat/')\n",
        "DATA_PATH.mkdir(exist_ok=True)\n",
        "#if not os.path.exists('./dat/aclImdb_v1.tar.gz'):\n",
        "if not os.path.exists('./dat/aclImdb'):\n",
        "    !curl -O http://ai.stanford.edu/~amaas/data/sentiment/aclImdb_v1.tar.gz\n",
        "    !tar -xf aclImdb_v1.tar.gz -C {DATA_PATH}"
      ]
    },
    {
      "cell_type": "markdown",
      "metadata": {
        "id": "W0QxCJE_hHTW"
      },
      "source": [
        "The data is already split into train/test. Moreover, we have 3 class folders:\n",
        "\n",
        "- pos\n",
        "\n",
        "- neg\n",
        "\n",
        "- unsup (no specific label)"
      ]
    },
    {
      "cell_type": "markdown",
      "metadata": {
        "id": "P6WR0hr1hkfP"
      },
      "source": [
        "Let's have a look on the raw data:"
      ]
    },
    {
      "cell_type": "code",
      "execution_count": null,
      "metadata": {
        "id": "DBdi8Vrhg7oM"
      },
      "outputs": [],
      "source": [
        "import numpy as np\n",
        "CLASSES = ['neg', 'pos']#, 'unsup']\n",
        "PATH=Path('./dat/aclImdb/')\n",
        "\n",
        "def get_texts(path):\n",
        "    texts,labels = [],[]\n",
        "    for idx,label in enumerate(CLASSES):\n",
        "        for fname in (path/label).glob('*.*'):\n",
        "            #texts.append(fixup(fname.open('r', encoding='utf-8').read()))\n",
        "            texts.append(fname.open('r', encoding='utf-8').read())\n",
        "            labels.append(idx)\n",
        "    #return np.array(texts),np.array(labels)\n",
        "    return texts, labels\n"
      ]
    },
    {
      "cell_type": "code",
      "execution_count": null,
      "metadata": {
        "id": "-f9C-zGR796Z"
      },
      "outputs": [],
      "source": [
        "\n",
        "trn_texts,trn_labels = get_texts(PATH/'train')\n",
        "tst_texts,tst_labels = get_texts(PATH/'test')"
      ]
    },
    {
      "cell_type": "code",
      "execution_count": null,
      "metadata": {
        "colab": {
          "base_uri": "https://localhost:8080/"
        },
        "id": "DA20l_K0hqkI",
        "outputId": "509c5cf8-2cbe-4130-8b5f-810618e949e0"
      },
      "outputs": [
        {
          "output_type": "stream",
          "name": "stdout",
          "text": [
            "I agree totally with the last commenter this could be the worst movie ever made .I too had to fast forward through most of this movie. Michael Madsen must have done this movie as a favor to someone.The picture quality is grainy all the way through .And what little plot there is,is just plain stupid .I give this movie a 1 out of 10 if I could give it a lower score I would .Don't waste your time on this movie or you'll regret it.\n",
            "\n",
            "\n",
            "Jean Rollin artistic nonsense about vampires, aliens and the quest for immortality.<br /><br />The women are beautiful and the photography stunning. The dialog is inane. Its a laughable mess. Great to look at but as any semblance of a horror film or thriller purely awful. I'm trying to figure out if we're suppose to be scared or not. At the same time is it a put on or not? Its an odd mix of art film and horror that never quite meshes and while its nice to look at it never seems to \"mean\" anything, and its by no means scary even if the occasional shot or sequence creates a moment of frisson Its well made pretentious twaddle. Something to leave on in the background as a living wall paper for those who like naked women.\n",
            "\n",
            "\n",
            "Johnathan Frakes is a good actor and, when he's not directing a family film, a fine director. But, he really shouldn't have directed this movie, and the screenplay should've been rejected. The director and writers must understand what the original TV show was really about, as well as who the characters were and how they worked. The original series had many episodes with razor-sharp writing using good dialogue and with situations that American producers would never consider using in children's programming, much less a movie, which made the original series so well received by adults. I mean, the Tracys were college graduates and some of them did even drank alcohol and smoked tobacco! And, there were characters who did get killed, although most were bad guys. If they had written it the way that it was originally done, which isn't dumbing things down with poor dialogue, kindergarten humor, and a weak plot, this Universal/Studio Canal joint venture wouldn't have such bad reviews. <br /><br />This motion picture is almost pure blasphemy. If you've seen the original Supermarionation series, then you'll know what I'm talking about! <br /><br />The first thing that was out of place and annoying were the constant references to Ford Motor Company, even going so far that Lady Penelope was riding around in a disfigured Ford Thunderbird made up to look like FAB-1 instead of using what would've been more appropriate considering Ms. Penelope's station (not to mention being more faithful to the original), a ROLLS-ROYCE FAB-1. She's supposed to be a distinguished member of British society, hence the preference for England's finest make of motorcars in the original series. One other reviewer here indicated that Penelope wouldn't be caught dead in a Ford. He's pretty much right in the context that the idea of her riding in a Ford doesn't work. At least they could have had Penelope ride in a Jaguar made up like FAB 1 since Jaguar is a British car make that is owned by Ford, but NO! They had to use a straight FORD! But the Ford product placement doesn't end there. EVERY single car you may see is a Ford! Even the news flash that is shown on the TV sets in the movie were sponsored by Ford! Ford, Ford, FORD! The predominance of Ford vehicles makes this movie an obvious marketing vehicle for Ford. <br /><br />The original series had a design that was futuristic for the 1960s and still remains ahead of its time even today. But, the futuristic design in the original series worked because there was an effort to make the design look practical and functional. This kind of treatment didn't exist in the movie, where everything is stylized to excess, defeating the sense of functionality and practicality. A lot of things that were done in the design of the movie were done strictly for style, many times with no sense of function to give that style a sense of reason.<br /><br />The original series relied on good acting performances of the voice talent to overcome the limited expressions in the puppets, bringing them to life in the episodes. The brilliant and lively music score by Barry Gray helped even further to connect the audience with the story, the characters, and how everything came together to help achieve the super objective (a little bit of Stanislavski talk). The movie, on the other hand, had some overly grating performances. Anthony Edwards overplayed Brains to a fault, Bill Paxton as Jeff Tracy just didn't work despite decent acting (one of few), there were better choices for the Hood than Ben Kingsley, and many others that I don't care to mention (it would take too long). Quite simply, the puppets were more believable! Second was the overly generic and underwhelming music score by Hans Zimmer, sounding more like a mix between \"Days of Thunder\" and \"Apollo 13.\" <br /><br />And, of course, the Hood. The Hood in the original series had an ability to communicate with Kyrano through a statue of Kyrano as an outlet for ESP contact. But, that was where his extraordinary capability ended. He's a master of disguise and deception, which allows him to sneak around undetected (for the most part, anyways) to gather information of the Thunderbirds vehicles for his own means. He also uses weapons for his own defense, including pistols, and generally collects information using a film camera, although he tried to steal Thudnerbirds 1 and 2 in the 1960s United Artists release of \"Thunderbird 6\" (which was the last Thunderbirds show filmed in Supermarionation and was the second Thunderbirds theatrical release). But, while he is a nemesis of International Rescue, the Hood isn't the villain in every Thunderbirds episode and he tends to avoid direct confrontation with International Rescue. In the movie, he's obviously the main villain, but he and his cohorts seem to act more like morons, along with the Hood having extended mind control ability, including the ability to move objects and move himself into flight for brief periods of time. This totally deviates from the Hood as a character in the original series with one that may leave kids laughing and people familiar with the series scratching their heads in confusion or leaving the theater in disgust.<br /><br />There are more criticisms, but the 1000 word limit for IMDb reviews will not allow me to list all of them. So, I will close with the point being made that I didn't enjoy this movie. As a matter of fact, I think it sucks! Having seen the original series and Supermarionation movies (Thunderbirds Are Go, Thunderbird 6), I was hoping for something a lot better than this.<br /><br />The original Supermarionation was a lot more sophisticated and elegant than this live action farce. (And that's saying it nicely.) - Kip Wells\n",
            "\n",
            "\n",
            "That's what my friend Brian said about this movie after about an hour of it. He wasn't able to keep from dozing off. I had been ranting about how execrable it was and finally I relented and played it, having run out of adjectives for \"boring\". <br /><br />Imagine if you will, the pinnacle of hack-work. Something so uninspired, so impossibly dreadful, that all you want to do after viewing it is sit alone in the dark and not speak to anybody. Some people labor under the illusion that this movie is watchable. It is not, not under any form of narcotic or brain damage. I would ONLY recommend this to someone in order to help them understand how truly unbearable it is. Don't believe me? Gather 'round. <br /><br />Granted, as a nation, we in America don't always portray Middle Eastern peoples in a tasteful manner. But how about a kid in a sheik outfit bowing in salaam-fashion to a stack of Castrol motor oil bottles? You'll find that here. GET IT? THE ARAB WORSHIPS OIL. I couldn't believe what I was seeing. Having the kid fly planes into a skyscraper would've been more appropriate. Who in their right mind would think that was a funny joke? It's not even close to \"cleverly offensive\". It just sucks and makes you want to punch whomever got paid to write that bit in the face. <br /><br />In the middle of the film, a five-man singing group called the \"Landmines\" takes the stage at an officers' ball. Okay- are you ready? The joke is THEY SING TERRIBLY AND OFF-KEY. Why did I write that in caps also? Because the joke is POUND, POUND, POUNDED INTO YOUR HEAD with a marathon of HORRENDOUS sight gags. They start off mediocre enough; glasses cracking, punch tumblers shattering... then there is, I am 100% serious, a two-frame stop-motion sequence of A WOMAN'S SHOES COMING OFF. You read that correctly- the music was so bad, in one frame, the woman's feet have shoes on. In the very next- the shoes are off!!! Get it, because the music was so bad, her shoes came off! What the F???? <br /><br />Then there is an endless montage of stock footage to drive home the point that the SINGING IS BAD. If any human being actually suffered through this scene in the theater without running like hell, I would be astonished. This movie is honestly like a practical joke to see how fast people would bolt out the doors. Robert Downey Sr. directs comedy the way his son commands respect by staying drug-free. Badly. Other things to watch out for:<br /><br />1. The popular music shoehorned in wherever possible. Every time Liceman appears, a really inappropriate Iggy Pop song plays. Plus all the actors do their best to act like it got really chilly for some reason.<br /><br />2. Barbara Bach's criminally awful accent. She sounds like she's trying to talk like a baby while rolling a marble around on her tongue. There is no nudity, and there are several scenes where the boys all moan and writhe from a glimpse of her cleavage, like they're in a community school acting class and they've been directed to act like aroused retarded people. <br /><br />3. Liceman feeds his revolting dog a condom. Remember; when this movie came out throwing in \"abortion\" and \"condom\" was seen as \"edgy\". <br /><br />4. Tom Poston plays a mincing, boy-hungry pedophile, back when Hollywood thought \"pedophile\" and \"homosexual\" were one in the same. Flat-out embarrassing. <br /><br />5. Watch the ending. Nothing is wrong with your VCR. That is actually the ending. Tell me that doesn't make you want to explode everyone who's ever made any movie, ever. <br /><br />Watch this at your own risk. Up The Academy has been known to actually make other movies, like The Jerk or Blazing Saddles, less funny simply by placing the videotape near them.\n",
            "\n",
            "\n",
            "Somehow they summed up the 60's, ten years that radically changed our country, in four hours. And what a painful four hours it was. They trivilized the major events and happenings and they \"claimed\" it was about two families yet you barely saw the african-american family. If I were NBC I would be ashamed and embarrassed for airing such trash. What was amusing was this happy-go-lucky family you saw in the very beginning was tortured in so many ways, but managed to attend every major 60's event through the country. And the second family was such a non-factor. They devoted maybe five or six scenes total to this family. That poor son... Please NBC, do not make any movies about any other eras....leave that to PBS and the History Channel\n",
            "\n",
            "\n",
            "An old intellectual talks about what he considers art in movies. You get your Hitchcock, your Chaplin, your Bergman and some other stuff prior to the 80ies. To disguise that he has no clue what is going on in cinemas these days, he throws in The Matrix.<br /><br />But it's not only the same lame film-as-art speech all over again. This speech is reduced to outdated psychological platitudes: it-ego-super ego, anal phase, sexual insufficiency. <br /><br />It is garnished with the cheesy effect of having Zizte edited into the movies he is taking about. For someone who is supposed to know much about movies, his own is, cinematographicly speaking: yeiks.<br /><br />To put it in Zizek's own words - I saw 5\\-\\!7 on the screen, last night, or in the words of a great movie maker:<br /><br />Mr. (Zizek), what you've just said is one of the most insanely idiotic things I have ever heard. At no point in your rambling, incoherent response were you even close to anything that could be considered a rational thought. Everyone in this room is now dumber for having listened to it. I award you (two) points (only), and may God have mercy on your soul.\n",
            "\n",
            "\n",
            "It was the tag-line \"in the tradition of American Pie\" that fooled me into renting this movie. What I got was a piece of junk in the style of Jackass, with the major difference that compared to this Jackass the Movie seems like a Citizen Kane.<br /><br />This movie made me regret that I rewarded other movies with 1 out of 10, because now I can't go beneath that. This one makes quite some bad movies look like cinematic feats.<br /><br />I actually turned it off after 45 minutes, and that's something I very rarely do. But it was just too plain boring, stupid, uninteresting and unnecessary.<br /><br />Can't believe some people actually reward this with 10 out of 10. What did your parents do? Drop you on the head when you were just a child? Or was it the very first movie you ever saw, so you got nothing to compare it to? Are you still a virgin and are breasts all you ever think off? Something must be wrong, at least.<br /><br />My advice: stay clear of this one. Even if your in the mood for a simple movie that doesn't require thinking, choose something else, or you'll regret it for sure.\n",
            "\n",
            "\n",
            "I grew up (b. 1965) watching and loving the Thunderbirds. All my mates at school watched. We played \"Thunderbirds\" before school, during lunch and after school. We all wanted to be Virgil or Scott. No one wanted to be Alan. Counting down from 5 became an art form. I took my children to see the movie hoping they would get a glimpse of what I loved as a child. How bitterly disappointing. The only high point was the snappy theme tune. Not that it could compare with the original score of the Thunderbirds. Thankfully early Saturday mornings one television channel still plays reruns of the series Gerry Anderson and his wife created. Jonatha Frakes should hand in his directors chair, his version was completely hopeless. A waste of film. Utter rubbish. A CGI remake may be acceptable but replacing marionettes with Homo sapiens subsp. sapiens was a huge error of judgment.\n",
            "\n",
            "\n",
            "watch a team of bomb disposal experts in Iraq count down their time before they can go home.<br /><br />That in itself sounds boring. Every time that little caption came up telling us how long they had left, it just caused this film with no plot to drag on and on. hurry up and finish your time there so we can all go home.<br /><br />I must be missing something. I'm a great fan of war films if they are done well. This had \"jarhead\" syndrome. A film that at times was beautifully shot, but cinematography doesn't stop it from being totally dull and pointless.<br /><br />And get over the slow mo \"cartridges coming out of the gun\" shot already. they could have saved money and just got stock footage from any other film with a gun in it.<br /><br />I didn't have any empathy for the main guy in it, i was constantly hoping that his recklessness would cause him to die. In fact the film would have worked much better if he had.<br /><br />I read some reviews and seemed to get the feeling that those who had been in the armed forces disliked it, and everyone else loved it. I have never been in the forces, and I'm with them. It's pretentious drivel. the 3 stars are for the cinematography.\n",
            "\n",
            "\n",
            "This is one of the two postapocalyptic fantasy movies that Albert Pyun made in 1993 - and it's the bad one. Apparently all his energy went into \"Nemesis\" which was an entertaining non-stop action movie, and had a much more expensive look. \"Knights\" is clunky and cheesy, a bottom-of-the-barrel sci-fi that too often resembles a video game (new opponents pop up all the time and must be exterminated as quickly as possible). The only thing that saves this movie from the trash can is Kathy Long; not a particularly attractive woman, but undeniably a brutally efficient fighting machine. As for Kris Kristofferson, considering his age at the time (58), I hope his stunt double was well paid. (*1/2)\n",
            "\n",
            "\n"
          ]
        }
      ],
      "source": [
        "for t in trn_texts[:10]:\n",
        "  print(t)\n",
        "  print('\\n')"
      ]
    },
    {
      "cell_type": "markdown",
      "metadata": {
        "id": "MmGpFxzIhthj"
      },
      "source": [
        "# So what it takes to go from the raw form to the prepared form?\n",
        "\n",
        "__A - Text preprocessing__\n",
        "\n",
        "1- Data sequencing: each sentence --> sequence (list) of words\n",
        "\n",
        "2- Data cleaning: This step varies from task to task. For some tasks it's better to remove special characters and punctuations, for other they are critical (emotiocons). Good for perfromance.\n",
        "\n",
        "3- Text normalization: in general text morphology is a big issue in NLP. Upper and lower cases, stemming and lemmatization, ...etc. Again it's task dependent.\n",
        "\n",
        "4- Padding (model dependent): Dense and CNN. RNN can skip this step.\n",
        "\n",
        "__B- Text preparation__\n",
        "\n",
        "5- Binarization/vectorization/digitization: transform words into numbers according to a vocab index."
      ]
    },
    {
      "cell_type": "markdown",
      "metadata": {
        "id": "2Ss7n8b3i0i0"
      },
      "source": [
        "Let's start with the first phase:"
      ]
    },
    {
      "cell_type": "markdown",
      "metadata": {
        "id": "YdbVFwy3BDVE"
      },
      "source": [
        "# Text preprocessing\n",
        "\n",
        "In this phase, we apply some operations on the text, to make it in the most usable form for the task at hand. Mainly we clean it up to be more appealing to the problem we try to solve. The input is __text__ and the output is a transformed __text__."
      ]
    },
    {
      "cell_type": "markdown",
      "metadata": {
        "id": "_4jXkHw_i-FF"
      },
      "source": [
        "# Splitting text into sequence"
      ]
    },
    {
      "cell_type": "markdown",
      "metadata": {
        "id": "tTofcpUEjASl"
      },
      "source": [
        "## Manual (split on white spaces)"
      ]
    },
    {
      "cell_type": "code",
      "execution_count": null,
      "metadata": {
        "colab": {
          "base_uri": "https://localhost:8080/"
        },
        "id": "HTAb5EVLi7Yv",
        "outputId": "f60bcb91-dd8b-4be2-9e18-d29933278f20"
      },
      "outputs": [
        {
          "output_type": "execute_result",
          "data": {
            "text/plain": [
              "['I',\n",
              " 'agree',\n",
              " 'totally',\n",
              " 'with',\n",
              " 'the',\n",
              " 'last',\n",
              " 'commenter',\n",
              " 'this',\n",
              " 'could',\n",
              " 'be',\n",
              " 'the',\n",
              " 'worst',\n",
              " 'movie',\n",
              " 'ever',\n",
              " 'made',\n",
              " '.I',\n",
              " 'too',\n",
              " 'had',\n",
              " 'to',\n",
              " 'fast',\n",
              " 'forward',\n",
              " 'through',\n",
              " 'most',\n",
              " 'of',\n",
              " 'this',\n",
              " 'movie.',\n",
              " 'Michael',\n",
              " 'Madsen',\n",
              " 'must',\n",
              " 'have',\n",
              " 'done',\n",
              " 'this',\n",
              " 'movie',\n",
              " 'as',\n",
              " 'a',\n",
              " 'favor',\n",
              " 'to',\n",
              " 'someone.The',\n",
              " 'picture',\n",
              " 'quality',\n",
              " 'is',\n",
              " 'grainy',\n",
              " 'all',\n",
              " 'the',\n",
              " 'way',\n",
              " 'through',\n",
              " '.And',\n",
              " 'what',\n",
              " 'little',\n",
              " 'plot',\n",
              " 'there',\n",
              " 'is,is',\n",
              " 'just',\n",
              " 'plain',\n",
              " 'stupid',\n",
              " '.I',\n",
              " 'give',\n",
              " 'this',\n",
              " 'movie',\n",
              " 'a',\n",
              " '1',\n",
              " 'out',\n",
              " 'of',\n",
              " '10',\n",
              " 'if',\n",
              " 'I',\n",
              " 'could',\n",
              " 'give',\n",
              " 'it',\n",
              " 'a',\n",
              " 'lower',\n",
              " 'score',\n",
              " 'I',\n",
              " 'would',\n",
              " \".Don't\",\n",
              " 'waste',\n",
              " 'your',\n",
              " 'time',\n",
              " 'on',\n",
              " 'this',\n",
              " 'movie',\n",
              " 'or',\n",
              " \"you'll\",\n",
              " 'regret',\n",
              " 'it.']"
            ]
          },
          "metadata": {},
          "execution_count": 24
        }
      ],
      "source": [
        "s = trn_texts[0]\n",
        "s.split()"
      ]
    },
    {
      "cell_type": "markdown",
      "metadata": {
        "id": "346PwgNB_MCq"
      },
      "source": [
        "__Notice how punctuation is preserved!__\n",
        "\n",
        "Do we care to have 'movie.', instead of 'movie.' or 'movie,'?\n",
        "\n",
        "Actually we do!\n",
        "\n",
        "As you have already had an idea from previous excercise on clean IMDB, we use vocabulary to binarize the words (word2index).\n",
        "\n",
        "Having such punctuations mandates that we have 2 entries in the vocab for the word movie. This has 2 issues:\n",
        "\n",
        "1- Increased vocab size--> sparse features and more memory\n",
        "\n",
        "2- What other forms we account for: 'movie!', 'movie:',...etc. Those are different and unexpected morphologies.\n",
        "\n",
        "__Remember, we aim at normalizing the text to common format as much as possible (like lower)__"
      ]
    },
    {
      "cell_type": "markdown",
      "metadata": {
        "id": "4iWpzpgiAKlf"
      },
      "source": [
        "## Using regex\n",
        "\n",
        "We could escape this trap by keeping only the words, using a regex:"
      ]
    },
    {
      "cell_type": "code",
      "execution_count": null,
      "metadata": {
        "colab": {
          "base_uri": "https://localhost:8080/"
        },
        "id": "wdIMFndGARtN",
        "outputId": "5a727e5f-83c0-4fa3-cbc8-de4740619d90"
      },
      "outputs": [
        {
          "output_type": "execute_result",
          "data": {
            "text/plain": [
              "['I',\n",
              " 'agree',\n",
              " 'totally',\n",
              " 'with',\n",
              " 'the',\n",
              " 'last',\n",
              " 'commenter',\n",
              " 'this',\n",
              " 'could',\n",
              " 'be',\n",
              " 'the',\n",
              " 'worst',\n",
              " 'movie',\n",
              " 'ever',\n",
              " 'made',\n",
              " 'I',\n",
              " 'too',\n",
              " 'had',\n",
              " 'to',\n",
              " 'fast',\n",
              " 'forward',\n",
              " 'through',\n",
              " 'most',\n",
              " 'of',\n",
              " 'this',\n",
              " 'movie',\n",
              " 'Michael',\n",
              " 'Madsen',\n",
              " 'must',\n",
              " 'have',\n",
              " 'done',\n",
              " 'this',\n",
              " 'movie',\n",
              " 'as',\n",
              " 'a',\n",
              " 'favor',\n",
              " 'to',\n",
              " 'someone',\n",
              " 'The',\n",
              " 'picture',\n",
              " 'quality',\n",
              " 'is',\n",
              " 'grainy',\n",
              " 'all',\n",
              " 'the',\n",
              " 'way',\n",
              " 'through',\n",
              " 'And',\n",
              " 'what',\n",
              " 'little',\n",
              " 'plot',\n",
              " 'there',\n",
              " 'is',\n",
              " 'is',\n",
              " 'just',\n",
              " 'plain',\n",
              " 'stupid',\n",
              " 'I',\n",
              " 'give',\n",
              " 'this',\n",
              " 'movie',\n",
              " 'a',\n",
              " '1',\n",
              " 'out',\n",
              " 'of',\n",
              " '10',\n",
              " 'if',\n",
              " 'I',\n",
              " 'could',\n",
              " 'give',\n",
              " 'it',\n",
              " 'a',\n",
              " 'lower',\n",
              " 'score',\n",
              " 'I',\n",
              " 'would',\n",
              " 'Don',\n",
              " 't',\n",
              " 'waste',\n",
              " 'your',\n",
              " 'time',\n",
              " 'on',\n",
              " 'this',\n",
              " 'movie',\n",
              " 'or',\n",
              " 'you',\n",
              " 'll',\n",
              " 'regret',\n",
              " 'it',\n",
              " '']"
            ]
          },
          "metadata": {},
          "execution_count": 25
        }
      ],
      "source": [
        "\n",
        "re.split(r'\\W+', s)"
      ]
    },
    {
      "cell_type": "markdown",
      "metadata": {
        "id": "_Ik0ha6pAlTB"
      },
      "source": [
        "This is better. But imagine have the following:\n",
        "\n"
      ]
    },
    {
      "cell_type": "code",
      "execution_count": null,
      "metadata": {
        "colab": {
          "base_uri": "https://localhost:8080/"
        },
        "id": "vNHXcWWqApap",
        "outputId": "841aaf64-93ee-4a67-95ee-8a2dde6306d5"
      },
      "outputs": [
        {
          "output_type": "execute_result",
          "data": {
            "text/plain": [
              "['human', 'like', 'robots', 'are', 'dump']"
            ]
          },
          "metadata": {},
          "execution_count": 26
        }
      ],
      "source": [
        "s = 'human-like robots are dump'\n",
        "re.split(r'\\W+', s)"
      ]
    },
    {
      "cell_type": "markdown",
      "metadata": {
        "id": "VwUEkS9pA1GQ"
      },
      "source": [
        "This is completely opposite meaning!!"
      ]
    },
    {
      "cell_type": "code",
      "execution_count": null,
      "metadata": {
        "colab": {
          "base_uri": "https://localhost:8080/"
        },
        "id": "XS2sFngmA4FY",
        "outputId": "b63436e2-7588-45e7-9565-576fb476f8d4"
      },
      "outputs": [
        {
          "output_type": "execute_result",
          "data": {
            "text/plain": [
              "['What', 's', 'on', 'your', 'mind', '']"
            ]
          },
          "metadata": {},
          "execution_count": 27
        }
      ],
      "source": [
        "s = \"What's on your mind?\"\n",
        "re.split(r'\\W+', s)"
      ]
    },
    {
      "cell_type": "markdown",
      "metadata": {
        "id": "E5L0zz6fBA2y"
      },
      "source": [
        "The 's is split.\n",
        "\n",
        "Also the ? is removed!"
      ]
    },
    {
      "cell_type": "markdown",
      "metadata": {
        "id": "x__2BzKsBFZU"
      },
      "source": [
        "Removing punctuations altogether is not what we want.\n",
        "\n",
        "For sentiment for example, those symbols might be the reason of classfication:\n",
        "\n",
        "- 'What a moview :)'\n",
        "\n",
        "- 'What a movie!'\n",
        "\n"
      ]
    },
    {
      "cell_type": "markdown",
      "metadata": {
        "id": "lZzk_bjRBbPs"
      },
      "source": [
        "## Split by white spaces and remove punctuations\n",
        "\n",
        "For the example above, if we want to keep 'What's' but get rid of the punctuations like ? we can use regex to filter punctuations.\n",
        "\n",
        "We can use:"
      ]
    },
    {
      "cell_type": "code",
      "execution_count": null,
      "metadata": {
        "colab": {
          "base_uri": "https://localhost:8080/",
          "height": 35
        },
        "id": "KXcSKA-sC9M2",
        "outputId": "7f7a5ada-c8ff-47bd-ad78-5090cd3d20dd"
      },
      "outputs": [
        {
          "output_type": "execute_result",
          "data": {
            "text/plain": [
              "'!\"#$%&\\'()*+,-./:;<=>?@[\\\\]^_`{|}~'"
            ],
            "application/vnd.google.colaboratory.intrinsic+json": {
              "type": "string"
            }
          },
          "metadata": {},
          "execution_count": 28
        }
      ],
      "source": [
        "\n",
        "string.punctuation"
      ]
    },
    {
      "cell_type": "code",
      "execution_count": null,
      "metadata": {
        "colab": {
          "base_uri": "https://localhost:8080/"
        },
        "id": "8xo9jis6QbAA",
        "outputId": "fa1e0d08-1ab7-4de8-e898-48b3cfafa498"
      },
      "outputs": [
        {
          "output_type": "execute_result",
          "data": {
            "text/plain": [
              "['Whats', 'on', 'your', 'mind']"
            ]
          },
          "metadata": {},
          "execution_count": 29
        }
      ],
      "source": [
        "re_punc = re.compile('[%s]' % re.escape(string.punctuation))\n",
        "# remove punctuation from each word\n",
        "s = \"What's on your mind?\"\n",
        "stripped = [re_punc.sub('', w) for w in s.split()]\n",
        "stripped"
      ]
    },
    {
      "cell_type": "code",
      "execution_count": null,
      "metadata": {
        "colab": {
          "base_uri": "https://localhost:8080/"
        },
        "id": "o_SsyrDfQovK",
        "outputId": "f9ad7e90-de2f-4b70-8da5-9e1abc8f6983"
      },
      "outputs": [
        {
          "output_type": "execute_result",
          "data": {
            "text/plain": [
              "['humanlike', 'robots', 'are', 'dump']"
            ]
          },
          "metadata": {},
          "execution_count": 30
        }
      ],
      "source": [
        "s = 'human-like robots are dump'\n",
        "stripped = [re_punc.sub('', w) for w in s.split()]\n",
        "stripped"
      ]
    },
    {
      "cell_type": "markdown",
      "metadata": {
        "id": "JIWYHuCXQtVQ"
      },
      "source": [
        "See how human-like is translated into humanlike, which somehow keeps the meaning."
      ]
    },
    {
      "cell_type": "markdown",
      "metadata": {
        "id": "sIYPHEDXQ2dQ"
      },
      "source": [
        "# Case normalization"
      ]
    },
    {
      "cell_type": "markdown",
      "metadata": {
        "id": "4MxVfEaeQ5EO"
      },
      "source": [
        "One of the important and easy normalization is to convert all case to common case. Mostly lower case. This has the effect of reducing the vocabulary size, and also reduct Out-Of-Vocab (OOV).\n",
        "\n",
        "For example, if our vocab is as follows:"
      ]
    },
    {
      "cell_type": "code",
      "execution_count": null,
      "metadata": {
        "id": "7W3VfSvVRcfe"
      },
      "outputs": [],
      "source": [
        "v = {'the':1, 'cat':2, 'mat':3}"
      ]
    },
    {
      "cell_type": "markdown",
      "metadata": {
        "id": "EIj9GaPZRkPi"
      },
      "source": [
        "Now if we try to binarize the following sentence:"
      ]
    },
    {
      "cell_type": "code",
      "execution_count": null,
      "metadata": {
        "id": "NA3kABf0AfW9"
      },
      "outputs": [],
      "source": [
        "s = 'The CAT sat on the mat'\n"
      ]
    },
    {
      "cell_type": "code",
      "execution_count": null,
      "metadata": {
        "colab": {
          "base_uri": "https://localhost:8080/",
          "height": 252
        },
        "id": "2cA4T3uIRpuy",
        "outputId": "7c4b7c4f-f063-4044-a415-8977fd812c6b"
      },
      "outputs": [
        {
          "output_type": "error",
          "ename": "KeyError",
          "evalue": "ignored",
          "traceback": [
            "\u001b[0;31m---------------------------------------------------------------------------\u001b[0m",
            "\u001b[0;31mKeyError\u001b[0m                                  Traceback (most recent call last)",
            "\u001b[0;32m<ipython-input-34-95d8501d12fa>\u001b[0m in \u001b[0;36m<module>\u001b[0;34m()\u001b[0m\n\u001b[0;32m----> 1\u001b[0;31m \u001b[0mx\u001b[0m \u001b[0;34m=\u001b[0m \u001b[0;34m[\u001b[0m\u001b[0mv\u001b[0m\u001b[0;34m[\u001b[0m\u001b[0mw\u001b[0m\u001b[0;34m]\u001b[0m \u001b[0;32mfor\u001b[0m \u001b[0mw\u001b[0m \u001b[0;32min\u001b[0m \u001b[0ms\u001b[0m\u001b[0;34m.\u001b[0m\u001b[0msplit\u001b[0m\u001b[0;34m(\u001b[0m\u001b[0;34m)\u001b[0m\u001b[0;34m]\u001b[0m\u001b[0;34m\u001b[0m\u001b[0;34m\u001b[0m\u001b[0m\n\u001b[0m\u001b[1;32m      2\u001b[0m \u001b[0mx\u001b[0m\u001b[0;34m\u001b[0m\u001b[0;34m\u001b[0m\u001b[0m\n",
            "\u001b[0;32m<ipython-input-34-95d8501d12fa>\u001b[0m in \u001b[0;36m<listcomp>\u001b[0;34m(.0)\u001b[0m\n\u001b[0;32m----> 1\u001b[0;31m \u001b[0mx\u001b[0m \u001b[0;34m=\u001b[0m \u001b[0;34m[\u001b[0m\u001b[0mv\u001b[0m\u001b[0;34m[\u001b[0m\u001b[0mw\u001b[0m\u001b[0;34m]\u001b[0m \u001b[0;32mfor\u001b[0m \u001b[0mw\u001b[0m \u001b[0;32min\u001b[0m \u001b[0ms\u001b[0m\u001b[0;34m.\u001b[0m\u001b[0msplit\u001b[0m\u001b[0;34m(\u001b[0m\u001b[0;34m)\u001b[0m\u001b[0;34m]\u001b[0m\u001b[0;34m\u001b[0m\u001b[0;34m\u001b[0m\u001b[0m\n\u001b[0m\u001b[1;32m      2\u001b[0m \u001b[0mx\u001b[0m\u001b[0;34m\u001b[0m\u001b[0;34m\u001b[0m\u001b[0m\n",
            "\u001b[0;31mKeyError\u001b[0m: 'The'"
          ]
        }
      ],
      "source": [
        "x = [v[w] for w in s.split()]\n",
        "x"
      ]
    },
    {
      "cell_type": "markdown",
      "metadata": {
        "id": "wV1l8IutRxg8"
      },
      "source": [
        "To avoid OOV, we can add special term: '_UNK_' for unknown words:"
      ]
    },
    {
      "cell_type": "code",
      "execution_count": null,
      "metadata": {
        "id": "1clZ2TGRR61c"
      },
      "outputs": [],
      "source": [
        "v = {'the':1, 'cat':2, 'sat': 3, 'on': 4, 'mat':5}"
      ]
    },
    {
      "cell_type": "code",
      "execution_count": null,
      "metadata": {
        "colab": {
          "base_uri": "https://localhost:8080/"
        },
        "id": "gpBRdLaaRo3j",
        "outputId": "a08f3dc3-6135-4327-ec7a-7981f048ff6b"
      },
      "outputs": [
        {
          "output_type": "execute_result",
          "data": {
            "text/plain": [
              "[0, 0, 3, 4, 1, 5]"
            ]
          },
          "metadata": {},
          "execution_count": 36
        }
      ],
      "source": [
        "x = []\n",
        "\n",
        "for w in s.split():\n",
        "  if w in v:\n",
        "    x.append(v[w])\n",
        "  else:\n",
        "    x.append(0)\n",
        "x"
      ]
    },
    {
      "cell_type": "markdown",
      "metadata": {
        "id": "bI5wa2fcRP6D"
      },
      "source": [
        "As you can see, 'The' and 'Cat' are mapped as UNK. While they are already in the vocab.\n",
        "\n",
        "To workaround this, we try to get all the text to a common morphology:"
      ]
    },
    {
      "cell_type": "code",
      "execution_count": null,
      "metadata": {
        "colab": {
          "base_uri": "https://localhost:8080/"
        },
        "id": "3pvBdNTxSfbr",
        "outputId": "b234c8dc-a028-4bcc-e797-2aed29814313"
      },
      "outputs": [
        {
          "output_type": "execute_result",
          "data": {
            "text/plain": [
              "[1, 2, 3, 4, 1, 5]"
            ]
          },
          "metadata": {},
          "execution_count": 37
        }
      ],
      "source": [
        "x = []\n",
        "\n",
        "for w in s.lower().split():\n",
        "  if w in v:\n",
        "    x.append(v[w])\n",
        "  else:\n",
        "    x.append(0)\n",
        "x"
      ]
    },
    {
      "cell_type": "markdown",
      "metadata": {
        "id": "L56hHiSWSi6w"
      },
      "source": [
        "But sometimes, this simple normalization might remove some semantics. For example in sentiment, captiatlization might reflect certain negative emotion/sentiment:\n",
        "\n",
        "_WHAT are you doing?_"
      ]
    },
    {
      "cell_type": "markdown",
      "metadata": {
        "id": "pjmfJ5HFjDSw"
      },
      "source": [
        "## NLTK"
      ]
    },
    {
      "cell_type": "markdown",
      "metadata": {
        "id": "K-iffubQThY9"
      },
      "source": [
        "So far, we have split the words using manual approaches (white spaces mainly).\n",
        "\n",
        "Is there more mature method?\n",
        "\n",
        "Actually there is: __tokenizers__\n",
        "\n",
        "The most basic tokenizers take care of punctuation (although we already handled with regex above), and other splitting criteria.\n",
        "\n",
        "NLTK can be used for that."
      ]
    },
    {
      "cell_type": "markdown",
      "metadata": {
        "id": "UsvPP2OuUEJL"
      },
      "source": [
        "## Sentence tokenization\n",
        "\n",
        "Before we dive into words splitting, let's talk a little about sentence tokenization. Sometimes, the data comes in very long bult of text, a document or long paragraphs for example.\n",
        "\n",
        "In most NLP models, such long sequences are not desirable (forgetting effect).\n",
        "\n",
        "\n",
        "`sent_tokenize` can be used to tokenize into shorter sequences, mapped to sentences as we know it. This tokenization is mostly driven by punctuations like full stop."
      ]
    },
    {
      "cell_type": "code",
      "execution_count": null,
      "metadata": {
        "colab": {
          "base_uri": "https://localhost:8080/",
          "height": 70
        },
        "id": "9GznnB_bUq4f",
        "outputId": "585f2773-31c8-4cb4-d02c-28aa118406d4"
      },
      "outputs": [
        {
          "output_type": "execute_result",
          "data": {
            "text/plain": [
              "\"I agree totally with the last commenter this could be the worst movie ever made .I too had to fast forward through most of this movie. Michael Madsen must have done this movie as a favor to someone.The picture quality is grainy all the way through .And what little plot there is,is just plain stupid .I give this movie a 1 out of 10 if I could give it a lower score I would .Don't waste your time on this movie or you'll regret it.\""
            ],
            "application/vnd.google.colaboratory.intrinsic+json": {
              "type": "string"
            }
          },
          "metadata": {},
          "execution_count": 38
        }
      ],
      "source": [
        "s = trn_texts[0]\n",
        "s"
      ]
    },
    {
      "cell_type": "code",
      "execution_count": null,
      "metadata": {
        "colab": {
          "base_uri": "https://localhost:8080/"
        },
        "id": "LQ3GuUmYUtx7",
        "outputId": "c4a4f8db-3cf2-419f-ed63-63a5874dd7ce"
      },
      "outputs": [
        {
          "output_type": "stream",
          "name": "stderr",
          "text": [
            "[nltk_data] Downloading package punkt to /root/nltk_data...\n",
            "[nltk_data]   Package punkt is already up-to-date!\n"
          ]
        },
        {
          "output_type": "execute_result",
          "data": {
            "text/plain": [
              "True"
            ]
          },
          "metadata": {},
          "execution_count": 39
        }
      ],
      "source": [
        "import nltk\n",
        "nltk.download('punkt')\n"
      ]
    },
    {
      "cell_type": "code",
      "execution_count": null,
      "metadata": {
        "colab": {
          "base_uri": "https://localhost:8080/"
        },
        "id": "qS4hhTKFU5ki",
        "outputId": "4f8228db-e50c-435d-f2d8-1952a7fbc398"
      },
      "outputs": [
        {
          "output_type": "execute_result",
          "data": {
            "text/plain": [
              "['I agree totally with the last commenter this could be the worst movie ever made .I too had to fast forward through most of this movie.',\n",
              " \"Michael Madsen must have done this movie as a favor to someone.The picture quality is grainy all the way through .And what little plot there is,is just plain stupid .I give this movie a 1 out of 10 if I could give it a lower score I would .Don't waste your time on this movie or you'll regret it.\"]"
            ]
          },
          "metadata": {},
          "execution_count": 40
        }
      ],
      "source": [
        "nltk.tokenize.sent_tokenize(s)"
      ]
    },
    {
      "cell_type": "markdown",
      "metadata": {
        "id": "Om-HLCXsUoE8"
      },
      "source": [
        "## Words tokenization\n",
        "\n",
        "Now, let's do as we did with regex: split on white spaces, and take care of punctuations (human-like --> humanlike)"
      ]
    },
    {
      "cell_type": "code",
      "execution_count": null,
      "metadata": {
        "colab": {
          "base_uri": "https://localhost:8080/"
        },
        "id": "o4P9d4o6VOcb",
        "outputId": "075f85c4-b948-4776-c898-427478a5233a"
      },
      "outputs": [
        {
          "output_type": "execute_result",
          "data": {
            "text/plain": [
              "['human-like', 'robots', 'are', 'dump', ',', 'but', 'cute']"
            ]
          },
          "metadata": {},
          "execution_count": 41
        }
      ],
      "source": [
        "from nltk.tokenize import word_tokenize\n",
        "word_tokenize('human-like robots are dump, but cute')"
      ]
    },
    {
      "cell_type": "code",
      "execution_count": null,
      "metadata": {
        "colab": {
          "base_uri": "https://localhost:8080/"
        },
        "id": "2kNTrq0iV1kx",
        "outputId": "c3725737-5ad0-4c06-dbcc-6d07fc183dbb"
      },
      "outputs": [
        {
          "output_type": "execute_result",
          "data": {
            "text/plain": [
              "['What', \"'s\", 'up', '?']"
            ]
          },
          "metadata": {},
          "execution_count": 42
        }
      ],
      "source": [
        "word_tokenize(\"What's up?\")"
      ]
    },
    {
      "cell_type": "markdown",
      "metadata": {
        "id": "b-liCMI2Vbl7"
      },
      "source": [
        "We now get new results, we couldn't get with regex:\n",
        "\n",
        "- human-like are kept, not transformed. Remember we had to translate - into nothing to remove punctuations\n",
        "\n",
        "- punctuations are kept, but as _separate_ tokens. Now, we are free to decide what to do with them. They can be easily filtered out if we want. One way is using isalpha function of str in python:"
      ]
    },
    {
      "cell_type": "code",
      "execution_count": null,
      "metadata": {
        "colab": {
          "base_uri": "https://localhost:8080/"
        },
        "id": "5eSYPR30WEG4",
        "outputId": "ffe66faa-e850-4b79-c3d7-d0be50d61f28"
      },
      "outputs": [
        {
          "output_type": "execute_result",
          "data": {
            "text/plain": [
              "['What', 'up']"
            ]
          },
          "metadata": {},
          "execution_count": 43
        }
      ],
      "source": [
        "s = \"What's up?\"\n",
        "words = [w for w in word_tokenize(s) if w.isalpha()]\n",
        "words"
      ]
    },
    {
      "cell_type": "markdown",
      "metadata": {
        "id": "ezsfi-TmWd9W"
      },
      "source": [
        "## Stop words\n",
        "\n",
        "Not every word contribute to the semantics or meaning. Some words like 'the', 'to', 'on', 'we',...etc are not important for many tasks, specially classification tasks.\n",
        "\n",
        "Such words are called _stop words_"
      ]
    },
    {
      "cell_type": "code",
      "execution_count": null,
      "metadata": {
        "colab": {
          "base_uri": "https://localhost:8080/"
        },
        "id": "IOP7p2OpW0XH",
        "outputId": "1666871e-76d6-49d1-da3b-35a891310d70"
      },
      "outputs": [
        {
          "output_type": "stream",
          "name": "stderr",
          "text": [
            "[nltk_data] Downloading package stopwords to /root/nltk_data...\n",
            "[nltk_data]   Package stopwords is already up-to-date!\n"
          ]
        },
        {
          "output_type": "execute_result",
          "data": {
            "text/plain": [
              "True"
            ]
          },
          "metadata": {},
          "execution_count": 44
        }
      ],
      "source": [
        "from nltk.corpus import stopwords\n",
        "nltk.download('stopwords')\n",
        "\n"
      ]
    },
    {
      "cell_type": "code",
      "execution_count": null,
      "metadata": {
        "colab": {
          "base_uri": "https://localhost:8080/"
        },
        "id": "dc3o-nooW4-H",
        "outputId": "548370fb-110e-4871-e785-8cb362556190"
      },
      "outputs": [
        {
          "output_type": "stream",
          "name": "stdout",
          "text": [
            "['i', 'me', 'my', 'myself', 'we', 'our', 'ours', 'ourselves', 'you', \"you're\", \"you've\", \"you'll\", \"you'd\", 'your', 'yours', 'yourself', 'yourselves', 'he', 'him', 'his', 'himself', 'she', \"she's\", 'her', 'hers', 'herself', 'it', \"it's\", 'its', 'itself', 'they', 'them', 'their', 'theirs', 'themselves', 'what', 'which', 'who', 'whom', 'this', 'that', \"that'll\", 'these', 'those', 'am', 'is', 'are', 'was', 'were', 'be', 'been', 'being', 'have', 'has', 'had', 'having', 'do', 'does', 'did', 'doing', 'a', 'an', 'the', 'and', 'but', 'if', 'or', 'because', 'as', 'until', 'while', 'of', 'at', 'by', 'for', 'with', 'about', 'against', 'between', 'into', 'through', 'during', 'before', 'after', 'above', 'below', 'to', 'from', 'up', 'down', 'in', 'out', 'on', 'off', 'over', 'under', 'again', 'further', 'then', 'once', 'here', 'there', 'when', 'where', 'why', 'how', 'all', 'any', 'both', 'each', 'few', 'more', 'most', 'other', 'some', 'such', 'no', 'nor', 'not', 'only', 'own', 'same', 'so', 'than', 'too', 'very', 's', 't', 'can', 'will', 'just', 'don', \"don't\", 'should', \"should've\", 'now', 'd', 'll', 'm', 'o', 're', 've', 'y', 'ain', 'aren', \"aren't\", 'couldn', \"couldn't\", 'didn', \"didn't\", 'doesn', \"doesn't\", 'hadn', \"hadn't\", 'hasn', \"hasn't\", 'haven', \"haven't\", 'isn', \"isn't\", 'ma', 'mightn', \"mightn't\", 'mustn', \"mustn't\", 'needn', \"needn't\", 'shan', \"shan't\", 'shouldn', \"shouldn't\", 'wasn', \"wasn't\", 'weren', \"weren't\", 'won', \"won't\", 'wouldn', \"wouldn't\"]\n"
          ]
        }
      ],
      "source": [
        "stop_words = stopwords.words('english')\n",
        "print(stop_words)"
      ]
    },
    {
      "cell_type": "markdown",
      "metadata": {
        "id": "qA7PNy4nXDNg"
      },
      "source": [
        "We can filter them out easily using list comprehensions:"
      ]
    },
    {
      "cell_type": "code",
      "execution_count": null,
      "metadata": {
        "colab": {
          "base_uri": "https://localhost:8080/"
        },
        "id": "Ze2HP0PyXGwt",
        "outputId": "771c54c2-dc19-4429-f0b4-1c64c1906970"
      },
      "outputs": [
        {
          "output_type": "execute_result",
          "data": {
            "text/plain": [
              "['The', 'cat', 'sat', 'mat']"
            ]
          },
          "metadata": {},
          "execution_count": 46
        }
      ],
      "source": [
        "s = 'The cat sat on the mat'\n",
        "words = [w for w in s.split() if w not in stop_words]\n",
        "words"
      ]
    },
    {
      "cell_type": "markdown",
      "metadata": {
        "id": "HPj9g4dKXREt"
      },
      "source": [
        "__Why The is kept?__\n",
        "\n",
        "Because it has upper case!\n",
        "\n",
        "All stop words are lower and have no punctuation. Otherwise, it'd be very big and unmaintanable list!\n",
        "\n",
        "So better to lower first to remove stop words:\n"
      ]
    },
    {
      "cell_type": "code",
      "execution_count": null,
      "metadata": {
        "colab": {
          "base_uri": "https://localhost:8080/"
        },
        "id": "J4Y0SkbVjFT5",
        "outputId": "28a75720-2303-4c83-f1ca-35e2d0047a39"
      },
      "outputs": [
        {
          "output_type": "execute_result",
          "data": {
            "text/plain": [
              "['cat', 'sat', 'mat']"
            ]
          },
          "metadata": {},
          "execution_count": 47
        }
      ],
      "source": [
        "s = 'The cat sat on the mat'\n",
        "words = [w for w in s.lower().split() if w not in stop_words]\n",
        "words"
      ]
    },
    {
      "cell_type": "markdown",
      "metadata": {
        "id": "8uZnFF-BYBvC"
      },
      "source": [
        "# Stemming\n",
        "\n",
        "Another source of redundancy and highly variable/unexpected morphology are the prefixes and suffixes. For example, suppose out vocab and text are as follows:"
      ]
    },
    {
      "cell_type": "code",
      "execution_count": null,
      "metadata": {
        "colab": {
          "base_uri": "https://localhost:8080/",
          "height": 287
        },
        "id": "m068AgaAYeQ9",
        "outputId": "abdf2ef2-e307-4403-e159-9ece43ccd668"
      },
      "outputs": [
        {
          "output_type": "error",
          "ename": "KeyError",
          "evalue": "ignored",
          "traceback": [
            "\u001b[0;31m---------------------------------------------------------------------------\u001b[0m",
            "\u001b[0;31mKeyError\u001b[0m                                  Traceback (most recent call last)",
            "\u001b[0;32m<ipython-input-48-791e4b01858e>\u001b[0m in \u001b[0;36m<module>\u001b[0;34m()\u001b[0m\n\u001b[1;32m      1\u001b[0m \u001b[0mv\u001b[0m \u001b[0;34m=\u001b[0m \u001b[0;34m{\u001b[0m\u001b[0;34m'the'\u001b[0m\u001b[0;34m:\u001b[0m\u001b[0;36m1\u001b[0m\u001b[0;34m,\u001b[0m \u001b[0;34m'cat'\u001b[0m\u001b[0;34m:\u001b[0m\u001b[0;36m2\u001b[0m\u001b[0;34m,\u001b[0m \u001b[0;34m'sat'\u001b[0m\u001b[0;34m:\u001b[0m \u001b[0;36m3\u001b[0m\u001b[0;34m,\u001b[0m \u001b[0;34m'on'\u001b[0m\u001b[0;34m:\u001b[0m \u001b[0;36m4\u001b[0m\u001b[0;34m,\u001b[0m \u001b[0;34m'mat'\u001b[0m\u001b[0;34m:\u001b[0m\u001b[0;36m5\u001b[0m\u001b[0;34m}\u001b[0m\u001b[0;34m\u001b[0m\u001b[0;34m\u001b[0m\u001b[0m\n\u001b[1;32m      2\u001b[0m \u001b[0ms\u001b[0m \u001b[0;34m=\u001b[0m \u001b[0;34m'the cats sat on the mats'\u001b[0m\u001b[0;34m\u001b[0m\u001b[0;34m\u001b[0m\u001b[0m\n\u001b[0;32m----> 3\u001b[0;31m \u001b[0mwords\u001b[0m \u001b[0;34m=\u001b[0m \u001b[0;34m[\u001b[0m\u001b[0mv\u001b[0m\u001b[0;34m[\u001b[0m\u001b[0mw\u001b[0m\u001b[0;34m]\u001b[0m \u001b[0;32mfor\u001b[0m \u001b[0mw\u001b[0m \u001b[0;32min\u001b[0m \u001b[0ms\u001b[0m\u001b[0;34m.\u001b[0m\u001b[0msplit\u001b[0m\u001b[0;34m(\u001b[0m\u001b[0;34m)\u001b[0m\u001b[0;34m]\u001b[0m\u001b[0;34m\u001b[0m\u001b[0;34m\u001b[0m\u001b[0m\n\u001b[0m",
            "\u001b[0;32m<ipython-input-48-791e4b01858e>\u001b[0m in \u001b[0;36m<listcomp>\u001b[0;34m(.0)\u001b[0m\n\u001b[1;32m      1\u001b[0m \u001b[0mv\u001b[0m \u001b[0;34m=\u001b[0m \u001b[0;34m{\u001b[0m\u001b[0;34m'the'\u001b[0m\u001b[0;34m:\u001b[0m\u001b[0;36m1\u001b[0m\u001b[0;34m,\u001b[0m \u001b[0;34m'cat'\u001b[0m\u001b[0;34m:\u001b[0m\u001b[0;36m2\u001b[0m\u001b[0;34m,\u001b[0m \u001b[0;34m'sat'\u001b[0m\u001b[0;34m:\u001b[0m \u001b[0;36m3\u001b[0m\u001b[0;34m,\u001b[0m \u001b[0;34m'on'\u001b[0m\u001b[0;34m:\u001b[0m \u001b[0;36m4\u001b[0m\u001b[0;34m,\u001b[0m \u001b[0;34m'mat'\u001b[0m\u001b[0;34m:\u001b[0m\u001b[0;36m5\u001b[0m\u001b[0;34m}\u001b[0m\u001b[0;34m\u001b[0m\u001b[0;34m\u001b[0m\u001b[0m\n\u001b[1;32m      2\u001b[0m \u001b[0ms\u001b[0m \u001b[0;34m=\u001b[0m \u001b[0;34m'the cats sat on the mats'\u001b[0m\u001b[0;34m\u001b[0m\u001b[0;34m\u001b[0m\u001b[0m\n\u001b[0;32m----> 3\u001b[0;31m \u001b[0mwords\u001b[0m \u001b[0;34m=\u001b[0m \u001b[0;34m[\u001b[0m\u001b[0mv\u001b[0m\u001b[0;34m[\u001b[0m\u001b[0mw\u001b[0m\u001b[0;34m]\u001b[0m \u001b[0;32mfor\u001b[0m \u001b[0mw\u001b[0m \u001b[0;32min\u001b[0m \u001b[0ms\u001b[0m\u001b[0;34m.\u001b[0m\u001b[0msplit\u001b[0m\u001b[0;34m(\u001b[0m\u001b[0;34m)\u001b[0m\u001b[0;34m]\u001b[0m\u001b[0;34m\u001b[0m\u001b[0;34m\u001b[0m\u001b[0m\n\u001b[0m",
            "\u001b[0;31mKeyError\u001b[0m: 'cats'"
          ]
        }
      ],
      "source": [
        "v = {'the':1, 'cat':2, 'sat': 3, 'on': 4, 'mat':5}\n",
        "s = 'the cats sat on the mats'\n",
        "words = [v[w] for w in s.split()]"
      ]
    },
    {
      "cell_type": "markdown",
      "metadata": {
        "id": "8k5QwBUNYwQb"
      },
      "source": [
        "Another normalization trick is _stemming_, which has various algorithms, mainly focused on morphology. The most basic ones trims prefixes and suffixes, known in the language; English for example:\n"
      ]
    },
    {
      "cell_type": "code",
      "execution_count": null,
      "metadata": {
        "colab": {
          "base_uri": "https://localhost:8080/"
        },
        "id": "h62pebFvY-HY",
        "outputId": "a727a7ac-bfa1-4ae8-c521-1784c7c34391"
      },
      "outputs": [
        {
          "output_type": "stream",
          "name": "stdout",
          "text": [
            "['the', 'cat', 'sat', 'on', 'the', 'mat']\n",
            "[1, 2, 3, 4, 1, 5]\n"
          ]
        }
      ],
      "source": [
        "from nltk.stem.porter import PorterStemmer\n",
        "porter = PorterStemmer()\n",
        "s = 'the cats sat on the mats'\n",
        "stemmed = [porter.stem(word) for word in s.split()]\n",
        "print(stemmed)\n",
        "x = [v[w] for w in stemmed]\n",
        "print(x)"
      ]
    },
    {
      "cell_type": "markdown",
      "metadata": {
        "id": "SZc3kCcTZaai"
      },
      "source": [
        "Note that: stemming might produce __meaningless words__ sometimes!\n",
        "\n",
        "This is because, some prefix/suffix removal might also remove parts of the word:"
      ]
    },
    {
      "cell_type": "code",
      "execution_count": null,
      "metadata": {
        "colab": {
          "base_uri": "https://localhost:8080/"
        },
        "id": "LVHTrDWSZleo",
        "outputId": "5d61db3c-2564-4705-917d-2e0249d7e257"
      },
      "outputs": [
        {
          "output_type": "execute_result",
          "data": {
            "text/plain": [
              "['the', 'littl', 'girl']"
            ]
          },
          "metadata": {},
          "execution_count": 50
        }
      ],
      "source": [
        "s = 'The little girl'\n",
        "stemmed = [porter.stem(word) for word in s.split()]\n",
        "stemmed"
      ]
    },
    {
      "cell_type": "markdown",
      "metadata": {
        "id": "QyrLC-UFZwoV"
      },
      "source": [
        "little is reduced to littl\n",
        "\n",
        "Also, notice how stemming automatically reduce to lower case.\n",
        "\n",
        "If we are going to preprocess with stemming, we must do the same on the text we use for building our vocab!\n",
        "\n",
        "__As a rule of thumb, perform the same preprocessing on the vocab (or its training corpus), as that on the input text__"
      ]
    },
    {
      "cell_type": "markdown",
      "metadata": {
        "id": "HqXgDykPaPIn"
      },
      "source": [
        "# Lemmatization\n",
        "\n",
        "Unlike stemming, lemmatization understand the root of the word in the language:\n",
        "\n",
        "(am, is, are → be)\n",
        "\n",
        "So not only the morphology is considered, but also the root. This has more importance in languages like Arabic (requires special lemmatizers and stemmers).\n",
        "\n"
      ]
    },
    {
      "cell_type": "code",
      "execution_count": null,
      "metadata": {
        "colab": {
          "base_uri": "https://localhost:8080/"
        },
        "id": "S8V6qc37bAsz",
        "outputId": "fc2df8bd-fd0a-45de-88c0-22c980faaf38"
      },
      "outputs": [
        {
          "output_type": "stream",
          "name": "stderr",
          "text": [
            "[nltk_data] Downloading package wordnet to /root/nltk_data...\n",
            "[nltk_data]   Package wordnet is already up-to-date!\n"
          ]
        },
        {
          "output_type": "execute_result",
          "data": {
            "text/plain": [
              "True"
            ]
          },
          "metadata": {},
          "execution_count": 51
        }
      ],
      "source": [
        "from nltk.stem import WordNetLemmatizer\n",
        "nltk.download('wordnet')"
      ]
    },
    {
      "cell_type": "code",
      "execution_count": null,
      "metadata": {
        "colab": {
          "base_uri": "https://localhost:8080/"
        },
        "id": "awlC9imHd3S0",
        "outputId": "30ed4ebe-66ca-427a-e9ca-edd23b33972b"
      },
      "outputs": [
        {
          "output_type": "stream",
          "name": "stderr",
          "text": [
            "[nltk_data] Downloading package omw-1.4 to /root/nltk_data...\n",
            "[nltk_data]   Unzipping corpora/omw-1.4.zip.\n"
          ]
        },
        {
          "output_type": "execute_result",
          "data": {
            "text/plain": [
              "True"
            ]
          },
          "metadata": {},
          "execution_count": 52
        }
      ],
      "source": [
        "nltk.download('omw-1.4')"
      ]
    },
    {
      "cell_type": "code",
      "execution_count": null,
      "metadata": {
        "colab": {
          "base_uri": "https://localhost:8080/"
        },
        "id": "v7YHn6qKatko",
        "outputId": "f1c13eef-c3c7-40f4-9ccd-42c154adcffc"
      },
      "outputs": [
        {
          "output_type": "execute_result",
          "data": {
            "text/plain": [
              "['The', 'little', 'girl', 'rided', 'in', 'the', 'car']"
            ]
          },
          "metadata": {},
          "execution_count": 53
        }
      ],
      "source": [
        "\n",
        "\n",
        "\n",
        "lemmatizer = WordNetLemmatizer()\n",
        "s = 'The little girls rided in the cars'\n",
        "[lemmatizer.lemmatize(word) for word in s.split()]"
      ]
    },
    {
      "cell_type": "code",
      "execution_count": null,
      "metadata": {
        "colab": {
          "base_uri": "https://localhost:8080/"
        },
        "id": "rFW3Cd8ZbODa",
        "outputId": "971af63b-c1a7-43ee-9d26-be7ca14fdf40"
      },
      "outputs": [
        {
          "output_type": "execute_result",
          "data": {
            "text/plain": [
              "['He', 'is', 'going', 'on', 'a', 'journey', 'fishing']"
            ]
          },
          "metadata": {},
          "execution_count": 54
        }
      ],
      "source": [
        "s = 'He is going on a journey fishing'\n",
        "[lemmatizer.lemmatize(word) for word in s.split()]"
      ]
    },
    {
      "cell_type": "markdown",
      "metadata": {
        "id": "kSFXW-zybtpJ"
      },
      "source": [
        "__But why are verbs not lemmatized?__\n",
        "is --> be"
      ]
    },
    {
      "cell_type": "markdown",
      "metadata": {
        "id": "BhNa3O-ecTht"
      },
      "source": [
        "# PoS tags\n",
        "\n",
        "https://www.sketchengine.eu/pos-tags/\n",
        "\n",
        "In NLP, Part-of-Speech refers to the different classes a word can belong to: noun, verb, adjective, ....etc. The different tags/classes are called tagset, and there's no common standard. They usually encode grammar + tense.\n",
        "\n",
        "The task of PoS tagging resembles the task of semantic segmentation in CV; assign a class for every word."
      ]
    },
    {
      "cell_type": "code",
      "execution_count": null,
      "metadata": {
        "colab": {
          "base_uri": "https://localhost:8080/"
        },
        "id": "B7RXAFnidZPU",
        "outputId": "05451165-1727-41ed-ddd9-92e823b7c1bd"
      },
      "outputs": [
        {
          "output_type": "stream",
          "name": "stderr",
          "text": [
            "[nltk_data] Downloading package averaged_perceptron_tagger to\n",
            "[nltk_data]     /root/nltk_data...\n",
            "[nltk_data]   Unzipping taggers/averaged_perceptron_tagger.zip.\n"
          ]
        },
        {
          "output_type": "execute_result",
          "data": {
            "text/plain": [
              "True"
            ]
          },
          "metadata": {},
          "execution_count": 55
        }
      ],
      "source": [
        "nltk.download('averaged_perceptron_tagger')"
      ]
    },
    {
      "cell_type": "code",
      "execution_count": null,
      "metadata": {
        "colab": {
          "base_uri": "https://localhost:8080/"
        },
        "id": "oJnNnIv_dTsF",
        "outputId": "811defe3-4d6c-46d8-bb1f-8e0989d71988"
      },
      "outputs": [
        {
          "output_type": "execute_result",
          "data": {
            "text/plain": [
              "[('He', 'PRP'),\n",
              " ('is', 'VBZ'),\n",
              " ('going', 'VBG'),\n",
              " ('on', 'IN'),\n",
              " ('a', 'DT'),\n",
              " ('journey', 'NN'),\n",
              " ('fishing', 'NN'),\n",
              " ('on', 'IN'),\n",
              " ('ships', 'NNS')]"
            ]
          },
          "metadata": {},
          "execution_count": 56
        }
      ],
      "source": [
        "s = 'He is going on a journey fishing on ships'\n",
        "tagged = nltk.pos_tag(s.split())\n",
        "tagged"
      ]
    },
    {
      "cell_type": "markdown",
      "metadata": {
        "id": "HcZTPzunc3af"
      },
      "source": [
        "Lemmatizers can be assigned a pos argument to tell which PoS class to lemmatize:"
      ]
    },
    {
      "cell_type": "code",
      "execution_count": null,
      "metadata": {
        "colab": {
          "base_uri": "https://localhost:8080/"
        },
        "id": "QL26HWyMbH6Q",
        "outputId": "26555b4c-f7a1-4de3-ee56-d91429104a0c"
      },
      "outputs": [
        {
          "output_type": "stream",
          "name": "stdout",
          "text": [
            "['He', 'be', 'go', 'on', 'a', 'journey', 'fish', 'on', 'ship']\n",
            "['He', 'is', 'going', 'on', 'a', 'journey', 'fishing', 'on', 'ship']\n"
          ]
        }
      ],
      "source": [
        "s = 'He is going on a journey fishing on ships'\n",
        "print([lemmatizer.lemmatize(word, pos='v') for word in s.split()])\n",
        "print([lemmatizer.lemmatize(word, pos='n') for word in s.split()])\n"
      ]
    },
    {
      "cell_type": "markdown",
      "metadata": {
        "id": "rMPSnbk3fWww"
      },
      "source": [
        "The default is pos='n'"
      ]
    },
    {
      "cell_type": "markdown",
      "metadata": {
        "id": "mxhx8X18eMzF"
      },
      "source": [
        "What other tags are possible?"
      ]
    },
    {
      "cell_type": "code",
      "execution_count": null,
      "metadata": {
        "colab": {
          "base_uri": "https://localhost:8080/"
        },
        "id": "cYJ-jLiieDM3",
        "outputId": "cf76ee58-d7af-4539-b84a-694fa98d9378"
      },
      "outputs": [
        {
          "output_type": "stream",
          "name": "stdout",
          "text": [
            "['He', 'be', 'go', 'on', 'a', 'journey', 'fish', 'on', 'ship']\n",
            "['He', 'is', 'going', 'on', 'a', 'journey', 'fishing', 'on', 'ship']\n",
            "['He', 'is', 'going', 'on', 'a', 'journey', 'fishing', 'on', 'ships']\n",
            "['He', 'is', 'going', 'on', 'a', 'journey', 'fishing', 'on', 'ships']\n"
          ]
        }
      ],
      "source": [
        "from nltk.corpus import wordnet\n",
        "s = 'He is going on a journey fishing on ships'\n",
        "print([lemmatizer.lemmatize(word, pos=wordnet.VERB) for word in s.split()])\n",
        "print([lemmatizer.lemmatize(word, pos=wordnet.NOUN) for word in s.split()])\n",
        "print([lemmatizer.lemmatize(word, pos=wordnet.ADJ) for word in s.split()])\n",
        "print([lemmatizer.lemmatize(word, pos=wordnet.ADV) for word in s.split()])\n",
        "#print([lemmatizer.lemmatize(word, pos=[wordnet.VERB, wordnet.NOUN]) for word in s.split()])"
      ]
    },
    {
      "cell_type": "markdown",
      "metadata": {
        "id": "DHjWxcxZfgC5"
      },
      "source": [
        "You can combine by looping:\n"
      ]
    },
    {
      "cell_type": "code",
      "execution_count": null,
      "metadata": {
        "colab": {
          "base_uri": "https://localhost:8080/"
        },
        "id": "zN02CmqDfh9n",
        "outputId": "c31f6738-2b35-42a7-82c4-cc2d8b54f725"
      },
      "outputs": [
        {
          "output_type": "execute_result",
          "data": {
            "text/plain": [
              "['He', 'be', 'go', 'on', 'a', 'journey', 'fish', 'on', 'ship']"
            ]
          },
          "metadata": {},
          "execution_count": 59
        }
      ],
      "source": [
        "pos_tags = [wordnet.VERB, wordnet.NOUN, wordnet.ADJ, wordnet.ADV]\n",
        "s = 'He is going on a journey fishing on ships'\n",
        "words = s.split()\n",
        "for pos in pos_tags:\n",
        "  words = [lemmatizer.lemmatize(word, pos=pos) for word in words]\n",
        "words\n"
      ]
    },
    {
      "cell_type": "markdown",
      "metadata": {
        "id": "yMQgKSaojN97"
      },
      "source": [
        "# Either stem or lemmatize\n",
        "\n",
        "There's no need to do both.\n",
        "\n",
        "Actually stemming might make lemmatization not working."
      ]
    },
    {
      "cell_type": "markdown",
      "metadata": {
        "id": "QMjGCz3YgMyF"
      },
      "source": [
        "# Extra clean-up"
      ]
    },
    {
      "cell_type": "markdown",
      "metadata": {
        "id": "28N7QQbMhykL"
      },
      "source": [
        "We might encounter non ascii codes. In this case we need to decode Unicode characters into a normalized form, such as UTF8."
      ]
    },
    {
      "cell_type": "code",
      "execution_count": null,
      "metadata": {
        "colab": {
          "base_uri": "https://localhost:8080/",
          "height": 35
        },
        "id": "YPt4Iy1lh04I",
        "outputId": "ef3f5bb8-0973-4ac0-8ae4-9f21a4313bd6"
      },
      "outputs": [
        {
          "output_type": "execute_result",
          "data": {
            "text/plain": [
              "'some text'"
            ],
            "application/vnd.google.colaboratory.intrinsic+json": {
              "type": "string"
            }
          },
          "metadata": {},
          "execution_count": 60
        }
      ],
      "source": [
        " import unicodedata\n",
        " text = 'some text'\n",
        " unicodedata.normalize('NFKD', text).encode('ascii', 'ignore').decode('utf-8', 'ignore')"
      ]
    },
    {
      "cell_type": "markdown",
      "metadata": {
        "id": "y6JSPX3igaKm"
      },
      "source": [
        "For IMDB specifically, other special characters might exist due to html escape symbols and tags, like \\<br />\\<br />\"\n"
      ]
    },
    {
      "cell_type": "code",
      "execution_count": null,
      "metadata": {
        "colab": {
          "base_uri": "https://localhost:8080/",
          "height": 70
        },
        "id": "w_W6AJcxgjH7",
        "outputId": "dd6d902b-31de-4c2f-fe73-2c5be41b75ca"
      },
      "outputs": [
        {
          "output_type": "execute_result",
          "data": {
            "text/plain": [
              "\"I agree totally with the last commenter this could be the worst movie ever made .I too had to fast forward through most of this movie. Michael Madsen must have done this movie as a favor to someone.The picture quality is grainy all the way through .And what little plot there is,is just plain stupid .I give this movie a 1 out of 10 if I could give it a lower score I would .Don't waste your time on this movie or you'll regret it.\""
            ],
            "application/vnd.google.colaboratory.intrinsic+json": {
              "type": "string"
            }
          },
          "metadata": {},
          "execution_count": 61
        }
      ],
      "source": [
        "s = trn_texts[0]\n",
        "s"
      ]
    },
    {
      "cell_type": "markdown",
      "metadata": {
        "id": "RiyJVhASgyTD"
      },
      "source": [
        "We can use further special replacements and tanslations:"
      ]
    },
    {
      "cell_type": "code",
      "execution_count": null,
      "metadata": {
        "id": "TI-vNsktgOim"
      },
      "outputs": [],
      "source": [
        "import re\n",
        "re1 = re.compile(r'  +')\n",
        "import html\n",
        "\n",
        "def fixup(x):\n",
        "    x = x.replace('#39;', \"'\").replace('amp;', '&').replace('#146;', \"'\").replace(\n",
        "        'nbsp;', ' ').replace('#36;', '$').replace('\\\\n', \"\\n\").replace('quot;', \"'\").replace(\n",
        "        '<br />', \"\\n\").replace('\\\\\"', '\"').replace('<unk>','u_n').replace(' @.@ ','.').replace(\n",
        "        ' @-@ ','-').replace('\\\\', ' \\\\ ')\n",
        "    return re1.sub(' ', html.unescape(x))"
      ]
    },
    {
      "cell_type": "code",
      "execution_count": null,
      "metadata": {
        "colab": {
          "base_uri": "https://localhost:8080/",
          "height": 70
        },
        "id": "rFT_2v5fg2uL",
        "outputId": "b5b7d3df-157a-4ac2-8b2d-c2bcdc226fcb"
      },
      "outputs": [
        {
          "output_type": "execute_result",
          "data": {
            "text/plain": [
              "\"I agree totally with the last commenter this could be the worst movie ever made .I too had to fast forward through most of this movie. Michael Madsen must have done this movie as a favor to someone.The picture quality is grainy all the way through .And what little plot there is,is just plain stupid .I give this movie a 1 out of 10 if I could give it a lower score I would .Don't waste your time on this movie or you'll regret it.\""
            ],
            "application/vnd.google.colaboratory.intrinsic+json": {
              "type": "string"
            }
          },
          "metadata": {},
          "execution_count": 63
        }
      ],
      "source": [
        "fixup(s)"
      ]
    },
    {
      "cell_type": "markdown",
      "metadata": {
        "id": "TBpc3ZM3g9M4"
      },
      "source": [
        "This should happen before all other preprocessing steps, as we will see in the full pipeline, since it will help sentence and words tokenization for example, and will reduce vocab."
      ]
    },
    {
      "cell_type": "code",
      "execution_count": null,
      "metadata": {
        "colab": {
          "base_uri": "https://localhost:8080/",
          "height": 87
        },
        "id": "_ZUAD1MGea0J",
        "outputId": "dbee58c2-8e82-4434-ea91-dce2ba1a6c89"
      },
      "outputs": [
        {
          "output_type": "execute_result",
          "data": {
            "text/plain": [
              "\"\\nimport numpy as np\\nCLASSES = ['neg', 'pos']#, 'unsup']\\nPATH=Path('./dat/aclImdb/')\\n\\ndef get_texts(path):\\n    texts,labels = [],[]\\n    for idx,label in enumerate(CLASSES):\\n        for fname in (path/label).glob('*.*'):\\n            #texts.append(fixup(fname.open('r', encoding='utf-8').read()))\\n            texts.append(fname.open('r', encoding='utf-8').read())\\n            labels.append(idx)\\n    return np.array(texts),np.array(labels)\\n    #return texts, labels\\n\\ntrn_texts,trn_labels = get_texts(PATH/'train')\\ntst_texts,tst_labels = get_texts(PATH/'test')\\n\""
            ],
            "application/vnd.google.colaboratory.intrinsic+json": {
              "type": "string"
            }
          },
          "metadata": {},
          "execution_count": 64
        }
      ],
      "source": [
        "'''\n",
        "import numpy as np\n",
        "CLASSES = ['neg', 'pos']#, 'unsup']\n",
        "PATH=Path('./dat/aclImdb/')\n",
        "\n",
        "def get_texts(path):\n",
        "    texts,labels = [],[]\n",
        "    for idx,label in enumerate(CLASSES):\n",
        "        for fname in (path/label).glob('*.*'):\n",
        "            #texts.append(fixup(fname.open('r', encoding='utf-8').read()))\n",
        "            texts.append(fname.open('r', encoding='utf-8').read())\n",
        "            labels.append(idx)\n",
        "    return np.array(texts),np.array(labels)\n",
        "    #return texts, labels\n",
        "\n",
        "trn_texts,trn_labels = get_texts(PATH/'train')\n",
        "tst_texts,tst_labels = get_texts(PATH/'test')\n",
        "'''"
      ]
    },
    {
      "cell_type": "markdown",
      "metadata": {
        "id": "Q32yBXgMiU0y"
      },
      "source": [
        "# Putting all the pipeline together:"
      ]
    },
    {
      "cell_type": "code",
      "execution_count": null,
      "metadata": {
        "id": "1YzcLcAziSV2"
      },
      "outputs": [],
      "source": [
        "def remove_special_chars(text):\n",
        "    re1 = re.compile(r'  +')\n",
        "    x1 = text.lower().replace('#39;', \"'\").replace('amp;', '&').replace('#146;', \"'\").replace(\n",
        "        'nbsp;', ' ').replace('#36;', '$').replace('\\\\n', \"\\n\").replace('quot;', \"'\").replace(\n",
        "        '<br />', \"\\n\").replace('\\\\\"', '\"').replace('<unk>', 'u_n').replace(' @.@ ', '.').replace(\n",
        "        ' @-@ ', '-').replace('\\\\', ' \\\\ ')\n",
        "    return re1.sub(' ', html.unescape(x1))\n",
        "\n",
        "\n",
        "def remove_non_ascii(text):\n",
        "    \"\"\"Remove non-ASCII characters from list of tokenized words\"\"\"\n",
        "    return unicodedata.normalize('NFKD', text).encode('ascii', 'ignore').decode('utf-8', 'ignore')\n",
        "\n",
        "\n",
        "def to_lowercase(text):\n",
        "    return text.lower()\n",
        "\n",
        "\n",
        "\n",
        "def remove_punctuation(text):\n",
        "    \"\"\"Remove punctuation from list of tokenized words\"\"\"\n",
        "    translator = str.maketrans('', '', string.punctuation)\n",
        "    return text.translate(translator)\n",
        "\n",
        "\n",
        "def replace_numbers(text):\n",
        "    \"\"\"Replace all interger occurrences in list of tokenized words with textual representation\"\"\"\n",
        "    return re.sub(r'\\d+', '', text)\n",
        "\n",
        "\n",
        "def remove_whitespaces(text):\n",
        "    return text.strip()\n",
        "\n",
        "\n",
        "def remove_stopwords(words, stop_words):\n",
        "    \"\"\"\n",
        "    :param words:\n",
        "    :type words:\n",
        "    :param stop_words: from sklearn.feature_extraction.stop_words import ENGLISH_STOP_WORDS\n",
        "    or\n",
        "    from spacy.lang.en.stop_words import STOP_WORDS\n",
        "    :type stop_words:\n",
        "    :return:\n",
        "    :rtype:\n",
        "    \"\"\"\n",
        "    return [word for word in words if word not in stop_words]\n",
        "\n",
        "\n",
        "def stem_words(words):\n",
        "    \"\"\"Stem words in text\"\"\"\n",
        "    stemmer = PorterStemmer()\n",
        "    return [stemmer.stem(word) for word in words]\n",
        "\n",
        "def lemmatize_words(words):\n",
        "    \"\"\"Lemmatize words in text\"\"\"\n",
        "\n",
        "    lemmatizer = WordNetLemmatizer()\n",
        "    return [lemmatizer.lemmatize(word) for word in words]\n",
        "\n",
        "def lemmatize_verbs(words):\n",
        "    \"\"\"Lemmatize verbs in text\"\"\"\n",
        "\n",
        "    lemmatizer = WordNetLemmatizer()\n",
        "    return ' '.join([lemmatizer.lemmatize(word, pos='v') for word in words])\n",
        "\n",
        "def text2words(text):\n",
        "  return word_tokenize(text)\n",
        "\n",
        "def normalize_text( text):\n",
        "    text = remove_special_chars(text)\n",
        "    text = remove_non_ascii(text)\n",
        "    text = remove_punctuation(text)\n",
        "    text = to_lowercase(text)\n",
        "    text = replace_numbers(text)\n",
        "    words = text2words(text)\n",
        "    words = remove_stopwords(words, stop_words)\n",
        "    #words = stem_words(words)# Either stem ovocar lemmatize\n",
        "    words = lemmatize_words(words)\n",
        "    words = lemmatize_verbs(words)\n",
        "\n",
        "    return ''.join(words)"
      ]
    },
    {
      "cell_type": "code",
      "execution_count": null,
      "metadata": {
        "colab": {
          "base_uri": "https://localhost:8080/",
          "height": 53
        },
        "id": "Z3T0Ch_SjZGB",
        "outputId": "445c1881-30ab-49db-930a-6fba559b45ab"
      },
      "outputs": [
        {
          "output_type": "execute_result",
          "data": {
            "text/plain": [
              "'agree totally last commenter could worst movie ever make fast forward movie michael madsen must do movie favor someonethe picture quality grainy way little plot isi plain stupid give movie could give lower score would dont waste time movie youll regret'"
            ],
            "application/vnd.google.colaboratory.intrinsic+json": {
              "type": "string"
            }
          },
          "metadata": {},
          "execution_count": 66
        }
      ],
      "source": [
        "normalize_text(trn_texts[0])"
      ]
    },
    {
      "cell_type": "markdown",
      "metadata": {
        "id": "MYG1dzHtlp2J"
      },
      "source": [
        "Now let's apply this on the whole corpus:d"
      ]
    },
    {
      "cell_type": "code",
      "execution_count": null,
      "metadata": {
        "id": "HpWFgR_Eltjt"
      },
      "outputs": [],
      "source": [
        "def normalize_corpus(corpus):\n",
        "  return [normalize_text(t) for t in corpus]\n",
        ""
      ]
    },
    {
      "cell_type": "code",
      "execution_count": null,
      "metadata": {
        "id": "K4MKyMgql2AT"
      },
      "outputs": [],
      "source": [
        "def normalize_corpus(corpus):\n",
        "  return [normalize_text(t) for t in corpus]\n",
        "tst_texts = normalize_corpus(tst_texts)"
      ]
    },
    {
      "cell_type": "code",
      "execution_count": null,
      "metadata": {
        "colab": {
          "base_uri": "https://localhost:8080/"
        },
        "id": "_h7uADYYlpQs",
        "outputId": "528d7401-be56-45c4-f2a3-fe17598923f9"
      },
      "outputs": [
        {
          "output_type": "stream",
          "name": "stdout",
          "text": [
            "I agree totally with the last commenter this could be the worst movie ever made .I too had to fast forward through most of this movie. Michael Madsen must have done this movie as a favor to someone.The picture quality is grainy all the way through .And what little plot there is,is just plain stupid .I give this movie a 1 out of 10 if I could give it a lower score I would .Don't waste your time on this movie or you'll regret it.\n",
            "Jean Rollin artistic nonsense about vampires, aliens and the quest for immortality.<br /><br />The women are beautiful and the photography stunning. The dialog is inane. Its a laughable mess. Great to look at but as any semblance of a horror film or thriller purely awful. I'm trying to figure out if we're suppose to be scared or not. At the same time is it a put on or not? Its an odd mix of art film and horror that never quite meshes and while its nice to look at it never seems to \"mean\" anything, and its by no means scary even if the occasional shot or sequence creates a moment of frisson Its well made pretentious twaddle. Something to leave on in the background as a living wall paper for those who like naked women.\n",
            "Johnathan Frakes is a good actor and, when he's not directing a family film, a fine director. But, he really shouldn't have directed this movie, and the screenplay should've been rejected. The director and writers must understand what the original TV show was really about, as well as who the characters were and how they worked. The original series had many episodes with razor-sharp writing using good dialogue and with situations that American producers would never consider using in children's programming, much less a movie, which made the original series so well received by adults. I mean, the Tracys were college graduates and some of them did even drank alcohol and smoked tobacco! And, there were characters who did get killed, although most were bad guys. If they had written it the way that it was originally done, which isn't dumbing things down with poor dialogue, kindergarten humor, and a weak plot, this Universal/Studio Canal joint venture wouldn't have such bad reviews. <br /><br />This motion picture is almost pure blasphemy. If you've seen the original Supermarionation series, then you'll know what I'm talking about! <br /><br />The first thing that was out of place and annoying were the constant references to Ford Motor Company, even going so far that Lady Penelope was riding around in a disfigured Ford Thunderbird made up to look like FAB-1 instead of using what would've been more appropriate considering Ms. Penelope's station (not to mention being more faithful to the original), a ROLLS-ROYCE FAB-1. She's supposed to be a distinguished member of British society, hence the preference for England's finest make of motorcars in the original series. One other reviewer here indicated that Penelope wouldn't be caught dead in a Ford. He's pretty much right in the context that the idea of her riding in a Ford doesn't work. At least they could have had Penelope ride in a Jaguar made up like FAB 1 since Jaguar is a British car make that is owned by Ford, but NO! They had to use a straight FORD! But the Ford product placement doesn't end there. EVERY single car you may see is a Ford! Even the news flash that is shown on the TV sets in the movie were sponsored by Ford! Ford, Ford, FORD! The predominance of Ford vehicles makes this movie an obvious marketing vehicle for Ford. <br /><br />The original series had a design that was futuristic for the 1960s and still remains ahead of its time even today. But, the futuristic design in the original series worked because there was an effort to make the design look practical and functional. This kind of treatment didn't exist in the movie, where everything is stylized to excess, defeating the sense of functionality and practicality. A lot of things that were done in the design of the movie were done strictly for style, many times with no sense of function to give that style a sense of reason.<br /><br />The original series relied on good acting performances of the voice talent to overcome the limited expressions in the puppets, bringing them to life in the episodes. The brilliant and lively music score by Barry Gray helped even further to connect the audience with the story, the characters, and how everything came together to help achieve the super objective (a little bit of Stanislavski talk). The movie, on the other hand, had some overly grating performances. Anthony Edwards overplayed Brains to a fault, Bill Paxton as Jeff Tracy just didn't work despite decent acting (one of few), there were better choices for the Hood than Ben Kingsley, and many others that I don't care to mention (it would take too long). Quite simply, the puppets were more believable! Second was the overly generic and underwhelming music score by Hans Zimmer, sounding more like a mix between \"Days of Thunder\" and \"Apollo 13.\" <br /><br />And, of course, the Hood. The Hood in the original series had an ability to communicate with Kyrano through a statue of Kyrano as an outlet for ESP contact. But, that was where his extraordinary capability ended. He's a master of disguise and deception, which allows him to sneak around undetected (for the most part, anyways) to gather information of the Thunderbirds vehicles for his own means. He also uses weapons for his own defense, including pistols, and generally collects information using a film camera, although he tried to steal Thudnerbirds 1 and 2 in the 1960s United Artists release of \"Thunderbird 6\" (which was the last Thunderbirds show filmed in Supermarionation and was the second Thunderbirds theatrical release). But, while he is a nemesis of International Rescue, the Hood isn't the villain in every Thunderbirds episode and he tends to avoid direct confrontation with International Rescue. In the movie, he's obviously the main villain, but he and his cohorts seem to act more like morons, along with the Hood having extended mind control ability, including the ability to move objects and move himself into flight for brief periods of time. This totally deviates from the Hood as a character in the original series with one that may leave kids laughing and people familiar with the series scratching their heads in confusion or leaving the theater in disgust.<br /><br />There are more criticisms, but the 1000 word limit for IMDb reviews will not allow me to list all of them. So, I will close with the point being made that I didn't enjoy this movie. As a matter of fact, I think it sucks! Having seen the original series and Supermarionation movies (Thunderbirds Are Go, Thunderbird 6), I was hoping for something a lot better than this.<br /><br />The original Supermarionation was a lot more sophisticated and elegant than this live action farce. (And that's saying it nicely.) - Kip Wells\n",
            "That's what my friend Brian said about this movie after about an hour of it. He wasn't able to keep from dozing off. I had been ranting about how execrable it was and finally I relented and played it, having run out of adjectives for \"boring\". <br /><br />Imagine if you will, the pinnacle of hack-work. Something so uninspired, so impossibly dreadful, that all you want to do after viewing it is sit alone in the dark and not speak to anybody. Some people labor under the illusion that this movie is watchable. It is not, not under any form of narcotic or brain damage. I would ONLY recommend this to someone in order to help them understand how truly unbearable it is. Don't believe me? Gather 'round. <br /><br />Granted, as a nation, we in America don't always portray Middle Eastern peoples in a tasteful manner. But how about a kid in a sheik outfit bowing in salaam-fashion to a stack of Castrol motor oil bottles? You'll find that here. GET IT? THE ARAB WORSHIPS OIL. I couldn't believe what I was seeing. Having the kid fly planes into a skyscraper would've been more appropriate. Who in their right mind would think that was a funny joke? It's not even close to \"cleverly offensive\". It just sucks and makes you want to punch whomever got paid to write that bit in the face. <br /><br />In the middle of the film, a five-man singing group called the \"Landmines\" takes the stage at an officers' ball. Okay- are you ready? The joke is THEY SING TERRIBLY AND OFF-KEY. Why did I write that in caps also? Because the joke is POUND, POUND, POUNDED INTO YOUR HEAD with a marathon of HORRENDOUS sight gags. They start off mediocre enough; glasses cracking, punch tumblers shattering... then there is, I am 100% serious, a two-frame stop-motion sequence of A WOMAN'S SHOES COMING OFF. You read that correctly- the music was so bad, in one frame, the woman's feet have shoes on. In the very next- the shoes are off!!! Get it, because the music was so bad, her shoes came off! What the F???? <br /><br />Then there is an endless montage of stock footage to drive home the point that the SINGING IS BAD. If any human being actually suffered through this scene in the theater without running like hell, I would be astonished. This movie is honestly like a practical joke to see how fast people would bolt out the doors. Robert Downey Sr. directs comedy the way his son commands respect by staying drug-free. Badly. Other things to watch out for:<br /><br />1. The popular music shoehorned in wherever possible. Every time Liceman appears, a really inappropriate Iggy Pop song plays. Plus all the actors do their best to act like it got really chilly for some reason.<br /><br />2. Barbara Bach's criminally awful accent. She sounds like she's trying to talk like a baby while rolling a marble around on her tongue. There is no nudity, and there are several scenes where the boys all moan and writhe from a glimpse of her cleavage, like they're in a community school acting class and they've been directed to act like aroused retarded people. <br /><br />3. Liceman feeds his revolting dog a condom. Remember; when this movie came out throwing in \"abortion\" and \"condom\" was seen as \"edgy\". <br /><br />4. Tom Poston plays a mincing, boy-hungry pedophile, back when Hollywood thought \"pedophile\" and \"homosexual\" were one in the same. Flat-out embarrassing. <br /><br />5. Watch the ending. Nothing is wrong with your VCR. That is actually the ending. Tell me that doesn't make you want to explode everyone who's ever made any movie, ever. <br /><br />Watch this at your own risk. Up The Academy has been known to actually make other movies, like The Jerk or Blazing Saddles, less funny simply by placing the videotape near them.\n",
            "Somehow they summed up the 60's, ten years that radically changed our country, in four hours. And what a painful four hours it was. They trivilized the major events and happenings and they \"claimed\" it was about two families yet you barely saw the african-american family. If I were NBC I would be ashamed and embarrassed for airing such trash. What was amusing was this happy-go-lucky family you saw in the very beginning was tortured in so many ways, but managed to attend every major 60's event through the country. And the second family was such a non-factor. They devoted maybe five or six scenes total to this family. That poor son... Please NBC, do not make any movies about any other eras....leave that to PBS and the History Channel\n",
            "An old intellectual talks about what he considers art in movies. You get your Hitchcock, your Chaplin, your Bergman and some other stuff prior to the 80ies. To disguise that he has no clue what is going on in cinemas these days, he throws in The Matrix.<br /><br />But it's not only the same lame film-as-art speech all over again. This speech is reduced to outdated psychological platitudes: it-ego-super ego, anal phase, sexual insufficiency. <br /><br />It is garnished with the cheesy effect of having Zizte edited into the movies he is taking about. For someone who is supposed to know much about movies, his own is, cinematographicly speaking: yeiks.<br /><br />To put it in Zizek's own words - I saw 5\\-\\!7 on the screen, last night, or in the words of a great movie maker:<br /><br />Mr. (Zizek), what you've just said is one of the most insanely idiotic things I have ever heard. At no point in your rambling, incoherent response were you even close to anything that could be considered a rational thought. Everyone in this room is now dumber for having listened to it. I award you (two) points (only), and may God have mercy on your soul.\n",
            "It was the tag-line \"in the tradition of American Pie\" that fooled me into renting this movie. What I got was a piece of junk in the style of Jackass, with the major difference that compared to this Jackass the Movie seems like a Citizen Kane.<br /><br />This movie made me regret that I rewarded other movies with 1 out of 10, because now I can't go beneath that. This one makes quite some bad movies look like cinematic feats.<br /><br />I actually turned it off after 45 minutes, and that's something I very rarely do. But it was just too plain boring, stupid, uninteresting and unnecessary.<br /><br />Can't believe some people actually reward this with 10 out of 10. What did your parents do? Drop you on the head when you were just a child? Or was it the very first movie you ever saw, so you got nothing to compare it to? Are you still a virgin and are breasts all you ever think off? Something must be wrong, at least.<br /><br />My advice: stay clear of this one. Even if your in the mood for a simple movie that doesn't require thinking, choose something else, or you'll regret it for sure.\n",
            "I grew up (b. 1965) watching and loving the Thunderbirds. All my mates at school watched. We played \"Thunderbirds\" before school, during lunch and after school. We all wanted to be Virgil or Scott. No one wanted to be Alan. Counting down from 5 became an art form. I took my children to see the movie hoping they would get a glimpse of what I loved as a child. How bitterly disappointing. The only high point was the snappy theme tune. Not that it could compare with the original score of the Thunderbirds. Thankfully early Saturday mornings one television channel still plays reruns of the series Gerry Anderson and his wife created. Jonatha Frakes should hand in his directors chair, his version was completely hopeless. A waste of film. Utter rubbish. A CGI remake may be acceptable but replacing marionettes with Homo sapiens subsp. sapiens was a huge error of judgment.\n",
            "watch a team of bomb disposal experts in Iraq count down their time before they can go home.<br /><br />That in itself sounds boring. Every time that little caption came up telling us how long they had left, it just caused this film with no plot to drag on and on. hurry up and finish your time there so we can all go home.<br /><br />I must be missing something. I'm a great fan of war films if they are done well. This had \"jarhead\" syndrome. A film that at times was beautifully shot, but cinematography doesn't stop it from being totally dull and pointless.<br /><br />And get over the slow mo \"cartridges coming out of the gun\" shot already. they could have saved money and just got stock footage from any other film with a gun in it.<br /><br />I didn't have any empathy for the main guy in it, i was constantly hoping that his recklessness would cause him to die. In fact the film would have worked much better if he had.<br /><br />I read some reviews and seemed to get the feeling that those who had been in the armed forces disliked it, and everyone else loved it. I have never been in the forces, and I'm with them. It's pretentious drivel. the 3 stars are for the cinematography.\n",
            "This is one of the two postapocalyptic fantasy movies that Albert Pyun made in 1993 - and it's the bad one. Apparently all his energy went into \"Nemesis\" which was an entertaining non-stop action movie, and had a much more expensive look. \"Knights\" is clunky and cheesy, a bottom-of-the-barrel sci-fi that too often resembles a video game (new opponents pop up all the time and must be exterminated as quickly as possible). The only thing that saves this movie from the trash can is Kathy Long; not a particularly attractive woman, but undeniably a brutally efficient fighting machine. As for Kris Kristofferson, considering his age at the time (58), I hope his stunt double was well paid. (*1/2)\n"
          ]
        }
      ],
      "source": [
        "for t in trn_texts[:10]:\n",
        "  print(t)"
      ]
    },
    {
      "cell_type": "markdown",
      "metadata": {
        "id": "Wx1IJI6zV-cu"
      },
      "source": [
        "We still suffer some weird words: i've --> ive\n",
        "\n",
        "But we will keep to that level for now"
      ]
    },
    {
      "cell_type": "markdown",
      "metadata": {
        "id": "FhjLUHcpjFfJ"
      },
      "source": [
        "## Keras\n",
        "\n",
        "There are many other NLP tools than NLTK. Keras is a DL framework, that also have some NLP tools, specially for tokenization."
      ]
    },
    {
      "cell_type": "markdown",
      "metadata": {
        "id": "np8RTxgptEZV"
      },
      "source": [
        "But it suffers the same issues as split() on white spaces:"
      ]
    },
    {
      "cell_type": "code",
      "execution_count": null,
      "metadata": {
        "colab": {
          "base_uri": "https://localhost:8080/"
        },
        "id": "XyaLBY5DtJn9",
        "outputId": "6a7dc55c-91f4-4f53-9009-3223b6b87a67"
      },
      "outputs": [
        {
          "output_type": "stream",
          "name": "stdout",
          "text": [
            "['human', 'like', 'robots', 'are', 'dump', 'but', 'cute']\n"
          ]
        }
      ],
      "source": [
        "from tensorflow.keras.preprocessing.text import text_to_word_sequence\n",
        "# define the document\n",
        "text = 'human-like robots are dump, but cute' # 'The quick brown fox jumped over the lazy dog.'\n",
        "# tokenize the document\n",
        "result = text_to_word_sequence(text)\n",
        "print(result)\n"
      ]
    },
    {
      "cell_type": "markdown",
      "metadata": {
        "id": "129fAj1MAU0m"
      },
      "source": [
        "# Text preparation\n",
        "\n",
        "The preparation phase includes transforming __text__ into __binary/integer/digital format__\n",
        "\n",
        "For that we need a vocabulary vector:"
      ]
    },
    {
      "cell_type": "markdown",
      "metadata": {
        "id": "0KnI_o4qjVge"
      },
      "source": [
        "# Vocab and inverse vocab\n",
        "\n",
        "Vocabulary is a mapping (dict) from words to indices (integers). It represents ALL the words in a language. But it's hard to get ALL words, so we count only what we have in a dataset/corpus.\n",
        "\n",
        "Since we don't account for all words, we might encounter Out-Of-Vocab words which we dont know a mapping for. So we usually reserve a special token index for UNKnown words."
      ]
    },
    {
      "cell_type": "markdown",
      "metadata": {
        "id": "uoK9c2PWjbd4"
      },
      "source": [
        "# Manual"
      ]
    },
    {
      "cell_type": "code",
      "execution_count": null,
      "metadata": {
        "colab": {
          "base_uri": "https://localhost:8080/"
        },
        "id": "YYDlHLrV2mXc",
        "outputId": "6513956f-f3e0-4c0e-f4c2-bb150774cd2c"
      },
      "outputs": [
        {
          "output_type": "execute_result",
          "data": {
            "text/plain": [
              "['\\x08\\x08\\x08\\x08A',\n",
              " '\\x10own',\n",
              " '!',\n",
              " '!!',\n",
              " '!!!',\n",
              " '!!!!',\n",
              " '!!!!!',\n",
              " '!!!!!!',\n",
              " '!!!!!!!',\n",
              " '!!!!!!!!',\n",
              " '!!!!!!!!!',\n",
              " '!!!!!!!!!!',\n",
              " '!!!!!!!!!!!',\n",
              " '!!!!!!!!!!!!!',\n",
              " '!!!!!!!!!!!!!!',\n",
              " '!!!!!!!!!!!!!!!!!!!!!!',\n",
              " '!!!!!!!!!!!!!!!!!!!!!!!!!!',\n",
              " '!!!!!!!!!!!!!!!!!!!!!!!!!!!!!!!',\n",
              " '!!!!!!!<br',\n",
              " '!!!!!<br',\n",
              " '!!!!\"',\n",
              " '!!!!<br',\n",
              " '!!!)',\n",
              " '!!!.<br',\n",
              " '!!!7!!!',\n",
              " '!!!<br',\n",
              " '!!!Scott',\n",
              " '!!\"',\n",
              " '!!\",',\n",
              " '!!).',\n",
              " '!!)<br',\n",
              " '!!*<br',\n",
              " '!!,',\n",
              " '!!-',\n",
              " '!!.',\n",
              " '!!....<br',\n",
              " '!!<br',\n",
              " '!!?',\n",
              " '!!??',\n",
              " '!\"',\n",
              " '!\",',\n",
              " '!\".',\n",
              " '!)',\n",
              " '!),',\n",
              " '!).',\n",
              " '!).<br',\n",
              " '!,',\n",
              " '!.',\n",
              " '!....Both',\n",
              " '!.<br',\n",
              " '!<br',\n",
              " '!?',\n",
              " '!?!?!?!?!?',\n",
              " '!The',\n",
              " '\"',\n",
              " '\"\"Beat',\n",
              " '\"\"Housesitter\",',\n",
              " '\"\"Leave',\n",
              " '\"\"Shin',\n",
              " '\"$\"',\n",
              " '\"&#269;ETVORKA\"',\n",
              " '\"&$*@$',\n",
              " '\"\\'70s\"',\n",
              " '\"\\'Bright',\n",
              " '\"\\'S',\n",
              " '\"\\'Son',\n",
              " '\"\\'cause',\n",
              " '\"\\'menaikkan\\'',\n",
              " '\"\\'spoiling\\'',\n",
              " '\"(\"Viva!!',\n",
              " '\"(It',\n",
              " '\"(star)\",',\n",
              " '\"(the',\n",
              " '\")',\n",
              " '\").',\n",
              " '\"*\"',\n",
              " '\"*random',\n",
              " '\",',\n",
              " '\"-Well,',\n",
              " '\"-genre,',\n",
              " '\".',\n",
              " '\"...',\n",
              " '\"......Daddy?\"',\n",
              " '\".....another',\n",
              " '\"...I',\n",
              " '\"...Thing\"',\n",
              " '\"...and',\n",
              " '\"...anymore.\"<br',\n",
              " '\"...bring',\n",
              " '\"...dude....What?\"',\n",
              " '\"...feels',\n",
              " '\"...harder',\n",
              " '\"...is',\n",
              " '\"...it\\'s',\n",
              " '\"...just',\n",
              " '\"...naaaa',\n",
              " '\"...of',\n",
              " '\"...pure',\n",
              " '\"...shimmeringly',\n",
              " '\"...show',\n",
              " '\"...stupid!',\n",
              " '\"...sweeet.\",',\n",
              " '\"...the',\n",
              " '\"...this',\n",
              " '\"...underrated...\"',\n",
              " '\"...we',\n",
              " '\"...with',\n",
              " '\"...yep',\n",
              " '\"...yes',\n",
              " '\"...you',\n",
              " '\"..Care',\n",
              " '\"..Well',\n",
              " '\"..any',\n",
              " '\"..do',\n",
              " '\"..raccoons',\n",
              " '\".<br',\n",
              " '\"0',\n",
              " '\"0\"',\n",
              " '\"0\".',\n",
              " '\"0\"/10,',\n",
              " '\"007\"',\n",
              " '\"1',\n",
              " '\"1\"',\n",
              " '\"1\",',\n",
              " '\"1\".',\n",
              " '\"1(awful)\"--not',\n",
              " '\"1.1\"',\n",
              " '\"10',\n",
              " '\"10\"',\n",
              " '\"10\"\\'s',\n",
              " '\"10\"),',\n",
              " '\"10\".',\n",
              " '\"10\".<br',\n",
              " '\"10\";',\n",
              " '\"10\"s',\n",
              " '\"10%',\n",
              " '\"10,\"',\n",
              " '\"10-4',\n",
              " '\"10.\"',\n",
              " '\"10/10\"',\n",
              " '\"100',\n",
              " '\"100%',\n",
              " '\"1000',\n",
              " '\"101',\n",
              " '\"102',\n",
              " '\"103',\n",
              " '\"107',\n",
              " '\"10th',\n",
              " '\"11',\n",
              " '\"11001001,\"',\n",
              " '\"12',\n",
              " '\"12:00\"',\n",
              " '\"13',\n",
              " '\"14',\n",
              " '\"14th',\n",
              " '\"15',\n",
              " '\"16',\n",
              " '\"16th',\n",
              " '\"1900\".',\n",
              " '\"1903',\n",
              " '\"1921\")',\n",
              " '\"1930s\"',\n",
              " '\"1940s',\n",
              " '\"1942',\n",
              " '\"1970\\'s\"',\n",
              " '\"1984!\"',\n",
              " '\"1984\"',\n",
              " '\"1984\",',\n",
              " '\"1985,\"',\n",
              " '\"1999\"',\n",
              " '\"1999\".',\n",
              " '\"1st',\n",
              " '\"1st\"',\n",
              " '\"2',\n",
              " '\"2\"',\n",
              " '\"2,\"',\n",
              " '\"2.4',\n",
              " '\"20',\n",
              " '\"20,000',\n",
              " '\"2001',\n",
              " '\"2001\"',\n",
              " '\"2001\",',\n",
              " '\"2001\"s.<br',\n",
              " '\"2001,',\n",
              " '\"2001:',\n",
              " '\"20th',\n",
              " '\"21',\n",
              " '\"22',\n",
              " '\"24\"',\n",
              " '\"24\",',\n",
              " '\"24\".',\n",
              " '\"27',\n",
              " '\"28',\n",
              " '\"3',\n",
              " '\"3\"',\n",
              " '\"3\".',\n",
              " '\"3,\"',\n",
              " '\"30',\n",
              " '\"300\".',\n",
              " '\"31',\n",
              " '\"36th',\n",
              " '\"3d',\n",
              " '\"3rd',\n",
              " '\"3rd-\")',\n",
              " '\"4',\n",
              " '\"4\"',\n",
              " '\"4,\"',\n",
              " '\"40',\n",
              " '\"40%',\n",
              " '\"400',\n",
              " '\"405\"',\n",
              " '\"42nd',\n",
              " '\"44',\n",
              " '\"48',\n",
              " '\"4am',\n",
              " '\"5',\n",
              " '\"5\"',\n",
              " '\"50',\n",
              " '\"50%',\n",
              " '\"52',\n",
              " '\"54\"',\n",
              " '\"55',\n",
              " '\"6',\n",
              " '\"68-er\"',\n",
              " '\"7',\n",
              " '\"7\"',\n",
              " '\"7\"!',\n",
              " '\"70%',\n",
              " '\"7eventy',\n",
              " '\"7½th\"',\n",
              " '\"8',\n",
              " '\"8\"',\n",
              " '\"8\".<br',\n",
              " '\"8\"s,',\n",
              " '\"80\\'s',\n",
              " '\"80\\'s\"',\n",
              " '\"80s',\n",
              " '\"80s\"',\n",
              " '\"80s.\"',\n",
              " '\"89',\n",
              " '\"9',\n",
              " '\"9\"',\n",
              " '\"9\",',\n",
              " '\"9\".',\n",
              " '\"9,\"',\n",
              " '\"9-11,\"',\n",
              " '\"9/11\"',\n",
              " '\"9/11,\"',\n",
              " '\"90210\"',\n",
              " '\"90210\",',\n",
              " '\"9th',\n",
              " '\"<br',\n",
              " '\"A',\n",
              " '\"A\"',\n",
              " '\"A\".',\n",
              " '\"A\".<br',\n",
              " '\"A,\"',\n",
              " '\"A-Rated',\n",
              " '\"A-Team\"',\n",
              " '\"A-for-effort\"',\n",
              " '\"A-movie\"',\n",
              " '\"A.',\n",
              " '\"A.\"',\n",
              " '\"A.P.E.\"',\n",
              " '\"AA\"',\n",
              " '\"AAAAATCH-KAH!!\"',\n",
              " '\"AAGHH!!',\n",
              " '\"AARRRGH!!!\"',\n",
              " '\"ACTING\"',\n",
              " '\"ACTRESS',\n",
              " '\"AIDS\"',\n",
              " '\"AIP\"),',\n",
              " '\"AL\"',\n",
              " '\"ALIEN\"',\n",
              " '\"ALIEN\".',\n",
              " '\"ALL',\n",
              " '\"AMAZON',\n",
              " '\"AND',\n",
              " '\"ASTONISHING\"',\n",
              " '\"AUTOBOTS',\n",
              " '\"Aaja',\n",
              " '\"Aargh!',\n",
              " '\"Aargh!\")',\n",
              " '\"Abbott',\n",
              " '\"Abe',\n",
              " '\"About',\n",
              " '\"Abraham',\n",
              " '\"Abre',\n",
              " '\"Absolute',\n",
              " '\"Absolutely',\n",
              " '\"Academy',\n",
              " '\"Academy\"',\n",
              " '\"Academy,\"',\n",
              " '\"Accident\"',\n",
              " '\"Accordian',\n",
              " '\"According',\n",
              " '\"Ace',\n",
              " '\"Ace\"',\n",
              " '\"Aces',\n",
              " '\"Achilles,\"',\n",
              " '\"Acid',\n",
              " '\"Acme',\n",
              " '\"Acquiring',\n",
              " '\"Act',\n",
              " '\"Action',\n",
              " '\"Action!\".',\n",
              " '\"Action\".',\n",
              " '\"Activism,\"',\n",
              " '\"Actor\\'s',\n",
              " '\"Actors\"',\n",
              " '\"Actress\",',\n",
              " '\"Adam',\n",
              " '\"Adam\\'s',\n",
              " '\"Adam,',\n",
              " '\"Adaptation\";',\n",
              " '\"Addicted',\n",
              " '\"Addictive\"',\n",
              " '\"Additional',\n",
              " '\"Adelaide\".',\n",
              " '\"Adelaide\"...',\n",
              " '\"Adelaide\\'s',\n",
              " '\"Adele',\n",
              " '\"Adios',\n",
              " '\"Adolf\\'s',\n",
              " '\"Adopted',\n",
              " '\"Adrenaline:',\n",
              " '\"Adrian!\"',\n",
              " '\"Adult\"',\n",
              " '\"Adultry\"',\n",
              " '\"Adventures',\n",
              " '\"Advice',\n",
              " '\"Aeon',\n",
              " '\"Aerobicide\"',\n",
              " '\"Aeroplane',\n",
              " '\"Aesop,\"',\n",
              " '\"Affliction\",',\n",
              " '\"Africa',\n",
              " '\"African',\n",
              " '\"African\"',\n",
              " '\"Africanism\",',\n",
              " '\"After',\n",
              " '\"Afterschool',\n",
              " '\"Again,\"',\n",
              " '\"Against',\n",
              " '\"Agent',\n",
              " '\"Agnes',\n",
              " '\"Agnes,\"',\n",
              " '\"Agonia\"',\n",
              " '\"Ah',\n",
              " '\"Ah,',\n",
              " '\"Ah-ha!',\n",
              " '\"Ah-s\"',\n",
              " '\"Ah.',\n",
              " '\"Ah...then',\n",
              " '\"Aha!',\n",
              " '\"Aha!\"',\n",
              " '\"Ahh\"',\n",
              " '\"Ahh-OK...finally',\n",
              " '\"Ahh..\"',\n",
              " '\"Ahh...over',\n",
              " '\"Ahhhh\"',\n",
              " '\"Ain\\'t',\n",
              " '\"Aintry\".',\n",
              " '\"Air',\n",
              " '\"Airial',\n",
              " '\"Airman\"',\n",
              " '\"Airplane!\"',\n",
              " '\"Airplane!\",',\n",
              " '\"Airplane!,\"',\n",
              " '\"Airplane\"',\n",
              " '\"Airplane\",',\n",
              " '\"Airport',\n",
              " '\"Airport\"',\n",
              " '\"Al',\n",
              " '\"Al\"',\n",
              " '\"Aladdin\"',\n",
              " '\"Aladdin\",',\n",
              " '\"Alan',\n",
              " '\"Alantis',\n",
              " '\"Alas,',\n",
              " '\"Alex',\n",
              " '\"Alex\"',\n",
              " '\"Alexander',\n",
              " '\"Alexander.\"',\n",
              " '\"Alfie\"?',\n",
              " '\"Alfred',\n",
              " '\"Algie,',\n",
              " '\"Alias',\n",
              " '\"Alias\"',\n",
              " '\"Alias\".',\n",
              " '\"Alice',\n",
              " '\"Alice\"',\n",
              " '\"Alice\").',\n",
              " '\"Alice,',\n",
              " '\"Alice:',\n",
              " '\"Alicia..my',\n",
              " '\"Alien',\n",
              " '\"Alien\"',\n",
              " '\"Alien\",',\n",
              " '\"Aliens',\n",
              " '\"Aliens\"',\n",
              " '\"Aliens\").<br',\n",
              " '\"Aliens\",',\n",
              " '\"Aliens\"-',\n",
              " '\"Aliens\".',\n",
              " '\"Aliens\".<br',\n",
              " '\"Alive',\n",
              " '\"Alive\"',\n",
              " '\"Alive\".',\n",
              " '\"All',\n",
              " '\"All\"',\n",
              " '\"Alladin\".',\n",
              " '\"Allan',\n",
              " '\"Alliance\":',\n",
              " '\"Allied',\n",
              " '\"Alligator\"',\n",
              " '\"Alloimono',\n",
              " '\"Ally',\n",
              " '\"Almighty',\n",
              " '\"Almost',\n",
              " '\"Aloha',\n",
              " '\"Alone',\n",
              " '\"Along',\n",
              " '\"Alright',\n",
              " '\"Alright!',\n",
              " '\"Alright,',\n",
              " '\"Also',\n",
              " '\"Altaira',\n",
              " '\"Alterated',\n",
              " '\"Alternate',\n",
              " '\"Altman-esque\"',\n",
              " '\"Alucarda\"',\n",
              " '\"Always',\n",
              " '\"Am',\n",
              " '\"Amadeus\"',\n",
              " '\"Amazing',\n",
              " '\"Amazon',\n",
              " '\"Ambushed\"',\n",
              " '\"Amelie\"\\'s',\n",
              " '\"Amelie\",',\n",
              " '\"Amelie,\"',\n",
              " '\"Amelie.\"',\n",
              " '\"America',\n",
              " '\"America\"',\n",
              " '\"America\\'s',\n",
              " '\"American',\n",
              " '\"American\"',\n",
              " '\"American\".',\n",
              " '\"Americana\"',\n",
              " '\"Americanized\"',\n",
              " '\"Ameriquest',\n",
              " '\"Amic/Amat\",',\n",
              " '\"Amigo\",',\n",
              " '\"Amistad\"',\n",
              " '\"Amitabh',\n",
              " '\"Amityville',\n",
              " '\"Amores',\n",
              " '\"Amos',\n",
              " '\"Amélie',\n",
              " '\"An',\n",
              " '\"Anaconda\"',\n",
              " '\"Anaconda\".',\n",
              " '\"Anaconda.\"',\n",
              " '\"Analyze',\n",
              " '\"Anamorph\"',\n",
              " '\"Anamorph\".',\n",
              " '\"Anatomie\"',\n",
              " '\"Anatomie\".',\n",
              " '\"Anatomy',\n",
              " '\"Anchorman\"',\n",
              " '\"Anchorman\",',\n",
              " '\"Anchorman:',\n",
              " '\"Anchorman;',\n",
              " '\"Anchors',\n",
              " '\"And',\n",
              " '\"Andre',\n",
              " '\"Andrew\"',\n",
              " '\"Andromeda\"',\n",
              " '\"Andromeda\".<br',\n",
              " '\"Andy',\n",
              " '\"Andy\"',\n",
              " '\"Angel',\n",
              " '\"Angel\",',\n",
              " '\"Angel\\'s',\n",
              " '\"Angel.\"',\n",
              " '\"Angelique\"',\n",
              " '\"Angels',\n",
              " '\"Angels\"',\n",
              " '\"Angels\".<br',\n",
              " '\"Angrezon',\n",
              " '\"Angry',\n",
              " '\"Animal',\n",
              " '\"Anjos',\n",
              " '\"Ankhen\",',\n",
              " '\"Ann',\n",
              " '\"Anna',\n",
              " '\"Anna\"',\n",
              " '\"Anna\",',\n",
              " '\"Anne',\n",
              " '\"Annie',\n",
              " '\"Anniko\"',\n",
              " '\"Anniyan\".',\n",
              " '\"Antes',\n",
              " '\"Anthony',\n",
              " '\"Anthony,',\n",
              " '\"Anthropophagous\"',\n",
              " '\"Anti-War\"',\n",
              " '\"Antigone,\"',\n",
              " '\"Antonia\"),',\n",
              " '\"Antonia\\'s',\n",
              " '\"Antwone',\n",
              " '\"Antz\"',\n",
              " '\"Antz\",',\n",
              " '\"Any',\n",
              " '\"Anything',\n",
              " '\"Anyway...\"',\n",
              " '\"Anyway...\",',\n",
              " '\"Ao',\n",
              " '\"Aparadektoi,',\n",
              " '\"Apart',\n",
              " '\"Apartment',\n",
              " '\"Apathetic\"',\n",
              " '\"Apocalypse',\n",
              " '\"Apollo',\n",
              " '\"Apprentice',\n",
              " '\"Apprentice\"',\n",
              " '\"April',\n",
              " '\"Aqua',\n",
              " '\"Aquarius\"',\n",
              " '\"Arabian',\n",
              " '\"Arabic\"',\n",
              " '\"Aragami\"',\n",
              " '\"Aragami\",',\n",
              " '\"Arahan\"',\n",
              " '\"Archdiocese\"',\n",
              " '\"Ardala',\n",
              " '\"Ardh',\n",
              " '\"Are',\n",
              " '\"Aren\\'t',\n",
              " '\"Arirang\"',\n",
              " '\"Arkansas',\n",
              " '\"Arli$$\"',\n",
              " '\"Armageddon\"',\n",
              " '\"Armagedon\"',\n",
              " '\"Armor.\"',\n",
              " '\"Arms',\n",
              " '\"Army',\n",
              " '\"Arnold\",',\n",
              " '\"Arnold\\'s\"',\n",
              " '\"Around',\n",
              " '\"Arrest',\n",
              " '\"Arrested',\n",
              " '\"Arrowsmith\")',\n",
              " '\"Art',\n",
              " '\"Art\"',\n",
              " '\"Art\"...',\n",
              " '\"Art\".<br',\n",
              " '\"Artemisia',\n",
              " '\"Artemisia\"',\n",
              " '\"Arthur',\n",
              " '\"Arthur\"',\n",
              " '\"Arthur\",',\n",
              " '\"Arthur\".',\n",
              " '\"Arthur\\'s',\n",
              " '\"Arthur.\"',\n",
              " '\"Arty\"',\n",
              " '\"Aruman\".<br',\n",
              " '\"Aryans\"',\n",
              " '\"Arzenta\"',\n",
              " '\"As',\n",
              " '\"Ashenden\"',\n",
              " '\"Asian',\n",
              " '\"Asiatic',\n",
              " '\"Ask',\n",
              " '\"Asking',\n",
              " '\"Assault',\n",
              " '\"Assets?',\n",
              " '\"Asumi\")',\n",
              " '\"Asylum',\n",
              " '\"At',\n",
              " '\"Atlantic\"',\n",
              " '\"Atlantis',\n",
              " '\"Atlantis\"',\n",
              " '\"Atlantis\",',\n",
              " '\"Atlantis\".',\n",
              " '\"Atlantis:',\n",
              " '\"Atoll',\n",
              " '\"Atomic',\n",
              " '\"Ator',\n",
              " '\"Attack',\n",
              " '\"Attlee\\'s',\n",
              " '\"Audition\"',\n",
              " '\"Audition,\"',\n",
              " '\"Audrey',\n",
              " '\"Aunt',\n",
              " '\"Auntie',\n",
              " '\"Austin',\n",
              " '\"Austinese\",',\n",
              " '\"Australia\"?',\n",
              " '\"Australian',\n",
              " '\"Australian\"',\n",
              " '\"Authorized',\n",
              " '\"Authorized\"',\n",
              " '\"Autie\"',\n",
              " '\"Auto',\n",
              " '\"Autofocus\"',\n",
              " '\"Autofocus.\"',\n",
              " '\"Autumn',\n",
              " '\"Aux',\n",
              " '\"Avalon\"',\n",
              " '\"Avenging',\n",
              " '\"Aventurera\".',\n",
              " '\"Average',\n",
              " '\"Avjo',\n",
              " '\"Aw',\n",
              " '\"Aw,',\n",
              " '\"Awakenings\"',\n",
              " '\"Awards\"',\n",
              " '\"Away',\n",
              " '\"Awesome.',\n",
              " '\"Awwww\"',\n",
              " '\"Axel',\n",
              " '\"Aye\"s',\n",
              " '\"Aztec',\n",
              " '\"Azumi',\n",
              " '\"Azumi\"',\n",
              " '\"Azumi\",',\n",
              " '\"B',\n",
              " '\"B\"',\n",
              " '\"B\",',\n",
              " '\"B\\'s\"',\n",
              " '\"B**ch!\"',\n",
              " '\"B,\"',\n",
              " '\"B-Level.\"',\n",
              " '\"B-movie\"',\n",
              " '\"B.S.1\",',\n",
              " '\"BAD\"',\n",
              " '\"BASEketball,\"',\n",
              " '\"BATTLE',\n",
              " '\"BBC',\n",
              " '\"BD\"',\n",
              " '\"BEL',\n",
              " '\"BELIEVE\"',\n",
              " '\"BENDY',\n",
              " '\"BETTER',\n",
              " '\"BEYOND',\n",
              " '\"BIG',\n",
              " '\"BILB\"',\n",
              " '\"BILD\"',\n",
              " '\"BLAIR',\n",
              " '\"BOO-let\"',\n",
              " '\"BORING\"!',\n",
              " '\"BTK\"',\n",
              " '\"Babe',\n",
              " '\"Babe\"',\n",
              " '\"Babe,\"',\n",
              " '\"Babel\".',\n",
              " '\"Babes',\n",
              " '\"Baby',\n",
              " '\"Babyface',\n",
              " '\"Babylon',\n",
              " '\"Bachchan-',\n",
              " '\"Bachelor',\n",
              " '\"Bachelor\\'s',\n",
              " '\"Bachlor',\n",
              " '\"Bachman',\n",
              " '\"Bachman\"',\n",
              " '\"Back',\n",
              " '\"Backbeat\",',\n",
              " '\"Bacterium\",',\n",
              " '\"Bad',\n",
              " '\"Bad\"),',\n",
              " '\"Badder\"',\n",
              " '\"Badlands\"',\n",
              " '\"Badlands\"-type',\n",
              " '\"Bahumbag\"',\n",
              " '\"Bailey',\n",
              " '\"Baise',\n",
              " '\"Bait\"',\n",
              " '\"Bait,\"',\n",
              " '\"Bake\"',\n",
              " '\"Balikbayan\"',\n",
              " '\"Balki\"',\n",
              " '\"Ball',\n",
              " '\"Balls\"',\n",
              " '\"Bambi\",',\n",
              " '\"Bamboozled,\"',\n",
              " '\"Banana',\n",
              " '\"Bananas\"',\n",
              " '\"Bancroft',\n",
              " '\"Bandes',\n",
              " '\"Bandido\"',\n",
              " '\"Bandits\"',\n",
              " '\"Bang\"',\n",
              " '\"Bangkok',\n",
              " '\"Barbarian',\n",
              " '\"Barbra',\n",
              " '\"Bare',\n",
              " '\"Baretta\\'s',\n",
              " '\"Barfly\",',\n",
              " '\"Barfuss\"',\n",
              " '\"Barnaby',\n",
              " '\"Barnyard\"',\n",
              " '\"Baron',\n",
              " '\"Barracuda\"',\n",
              " '\"Barracuda\",',\n",
              " '\"Barricade\"',\n",
              " '\"Barry',\n",
              " '\"Bartleby,',\n",
              " '\"Barton',\n",
              " '\"Based',\n",
              " '\"Based\"',\n",
              " '\"Bash',\n",
              " '\"Basic',\n",
              " '\"Basic...\"',\n",
              " '\"Bastille\",',\n",
              " '\"Bat',\n",
              " '\"Bat-history\",',\n",
              " '\"Batfan,\"',\n",
              " '\"Batman',\n",
              " '\"Batman!\"',\n",
              " '\"Batman\"',\n",
              " '\"Batman\",',\n",
              " '\"Batman,\"',\n",
              " '\"Batman:',\n",
              " '\"Batmans\"',\n",
              " '\"Batouch;\"',\n",
              " '\"Batpeople\".',\n",
              " '\"Battle',\n",
              " '\"Battlefield',\n",
              " '\"Battlestar',\n",
              " '\"Battlestar:',\n",
              " '\"Bay',\n",
              " '\"Baywatch.\"',\n",
              " '\"Be',\n",
              " '\"Beaches\"',\n",
              " '\"Beachhead\",',\n",
              " '\"Bean\"?)',\n",
              " '\"Bean,\"',\n",
              " '\"Beans,',\n",
              " '\"Beast',\n",
              " '\"Beastmaster\"',\n",
              " '\"Beat',\n",
              " '\"Beau',\n",
              " '\"Beautiful',\n",
              " '\"Beauty',\n",
              " '\"Beauty\"',\n",
              " '\"Beaver',\n",
              " '\"Beavis',\n",
              " '\"Because',\n",
              " '\"Becker\").',\n",
              " '\"Becky',\n",
              " '\"Becoming',\n",
              " '\"Bedknobs',\n",
              " '\"Beekeepers!\"',\n",
              " '\"Beer\"',\n",
              " '\"Beetlejuice\"',\n",
              " '\"Beetlejuice\")',\n",
              " '\"Before',\n",
              " '\"Beggar\\'s',\n",
              " '\"Beginners\"',\n",
              " '\"Behind',\n",
              " '\"Being',\n",
              " '\"Beirut\"...\"What',\n",
              " '\"Bela',\n",
              " '\"Bell',\n",
              " '\"Bell,',\n",
              " '\"Bell,Book',\n",
              " '\"Belle\\'s',\n",
              " '\"Belles',\n",
              " '\"Beloved\"',\n",
              " '\"Belphegor\"',\n",
              " '\"Ben',\n",
              " '\"Ben\"',\n",
              " '\"Ben\",',\n",
              " '\"Ben-Hur\"',\n",
              " '\"Bend',\n",
              " '\"Beneath',\n",
              " '\"Bennifer\"-Couple,',\n",
              " '\"Benson\"',\n",
              " '\"Bent\"',\n",
              " '\"Bent\".',\n",
              " '\"Beowulf',\n",
              " '\"Beowulf\"',\n",
              " '\"Beowulf\",',\n",
              " '\"Beowulf,\"',\n",
              " '\"Beretta\\'s',\n",
              " '\"Bernard',\n",
              " '\"Bernie\"',\n",
              " '\"Berserkers\"',\n",
              " '\"Best',\n",
              " '\"Beta',\n",
              " '\"Bette',\n",
              " '\"Better',\n",
              " '\"Better\"',\n",
              " '\"Bettie',\n",
              " '\"Between',\n",
              " '\"Bevan\",',\n",
              " '\"Beverley',\n",
              " '\"Beverly',\n",
              " '\"Beware',\n",
              " '\"Bewitched\"',\n",
              " '\"Bewitched\").<br',\n",
              " '\"Bewitched\".',\n",
              " '\"Bewitched,\"',\n",
              " '\"Bewitched.\"',\n",
              " '\"Beyond',\n",
              " '\"Bianlian',\n",
              " '\"Biarkan',\n",
              " '\"Bibbidi-Bobbidi-Boo\"',\n",
              " '\"Bibbidi-Bobbidi-Boo\")',\n",
              " '\"Bibbidi-Bobbidi-Boo\",',\n",
              " '\"Bibbidi-Bobbidi-Boo,\"',\n",
              " '\"Bibbidy-Bobbidy-Boo\"',\n",
              " '\"Bibiddi',\n",
              " '\"Bicycle',\n",
              " '\"Bid',\n",
              " '\"Big',\n",
              " '\"Big\"',\n",
              " '\"Big,\"',\n",
              " '\"Bigger\\'s\"',\n",
              " '\"Bijita',\n",
              " '\"Biker',\n",
              " '\"Bikini\"',\n",
              " '\"Biko\"',\n",
              " '\"Bilge\"',\n",
              " '\"Bilgey\"',\n",
              " '\"Bill',\n",
              " '\"Bill\"',\n",
              " '\"Bill\".',\n",
              " '\"Billy',\n",
              " '\"Billy\"',\n",
              " '\"Biograph',\n",
              " '\"Biosphere',\n",
              " '\"Biospheres\")',\n",
              " '\"Bippity-',\n",
              " '\"Bird\"',\n",
              " '\"Birds\"',\n",
              " '\"Birth',\n",
              " '\"Birthday',\n",
              " '\"Bitch',\n",
              " '\"Bitching',\n",
              " '\"Bitter',\n",
              " '\"Bizniss\"',\n",
              " '\"Black',\n",
              " '\"Black\"',\n",
              " '\"Blackberry',\n",
              " '\"Blackboard',\n",
              " '\"Blackbriar\"',\n",
              " '\"Blackmail\"',\n",
              " '\"Blacksploitation\"',\n",
              " '\"Blade',\n",
              " '\"Blade.\"',\n",
              " '\"Blainsworth\"',\n",
              " '\"Blair',\n",
              " '\"Blame',\n",
              " '\"Blankman\"',\n",
              " '\"Blazing',\n",
              " '\"Bleak\"',\n",
              " '\"Bleed\"',\n",
              " '\"Bleed\",',\n",
              " '\"Bleed\".',\n",
              " '\"Bleep-Blop-Bleep-Bop\"',\n",
              " '\"Blind',\n",
              " '\"Blind?',\n",
              " '\"Blithe',\n",
              " '\"Blitz\"',\n",
              " '\"Blitzkrieg',\n",
              " '\"Blob\"',\n",
              " '\"Blob\"!).',\n",
              " '\"Blockbuster',\n",
              " '\"Blockbuster\"',\n",
              " '\"Blockbuster\",',\n",
              " '\"Blonde',\n",
              " '\"Blondie\"',\n",
              " '\"Blood',\n",
              " '\"Blood\"',\n",
              " '\"BloodRayne,\"',\n",
              " '\"Bloodrayne',\n",
              " '\"Bloodstorm:',\n",
              " '\"Bloodsucker\"',\n",
              " '\"Bloodsuckers\"',\n",
              " '\"Bloody',\n",
              " '\"Bloss\"',\n",
              " '\"Blouse',\n",
              " '\"Blow',\n",
              " '\"Blow\"',\n",
              " '\"Blow\"),',\n",
              " '\"Blow-Up\"',\n",
              " '\"Blow-Up\",',\n",
              " '\"Blow;\"',\n",
              " '\"Blowup\"',\n",
              " '\"Blue',\n",
              " '\"Blue\"',\n",
              " '\"Blue\",',\n",
              " '\"Bluebeard\"',\n",
              " '\"Boatswain\\'s',\n",
              " '\"Bob',\n",
              " '\"Bob\"',\n",
              " '\"Bobby\";',\n",
              " '\"Bodas',\n",
              " '\"Body',\n",
              " '\"Bodybag\".',\n",
              " '\"Bodyline\",',\n",
              " '\"Boeing',\n",
              " '\"Bogdanovich',\n",
              " '\"Bogeyman\"',\n",
              " '\"Boggy',\n",
              " '\"Bogus',\n",
              " '\"Bohemian',\n",
              " '\"Bohlen\"-Fan',\n",
              " '\"Bojangles\"',\n",
              " '\"Bolero\",',\n",
              " '\"Bolivarian',\n",
              " '\"Bollocks!\"',\n",
              " '\"Bollywood',\n",
              " '\"Bollywood\"',\n",
              " '\"Bollywood\".',\n",
              " '\"Bomb\"',\n",
              " '\"Bombardier,\"',\n",
              " '\"Bomberang\"',\n",
              " '\"Bombshell,\"',\n",
              " '\"Bonanza',\n",
              " '\"Bonanza\"',\n",
              " '\"Bonanza\"!!',\n",
              " '\"Bonanza\",',\n",
              " '\"Bonanza\".',\n",
              " '\"Bonanza.\"<br',\n",
              " '\"Bond',\n",
              " '\"Bond\"',\n",
              " '\"Bonjour',\n",
              " '\"Bonnie',\n",
              " '\"Bonnie\\'s',\n",
              " '\"Boo\"',\n",
              " '\"Boogeman,\"',\n",
              " '\"Boogey',\n",
              " '\"Boogeyman',\n",
              " '\"Boogeyman\"',\n",
              " '\"Boogie',\n",
              " '\"Booie.\"',\n",
              " '\"Book',\n",
              " '\"Books',\n",
              " '\"Boom',\n",
              " '\"Boom!\"',\n",
              " '\"Boom!\",',\n",
              " '\"Boom\"',\n",
              " '\"Boom\",',\n",
              " '\"Boomerang\"',\n",
              " '\"Boomerang,\"',\n",
              " '\"Boomtown\",',\n",
              " '\"Booooy!\"',\n",
              " '\"Booty',\n",
              " '\"Borat\"',\n",
              " '\"Border',\n",
              " '\"Boricuas\"',\n",
              " '\"Boring\"',\n",
              " '\"Born',\n",
              " '\"Born\"',\n",
              " '\"Bosom',\n",
              " '\"Boss\"',\n",
              " '\"Boss\",',\n",
              " '\"Bostid!\"',\n",
              " '\"Boston',\n",
              " '\"Bottle',\n",
              " '\"Bottom',\n",
              " '\"Bound',\n",
              " '\"Bouquet',\n",
              " '\"Bourne',\n",
              " '\"Bourne\"',\n",
              " '\"Bowery',\n",
              " '\"Box!\"',\n",
              " '\"Boy',\n",
              " '\"Boy\"',\n",
              " '\"Boy,',\n",
              " '\"Boys',\n",
              " '\"Boyz',\n",
              " '\"Brad',\n",
              " '\"Bradford\"',\n",
              " '\"Brady',\n",
              " '\"Brady\".',\n",
              " '\"Brain',\n",
              " '\"Braindead\".',\n",
              " '\"Brass',\n",
              " '\"Brassed',\n",
              " '\"Brave',\n",
              " '\"Braveheart\"',\n",
              " '\"Braveheart\",',\n",
              " '\"Braveheart\"--there\\'s',\n",
              " '\"Braveheart\".',\n",
              " '\"Braveheart\".<br',\n",
              " '\"Braveheart\"<br',\n",
              " '\"Braveheart\"?',\n",
              " '\"Braveheart,\"',\n",
              " '\"Braveheart.\"',\n",
              " '\"Brazil\")',\n",
              " '\"Brazil\",',\n",
              " '\"Brazil\".',\n",
              " '\"Brazil.\"',\n",
              " '\"Bread',\n",
              " '\"Bread\"',\n",
              " ...]"
            ]
          },
          "metadata": {},
          "execution_count": 71
        }
      ],
      "source": [
        "texts = trn_texts + tst_texts\n",
        "words = [word for text in texts for word in text.split()]\n",
        "v = sorted(list(set(words)))\n",
        "v"
      ]
    },
    {
      "cell_type": "code",
      "execution_count": null,
      "metadata": {
        "id": "XHyn2MB924Ki"
      },
      "outputs": [],
      "source": [
        "str2idx = {w:i for i,w in enumerate(v)}\n",
        "idx2str = {i:w for i,w in enumerate(v)}# or int2str = dict([(value, key) for (key, value) in str2int.items()])"
      ]
    },
    {
      "cell_type": "markdown",
      "metadata": {
        "id": "AapNh-xu33B8"
      },
      "source": [
        "If we want word_counts and ordered dict str2idx (same in keras Tokenizer)"
      ]
    },
    {
      "cell_type": "code",
      "execution_count": null,
      "metadata": {
        "colab": {
          "base_uri": "https://localhost:8080/"
        },
        "id": "FALkThER2lIS",
        "outputId": "e40b8810-add5-46f6-dac7-58ec45d778e4"
      },
      "outputs": [
        {
          "output_type": "stream",
          "name": "stdout",
          "text": [
            "[('the', 287032), ('a', 155096), ('and', 152664)]\n"
          ]
        },
        {
          "output_type": "execute_result",
          "data": {
            "text/plain": [
              "{'the': 287032,\n",
              " 'a': 155096,\n",
              " 'and': 152664,\n",
              " 'of': 142972,\n",
              " 'to': 132568,\n",
              " 'is': 103229,\n",
              " 'in': 85593,\n",
              " 'movie': 80866,\n",
              " 'film': 74108,\n",
              " 'I': 65973,\n",
              " 'that': 64560,\n",
              " 'this': 57199,\n",
              " 'it': 54439,\n",
              " '/><br': 50935,\n",
              " 'one': 47592,\n",
              " 'was': 46698,\n",
              " 'as': 42728,\n",
              " 'with': 41721,\n",
              " 'for': 41070,\n",
              " 'like': 39559,\n",
              " 'but': 33790,\n",
              " 'The': 33762,\n",
              " 'on': 30767,\n",
              " 'see': 30756,\n",
              " 'make': 29106,\n",
              " 'are': 28499,\n",
              " 'his': 27687,\n",
              " 'have': 27133,\n",
              " 'get': 26279,\n",
              " 'not': 26266,\n",
              " 'be': 25699,\n",
              " 'good': 25699,\n",
              " 'you': 25123,\n",
              " 'he': 24500,\n",
              " 'would': 23818,\n",
              " 'even': 22907,\n",
              " 'time': 22895,\n",
              " 'really': 22135,\n",
              " 'by': 21426,\n",
              " 'at': 21295,\n",
              " 'an': 20632,\n",
              " 'story': 20372,\n",
              " 'who': 19503,\n",
              " 'from': 19239,\n",
              " 'character': 19206,\n",
              " 'watch': 19098,\n",
              " 'think': 18840,\n",
              " 'all': 18048,\n",
              " 'much': 17948,\n",
              " 'they': 17840,\n",
              " 'go': 17670,\n",
              " 'has': 16472,\n",
              " 'so': 16353,\n",
              " 'just': 16326,\n",
              " 'about': 16286,\n",
              " 'people': 16247,\n",
              " 'or': 16225,\n",
              " 'great': 16224,\n",
              " 'also': 16184,\n",
              " 'her': 15830,\n",
              " 'first': 15663,\n",
              " 'bad': 15445,\n",
              " 'show': 15409,\n",
              " 'well': 15202,\n",
              " 'could': 14907,\n",
              " 'know': 14778,\n",
              " 'scene': 14696,\n",
              " 'out': 14497,\n",
              " 'some': 14207,\n",
              " 'say': 13922,\n",
              " 'way': 13911,\n",
              " 'love': 13549,\n",
              " 'look': 13165,\n",
              " 'very': 13082,\n",
              " 'more': 12977,\n",
              " 'many': 12798,\n",
              " 'end': 12740,\n",
              " 'never': 12496,\n",
              " 'two': 12280,\n",
              " 'This': 12279,\n",
              " 'there': 12080,\n",
              " 'find': 11873,\n",
              " 'take': 11764,\n",
              " 'little': 11742,\n",
              " 'what': 11685,\n",
              " 'thing': 11677,\n",
              " 'give': 11653,\n",
              " 'when': 11488,\n",
              " 'plot': 11292,\n",
              " 'only': 11106,\n",
              " 'best': 11098,\n",
              " 'their': 11008,\n",
              " 'It': 10952,\n",
              " 'if': 10899,\n",
              " 'life': 10877,\n",
              " 'had': 10876,\n",
              " 'ever': 10807,\n",
              " 'come': 10799,\n",
              " 'up': 10792,\n",
              " \"it's\": 10727,\n",
              " 'which': 10658,\n",
              " 'can': 10612,\n",
              " 'were': 10460,\n",
              " 'do': 10426,\n",
              " 'play': 10197,\n",
              " 'my': 10166,\n",
              " 'still': 10080,\n",
              " 'no': 10070,\n",
              " 'better': 10039,\n",
              " 'want': 10027,\n",
              " 'she': 9933,\n",
              " 'than': 9772,\n",
              " 'work': 9485,\n",
              " '-': 9355,\n",
              " 'act': 9287,\n",
              " 'something': 9222,\n",
              " 'been': 9050,\n",
              " 'seem': 9038,\n",
              " 'into': 8950,\n",
              " 'man': 8906,\n",
              " 'will': 8903,\n",
              " 'back': 8575,\n",
              " 'dont': 8502,\n",
              " 'lot': 8477,\n",
              " 'real': 8371,\n",
              " 'because': 8357,\n",
              " 'part': 8092,\n",
              " 'actor': 8049,\n",
              " 'actually': 8037,\n",
              " 'other': 7917,\n",
              " 'most': 7859,\n",
              " 'we': 7808,\n",
              " 'try': 7708,\n",
              " 'feel': 7644,\n",
              " 'me': 7543,\n",
              " 'another': 7475,\n",
              " 'every': 7429,\n",
              " 'nothing': 7404,\n",
              " 'how': 7403,\n",
              " 'year': 7377,\n",
              " 'its': 7323,\n",
              " '/>The': 7243,\n",
              " 'old': 7238,\n",
              " 'any': 7232,\n",
              " 'director': 7224,\n",
              " 'quite': 7090,\n",
              " \"don't\": 7007,\n",
              " 'pretty': 6964,\n",
              " 'made': 6962,\n",
              " 'guy': 6956,\n",
              " 'cast': 6941,\n",
              " 'though': 6879,\n",
              " 'funny': 6800,\n",
              " 'new': 6550,\n",
              " 'around': 6505,\n",
              " 'performance': 6441,\n",
              " 'young': 6407,\n",
              " 'him': 6347,\n",
              " 'may': 6322,\n",
              " 'being': 6202,\n",
              " 'role': 6195,\n",
              " 'horror': 6187,\n",
              " 'woman': 6156,\n",
              " 'use': 6134,\n",
              " 'saw': 6121,\n",
              " 'fact': 6117,\n",
              " 'enough': 6114,\n",
              " 'without': 6091,\n",
              " 'big': 6004,\n",
              " 'must': 5996,\n",
              " 'always': 5992,\n",
              " 'point': 5984,\n",
              " 'then': 5975,\n",
              " 'almost': 5973,\n",
              " 'whole': 5917,\n",
              " 'But': 5897,\n",
              " '<br': 5828,\n",
              " 'too': 5816,\n",
              " 'long': 5769,\n",
              " 'after': 5755,\n",
              " 'world': 5744,\n",
              " 'where': 5738,\n",
              " 'least': 5720,\n",
              " 'might': 5667,\n",
              " 'set': 5660,\n",
              " 'right': 5618,\n",
              " 'tell': 5599,\n",
              " 'And': 5590,\n",
              " 'original': 5583,\n",
              " 'action': 5582,\n",
              " 'girl': 5547,\n",
              " 'it.': 5532,\n",
              " 'them': 5432,\n",
              " 'last': 5429,\n",
              " 'comedy': 5426,\n",
              " 'far': 5425,\n",
              " 'your': 5402,\n",
              " 'music': 5393,\n",
              " 'kind': 5387,\n",
              " 'interest': 5385,\n",
              " 'start': 5367,\n",
              " 'probably': 5351,\n",
              " 'put': 5320,\n",
              " 'seen': 5304,\n",
              " 'does': 5303,\n",
              " 'movie.': 5282,\n",
              " 'script': 5256,\n",
              " \"It's\": 5219,\n",
              " 'did': 5214,\n",
              " 'anything': 5202,\n",
              " 'since': 5193,\n",
              " 'characters': 5180,\n",
              " 'movies': 5128,\n",
              " 'series': 5117,\n",
              " 'become': 5114,\n",
              " 'rather': 5063,\n",
              " 'believe': 5014,\n",
              " 'family': 5010,\n",
              " 'day': 4997,\n",
              " 'need': 4894,\n",
              " 'over': 4886,\n",
              " 'A': 4857,\n",
              " 'worst': 4855,\n",
              " 'turn': 4833,\n",
              " 'keep': 4809,\n",
              " 'star': 4804,\n",
              " 'In': 4788,\n",
              " 'should': 4761,\n",
              " 'films': 4740,\n",
              " 'fan': 4724,\n",
              " 'im': 4685,\n",
              " 'such': 4669,\n",
              " 'enjoy': 4666,\n",
              " 'anyone': 4655,\n",
              " 'away': 4649,\n",
              " 'acting': 4648,\n",
              " 'kill': 4636,\n",
              " 'these': 4600,\n",
              " 'reason': 4592,\n",
              " 'yet': 4572,\n",
              " 'place': 4553,\n",
              " 'sure': 4544,\n",
              " 'off': 4538,\n",
              " 'main': 4524,\n",
              " 'i': 4508,\n",
              " 'mean': 4500,\n",
              " 'didnt': 4500,\n",
              " 'film.': 4467,\n",
              " 'He': 4466,\n",
              " 'worth': 4458,\n",
              " 'hard': 4458,\n",
              " 'fun': 4452,\n",
              " 'leave': 4435,\n",
              " 'write': 4412,\n",
              " 'line': 4402,\n",
              " \"doesn't\": 4374,\n",
              " 'especially': 4374,\n",
              " 'through': 4362,\n",
              " 'doesnt': 4340,\n",
              " 'different': 4311,\n",
              " 'shoot': 4297,\n",
              " 'those': 4283,\n",
              " 'help': 4274,\n",
              " 'friend': 4263,\n",
              " 'read': 4252,\n",
              " 'If': 4240,\n",
              " 'idea': 4230,\n",
              " 'someone': 4226,\n",
              " 'let': 4213,\n",
              " 'happen': 4210,\n",
              " 'minute': 4156,\n",
              " 'three': 4153,\n",
              " 'everything': 4121,\n",
              " 'makes': 4114,\n",
              " \"didn't\": 4100,\n",
              " 'u': 4099,\n",
              " 'book': 4098,\n",
              " 'lead': 4084,\n",
              " 'There': 4040,\n",
              " 'film,': 4033,\n",
              " 'audience': 4026,\n",
              " 'screen': 4026,\n",
              " 'laugh': 4015,\n",
              " \"I'm\": 3971,\n",
              " 'live': 3963,\n",
              " 'cant': 3955,\n",
              " 'movie,': 3942,\n",
              " 'name': 3931,\n",
              " 'job': 3931,\n",
              " 'sense': 3926,\n",
              " 'watching': 3915,\n",
              " 'few': 3892,\n",
              " 'however': 3892,\n",
              " 'thats': 3872,\n",
              " 'recommend': 3861,\n",
              " 'special': 3854,\n",
              " 'true': 3850,\n",
              " 'scenes': 3837,\n",
              " 'kid': 3789,\n",
              " 'going': 3778,\n",
              " 'version': 3758,\n",
              " 'money': 3722,\n",
              " 'although': 3717,\n",
              " 'completely': 3708,\n",
              " 'same': 3707,\n",
              " 'simply': 3696,\n",
              " 'understand': 3676,\n",
              " 'everyone': 3658,\n",
              " 'beautiful': 3656,\n",
              " '/>I': 3655,\n",
              " 'call': 3650,\n",
              " 'maybe': 3645,\n",
              " 'course': 3644,\n",
              " 'run': 3636,\n",
              " 'begin': 3630,\n",
              " 'second': 3625,\n",
              " 'together': 3594,\n",
              " 'while': 3550,\n",
              " 'excellent': 3535,\n",
              " 'bite': 3497,\n",
              " 'waste': 3484,\n",
              " '&': 3481,\n",
              " 'expect': 3468,\n",
              " 'nice': 3467,\n",
              " 'high': 3462,\n",
              " 'seems': 3460,\n",
              " 'episode': 3446,\n",
              " 'sound': 3432,\n",
              " 'couple': 3425,\n",
              " 'got': 3424,\n",
              " 'later': 3416,\n",
              " 'why': 3415,\n",
              " 'short': 3412,\n",
              " 'war': 3410,\n",
              " 'black': 3408,\n",
              " 'moment': 3395,\n",
              " 'instead': 3383,\n",
              " \"can't\": 3375,\n",
              " 'poor': 3368,\n",
              " 'wife': 3359,\n",
              " 'remember': 3354,\n",
              " 'problem': 3351,\n",
              " 'rest': 3348,\n",
              " 'truly': 3347,\n",
              " 'effect': 3342,\n",
              " 'half': 3316,\n",
              " 'along': 3314,\n",
              " 'us': 3304,\n",
              " 'mind': 3302,\n",
              " 'ive': 3300,\n",
              " 'actors': 3257,\n",
              " 'years': 3248,\n",
              " 'piece': 3248,\n",
              " 'between': 3226,\n",
              " 'classic': 3224,\n",
              " 'else': 3198,\n",
              " 'face': 3191,\n",
              " 'child': 3190,\n",
              " 'production': 3183,\n",
              " 'death': 3182,\n",
              " 'before': 3170,\n",
              " 'night': 3167,\n",
              " 'isnt': 3153,\n",
              " 'bring': 3141,\n",
              " 'human': 3103,\n",
              " 'gets': 3102,\n",
              " 'own': 3101,\n",
              " 'boy': 3099,\n",
              " 'next': 3084,\n",
              " 'men': 3075,\n",
              " 'full': 3055,\n",
              " 'home': 3041,\n",
              " 'camera': 3039,\n",
              " 'thought': 3035,\n",
              " 'head': 3028,\n",
              " \"I've\": 3025,\n",
              " 'father': 2997,\n",
              " 'things': 2991,\n",
              " 'it,': 2984,\n",
              " 'sort': 2979,\n",
              " 'care': 2970,\n",
              " 'here': 2959,\n",
              " \"isn't\": 2957,\n",
              " 'move': 2953,\n",
              " 'early': 2911,\n",
              " 'small': 2901,\n",
              " 'stupid': 2899,\n",
              " 'hope': 2899,\n",
              " 'fight': 2897,\n",
              " 'video': 2896,\n",
              " 'definitely': 2888,\n",
              " 'down': 2887,\n",
              " 'either': 2887,\n",
              " 'absolutely': 2877,\n",
              " 'school': 2875,\n",
              " 'tv': 2871,\n",
              " 'house': 2870,\n",
              " 'often': 2867,\n",
              " 'top': 2864,\n",
              " 'person': 2863,\n",
              " 'attempt': 2862,\n",
              " 'hour': 2860,\n",
              " 'entire': 2838,\n",
              " 'lack': 2836,\n",
              " 'certainly': 2826,\n",
              " 'wonderful': 2821,\n",
              " 'viewer': 2815,\n",
              " 'both': 2810,\n",
              " 'felt': 2809,\n",
              " 'title': 2805,\n",
              " 'view': 2799,\n",
              " 'sex': 2796,\n",
              " 'budget': 2777,\n",
              " 'They': 2750,\n",
              " 'bit': 2748,\n",
              " 'hear': 2741,\n",
              " 'several': 2740,\n",
              " 'change': 2729,\n",
              " 'talk': 2722,\n",
              " 'fall': 2718,\n",
              " 'wrong': 2711,\n",
              " 'picture': 2710,\n",
              " 'perfect': 2704,\n",
              " 'follow': 2690,\n",
              " 'totally': 2667,\n",
              " 'terrible': 2666,\n",
              " 'guess': 2652,\n",
              " 'dialogue': 2650,\n",
              " 'others': 2637,\n",
              " 'dvd': 2629,\n",
              " 'am': 2605,\n",
              " 'bore': 2602,\n",
              " 'dead': 2597,\n",
              " 'game': 2583,\n",
              " 'open': 2579,\n",
              " 'perhaps': 2578,\n",
              " 'finally': 2571,\n",
              " 'save': 2571,\n",
              " 'As': 2569,\n",
              " 'able': 2564,\n",
              " 'awful': 2563,\n",
              " 'style': 2550,\n",
              " 'case': 2530,\n",
              " 'mother': 2530,\n",
              " 'found': 2517,\n",
              " 'american': 2511,\n",
              " 'wonder': 2498,\n",
              " 'final': 2494,\n",
              " 'word': 2480,\n",
              " 'miss': 2472,\n",
              " 'already': 2469,\n",
              " 'low': 2454,\n",
              " 'add': 2452,\n",
              " 'appear': 2448,\n",
              " 'favorite': 2446,\n",
              " 'song': 2442,\n",
              " 'quality': 2429,\n",
              " \"that's\": 2428,\n",
              " 'comes': 2416,\n",
              " 'surprise': 2411,\n",
              " 'feature': 2387,\n",
              " 'making': 2378,\n",
              " 'direct': 2370,\n",
              " 'meet': 2370,\n",
              " 'lose': 2370,\n",
              " 'trying': 2368,\n",
              " 'release': 2356,\n",
              " 'hand': 2355,\n",
              " '\"The': 2355,\n",
              " 'each': 2354,\n",
              " 'now': 2353,\n",
              " 'done': 2329,\n",
              " 'interesting': 2328,\n",
              " 'What': 2323,\n",
              " 'You': 2315,\n",
              " 'worse': 2311,\n",
              " 'eye': 2305,\n",
              " 'car': 2299,\n",
              " 'matter': 2294,\n",
              " 'stop': 2294,\n",
              " 'murder': 2293,\n",
              " 'side': 2284,\n",
              " 'She': 2281,\n",
              " 'our': 2279,\n",
              " 'experience': 2273,\n",
              " 'include': 2261,\n",
              " 'fine': 2260,\n",
              " 'looks': 2258,\n",
              " 'direction': 2246,\n",
              " 'review': 2244,\n",
              " 'example': 2243,\n",
              " 'group': 2241,\n",
              " 'drama': 2240,\n",
              " 'throughout': 2239,\n",
              " 'goes': 2236,\n",
              " 'flick': 2227,\n",
              " 'mention': 2226,\n",
              " 'played': 2224,\n",
              " \"he's\": 2218,\n",
              " 'close': 2213,\n",
              " 'humor': 2212,\n",
              " '/>This': 2211,\n",
              " 'sit': 2209,\n",
              " 'cinema': 2206,\n",
              " 'wasnt': 2198,\n",
              " 'type': 2192,\n",
              " 'behind': 2191,\n",
              " 'despite': 2184,\n",
              " 'sequence': 2181,\n",
              " \"wasn't\": 2181,\n",
              " 'killer': 2175,\n",
              " 'actress': 2170,\n",
              " 'create': 2166,\n",
              " 'dark': 2164,\n",
              " 'having': 2160,\n",
              " 'decide': 2159,\n",
              " 'evil': 2146,\n",
              " 'plays': 2130,\n",
              " 'white': 2128,\n",
              " 'cut': 2124,\n",
              " 'hit': 2124,\n",
              " 'art': 2123,\n",
              " 'takes': 2118,\n",
              " 'son': 2113,\n",
              " 'relationship': 2109,\n",
              " 'When': 2105,\n",
              " 'suppose': 2101,\n",
              " 'wish': 2101,\n",
              " 'watched': 2100,\n",
              " 'number': 2093,\n",
              " 'light': 2088,\n",
              " 'obviously': 2086,\n",
              " 'decent': 2079,\n",
              " 'buy': 2077,\n",
              " 'voice': 2076,\n",
              " 'extremely': 2076,\n",
              " 'deal': 2075,\n",
              " 'complete': 2070,\n",
              " 'late': 2063,\n",
              " 'comment': 2060,\n",
              " 'minutes': 2059,\n",
              " 'horrible': 2055,\n",
              " 'past': 2052,\n",
              " 'looking': 2049,\n",
              " 'highly': 2040,\n",
              " 'learn': 2038,\n",
              " 'town': 2031,\n",
              " 'overall': 2028,\n",
              " 'stuff': 2025,\n",
              " 'die': 2009,\n",
              " 'stand': 2008,\n",
              " 'TV': 2006,\n",
              " 'john': 2006,\n",
              " 'history': 2005,\n",
              " 'brilliant': 2001,\n",
              " 'brother': 1996,\n",
              " 'entertain': 1994,\n",
              " 'heart': 1992,\n",
              " 'shows': 1983,\n",
              " 'soon': 1974,\n",
              " 'score': 1972,\n",
              " 'spend': 1971,\n",
              " 'le': 1971,\n",
              " 'sometimes': 1962,\n",
              " 'involve': 1953,\n",
              " 'order': 1948,\n",
              " 'joke': 1947,\n",
              " 'times': 1943,\n",
              " 'particularly': 1938,\n",
              " 'age': 1935,\n",
              " 'ask': 1912,\n",
              " 'time.': 1910,\n",
              " 'during': 1908,\n",
              " 'consider': 1907,\n",
              " 'writer': 1906,\n",
              " 'chance': 1905,\n",
              " 'except': 1904,\n",
              " 'youre': 1897,\n",
              " 'forget': 1894,\n",
              " 'across': 1892,\n",
              " 'exactly': 1885,\n",
              " 'daughter': 1880,\n",
              " 'left': 1879,\n",
              " 'obvious': 1874,\n",
              " 'John': 1866,\n",
              " 'hero': 1862,\n",
              " 'strong': 1857,\n",
              " 'stay': 1855,\n",
              " 'body': 1846,\n",
              " 'whose': 1846,\n",
              " \"there's\": 1845,\n",
              " 'rent': 1843,\n",
              " 'genre': 1839,\n",
              " 'serious': 1829,\n",
              " 'hold': 1827,\n",
              " 'force': 1827,\n",
              " 'talent': 1824,\n",
              " 'female': 1824,\n",
              " 'police': 1815,\n",
              " 'huge': 1814,\n",
              " 'wait': 1811,\n",
              " 'American': 1809,\n",
              " 'usually': 1795,\n",
              " 'local': 1794,\n",
              " 'seeing': 1788,\n",
              " 'realize': 1783,\n",
              " 'major': 1780,\n",
              " 'somewhat': 1778,\n",
              " 'break': 1766,\n",
              " 'theme': 1764,\n",
              " \"you're\": 1756,\n",
              " 'hollywood': 1754,\n",
              " 'pay': 1748,\n",
              " 'simple': 1739,\n",
              " 'used': 1735,\n",
              " 'power': 1734,\n",
              " 'level': 1726,\n",
              " 'Not': 1721,\n",
              " 'dance': 1720,\n",
              " 'slow': 1719,\n",
              " 'speak': 1713,\n",
              " 'again': 1713,\n",
              " 'beyond': 1710,\n",
              " 'hell': 1710,\n",
              " 'One': 1707,\n",
              " 'For': 1700,\n",
              " 'documentary': 1698,\n",
              " 'important': 1692,\n",
              " 'due': 1692,\n",
              " 'base': 1691,\n",
              " 'mostly': 1688,\n",
              " 'question': 1688,\n",
              " 'single': 1685,\n",
              " 'musical': 1684,\n",
              " 'figure': 1677,\n",
              " 'city': 1675,\n",
              " 'today': 1673,\n",
              " 'hilarious': 1672,\n",
              " '--': 1672,\n",
              " 'walk': 1668,\n",
              " 'cool': 1661,\n",
              " 'reality': 1652,\n",
              " 'until': 1651,\n",
              " 'twist': 1647,\n",
              " 'situation': 1647,\n",
              " 'given': 1647,\n",
              " 'career': 1647,\n",
              " 'throw': 1644,\n",
              " 'clearly': 1641,\n",
              " 'mr': 1641,\n",
              " 'So': 1640,\n",
              " 'present': 1637,\n",
              " 'oh': 1636,\n",
              " 'upon': 1631,\n",
              " 'credit': 1629,\n",
              " 'sad': 1628,\n",
              " 'husband': 1627,\n",
              " 'violence': 1626,\n",
              " 'monster': 1623,\n",
              " 'less': 1621,\n",
              " 'country': 1619,\n",
              " 'novel': 1617,\n",
              " 'unfortunately': 1607,\n",
              " 'usual': 1606,\n",
              " 'four': 1602,\n",
              " 'came': 1601,\n",
              " 'effort': 1598,\n",
              " 'blood': 1598,\n",
              " 'none': 1597,\n",
              " 'fail': 1597,\n",
              " 'DVD': 1596,\n",
              " 'please': 1595,\n",
              " 'comic': 1589,\n",
              " 'We': 1582,\n",
              " 'ending': 1579,\n",
              " 'modern': 1575,\n",
              " 'strange': 1575,\n",
              " 'cinematography': 1572,\n",
              " 'possible': 1569,\n",
              " 'rat': 1568,\n",
              " 'hate': 1565,\n",
              " 'once': 1562,\n",
              " 'cheap': 1559,\n",
              " 'That': 1558,\n",
              " 'gives': 1557,\n",
              " 'subject': 1557,\n",
              " 'silly': 1552,\n",
              " 'yes': 1551,\n",
              " 'getting': 1550,\n",
              " 'easily': 1547,\n",
              " 'attention': 1546,\n",
              " 'team': 1545,\n",
              " 'basically': 1544,\n",
              " 'said': 1543,\n",
              " 'catch': 1543,\n",
              " 'manage': 1543,\n",
              " 'couldnt': 1543,\n",
              " 'similar': 1542,\n",
              " 'dialog': 1540,\n",
              " 'room': 1539,\n",
              " 'crap': 1539,\n",
              " 'certain': 1539,\n",
              " 'alone': 1532,\n",
              " 'shot': 1531,\n",
              " 'whether': 1528,\n",
              " 'return': 1528,\n",
              " 'My': 1523,\n",
              " 'himself': 1521,\n",
              " 'happy': 1519,\n",
              " 'support': 1513,\n",
              " 'gore': 1511,\n",
              " 'All': 1509,\n",
              " 'bunch': 1509,\n",
              " '(and': 1508,\n",
              " 'ridiculous': 1501,\n",
              " 'within': 1494,\n",
              " 'romantic': 1493,\n",
              " 'supposed': 1491,\n",
              " 'theater': 1491,\n",
              " 'message': 1489,\n",
              " 'touch': 1489,\n",
              " 'near': 1487,\n",
              " 'clear': 1486,\n",
              " 'playing': 1486,\n",
              " 'apparently': 1486,\n",
              " 'television': 1480,\n",
              " 'sister': 1476,\n",
              " 'portray': 1475,\n",
              " 'result': 1475,\n",
              " 'deserve': 1471,\n",
              " 'sequel': 1471,\n",
              " 'among': 1471,\n",
              " 'all,': 1470,\n",
              " 'typical': 1469,\n",
              " 'actual': 1467,\n",
              " 'disappoint': 1466,\n",
              " 'ten': 1464,\n",
              " 'doubt': 1460,\n",
              " 'effects': 1459,\n",
              " 'check': 1458,\n",
              " 'opinion': 1453,\n",
              " 'nearly': 1450,\n",
              " 'form': 1449,\n",
              " 'However,': 1449,\n",
              " 'pick': 1449,\n",
              " 'middle': 1447,\n",
              " 'greatest': 1439,\n",
              " 'liked': 1437,\n",
              " \"couldn't\": 1435,\n",
              " 'cop': 1435,\n",
              " 'wont': 1435,\n",
              " 'seriously': 1433,\n",
              " 'five': 1428,\n",
              " 'ago': 1428,\n",
              " 'amaze': 1425,\n",
              " 'tale': 1423,\n",
              " 'build': 1418,\n",
              " 'soundtrack': 1415,\n",
              " 'went': 1414,\n",
              " 'doing': 1412,\n",
              " 'against': 1408,\n",
              " 'god': 1404,\n",
              " 'cause': 1403,\n",
              " 'easy': 1402,\n",
              " 'imagine': 1402,\n",
              " 'dog': 1393,\n",
              " 'scary': 1390,\n",
              " 'THE': 1390,\n",
              " 'enjoyable': 1389,\n",
              " 'explain': 1385,\n",
              " 'Even': 1383,\n",
              " 'famous': 1379,\n",
              " '2': 1378,\n",
              " 'pace': 1378,\n",
              " 'Hollywood': 1377,\n",
              " 'state': 1370,\n",
              " 'drive': 1364,\n",
              " 'is,': 1363,\n",
              " 'time,': 1363,\n",
              " 'becomes': 1360,\n",
              " 'youll': 1355,\n",
              " 'event': 1352,\n",
              " '10': 1351,\n",
              " 'focus': 1349,\n",
              " 'seemed': 1346,\n",
              " 'cover': 1345,\n",
              " 'At': 1338,\n",
              " 'future': 1337,\n",
              " 'thriller': 1336,\n",
              " 'copy': 1336,\n",
              " '\\x96': 1336,\n",
              " 'After': 1335,\n",
              " 'provide': 1335,\n",
              " 'His': 1333,\n",
              " 'element': 1332,\n",
              " 'crime': 1330,\n",
              " 'space': 1328,\n",
              " 'value': 1321,\n",
              " 'straight': 1320,\n",
              " 'stick': 1320,\n",
              " 'avoid': 1319,\n",
              " 'class': 1315,\n",
              " '.': 1314,\n",
              " 'predictable': 1311,\n",
              " 'deliver': 1308,\n",
              " 'id': 1308,\n",
              " 'agree': 1307,\n",
              " 'storyline': 1304,\n",
              " 'fit': 1303,\n",
              " 'battle': 1302,\n",
              " 'difficult': 1301,\n",
              " 'offer': 1295,\n",
              " 'escape': 1295,\n",
              " 'note': 1295,\n",
              " 'shes': 1295,\n",
              " 'emotional': 1292,\n",
              " 'robert': 1291,\n",
              " 'drug': 1285,\n",
              " 'kids': 1282,\n",
              " 'wanted': 1281,\n",
              " 'train': 1281,\n",
              " 'dull': 1276,\n",
              " 'somehow': 1272,\n",
              " 'etc': 1271,\n",
              " 'allow': 1269,\n",
              " 'premise': 1268,\n",
              " 'pull': 1266,\n",
              " 'dream': 1266,\n",
              " 'poorly': 1264,\n",
              " 'grow': 1261,\n",
              " 'eventually': 1260,\n",
              " 'lady': 1259,\n",
              " 'previous': 1259,\n",
              " 'performances': 1258,\n",
              " 'sexual': 1258,\n",
              " 'that,': 1258,\n",
              " 'loved': 1254,\n",
              " 'them.': 1251,\n",
              " 'realistic': 1249,\n",
              " 'possibly': 1249,\n",
              " 'entertainment': 1246,\n",
              " 'tries': 1245,\n",
              " 'compare': 1241,\n",
              " 'fantastic': 1238,\n",
              " 'To': 1237,\n",
              " 'particular': 1235,\n",
              " 'sorry': 1235,\n",
              " 'male': 1230,\n",
              " 'women': 1229,\n",
              " 'michael': 1227,\n",
              " 'personal': 1226,\n",
              " 'image': 1224,\n",
              " 'crew': 1222,\n",
              " 'wants': 1220,\n",
              " 'towards': 1220,\n",
              " 'theyre': 1219,\n",
              " 'deep': 1218,\n",
              " 'ill': 1218,\n",
              " 'shock': 1216,\n",
              " 'box': 1212,\n",
              " \"I'd\": 1211,\n",
              " 'win': 1211,\n",
              " 'period': 1209,\n",
              " 'average': 1208,\n",
              " 'season': 1208,\n",
              " 'called': 1203,\n",
              " 'material': 1203,\n",
              " 'weak': 1202,\n",
              " 'suspense': 1202,\n",
              " 'various': 1202,\n",
              " 'incredibly': 1202,\n",
              " 'animation': 1200,\n",
              " 'gave': 1200,\n",
              " 'doctor': 1198,\n",
              " 'western': 1198,\n",
              " 'air': 1195,\n",
              " 'general': 1193,\n",
              " 'steal': 1192,\n",
              " 'footage': 1191,\n",
              " 'anyway': 1189,\n",
              " 'believable': 1186,\n",
              " 'enjoyed': 1184,\n",
              " 'atmosphere': 1180,\n",
              " 'total': 1179,\n",
              " 'third': 1179,\n",
              " 'admit': 1178,\n",
              " 'appreciate': 1178,\n",
              " 'based': 1177,\n",
              " 'gay': 1171,\n",
              " 'friends': 1169,\n",
              " 'mystery': 1169,\n",
              " 'rock': 1168,\n",
              " 'member': 1167,\n",
              " 'fairly': 1167,\n",
              " 'fast': 1164,\n",
              " 'story,': 1164,\n",
              " 'aspect': 1163,\n",
              " 'starts': 1161,\n",
              " 'one.': 1158,\n",
              " '(the': 1158,\n",
              " 'New': 1158,\n",
              " 'gun': 1156,\n",
              " 'memorable': 1152,\n",
              " 'annoy': 1152,\n",
              " 'front': 1150,\n",
              " 'turns': 1149,\n",
              " 'under': 1148,\n",
              " 'remake': 1147,\n",
              " 'inside': 1147,\n",
              " 'forward': 1144,\n",
              " 'producer': 1144,\n",
              " 'this.': 1143,\n",
              " \"won't\": 1142,\n",
              " 'villain': 1140,\n",
              " 'perfectly': 1140,\n",
              " 'background': 1138,\n",
              " 'water': 1138,\n",
              " 'While': 1137,\n",
              " 'plenty': 1136,\n",
              " 'sing': 1135,\n",
              " 'detail': 1133,\n",
              " 'fire': 1132,\n",
              " 'plan': 1128,\n",
              " 'older': 1126,\n",
              " 'quickly': 1123,\n",
              " 'amount': 1123,\n",
              " 'edit': 1121,\n",
              " 'adult': 1120,\n",
              " 'him.': 1119,\n",
              " 'filmmaker': 1118,\n",
              " 'cheesy': 1117,\n",
              " 'me.': 1117,\n",
              " 'discover': 1116,\n",
              " 'shame': 1116,\n",
              " 'badly': 1116,\n",
              " 'written': 1115,\n",
              " 'moments': 1115,\n",
              " 'unless': 1115,\n",
              " 'unique': 1115,\n",
              " 'zombie': 1114,\n",
              " 'street': 1113,\n",
              " 'trouble': 1111,\n",
              " 'cartoon': 1110,\n",
              " 'lost': 1109,\n",
              " 'carry': 1109,\n",
              " 'stage': 1108,\n",
              " 'lame': 1108,\n",
              " 'political': 1108,\n",
              " 'plain': 1106,\n",
              " 'remain': 1105,\n",
              " 'truth': 1104,\n",
              " 'nature': 1103,\n",
              " 'capture': 1101,\n",
              " 'Michael': 1097,\n",
              " 'beauty': 1097,\n",
              " 'lines': 1095,\n",
              " 'convince': 1095,\n",
              " 'whatever': 1093,\n",
              " 'romance': 1092,\n",
              " 'powerful': 1089,\n",
              " 'dramatic': 1088,\n",
              " 'match': 1087,\n",
              " 'took': 1086,\n",
              " 'superb': 1086,\n",
              " 'free': 1085,\n",
              " 'chase': 1085,\n",
              " 'alien': 1085,\n",
              " 'weird': 1084,\n",
              " 'ok': 1081,\n",
              " 'this,': 1078,\n",
              " 'screenplay': 1077,\n",
              " \"she's\": 1075,\n",
              " 'cannot': 1075,\n",
              " 'produce': 1074,\n",
              " 'bother': 1073,\n",
              " 'notice': 1071,\n",
              " 'earth': 1070,\n",
              " 'rich': 1070,\n",
              " 'Of': 1070,\n",
              " 'list': 1068,\n",
              " 'standard': 1067,\n",
              " 'No': 1066,\n",
              " 'hardly': 1065,\n",
              " 'outside': 1064,\n",
              " \"you'll\": 1062,\n",
              " 'story.': 1061,\n",
              " 'charm': 1061,\n",
              " 'stars': 1059,\n",
              " 'hot': 1058,\n",
              " 'earlier': 1058,\n",
              " 'well.': 1057,\n",
              " 'good.': 1056,\n",
              " 'choice': 1056,\n",
              " 'party': 1056,\n",
              " 'emotion': 1055,\n",
              " 'large': 1054,\n",
              " 'society': 1054,\n",
              " 'jam': 1053,\n",
              " 'mess': 1052,\n",
              " 'wouldnt': 1050,\n",
              " ...}"
            ]
          },
          "metadata": {},
          "execution_count": 73
        }
      ],
      "source": [
        "from collections import Counter\n",
        "word_counts = Counter(words)\n",
        "print(word_counts.most_common(3))\n",
        "v_s = sorted(word_counts.items(), key=lambda x: x[1],  reverse=True)\n",
        "str2idx = {key:val for key,val in v_s}\n",
        "idx2str = {val:key for key,val in v_s}\n",
        "str2idx"
      ]
    },
    {
      "cell_type": "markdown",
      "metadata": {
        "id": "NQr8et5yjIk3"
      },
      "source": [
        "## Binarization/vecotrization\n",
        "\n",
        "We can use any given vocab dict to binarize text and come back. This maps exactly to keras texts_to_sequences"
      ]
    },
    {
      "cell_type": "code",
      "execution_count": null,
      "metadata": {
        "colab": {
          "base_uri": "https://localhost:8080/"
        },
        "id": "Us9oFLuy4riA",
        "outputId": "c739d0bf-59f8-4a86-a288-e9fca8e3a01c"
      },
      "outputs": [
        {
          "output_type": "execute_result",
          "data": {
            "text/plain": [
              "[1110, 80866]"
            ]
          },
          "metadata": {},
          "execution_count": 74
        }
      ],
      "source": [
        "s = 'cartoon movie'\n",
        "l = [str2idx[w] for w in s.split()]\n",
        "l"
      ]
    },
    {
      "cell_type": "markdown",
      "metadata": {
        "id": "OO6ewSj75_A-"
      },
      "source": [
        "For a full corpus (list of docs) like texts_to_sequences:"
      ]
    },
    {
      "cell_type": "code",
      "execution_count": null,
      "metadata": {
        "colab": {
          "base_uri": "https://localhost:8080/"
        },
        "id": "-XLzG0Xu6DxE",
        "outputId": "3ba0ad68-2c84-4494-eec5-1e6a4c472e45"
      },
      "outputs": [
        {
          "output_type": "execute_result",
          "data": {
            "text/plain": [
              "[[1110, 80866, 15409], [83, 5744]]"
            ]
          },
          "metadata": {},
          "execution_count": 75
        }
      ],
      "source": [
        "docs = ['cartoon movie show', 'hello world']\n",
        "l = [[str2idx[w] for w in s.split()] for s in docs]\n",
        "l"
      ]
    },
    {
      "cell_type": "markdown",
      "metadata": {
        "id": "HIhPiwHW6oYR"
      },
      "source": [
        "To reverse back, we use the reverse mapping:"
      ]
    },
    {
      "cell_type": "code",
      "execution_count": null,
      "metadata": {
        "colab": {
          "base_uri": "https://localhost:8080/"
        },
        "id": "5IvQV-JI6sCf",
        "outputId": "0c813126-830b-4de0-d58a-6d98d242b182"
      },
      "outputs": [
        {
          "output_type": "execute_result",
          "data": {
            "text/plain": [
              "['cartoon movie show', 'gein world']"
            ]
          },
          "metadata": {},
          "execution_count": 76
        }
      ],
      "source": [
        "\n",
        "s = [' '.join([idx2str[i] for i in d]) for d in l]\n",
        "s"
      ]
    },
    {
      "cell_type": "markdown",
      "metadata": {
        "id": "nE26imn7uRcS"
      },
      "source": [
        "## Keras Tokenizer\n",
        "\n",
        "The keras tokenizer can be used to convert a sequence of words into integers.\n",
        "\n",
        "It builds an internal vocab, called `word_index`.\n",
        "\n"
      ]
    },
    {
      "cell_type": "markdown",
      "metadata": {
        "id": "9Vqz-oMGuphj"
      },
      "source": [
        "To use a tokenizer, you must first `fit` it to the texts. It learns some stats about the text this way.\n",
        "\n",
        "__It's advised to fit the tokenizer on all the data (train+test) to avoid OOV__\n",
        "\n",
        "This is not \"cheating\" and not leading to overfitting, as we don't use the test labels, but only the raw text features (unsupervised)"
      ]
    },
    {
      "cell_type": "code",
      "execution_count": null,
      "metadata": {
        "colab": {
          "base_uri": "https://localhost:8080/"
        },
        "id": "phuue1FpvGR3",
        "outputId": "99ba9803-0835-4ff5-d9d6-a81a7ef324e8"
      },
      "outputs": [
        {
          "output_type": "execute_result",
          "data": {
            "text/plain": [
              "[\"I agree totally with the last commenter this could be the worst movie ever made .I too had to fast forward through most of this movie. Michael Madsen must have done this movie as a favor to someone.The picture quality is grainy all the way through .And what little plot there is,is just plain stupid .I give this movie a 1 out of 10 if I could give it a lower score I would .Don't waste your time on this movie or you'll regret it.\",\n",
              " 'Jean Rollin artistic nonsense about vampires, aliens and the quest for immortality.<br /><br />The women are beautiful and the photography stunning. The dialog is inane. Its a laughable mess. Great to look at but as any semblance of a horror film or thriller purely awful. I\\'m trying to figure out if we\\'re suppose to be scared or not. At the same time is it a put on or not? Its an odd mix of art film and horror that never quite meshes and while its nice to look at it never seems to \"mean\" anything, and its by no means scary even if the occasional shot or sequence creates a moment of frisson Its well made pretentious twaddle. Something to leave on in the background as a living wall paper for those who like naked women.',\n",
              " 'Johnathan Frakes is a good actor and, when he\\'s not directing a family film, a fine director. But, he really shouldn\\'t have directed this movie, and the screenplay should\\'ve been rejected. The director and writers must understand what the original TV show was really about, as well as who the characters were and how they worked. The original series had many episodes with razor-sharp writing using good dialogue and with situations that American producers would never consider using in children\\'s programming, much less a movie, which made the original series so well received by adults. I mean, the Tracys were college graduates and some of them did even drank alcohol and smoked tobacco! And, there were characters who did get killed, although most were bad guys. If they had written it the way that it was originally done, which isn\\'t dumbing things down with poor dialogue, kindergarten humor, and a weak plot, this Universal/Studio Canal joint venture wouldn\\'t have such bad reviews. <br /><br />This motion picture is almost pure blasphemy. If you\\'ve seen the original Supermarionation series, then you\\'ll know what I\\'m talking about! <br /><br />The first thing that was out of place and annoying were the constant references to Ford Motor Company, even going so far that Lady Penelope was riding around in a disfigured Ford Thunderbird made up to look like FAB-1 instead of using what would\\'ve been more appropriate considering Ms. Penelope\\'s station (not to mention being more faithful to the original), a ROLLS-ROYCE FAB-1. She\\'s supposed to be a distinguished member of British society, hence the preference for England\\'s finest make of motorcars in the original series. One other reviewer here indicated that Penelope wouldn\\'t be caught dead in a Ford. He\\'s pretty much right in the context that the idea of her riding in a Ford doesn\\'t work. At least they could have had Penelope ride in a Jaguar made up like FAB 1 since Jaguar is a British car make that is owned by Ford, but NO! They had to use a straight FORD! But the Ford product placement doesn\\'t end there. EVERY single car you may see is a Ford! Even the news flash that is shown on the TV sets in the movie were sponsored by Ford! Ford, Ford, FORD! The predominance of Ford vehicles makes this movie an obvious marketing vehicle for Ford. <br /><br />The original series had a design that was futuristic for the 1960s and still remains ahead of its time even today. But, the futuristic design in the original series worked because there was an effort to make the design look practical and functional. This kind of treatment didn\\'t exist in the movie, where everything is stylized to excess, defeating the sense of functionality and practicality. A lot of things that were done in the design of the movie were done strictly for style, many times with no sense of function to give that style a sense of reason.<br /><br />The original series relied on good acting performances of the voice talent to overcome the limited expressions in the puppets, bringing them to life in the episodes. The brilliant and lively music score by Barry Gray helped even further to connect the audience with the story, the characters, and how everything came together to help achieve the super objective (a little bit of Stanislavski talk). The movie, on the other hand, had some overly grating performances. Anthony Edwards overplayed Brains to a fault, Bill Paxton as Jeff Tracy just didn\\'t work despite decent acting (one of few), there were better choices for the Hood than Ben Kingsley, and many others that I don\\'t care to mention (it would take too long). Quite simply, the puppets were more believable! Second was the overly generic and underwhelming music score by Hans Zimmer, sounding more like a mix between \"Days of Thunder\" and \"Apollo 13.\" <br /><br />And, of course, the Hood. The Hood in the original series had an ability to communicate with Kyrano through a statue of Kyrano as an outlet for ESP contact. But, that was where his extraordinary capability ended. He\\'s a master of disguise and deception, which allows him to sneak around undetected (for the most part, anyways) to gather information of the Thunderbirds vehicles for his own means. He also uses weapons for his own defense, including pistols, and generally collects information using a film camera, although he tried to steal Thudnerbirds 1 and 2 in the 1960s United Artists release of \"Thunderbird 6\" (which was the last Thunderbirds show filmed in Supermarionation and was the second Thunderbirds theatrical release). But, while he is a nemesis of International Rescue, the Hood isn\\'t the villain in every Thunderbirds episode and he tends to avoid direct confrontation with International Rescue. In the movie, he\\'s obviously the main villain, but he and his cohorts seem to act more like morons, along with the Hood having extended mind control ability, including the ability to move objects and move himself into flight for brief periods of time. This totally deviates from the Hood as a character in the original series with one that may leave kids laughing and people familiar with the series scratching their heads in confusion or leaving the theater in disgust.<br /><br />There are more criticisms, but the 1000 word limit for IMDb reviews will not allow me to list all of them. So, I will close with the point being made that I didn\\'t enjoy this movie. As a matter of fact, I think it sucks! Having seen the original series and Supermarionation movies (Thunderbirds Are Go, Thunderbird 6), I was hoping for something a lot better than this.<br /><br />The original Supermarionation was a lot more sophisticated and elegant than this live action farce. (And that\\'s saying it nicely.) - Kip Wells',\n",
              " 'That\\'s what my friend Brian said about this movie after about an hour of it. He wasn\\'t able to keep from dozing off. I had been ranting about how execrable it was and finally I relented and played it, having run out of adjectives for \"boring\". <br /><br />Imagine if you will, the pinnacle of hack-work. Something so uninspired, so impossibly dreadful, that all you want to do after viewing it is sit alone in the dark and not speak to anybody. Some people labor under the illusion that this movie is watchable. It is not, not under any form of narcotic or brain damage. I would ONLY recommend this to someone in order to help them understand how truly unbearable it is. Don\\'t believe me? Gather \\'round. <br /><br />Granted, as a nation, we in America don\\'t always portray Middle Eastern peoples in a tasteful manner. But how about a kid in a sheik outfit bowing in salaam-fashion to a stack of Castrol motor oil bottles? You\\'ll find that here. GET IT? THE ARAB WORSHIPS OIL. I couldn\\'t believe what I was seeing. Having the kid fly planes into a skyscraper would\\'ve been more appropriate. Who in their right mind would think that was a funny joke? It\\'s not even close to \"cleverly offensive\". It just sucks and makes you want to punch whomever got paid to write that bit in the face. <br /><br />In the middle of the film, a five-man singing group called the \"Landmines\" takes the stage at an officers\\' ball. Okay- are you ready? The joke is THEY SING TERRIBLY AND OFF-KEY. Why did I write that in caps also? Because the joke is POUND, POUND, POUNDED INTO YOUR HEAD with a marathon of HORRENDOUS sight gags. They start off mediocre enough; glasses cracking, punch tumblers shattering... then there is, I am 100% serious, a two-frame stop-motion sequence of A WOMAN\\'S SHOES COMING OFF. You read that correctly- the music was so bad, in one frame, the woman\\'s feet have shoes on. In the very next- the shoes are off!!! Get it, because the music was so bad, her shoes came off! What the F???? <br /><br />Then there is an endless montage of stock footage to drive home the point that the SINGING IS BAD. If any human being actually suffered through this scene in the theater without running like hell, I would be astonished. This movie is honestly like a practical joke to see how fast people would bolt out the doors. Robert Downey Sr. directs comedy the way his son commands respect by staying drug-free. Badly. Other things to watch out for:<br /><br />1. The popular music shoehorned in wherever possible. Every time Liceman appears, a really inappropriate Iggy Pop song plays. Plus all the actors do their best to act like it got really chilly for some reason.<br /><br />2. Barbara Bach\\'s criminally awful accent. She sounds like she\\'s trying to talk like a baby while rolling a marble around on her tongue. There is no nudity, and there are several scenes where the boys all moan and writhe from a glimpse of her cleavage, like they\\'re in a community school acting class and they\\'ve been directed to act like aroused retarded people. <br /><br />3. Liceman feeds his revolting dog a condom. Remember; when this movie came out throwing in \"abortion\" and \"condom\" was seen as \"edgy\". <br /><br />4. Tom Poston plays a mincing, boy-hungry pedophile, back when Hollywood thought \"pedophile\" and \"homosexual\" were one in the same. Flat-out embarrassing. <br /><br />5. Watch the ending. Nothing is wrong with your VCR. That is actually the ending. Tell me that doesn\\'t make you want to explode everyone who\\'s ever made any movie, ever. <br /><br />Watch this at your own risk. Up The Academy has been known to actually make other movies, like The Jerk or Blazing Saddles, less funny simply by placing the videotape near them.',\n",
              " 'Somehow they summed up the 60\\'s, ten years that radically changed our country, in four hours. And what a painful four hours it was. They trivilized the major events and happenings and they \"claimed\" it was about two families yet you barely saw the african-american family. If I were NBC I would be ashamed and embarrassed for airing such trash. What was amusing was this happy-go-lucky family you saw in the very beginning was tortured in so many ways, but managed to attend every major 60\\'s event through the country. And the second family was such a non-factor. They devoted maybe five or six scenes total to this family. That poor son... Please NBC, do not make any movies about any other eras....leave that to PBS and the History Channel',\n",
              " \"An old intellectual talks about what he considers art in movies. You get your Hitchcock, your Chaplin, your Bergman and some other stuff prior to the 80ies. To disguise that he has no clue what is going on in cinemas these days, he throws in The Matrix.<br /><br />But it's not only the same lame film-as-art speech all over again. This speech is reduced to outdated psychological platitudes: it-ego-super ego, anal phase, sexual insufficiency. <br /><br />It is garnished with the cheesy effect of having Zizte edited into the movies he is taking about. For someone who is supposed to know much about movies, his own is, cinematographicly speaking: yeiks.<br /><br />To put it in Zizek's own words - I saw 5\\\\-\\\\!7 on the screen, last night, or in the words of a great movie maker:<br /><br />Mr. (Zizek), what you've just said is one of the most insanely idiotic things I have ever heard. At no point in your rambling, incoherent response were you even close to anything that could be considered a rational thought. Everyone in this room is now dumber for having listened to it. I award you (two) points (only), and may God have mercy on your soul.\",\n",
              " 'It was the tag-line \"in the tradition of American Pie\" that fooled me into renting this movie. What I got was a piece of junk in the style of Jackass, with the major difference that compared to this Jackass the Movie seems like a Citizen Kane.<br /><br />This movie made me regret that I rewarded other movies with 1 out of 10, because now I can\\'t go beneath that. This one makes quite some bad movies look like cinematic feats.<br /><br />I actually turned it off after 45 minutes, and that\\'s something I very rarely do. But it was just too plain boring, stupid, uninteresting and unnecessary.<br /><br />Can\\'t believe some people actually reward this with 10 out of 10. What did your parents do? Drop you on the head when you were just a child? Or was it the very first movie you ever saw, so you got nothing to compare it to? Are you still a virgin and are breasts all you ever think off? Something must be wrong, at least.<br /><br />My advice: stay clear of this one. Even if your in the mood for a simple movie that doesn\\'t require thinking, choose something else, or you\\'ll regret it for sure.',\n",
              " 'I grew up (b. 1965) watching and loving the Thunderbirds. All my mates at school watched. We played \"Thunderbirds\" before school, during lunch and after school. We all wanted to be Virgil or Scott. No one wanted to be Alan. Counting down from 5 became an art form. I took my children to see the movie hoping they would get a glimpse of what I loved as a child. How bitterly disappointing. The only high point was the snappy theme tune. Not that it could compare with the original score of the Thunderbirds. Thankfully early Saturday mornings one television channel still plays reruns of the series Gerry Anderson and his wife created. Jonatha Frakes should hand in his directors chair, his version was completely hopeless. A waste of film. Utter rubbish. A CGI remake may be acceptable but replacing marionettes with Homo sapiens subsp. sapiens was a huge error of judgment.',\n",
              " 'watch a team of bomb disposal experts in Iraq count down their time before they can go home.<br /><br />That in itself sounds boring. Every time that little caption came up telling us how long they had left, it just caused this film with no plot to drag on and on. hurry up and finish your time there so we can all go home.<br /><br />I must be missing something. I\\'m a great fan of war films if they are done well. This had \"jarhead\" syndrome. A film that at times was beautifully shot, but cinematography doesn\\'t stop it from being totally dull and pointless.<br /><br />And get over the slow mo \"cartridges coming out of the gun\" shot already. they could have saved money and just got stock footage from any other film with a gun in it.<br /><br />I didn\\'t have any empathy for the main guy in it, i was constantly hoping that his recklessness would cause him to die. In fact the film would have worked much better if he had.<br /><br />I read some reviews and seemed to get the feeling that those who had been in the armed forces disliked it, and everyone else loved it. I have never been in the forces, and I\\'m with them. It\\'s pretentious drivel. the 3 stars are for the cinematography.',\n",
              " 'This is one of the two postapocalyptic fantasy movies that Albert Pyun made in 1993 - and it\\'s the bad one. Apparently all his energy went into \"Nemesis\" which was an entertaining non-stop action movie, and had a much more expensive look. \"Knights\" is clunky and cheesy, a bottom-of-the-barrel sci-fi that too often resembles a video game (new opponents pop up all the time and must be exterminated as quickly as possible). The only thing that saves this movie from the trash can is Kathy Long; not a particularly attractive woman, but undeniably a brutally efficient fighting machine. As for Kris Kristofferson, considering his age at the time (58), I hope his stunt double was well paid. (*1/2)']"
            ]
          },
          "metadata": {},
          "execution_count": 9
        }
      ],
      "source": [
        "from tensorflow.keras.preprocessing.text import Tokenizer\n",
        "\n",
        "texts = trn_texts + tst_texts # This must be list of strings:\n",
        "texts[:10]"
      ]
    },
    {
      "cell_type": "code",
      "execution_count": null,
      "metadata": {
        "id": "b3osszHXvZCY"
      },
      "outputs": [],
      "source": [
        "tok = Tokenizer()\n",
        "tok.fit_on_texts(texts)"
      ]
    },
    {
      "cell_type": "markdown",
      "metadata": {
        "id": "HM16EzTLuofm"
      },
      "source": []
    },
    {
      "cell_type": "code",
      "execution_count": null,
      "metadata": {
        "colab": {
          "base_uri": "https://localhost:8080/"
        },
        "id": "MxH64l94v-CO",
        "outputId": "34dbda85-e30e-4058-a6bf-1950164b476c"
      },
      "outputs": [
        {
          "output_type": "execute_result",
          "data": {
            "text/plain": [
              "{'the': 1,\n",
              " 'and': 2,\n",
              " 'a': 3,\n",
              " 'of': 4,\n",
              " 'to': 5,\n",
              " 'is': 6,\n",
              " 'br': 7,\n",
              " 'in': 8,\n",
              " 'movie': 9,\n",
              " 'film': 10,\n",
              " 'it': 11,\n",
              " 'i': 12,\n",
              " 'this': 13,\n",
              " 'that': 14,\n",
              " 'one': 15,\n",
              " 'was': 16,\n",
              " 'as': 17,\n",
              " 'for': 18,\n",
              " 'with': 19,\n",
              " 'but': 20,\n",
              " 'like': 21,\n",
              " 'on': 22,\n",
              " 'see': 23,\n",
              " 'not': 24,\n",
              " 'you': 25,\n",
              " 'he': 26,\n",
              " 'make': 27,\n",
              " 'are': 28,\n",
              " 'his': 29,\n",
              " 'good': 30,\n",
              " 'time': 31,\n",
              " 'have': 32,\n",
              " 'be': 33,\n",
              " 'get': 34,\n",
              " 'even': 35,\n",
              " 'would': 36,\n",
              " 'all': 37,\n",
              " 'story': 38,\n",
              " 'at': 39,\n",
              " 'really': 40,\n",
              " 'by': 41,\n",
              " 'an': 42,\n",
              " 'who': 43,\n",
              " 'they': 44,\n",
              " 'watch': 45,\n",
              " 'character': 46,\n",
              " 'so': 47,\n",
              " 'from': 48,\n",
              " 'well': 49,\n",
              " 'think': 50,\n",
              " 'much': 51,\n",
              " 'there': 52,\n",
              " 'go': 53,\n",
              " 'her': 54,\n",
              " 'bad': 55,\n",
              " 'great': 56,\n",
              " 'people': 57,\n",
              " 'or': 58,\n",
              " 'also': 59,\n",
              " 'just': 60,\n",
              " 'first': 61,\n",
              " 'about': 62,\n",
              " 'out': 63,\n",
              " \"it's\": 64,\n",
              " 'show': 65,\n",
              " 'if': 66,\n",
              " 'has': 67,\n",
              " 'way': 68,\n",
              " 'scene': 69,\n",
              " 'some': 70,\n",
              " 'know': 71,\n",
              " 'what': 72,\n",
              " 'could': 73,\n",
              " 'love': 74,\n",
              " 'say': 75,\n",
              " 'end': 76,\n",
              " 'more': 77,\n",
              " 'when': 78,\n",
              " 'very': 79,\n",
              " 'life': 80,\n",
              " 'look': 81,\n",
              " 'many': 82,\n",
              " 'up': 83,\n",
              " 'two': 84,\n",
              " 'plot': 85,\n",
              " 'never': 86,\n",
              " 'thing': 87,\n",
              " 'no': 88,\n",
              " 'she': 89,\n",
              " 'best': 90,\n",
              " 'my': 91,\n",
              " 'little': 92,\n",
              " 'do': 93,\n",
              " 'take': 94,\n",
              " 'which': 95,\n",
              " 'find': 96,\n",
              " 'only': 97,\n",
              " 'ever': 98,\n",
              " 'give': 99,\n",
              " 'their': 100,\n",
              " 'better': 101,\n",
              " 'had': 102,\n",
              " 'come': 103,\n",
              " 'can': 104,\n",
              " 'man': 105,\n",
              " 'work': 106,\n",
              " 'still': 107,\n",
              " 'were': 108,\n",
              " 'me': 109,\n",
              " 'play': 110,\n",
              " 'want': 111,\n",
              " 'something': 112,\n",
              " 'than': 113,\n",
              " 'we': 114,\n",
              " 'act': 115,\n",
              " 'back': 116,\n",
              " 'will': 117,\n",
              " 'been': 118,\n",
              " 'real': 119,\n",
              " 'into': 120,\n",
              " 'other': 121,\n",
              " 'seem': 122,\n",
              " 'because': 123,\n",
              " 'part': 124,\n",
              " 'lot': 125,\n",
              " 'how': 126,\n",
              " 'him': 127,\n",
              " 'actor': 128,\n",
              " 'most': 129,\n",
              " 'director': 130,\n",
              " 'though': 131,\n",
              " 'funny': 132,\n",
              " 'another': 133,\n",
              " 'dont': 134,\n",
              " 'actually': 135,\n",
              " \"don't\": 136,\n",
              " 'made': 137,\n",
              " 'nothing': 138,\n",
              " 'old': 139,\n",
              " 'year': 140,\n",
              " 'its': 141,\n",
              " 'then': 142,\n",
              " 'new': 143,\n",
              " 'them': 144,\n",
              " 'try': 145,\n",
              " 'every': 146,\n",
              " 'feel': 147,\n",
              " 'cast': 148,\n",
              " 'too': 149,\n",
              " 'guy': 150,\n",
              " 'any': 151,\n",
              " 'movies': 152,\n",
              " 'after': 153,\n",
              " 'world': 154,\n",
              " 'quite': 155,\n",
              " 'pretty': 156,\n",
              " 'performance': 157,\n",
              " 'role': 158,\n",
              " 'around': 159,\n",
              " 'fact': 160,\n",
              " 'horror': 161,\n",
              " 'characters': 162,\n",
              " 'young': 163,\n",
              " 'point': 164,\n",
              " 'however': 165,\n",
              " 'films': 166,\n",
              " 'enough': 167,\n",
              " 'woman': 168,\n",
              " 'big': 169,\n",
              " 'comedy': 170,\n",
              " 'long': 171,\n",
              " 'seen': 172,\n",
              " 'right': 173,\n",
              " 'being': 174,\n",
              " 'action': 175,\n",
              " 'may': 176,\n",
              " 'acting': 177,\n",
              " 'girl': 178,\n",
              " 'without': 179,\n",
              " 'music': 180,\n",
              " 'series': 181,\n",
              " 'day': 182,\n",
              " 'saw': 183,\n",
              " 'over': 184,\n",
              " 'original': 185,\n",
              " 'where': 186,\n",
              " 'must': 187,\n",
              " 'always': 188,\n",
              " 'did': 189,\n",
              " 'use': 190,\n",
              " 'almost': 191,\n",
              " 'script': 192,\n",
              " 'set': 193,\n",
              " 'whole': 194,\n",
              " 'least': 195,\n",
              " 'off': 196,\n",
              " 'family': 197,\n",
              " 'does': 198,\n",
              " 'far': 199,\n",
              " 'last': 200,\n",
              " 'star': 201,\n",
              " 'tell': 202,\n",
              " 'might': 203,\n",
              " 'here': 204,\n",
              " 'anything': 205,\n",
              " 'since': 206,\n",
              " 'interest': 207,\n",
              " 'your': 208,\n",
              " 'kind': 209,\n",
              " 'start': 210,\n",
              " 'probably': 211,\n",
              " 'tv': 212,\n",
              " 'put': 213,\n",
              " 'away': 214,\n",
              " 'these': 215,\n",
              " 'yet': 216,\n",
              " 'fun': 217,\n",
              " 'while': 218,\n",
              " 'worst': 219,\n",
              " 'why': 220,\n",
              " 'place': 221,\n",
              " 'believe': 222,\n",
              " 'rather': 223,\n",
              " 'sure': 224,\n",
              " 'anyone': 225,\n",
              " 'scenes': 226,\n",
              " 'fan': 227,\n",
              " 'become': 228,\n",
              " 'reason': 229,\n",
              " 'such': 230,\n",
              " 'screen': 231,\n",
              " 'book': 232,\n",
              " 'line': 233,\n",
              " 'mean': 234,\n",
              " 'turn': 235,\n",
              " 'hard': 236,\n",
              " 'need': 237,\n",
              " 'enjoy': 238,\n",
              " 'through': 239,\n",
              " 'although': 240,\n",
              " 'should': 241,\n",
              " 'especially': 242,\n",
              " 'dvd': 243,\n",
              " 'course': 244,\n",
              " 'keep': 245,\n",
              " 'kill': 246,\n",
              " 'everything': 247,\n",
              " 'im': 248,\n",
              " \"i'm\": 249,\n",
              " 'those': 250,\n",
              " 'american': 251,\n",
              " 'audience': 252,\n",
              " 'friend': 253,\n",
              " 'maybe': 254,\n",
              " 'worth': 255,\n",
              " 'different': 256,\n",
              " 'leave': 257,\n",
              " 'idea': 258,\n",
              " 'watching': 259,\n",
              " 'main': 260,\n",
              " 'now': 261,\n",
              " 'job': 262,\n",
              " 'sense': 263,\n",
              " 'war': 264,\n",
              " 'happen': 265,\n",
              " 'three': 266,\n",
              " \"doesn't\": 267,\n",
              " 'someone': 268,\n",
              " 'help': 269,\n",
              " 'years': 270,\n",
              " 'didnt': 271,\n",
              " 'read': 272,\n",
              " 'let': 273,\n",
              " 'write': 274,\n",
              " 'laugh': 275,\n",
              " 'money': 276,\n",
              " 'u': 277,\n",
              " 'true': 278,\n",
              " 'actors': 279,\n",
              " 'together': 280,\n",
              " 'minute': 281,\n",
              " 'shoot': 282,\n",
              " 'name': 283,\n",
              " 'doesnt': 284,\n",
              " '10': 285,\n",
              " 'before': 286,\n",
              " \"didn't\": 287,\n",
              " 'us': 288,\n",
              " 'live': 289,\n",
              " 'instead': 290,\n",
              " 'lead': 291,\n",
              " 'night': 292,\n",
              " 'later': 293,\n",
              " 'everyone': 294,\n",
              " 'version': 295,\n",
              " 'special': 296,\n",
              " 'makes': 297,\n",
              " 'beautiful': 298,\n",
              " 'kid': 299,\n",
              " 'john': 300,\n",
              " 'black': 301,\n",
              " 'going': 302,\n",
              " 'high': 303,\n",
              " 'excellent': 304,\n",
              " 'few': 305,\n",
              " 'mind': 306,\n",
              " 'second': 307,\n",
              " 'same': 308,\n",
              " 'death': 309,\n",
              " 'house': 310,\n",
              " 'again': 311,\n",
              " 'wife': 312,\n",
              " 'episode': 313,\n",
              " 'cant': 314,\n",
              " 'short': 315,\n",
              " 'run': 316,\n",
              " 'thats': 317,\n",
              " 'recommend': 318,\n",
              " 'half': 319,\n",
              " 'understand': 320,\n",
              " 'simply': 321,\n",
              " 'else': 322,\n",
              " 'nice': 323,\n",
              " 'completely': 324,\n",
              " 'poor': 325,\n",
              " 'classic': 326,\n",
              " 'down': 327,\n",
              " 'call': 328,\n",
              " 'face': 329,\n",
              " 'along': 330,\n",
              " 'moment': 331,\n",
              " 'begin': 332,\n",
              " 'home': 333,\n",
              " 'production': 334,\n",
              " 'sound': 335,\n",
              " 'father': 336,\n",
              " 'men': 337,\n",
              " 'child': 338,\n",
              " 'boy': 339,\n",
              " 'things': 340,\n",
              " 'expect': 341,\n",
              " 'problem': 342,\n",
              " 'remember': 343,\n",
              " 'either': 344,\n",
              " 'seems': 345,\n",
              " 'couple': 346,\n",
              " 'waste': 347,\n",
              " 'wrong': 348,\n",
              " 'got': 349,\n",
              " 'effect': 350,\n",
              " 'dead': 351,\n",
              " 'budget': 352,\n",
              " 'bite': 353,\n",
              " 'own': 354,\n",
              " 'camera': 355,\n",
              " \"can't\": 356,\n",
              " 'hollywood': 357,\n",
              " 'top': 358,\n",
              " 'rest': 359,\n",
              " 'head': 360,\n",
              " 'stupid': 361,\n",
              " 'next': 362,\n",
              " 'school': 363,\n",
              " 'truly': 364,\n",
              " 'piece': 365,\n",
              " 'video': 366,\n",
              " 'thought': 367,\n",
              " 'full': 368,\n",
              " \"that's\": 369,\n",
              " 'both': 370,\n",
              " 'human': 371,\n",
              " 'between': 372,\n",
              " 'awful': 373,\n",
              " \"i've\": 374,\n",
              " 'sex': 375,\n",
              " 'ive': 376,\n",
              " 'terrible': 377,\n",
              " 'picture': 378,\n",
              " 'perhaps': 379,\n",
              " 'title': 380,\n",
              " 'times': 381,\n",
              " 'person': 382,\n",
              " 'others': 383,\n",
              " 'care': 384,\n",
              " 'gets': 385,\n",
              " 'wonderful': 386,\n",
              " 'hour': 387,\n",
              " 'bring': 388,\n",
              " \"isn't\": 389,\n",
              " 'dialogue': 390,\n",
              " 'isnt': 391,\n",
              " 'hope': 392,\n",
              " 'perfect': 393,\n",
              " 'style': 394,\n",
              " 'low': 395,\n",
              " 'interesting': 396,\n",
              " 'case': 397,\n",
              " 'view': 398,\n",
              " 'small': 399,\n",
              " 'often': 400,\n",
              " 'sort': 401,\n",
              " 'definitely': 402,\n",
              " 'done': 403,\n",
              " 'fight': 404,\n",
              " \"there's\": 405,\n",
              " 'early': 406,\n",
              " 'mr': 407,\n",
              " 'viewer': 408,\n",
              " 'move': 409,\n",
              " 'mother': 410,\n",
              " 'bit': 411,\n",
              " 'game': 412,\n",
              " 'finally': 413,\n",
              " 'absolutely': 414,\n",
              " 'hand': 415,\n",
              " 'certainly': 416,\n",
              " 'making': 417,\n",
              " 'minutes': 418,\n",
              " 'attempt': 419,\n",
              " 'follow': 420,\n",
              " 'change': 421,\n",
              " 'yes': 422,\n",
              " 'worse': 423,\n",
              " 'talk': 424,\n",
              " 'guess': 425,\n",
              " 'cinema': 426,\n",
              " 'miss': 427,\n",
              " \"he's\": 428,\n",
              " 'lack': 429,\n",
              " 'overall': 430,\n",
              " 'felt': 431,\n",
              " 'drama': 432,\n",
              " 'entire': 433,\n",
              " '2': 434,\n",
              " 'several': 435,\n",
              " 'flick': 436,\n",
              " 'example': 437,\n",
              " 'oh': 438,\n",
              " 'hear': 439,\n",
              " 'fall': 440,\n",
              " 'word': 441,\n",
              " 'am': 442,\n",
              " 'song': 443,\n",
              " 'quality': 444,\n",
              " 'direction': 445,\n",
              " 'totally': 446,\n",
              " 'open': 447,\n",
              " 'white': 448,\n",
              " 'save': 449,\n",
              " 'killer': 450,\n",
              " 'dark': 451,\n",
              " 'side': 452,\n",
              " 'eye': 453,\n",
              " 'humor': 454,\n",
              " 'release': 455,\n",
              " 'surprise': 456,\n",
              " 'murder': 457,\n",
              " 'despite': 458,\n",
              " 'evil': 459,\n",
              " 'final': 460,\n",
              " 'experience': 461,\n",
              " 'throughout': 462,\n",
              " 'already': 463,\n",
              " 'add': 464,\n",
              " 'bore': 465,\n",
              " 'art': 466,\n",
              " 'wonder': 467,\n",
              " 'matter': 468,\n",
              " 'car': 469,\n",
              " 'close': 470,\n",
              " 'son': 471,\n",
              " 'unfortunately': 472,\n",
              " 'found': 473,\n",
              " 'able': 474,\n",
              " 'feature': 475,\n",
              " 'played': 476,\n",
              " 'actress': 477,\n",
              " 'each': 478,\n",
              " 'favorite': 479,\n",
              " 'history': 480,\n",
              " 'heart': 481,\n",
              " 'having': 482,\n",
              " 'stop': 483,\n",
              " 'fine': 484,\n",
              " 'michael': 485,\n",
              " 'horrible': 486,\n",
              " 'our': 487,\n",
              " 'review': 488,\n",
              " 'appear': 489,\n",
              " 'comes': 490,\n",
              " 'looking': 491,\n",
              " 'meet': 492,\n",
              " 'trying': 493,\n",
              " 'stuff': 494,\n",
              " 'direct': 495,\n",
              " 'town': 496,\n",
              " 'die': 497,\n",
              " 'genre': 498,\n",
              " 'goes': 499,\n",
              " 'writer': 500,\n",
              " 'age': 501,\n",
              " 'lose': 502,\n",
              " 'type': 503,\n",
              " 'past': 504,\n",
              " 'light': 505,\n",
              " 'voice': 506,\n",
              " 'cut': 507,\n",
              " 'looks': 508,\n",
              " 'sequence': 509,\n",
              " 'hit': 510,\n",
              " 'brother': 511,\n",
              " 'brilliant': 512,\n",
              " 'behind': 513,\n",
              " 'group': 514,\n",
              " 'city': 515,\n",
              " 'etc': 516,\n",
              " 'ending': 517,\n",
              " 'once': 518,\n",
              " 'obviously': 519,\n",
              " 'soon': 520,\n",
              " 'late': 521,\n",
              " \"wasn't\": 522,\n",
              " 'sometimes': 523,\n",
              " 'god': 524,\n",
              " 'shows': 525,\n",
              " 'score': 526,\n",
              " 'mention': 527,\n",
              " 'include': 528,\n",
              " 'daughter': 529,\n",
              " 'hero': 530,\n",
              " 'relationship': 531,\n",
              " 'today': 532,\n",
              " 'sit': 533,\n",
              " 'decent': 534,\n",
              " 'highly': 535,\n",
              " 'watched': 536,\n",
              " 'robert': 537,\n",
              " 'joke': 538,\n",
              " 'plays': 539,\n",
              " 'number': 540,\n",
              " 'wish': 541,\n",
              " 'chance': 542,\n",
              " 'anyway': 543,\n",
              " 'please': 544,\n",
              " 'wasnt': 545,\n",
              " '1': 546,\n",
              " 'deal': 547,\n",
              " 'said': 548,\n",
              " 'effects': 549,\n",
              " 'create': 550,\n",
              " 'comment': 551,\n",
              " 'takes': 552,\n",
              " 'except': 553,\n",
              " 'buy': 554,\n",
              " 'decide': 555,\n",
              " 'blood': 556,\n",
              " 'stand': 557,\n",
              " 'suppose': 558,\n",
              " 'complete': 559,\n",
              " 'himself': 560,\n",
              " 'talent': 561,\n",
              " 'hell': 562,\n",
              " 'during': 563,\n",
              " 'extremely': 564,\n",
              " 'power': 565,\n",
              " 'slow': 566,\n",
              " 'left': 567,\n",
              " 'body': 568,\n",
              " 'police': 569,\n",
              " 'order': 570,\n",
              " 'seeing': 571,\n",
              " 'level': 572,\n",
              " 'strong': 573,\n",
              " 'violence': 574,\n",
              " 'learn': 575,\n",
              " 'hilarious': 576,\n",
              " 'forget': 577,\n",
              " 'le': 578,\n",
              " 'ok': 579,\n",
              " 'particularly': 580,\n",
              " 'career': 581,\n",
              " 'shot': 582,\n",
              " 'ask': 583,\n",
              " 'cool': 584,\n",
              " 'crap': 585,\n",
              " 'obvious': 586,\n",
              " 'simple': 587,\n",
              " 'wait': 588,\n",
              " 'entertain': 589,\n",
              " 'serious': 590,\n",
              " 'reality': 591,\n",
              " 'force': 592,\n",
              " 'david': 593,\n",
              " 'ago': 594,\n",
              " 'rent': 595,\n",
              " 'less': 596,\n",
              " 'documentary': 597,\n",
              " 'spend': 598,\n",
              " 'seriously': 599,\n",
              " 'stay': 600,\n",
              " 'across': 601,\n",
              " 'country': 602,\n",
              " 'theme': 603,\n",
              " 'opinion': 604,\n",
              " 'consider': 605,\n",
              " 'exactly': 606,\n",
              " 'gore': 607,\n",
              " 'english': 608,\n",
              " 'possible': 609,\n",
              " 'none': 610,\n",
              " 'alone': 611,\n",
              " 'involve': 612,\n",
              " 'novel': 613,\n",
              " 'dance': 614,\n",
              " 'usually': 615,\n",
              " 'sad': 616,\n",
              " 'break': 617,\n",
              " 'husband': 618,\n",
              " \"you're\": 619,\n",
              " 'female': 620,\n",
              " 'b': 621,\n",
              " 'cinematography': 622,\n",
              " 'huge': 623,\n",
              " 'whose': 624,\n",
              " 'youre': 625,\n",
              " 'question': 626,\n",
              " 'room': 627,\n",
              " '3': 628,\n",
              " 'major': 629,\n",
              " 'used': 630,\n",
              " 'ridiculous': 631,\n",
              " 'situation': 632,\n",
              " 'musical': 633,\n",
              " 'hold': 634,\n",
              " 'monster': 635,\n",
              " 'important': 636,\n",
              " 'given': 637,\n",
              " 'usual': 638,\n",
              " 'twist': 639,\n",
              " 'mostly': 640,\n",
              " 'beyond': 641,\n",
              " 'somewhat': 642,\n",
              " 'silly': 643,\n",
              " 'pay': 644,\n",
              " 'effort': 645,\n",
              " 'speak': 646,\n",
              " 'performances': 647,\n",
              " 'four': 648,\n",
              " 'local': 649,\n",
              " 'happy': 650,\n",
              " 'scary': 651,\n",
              " 'boring': 652,\n",
              " 'figure': 653,\n",
              " 'apparently': 654,\n",
              " 'team': 655,\n",
              " 'sequel': 656,\n",
              " 'attention': 657,\n",
              " 'realize': 658,\n",
              " 'strange': 659,\n",
              " 'kids': 660,\n",
              " 'theater': 661,\n",
              " 'present': 662,\n",
              " 'basically': 663,\n",
              " 'sister': 664,\n",
              " 'dialog': 665,\n",
              " 'upon': 666,\n",
              " 'jack': 667,\n",
              " 'due': 668,\n",
              " 'walk': 669,\n",
              " 'television': 670,\n",
              " 'until': 671,\n",
              " 'thriller': 672,\n",
              " 'friends': 673,\n",
              " 'cheap': 674,\n",
              " 'credit': 675,\n",
              " 'single': 676,\n",
              " 'clearly': 677,\n",
              " 'return': 678,\n",
              " 'base': 679,\n",
              " 'modern': 680,\n",
              " 'women': 681,\n",
              " 'comic': 682,\n",
              " 'middle': 683,\n",
              " 'check': 684,\n",
              " 'dog': 685,\n",
              " 'message': 686,\n",
              " 'throw': 687,\n",
              " 'hate': 688,\n",
              " 'subject': 689,\n",
              " 'british': 690,\n",
              " 'earth': 691,\n",
              " 'lady': 692,\n",
              " 'class': 693,\n",
              " 'ten': 694,\n",
              " 'stars': 695,\n",
              " 'french': 696,\n",
              " 'avoid': 697,\n",
              " 'predictable': 698,\n",
              " 'space': 699,\n",
              " 'came': 700,\n",
              " 'whether': 701,\n",
              " 'soundtrack': 702,\n",
              " 'five': 703,\n",
              " 'rock': 704,\n",
              " 'tale': 705,\n",
              " 'note': 706,\n",
              " 'moments': 707,\n",
              " 'entertainment': 708,\n",
              " 'future': 709,\n",
              " 'george': 710,\n",
              " 'fail': 711,\n",
              " 'easily': 712,\n",
              " 'king': 713,\n",
              " 'form': 714,\n",
              " 'enjoyable': 715,\n",
              " 'cop': 716,\n",
              " 'clear': 717,\n",
              " 'playing': 718,\n",
              " 'similar': 719,\n",
              " 'getting': 720,\n",
              " 'romantic': 721,\n",
              " 'touch': 722,\n",
              " 'result': 723,\n",
              " 'rat': 724,\n",
              " 'written': 725,\n",
              " 'within': 726,\n",
              " 'doing': 727,\n",
              " 'imagine': 728,\n",
              " 'self': 729,\n",
              " 'doubt': 730,\n",
              " 'bunch': 731,\n",
              " 'near': 732,\n",
              " 'catch': 733,\n",
              " 'dull': 734,\n",
              " 'storyline': 735,\n",
              " 'certain': 736,\n",
              " 'crime': 737,\n",
              " 'gives': 738,\n",
              " 'sorry': 739,\n",
              " 'pace': 740,\n",
              " 'support': 741,\n",
              " 'straight': 742,\n",
              " 'mystery': 743,\n",
              " 'season': 744,\n",
              " 'itself': 745,\n",
              " 'among': 746,\n",
              " 'easy': 747,\n",
              " 'state': 748,\n",
              " 'lines': 749,\n",
              " 'dream': 750,\n",
              " 'manage': 751,\n",
              " 'fast': 752,\n",
              " 'couldnt': 753,\n",
              " 'peter': 754,\n",
              " 'lost': 755,\n",
              " 'suspense': 756,\n",
              " 'pick': 757,\n",
              " 'typical': 758,\n",
              " 'value': 759,\n",
              " 'oscar': 760,\n",
              " 'western': 761,\n",
              " 'cause': 762,\n",
              " 'supposed': 763,\n",
              " 'liked': 764,\n",
              " 'disappoint': 765,\n",
              " 'drive': 766,\n",
              " 'street': 767,\n",
              " 'nearly': 768,\n",
              " 'fantastic': 769,\n",
              " 'dr': 770,\n",
              " 'greatest': 771,\n",
              " 'realistic': 772,\n",
              " 'period': 773,\n",
              " 'deserve': 774,\n",
              " 'event': 775,\n",
              " 'general': 776,\n",
              " 'portray': 777,\n",
              " \"couldn't\": 778,\n",
              " 'material': 779,\n",
              " 'actual': 780,\n",
              " 'okay': 781,\n",
              " 'richard': 782,\n",
              " 'famous': 783,\n",
              " 'against': 784,\n",
              " 'air': 785,\n",
              " 'cover': 786,\n",
              " 'went': 787,\n",
              " 'doctor': 788,\n",
              " 'build': 789,\n",
              " 'animation': 790,\n",
              " 'believable': 791,\n",
              " 'somehow': 792,\n",
              " 'escape': 793,\n",
              " 'copy': 794,\n",
              " \"she's\": 795,\n",
              " 'entertaining': 796,\n",
              " 'paul': 797,\n",
              " 'wont': 798,\n",
              " 'fire': 799,\n",
              " 'mark': 800,\n",
              " 'premise': 801,\n",
              " 'explain': 802,\n",
              " 'red': 803,\n",
              " 'called': 804,\n",
              " 'loved': 805,\n",
              " 'based': 806,\n",
              " 'amaze': 807,\n",
              " 'battle': 808,\n",
              " 'tom': 809,\n",
              " 'focus': 810,\n",
              " 'weak': 811,\n",
              " 'box': 812,\n",
              " 'fans': 813,\n",
              " 'element': 814,\n",
              " 'train': 815,\n",
              " 'zombie': 816,\n",
              " 'atmosphere': 817,\n",
              " 'eventually': 818,\n",
              " 'stick': 819,\n",
              " 'beginning': 820,\n",
              " 'offer': 821,\n",
              " 'york': 822,\n",
              " 'truth': 823,\n",
              " 'particular': 824,\n",
              " 'indeed': 825,\n",
              " 'gun': 826,\n",
              " 'lives': 827,\n",
              " '5': 828,\n",
              " 'romance': 829,\n",
              " 'average': 830,\n",
              " 'deep': 831,\n",
              " 'becomes': 832,\n",
              " 'lame': 833,\n",
              " 'ill': 834,\n",
              " 'agree': 835,\n",
              " 'shame': 836,\n",
              " 'whatever': 837,\n",
              " 'villain': 838,\n",
              " 'under': 839,\n",
              " 'drug': 840,\n",
              " 'seemed': 841,\n",
              " 'spoiler': 842,\n",
              " '4': 843,\n",
              " 'bill': 844,\n",
              " 'poorly': 845,\n",
              " 'water': 846,\n",
              " 'crew': 847,\n",
              " 'deliver': 848,\n",
              " 'difficult': 849,\n",
              " 'youll': 850,\n",
              " 'fit': 851,\n",
              " 'mess': 852,\n",
              " 'wanted': 853,\n",
              " 'third': 854,\n",
              " 'masterpiece': 855,\n",
              " 'america': 856,\n",
              " 'society': 857,\n",
              " 'id': 858,\n",
              " \"i'd\": 859,\n",
              " 'provide': 860,\n",
              " 'imdb': 861,\n",
              " 'male': 862,\n",
              " 'possibly': 863,\n",
              " 'shock': 864,\n",
              " '\\x96': 865,\n",
              " 'emotional': 866,\n",
              " 'footage': 867,\n",
              " 'gay': 868,\n",
              " 'children': 869,\n",
              " 'unless': 870,\n",
              " 'producer': 871,\n",
              " 'memorable': 872,\n",
              " 'free': 873,\n",
              " 'background': 874,\n",
              " 'sexual': 875,\n",
              " 'amazing': 876,\n",
              " 'hot': 877,\n",
              " 'beauty': 878,\n",
              " 'otherwise': 879,\n",
              " 'screenplay': 880,\n",
              " 'stage': 881,\n",
              " 'german': 882,\n",
              " 'win': 883,\n",
              " 'image': 884,\n",
              " 'writing': 885,\n",
              " 'superb': 886,\n",
              " 'shes': 887,\n",
              " 'island': 888,\n",
              " 'match': 889,\n",
              " 'cartoon': 890,\n",
              " \"you'll\": 891,\n",
              " 'compare': 892,\n",
              " 'nature': 893,\n",
              " 'allow': 894,\n",
              " 'list': 895,\n",
              " 'baby': 896,\n",
              " 'de': 897,\n",
              " 'cheesy': 898,\n",
              " 'remake': 899,\n",
              " 'plus': 900,\n",
              " 'party': 901,\n",
              " 'guys': 902,\n",
              " 'wants': 903,\n",
              " 'perfectly': 904,\n",
              " 'admit': 905,\n",
              " 'previous': 906,\n",
              " 'works': 907,\n",
              " 'pull': 908,\n",
              " 'grow': 909,\n",
              " 'forward': 910,\n",
              " 'inside': 911,\n",
              " 'personal': 912,\n",
              " 'tries': 913,\n",
              " 'thank': 914,\n",
              " 'total': 915,\n",
              " 'quickly': 916,\n",
              " 'weird': 917,\n",
              " 'japanese': 918,\n",
              " 'plan': 919,\n",
              " 'badly': 920,\n",
              " 'lee': 921,\n",
              " 'detail': 922,\n",
              " 'towards': 923,\n",
              " 'trouble': 924,\n",
              " 'days': 925,\n",
              " 'secret': 926,\n",
              " 'turns': 927,\n",
              " 'incredibly': 928,\n",
              " \"they're\": 929,\n",
              " 'earlier': 930,\n",
              " 'crazy': 931,\n",
              " 'enjoyed': 932,\n",
              " 'development': 933,\n",
              " 'girlfriend': 934,\n",
              " 'unique': 935,\n",
              " 'alien': 936,\n",
              " 'business': 937,\n",
              " 'aspect': 938,\n",
              " 'adult': 939,\n",
              " 'older': 940,\n",
              " 'front': 941,\n",
              " 'powerful': 942,\n",
              " 'chase': 943,\n",
              " 'starts': 944,\n",
              " 'theyre': 945,\n",
              " 'various': 946,\n",
              " 'gave': 947,\n",
              " 'sing': 948,\n",
              " 'plenty': 949,\n",
              " 'member': 950,\n",
              " 'date': 951,\n",
              " 'appreciate': 952,\n",
              " 'filmmaker': 953,\n",
              " 'steal': 954,\n",
              " 'charm': 955,\n",
              " 'eyes': 956,\n",
              " 'directed': 957,\n",
              " 'choice': 958,\n",
              " 'rich': 959,\n",
              " 'attack': 960,\n",
              " 'dramatic': 961,\n",
              " 'dumb': 962,\n",
              " \"won't\": 963,\n",
              " 'creepy': 964,\n",
              " 'emotion': 965,\n",
              " 'rate': 966,\n",
              " 'fairly': 967,\n",
              " 'parts': 968,\n",
              " 'success': 969,\n",
              " 'apart': 970,\n",
              " 'joe': 971,\n",
              " 'themselves': 972,\n",
              " 'fantasy': 973,\n",
              " 'thinking': 974,\n",
              " 'outside': 975,\n",
              " 'standard': 976,\n",
              " 'stories': 977,\n",
              " 'la': 978,\n",
              " 'girls': 979,\n",
              " 'bother': 980,\n",
              " 'soldier': 981,\n",
              " 'political': 982,\n",
              " 'studio': 983,\n",
              " 'fear': 984,\n",
              " 'notice': 985,\n",
              " 'vampire': 986,\n",
              " 'student': 987,\n",
              " 'annoy': 988,\n",
              " 'disney': 989,\n",
              " 'william': 990,\n",
              " 'plain': 991,\n",
              " 'myself': 992,\n",
              " 'company': 993,\n",
              " 'edit': 994,\n",
              " 'feeling': 995,\n",
              " 'era': 996,\n",
              " 'accent': 997,\n",
              " 'control': 998,\n",
              " 'recently': 999,\n",
              " 'amount': 1000,\n",
              " ...}"
            ]
          },
          "metadata": {},
          "execution_count": 79
        }
      ],
      "source": [
        "tok.word_index"
      ]
    },
    {
      "cell_type": "markdown",
      "metadata": {
        "id": "sAtyNwS6wPN2"
      },
      "source": [
        "We could fit the tokenizer with an OOV token, which will be added to word_index and given"
      ]
    },
    {
      "cell_type": "code",
      "execution_count": null,
      "metadata": {
        "id": "76nEaRc0wSW3"
      },
      "outputs": [],
      "source": [
        "tok = Tokenizer(oov_token='UNK')\n",
        "tok.fit_on_texts(texts)"
      ]
    },
    {
      "cell_type": "code",
      "execution_count": null,
      "metadata": {
        "colab": {
          "base_uri": "https://localhost:8080/"
        },
        "id": "pT0BPxoVwkCr",
        "outputId": "b56fdad4-9cac-49bc-8c73-cf5a130fcbe0"
      },
      "outputs": [
        {
          "output_type": "execute_result",
          "data": {
            "text/plain": [
              "1"
            ]
          },
          "metadata": {},
          "execution_count": 81
        }
      ],
      "source": [
        "tok.word_index['UNK']"
      ]
    },
    {
      "cell_type": "markdown",
      "metadata": {
        "id": "ajbkC8fhuBjs"
      },
      "source": [
        "# Important notes on Keras Tokenizer:\n",
        "\n",
        "- As you can see, the UNK token is added with index = 1. Index 0 is never given.\n",
        "\n",
        "This info is important when dealing later with Embedding layer in Keras, where padding with 0's might cause OOV if not considered, so we init that layer with vocab_size + 1 (to account for the missing 0). That layer also has option to mask_zero if needed for LSTM.\n",
        "\n",
        "Another solution would be to -1 from all binarized values. But this would make padded words same as UNK.\n",
        "\n",
        "In other words, it's a choice to have two different values for:\n",
        "\n",
        "A- UNK-->1\n",
        "B- PAD-->0\n",
        "\n",
        "In this case, the vocab_sz should increase by 1 (for pad), in case the model needs padding like LSTM.\n",
        "\n",
        "Or keep them both as 0. In this case, the vocab_sz remains the same as given from the tokenizer.\n",
        "\n",
        "- If you fit a tokenizer wil small vocab using num_words, then take care that the word_index will still hold the full vocab.Then if you vectorize the text, either use tokenizer.texts_to_sequences, which will take care of the passed num_words,or if you develop ur own str2idx dict, then take care of the vocab not to use word_index as is, but limit it with the num_words, __keeping in mind that word_index is ordered by freqeuency__. A better approach is to build your own vocab\n"
      ]
    },
    {
      "cell_type": "code",
      "execution_count": null,
      "metadata": {
        "id": "yXta_wRqxYWx"
      },
      "outputs": [],
      "source": [
        "tok = Tokenizer(num_words=100, oov_token='UNK')\n",
        "tok.fit_on_texts(texts)"
      ]
    },
    {
      "cell_type": "code",
      "execution_count": null,
      "metadata": {
        "colab": {
          "base_uri": "https://localhost:8080/"
        },
        "id": "cRVQjT74zTGg",
        "outputId": "749c6bb2-3211-471a-c38f-5f77b9465e80"
      },
      "outputs": [
        {
          "output_type": "execute_result",
          "data": {
            "text/plain": [
              "145819"
            ]
          },
          "metadata": {},
          "execution_count": 83
        }
      ],
      "source": [
        "len(tok.word_index)"
      ]
    },
    {
      "cell_type": "markdown",
      "metadata": {
        "id": "h_bPrDm9xk1l"
      },
      "source": [
        "Keras tokenizer can be used to vectorize or binarize words into integer indices (more on that later). It takes list of words"
      ]
    },
    {
      "cell_type": "code",
      "execution_count": null,
      "metadata": {
        "colab": {
          "base_uri": "https://localhost:8080/"
        },
        "id": "AoyM7vsQy44_",
        "outputId": "ce50293d-e1e2-4a69-807c-55e7443dcdc4"
      },
      "outputs": [
        {
          "output_type": "execute_result",
          "data": {
            "text/plain": [
              "[[1], [1], [1], [1], [1], [], [1], [1], [1], [1], [1]]"
            ]
          },
          "metadata": {},
          "execution_count": 84
        }
      ],
      "source": [
        "s = 'Hello World'\n",
        "tok.texts_to_sequences(s)"
      ]
    },
    {
      "cell_type": "markdown",
      "metadata": {
        "id": "4AXYySZcy7Ao"
      },
      "source": [
        "What happened above is that texts_to_sequences considered s as a list of chars, ALL OOV so unknowns"
      ]
    },
    {
      "cell_type": "code",
      "execution_count": null,
      "metadata": {
        "colab": {
          "base_uri": "https://localhost:8080/"
        },
        "id": "McRODBQPxy98",
        "outputId": "69fdbedf-7c0f-4a6b-f9df-10b1218708c6"
      },
      "outputs": [
        {
          "output_type": "execute_result",
          "data": {
            "text/plain": [
              "[[1], [1]]"
            ]
          },
          "metadata": {},
          "execution_count": 85
        }
      ],
      "source": [
        "s = 'Hello World'\n",
        "tok.texts_to_sequences(s.split())"
      ]
    },
    {
      "cell_type": "markdown",
      "metadata": {
        "id": "jHBuhR3tzE60"
      },
      "source": [
        "Hello is not in the training set"
      ]
    },
    {
      "cell_type": "markdown",
      "metadata": {
        "id": "wPFQVbgtzdgt"
      },
      "source": [
        "Let's try to vectorize a sentence with word beyond the first 100 most frequent words:"
      ]
    },
    {
      "cell_type": "code",
      "execution_count": null,
      "metadata": {
        "colab": {
          "base_uri": "https://localhost:8080/"
        },
        "id": "CLbfbaqrzY6o",
        "outputId": "3b27e8a8-2cca-432f-ef9c-32d2b4419680"
      },
      "outputs": [
        {
          "output_type": "execute_result",
          "data": {
            "text/plain": [
              "[[1], [10]]"
            ]
          },
          "metadata": {},
          "execution_count": 86
        }
      ],
      "source": [
        "s = 'cartoon movie'\n",
        "tok.texts_to_sequences(s.split())"
      ]
    },
    {
      "cell_type": "markdown",
      "metadata": {
        "id": "o4njsnKazzAk"
      },
      "source": [
        "Although movie is in the word_index, but it's considered unknown with texts_to_sequences. So we have to take care of that when dealing the vocab.\n",
        "\n",
        "\n",
        "Let's fit on all data and repeat"
      ]
    },
    {
      "cell_type": "code",
      "execution_count": null,
      "metadata": {
        "colab": {
          "base_uri": "https://localhost:8080/"
        },
        "id": "buW4wHlW0B76",
        "outputId": "41a42899-b875-4dab-a006-ddd09eeebf1c"
      },
      "outputs": [
        {
          "output_type": "execute_result",
          "data": {
            "text/plain": [
              "[[891], [10]]"
            ]
          },
          "metadata": {},
          "execution_count": 87
        }
      ],
      "source": [
        "tok = Tokenizer(oov_token='UNK')\n",
        "tok.fit_on_texts(texts)\n",
        "s = 'cartoon movie'\n",
        "l = tok.texts_to_sequences(s.split())\n",
        "l"
      ]
    },
    {
      "cell_type": "markdown",
      "metadata": {
        "id": "zrnRyqvG0HbL"
      },
      "source": [
        "Now the word cartoon is known"
      ]
    },
    {
      "cell_type": "markdown",
      "metadata": {
        "id": "cSadgFVd5Ail"
      },
      "source": [
        "But the shape is not as expected!"
      ]
    },
    {
      "cell_type": "code",
      "execution_count": null,
      "metadata": {
        "colab": {
          "base_uri": "https://localhost:8080/"
        },
        "id": "bDkPGvff5IxS",
        "outputId": "a830819f-41fd-4dca-bde0-0485da73f6db"
      },
      "outputs": [
        {
          "output_type": "execute_result",
          "data": {
            "text/plain": [
              "(2, 1)"
            ]
          },
          "metadata": {},
          "execution_count": 88
        }
      ],
      "source": [
        "np.array(l).shape"
      ]
    },
    {
      "cell_type": "markdown",
      "metadata": {
        "id": "1TlRLrc_5Ust"
      },
      "source": [
        "We would expect (1,2), for 1 sentence and 2 words.\n",
        "\n",
        "texts_to_sequences takes a list (char, words, sequences). So in the above case, it considers the 2 words as separate sentences.\n",
        "\n",
        "To fix this:\n"
      ]
    },
    {
      "cell_type": "code",
      "execution_count": null,
      "metadata": {
        "colab": {
          "base_uri": "https://localhost:8080/"
        },
        "id": "YwkgNx_45mRk",
        "outputId": "9fc7c6ff-7021-46ea-acf5-197ae6bbd494"
      },
      "outputs": [
        {
          "output_type": "execute_result",
          "data": {
            "text/plain": [
              "[[891, 10]]"
            ]
          },
          "metadata": {},
          "execution_count": 89
        }
      ],
      "source": [
        "l = tok.texts_to_sequences([s.split()])\n",
        "l"
      ]
    },
    {
      "cell_type": "code",
      "execution_count": null,
      "metadata": {
        "colab": {
          "base_uri": "https://localhost:8080/"
        },
        "id": "bys1_eoE5qxj",
        "outputId": "cfc147ff-d0c4-4dfa-bc8e-2d6427be3752"
      },
      "outputs": [
        {
          "output_type": "execute_result",
          "data": {
            "text/plain": [
              "(1, 2)"
            ]
          },
          "metadata": {},
          "execution_count": 90
        }
      ],
      "source": [
        "np.array(l).shape"
      ]
    },
    {
      "cell_type": "markdown",
      "metadata": {
        "id": "9gCg-qBA6j0w"
      },
      "source": [
        "To get back to text = decode:"
      ]
    },
    {
      "cell_type": "code",
      "execution_count": null,
      "metadata": {
        "colab": {
          "base_uri": "https://localhost:8080/"
        },
        "id": "wh_De2SW6a5v",
        "outputId": "442a8566-93a8-416d-abe1-728ccc1222c4"
      },
      "outputs": [
        {
          "output_type": "execute_result",
          "data": {
            "text/plain": [
              "['cartoon movie']"
            ]
          },
          "metadata": {},
          "execution_count": 91
        }
      ],
      "source": [
        "tok.sequences_to_texts(l)"
      ]
    },
    {
      "cell_type": "markdown",
      "metadata": {
        "id": "H-lkVEOe0Q0q"
      },
      "source": [
        "Tokenizer can also be used for few more things:\n",
        "\n",
        "- word counts: A dictionary of words and their counts.\n",
        "\n",
        "- word docs: An integer count of the total number of documents that were used to fit the Tokenizer.\n",
        "\n",
        "- word index: A dictionary of words and their uniquely assigned integers.\n",
        "\n",
        "- document count: A dictionary of words and how many documents each appeared in."
      ]
    },
    {
      "cell_type": "code",
      "execution_count": null,
      "metadata": {
        "colab": {
          "base_uri": "https://localhost:8080/"
        },
        "id": "TV0Fj20R2Pbf",
        "outputId": "3aed6e6b-2785-4256-85ab-3cc2791f55a8"
      },
      "outputs": [
        {
          "output_type": "stream",
          "name": "stdout",
          "text": [
            "OrderedDict([('well', 1), ('done', 1), ('good', 1), ('work', 2), ('great', 1), ('effort', 1), ('nice', 1), ('excellent', 1)])\n",
            "5\n",
            "{'work': 1, 'well': 2, 'done': 3, 'good': 4, 'great': 5, 'effort': 6, 'nice': 7, 'excellent': 8}\n",
            "defaultdict(<class 'int'>, {'done': 1, 'well': 1, 'work': 2, 'good': 1, 'effort': 1, 'great': 1, 'nice': 1, 'excellent': 1})\n"
          ]
        }
      ],
      "source": [
        "from tensorflow.keras.preprocessing.text import Tokenizer\n",
        "# define 5 documents\n",
        "docs = ['Well done!',\n",
        "'Good work',\n",
        "'Great effort',\n",
        "'nice work',\n",
        "'Excellent!']\n",
        "# create the tokenizer\n",
        "t = Tokenizer()\n",
        "# fit the tokenizer on the documents\n",
        "t.fit_on_texts(docs)\n",
        "# summarize what was learned\n",
        "print(t.word_counts)\n",
        "print(t.document_count)\n",
        "print(t.word_index)\n",
        "print(t.word_docs)\n"
      ]
    },
    {
      "cell_type": "markdown",
      "metadata": {
        "id": "lFF6WjdmETVs"
      },
      "source": [
        "# Padding\n",
        "\n",
        "The vectors we obtain are generally not of equal lengths:"
      ]
    },
    {
      "cell_type": "code",
      "execution_count": null,
      "metadata": {
        "colab": {
          "base_uri": "https://localhost:8080/"
        },
        "id": "FUTf-ezkEZqt",
        "outputId": "a98c6c17-3540-436b-f163-89e459b20e1f"
      },
      "outputs": [
        {
          "output_type": "execute_result",
          "data": {
            "text/plain": [
              "[[891, 10, 66], [4817, 155]]"
            ]
          },
          "metadata": {},
          "execution_count": 93
        }
      ],
      "source": [
        "docs = ['cartoon movie show', 'hello world']\n",
        "docs = [s.split() for s in docs]\n",
        "l = tok.texts_to_sequences(docs)\n",
        "l"
      ]
    },
    {
      "cell_type": "markdown",
      "metadata": {
        "id": "hCkvOMygEz33"
      },
      "source": [
        "For most supervised learning models, we need the design matrix X to have fixed number of columns and number of rows as the data size. RNNs are exceptions, but in most frameworks, it's also required to have fixed length vectors.\n",
        "\n",
        "For that, we might need to pad the sequences to max len. For RNNs, the padded parts can be ignored later.\n",
        "\n"
      ]
    },
    {
      "cell_type": "code",
      "execution_count": null,
      "metadata": {
        "colab": {
          "base_uri": "https://localhost:8080/"
        },
        "id": "cEcfU65kEtS5",
        "outputId": "096640b8-ca4c-4811-fe39-f8fe38ac4a23"
      },
      "outputs": [
        {
          "output_type": "execute_result",
          "data": {
            "text/plain": [
              "(2, 13704)"
            ]
          },
          "metadata": {},
          "execution_count": 94
        }
      ],
      "source": [
        "from tensorflow.keras.preprocessing.sequence import pad_sequences\n",
        "maxlen = max([len(t) for t in texts])\n",
        "\n",
        "l = np.array(pad_sequences(l,\n",
        "                          maxlen=maxlen,\n",
        "                          padding='post',\n",
        "                          truncating='post'))\n",
        "l.shape"
      ]
    },
    {
      "cell_type": "code",
      "execution_count": null,
      "metadata": {
        "colab": {
          "base_uri": "https://localhost:8080/"
        },
        "id": "arW2YItTFn2Q",
        "outputId": "99f25b7b-d56c-4507-fb13-651dbe6d2d05"
      },
      "outputs": [
        {
          "output_type": "execute_result",
          "data": {
            "text/plain": [
              "array([[ 891,   10,   66, ...,    0,    0,    0],\n",
              "       [4817,  155,    0, ...,    0,    0,    0]], dtype=int32)"
            ]
          },
          "metadata": {},
          "execution_count": 95
        }
      ],
      "source": [
        "l"
      ]
    },
    {
      "cell_type": "markdown",
      "metadata": {
        "id": "aQjEXZQ2FpSR"
      },
      "source": [
        "Notes:\n",
        "\n",
        "- Padding can be performed on texts before or after binarization. However, it's better to be done after binarization since we pad 0's which won't be understood by the vocab during binarization\n",
        "\n",
        "- The padded vector is very sparse! This is due to exceptionally long sentences --> outliers. So it's better to remove them, or even limit the max sentence length."
      ]
    },
    {
      "cell_type": "markdown",
      "metadata": {
        "id": "oGx90NJTDkmK"
      },
      "source": [
        "# Text features\n",
        "\n",
        "So far, we have tranformed the text into binary/digital form that can be understood by ML models.\n",
        "\n",
        "However, we can further apply or extract different features from the vectorized form.\n",
        "\n",
        "In other words, we can represent the sequence of word indices we obtained in different forms.\n",
        "\n"
      ]
    },
    {
      "cell_type": "markdown",
      "metadata": {
        "id": "W0kOrBk51HYb"
      },
      "source": [
        "# BoW with keras Tokenizer\n",
        "\n",
        "We can use keras tokenizer to build a simple BoW.\n",
        "\n",
        "The rows = number of sentences/documents\n",
        "\n",
        "The #columns = number of words in the vocab\n",
        "\n",
        "Each entry can encode different modes:\n",
        "\n",
        "- binary: Whether or not each word is present in the document. This is the default.\n",
        "\n",
        "- count: The count of each word in the document.\n",
        "\n",
        "- tfidf: The Text Frequency-Inverse DocumentFrequency (TF-IDF) scoring for each word in the document (more on that later).\n",
        "\n",
        "- freq: The frequency of each word as a ratio of words within each document."
      ]
    },
    {
      "cell_type": "code",
      "execution_count": null,
      "metadata": {
        "colab": {
          "base_uri": "https://localhost:8080/"
        },
        "id": "KQxiGrnB0ixV",
        "outputId": "9f77ba87-0ffc-41c4-f4a2-a320222d85c1"
      },
      "outputs": [
        {
          "output_type": "execute_result",
          "data": {
            "text/plain": [
              "(10, 145820)"
            ]
          },
          "metadata": {},
          "execution_count": 96
        }
      ],
      "source": [
        "tok = Tokenizer(oov_token='UNK')\n",
        "tok.fit_on_texts(texts)\n",
        "bow = tok.texts_to_matrix(texts[:10], mode='count')\n",
        "bow.shape"
      ]
    },
    {
      "cell_type": "code",
      "execution_count": null,
      "metadata": {
        "colab": {
          "base_uri": "https://localhost:8080/"
        },
        "id": "p5zf28EU0rYR",
        "outputId": "45571ca5-243c-4eb9-ef3a-377f8674614b"
      },
      "outputs": [
        {
          "output_type": "execute_result",
          "data": {
            "text/plain": [
              "(10, 100)"
            ]
          },
          "metadata": {},
          "execution_count": 97
        }
      ],
      "source": [
        "tok = Tokenizer(num_words=100, oov_token='UNK')\n",
        "tok.fit_on_texts(texts)\n",
        "bow = tok.texts_to_matrix(texts[:10], mode='count')\n",
        "bow.shape"
      ]
    },
    {
      "cell_type": "code",
      "execution_count": null,
      "metadata": {
        "colab": {
          "base_uri": "https://localhost:8080/"
        },
        "id": "AdEae6hl1hdA",
        "outputId": "907d81c8-50ef-4a37-916a-852df0a0807a"
      },
      "outputs": [
        {
          "output_type": "execute_result",
          "data": {
            "text/plain": [
              "array([[  0.,  35.,   4.,   1.,   3.,   2.,   2.,   3.,   0.,   0.,   5.,\n",
              "          0.,   2.,   5.,   5.,   0.,   0.,   0.,   1.,   0.,   1.,   0.,\n",
              "          0.,   1.,   0.,   0.,   0.,   0.,   0.,   0.,   0.,   0.,   1.,\n",
              "          1.,   1.,   0.,   0.,   1.,   1.,   0.,   0.,   0.,   0.,   0.,\n",
              "          0.,   0.,   0.,   0.,   0.,   0.,   0.,   0.,   0.,   1.,   0.,\n",
              "          0.,   0.,   0.,   0.,   1.,   0.,   1.,   0.,   0.,   1.,   0.,\n",
              "          0.,   1.,   0.,   1.,   0.,   0.,   0.,   1.,   2.,   0.,   0.,\n",
              "          0.,   0.,   0.,   0.,   0.,   0.,   0.,   0.,   0.,   1.,   0.,\n",
              "          0.,   0.,   0.,   0.,   0.,   1.,   0.,   0.,   0.,   0.,   0.,\n",
              "          1.],\n",
              "       [  0.,  66.,   7.,   5.,   5.,   3.,   6.,   2.,   2.,   1.,   0.,\n",
              "          2.,   2.,   0.,   0.,   1.,   0.,   0.,   2.,   2.,   0.,   1.,\n",
              "          1.,   2.,   0.,   2.,   0.,   0.,   0.,   1.,   0.,   0.,   1.,\n",
              "          0.,   1.,   0.,   1.,   0.,   0.,   0.,   3.,   0.,   1.,   1.,\n",
              "          1.,   0.,   0.,   0.,   0.,   0.,   1.,   0.,   0.,   0.,   0.,\n",
              "          0.,   0.,   1.,   0.,   4.,   0.,   0.,   0.,   1.,   1.,   0.,\n",
              "          0.,   2.,   0.,   0.,   0.,   0.,   0.,   0.,   0.,   0.,   0.,\n",
              "          0.,   0.,   0.,   0.,   0.,   2.,   0.,   0.,   0.,   0.,   2.,\n",
              "          0.,   1.,   0.,   0.,   0.,   0.,   0.,   0.,   0.,   0.,   0.,\n",
              "          0.],\n",
              "       [  0., 529.,  67.,  30.,  28.,  27.,  23.,   8.,  14.,  21.,   9.,\n",
              "          2.,   5.,   6.,   9.,  15.,   3.,  12.,   6.,  12.,  11.,   8.,\n",
              "          4.,   3.,   1.,   3.,   1.,   6.,   3.,   2.,   4.,   3.,   2.,\n",
              "          3.,   2.,   1.,   5.,   2.,   1.,   1.,   1.,   2.,   5.,   4.,\n",
              "          2.,   4.,   0.,   1.,   3.,   1.,   2.,   1.,   2.,   5.,   1.,\n",
              "          1.,   2.,   0.,   1.,   1.,   1.,   1.,   1.,   2.,   1.,   0.,\n",
              "          2.,   2.,   0.,   1.,   0.,   2.,   1.,   3.,   1.,   0.,   0.,\n",
              "          1.,   7.,   1.,   0.,   1.,   2.,   3.,   2.,   0.,   1.,   1.,\n",
              "          1.,   2.,   0.,   0.,   0.,   1.,   0.,   1.,   4.,   0.,   0.,\n",
              "          0.],\n",
              "       [  0., 358.,  32.,  10.,  19.,  10.,  17.,  13.,  20.,  17.,   5.,\n",
              "          1.,  10.,   8.,   7.,  10.,   2.,   6.,   2.,   3.,   2.,   1.,\n",
              "          8.,   2.,   1.,   4.,   6.,   1.,   2.,   3.,   2.,   0.,   1.,\n",
              "          1.,   1.,   2.,   1.,   4.,   3.,   0.,   2.,   2.,   2.,   3.,\n",
              "          1.,   2.,   3.,   0.,   4.,   2.,   0.,   1.,   0.,   4.,   0.,\n",
              "          3.,   3.,   0.,   3.,   2.,   1.,   1.,   0.,   4.,   5.,   1.,\n",
              "          0.,   2.,   1.,   1.,   1.,   2.,   0.,   3.,   0.,   0.,   0.,\n",
              "          0.,   1.,   2.,   1.,   0.,   0.,   0.,   1.,   1.,   0.,   0.,\n",
              "          0.,   1.,   1.,   1.,   1.,   0.,   2.,   0.,   0.,   1.,   1.,\n",
              "          2.],\n",
              "       [  0.,  74.,   7.,   6.,   2.,   0.,   3.,   0.,   0.,   3.,   0.,\n",
              "          0.,   2.,   2.,   2.,   3.,   0.,   6.,   0.,   1.,   0.,   1.,\n",
              "          0.,   0.,   0.,   1.,   2.,   0.,   1.,   0.,   0.,   0.,   0.,\n",
              "          0.,   1.,   0.,   0.,   1.,   0.,   0.,   0.,   0.,   0.,   0.,\n",
              "          0.,   4.,   0.,   0.,   1.,   0.,   0.,   0.,   0.,   0.,   1.,\n",
              "          0.,   0.,   0.,   0.,   1.,   0.,   0.,   0.,   2.,   0.,   0.,\n",
              "          0.,   1.,   0.,   0.,   0.,   0.,   0.,   2.,   0.,   0.,   0.,\n",
              "          0.,   0.,   0.,   1.,   0.,   0.,   1.,   1.,   1.,   0.,   0.,\n",
              "          0.,   0.,   0.,   0.,   0.,   0.,   1.,   0.,   0.,   0.,   0.,\n",
              "          0.],\n",
              "       [  0., 103.,   8.,   2.,   2.,   3.,   7.,   8.,   8.,   7.,   1.,\n",
              "          1.,   4.,   3.,   2.,   2.,   1.,   0.,   1.,   2.,   1.,   1.,\n",
              "          0.,   3.,   0.,   1.,   3.,   4.,   0.,   0.,   1.,   0.,   0.,\n",
              "          2.,   1.,   1.,   1.,   0.,   1.,   0.,   1.,   0.,   0.,   1.,\n",
              "          1.,   0.,   0.,   0.,   0.,   0.,   0.,   0.,   1.,   0.,   0.,\n",
              "          0.,   0.,   1.,   0.,   1.,   0.,   1.,   0.,   3.,   0.,   1.,\n",
              "          0.,   0.,   1.,   0.,   0.,   1.,   1.,   3.,   1.,   0.,   0.,\n",
              "          0.,   0.,   0.,   0.,   0.,   0.,   0.,   0.,   1.,   0.,   0.,\n",
              "          0.,   2.,   0.,   0.,   0.,   0.,   0.,   0.,   0.,   0.,   2.,\n",
              "          1.],\n",
              "       [  0.,  93.,   8.,   3.,   5.,   6.,   3.,   0.,   8.,   3.,   5.,\n",
              "          0.,   6.,   5.,   6.,   5.,   2.,   4.,   0.,   2.,   3.,   1.,\n",
              "          2.,   1.,   0.,   0.,   6.,   0.,   0.,   2.,   0.,   0.,   0.,\n",
              "          0.,   1.,   0.,   1.,   0.,   1.,   0.,   1.,   0.,   0.,   0.,\n",
              "          0.,   0.,   0.,   0.,   1.,   0.,   0.,   1.,   0.,   0.,   1.,\n",
              "          0.,   1.,   0.,   1.,   2.,   0.,   2.,   1.,   0.,   2.,   0.,\n",
              "          0.,   1.,   0.,   0.,   0.,   2.,   0.,   2.,   0.,   0.,   0.,\n",
              "          0.,   0.,   1.,   2.,   0.,   1.,   0.,   0.,   0.,   0.,   0.,\n",
              "          0.,   0.,   0.,   0.,   1.,   0.,   2.,   0.,   0.,   0.,   0.,\n",
              "          2.],\n",
              "       [  0.,  87.,   7.,   3.,   5.,   5.,   3.,   0.,   0.,   1.,   1.,\n",
              "          1.,   1.,   3.,   0.,   1.,   2.,   3.,   1.,   0.,   2.,   1.,\n",
              "          0.,   0.,   1.,   1.,   0.,   0.,   0.,   0.,   3.,   0.,   0.,\n",
              "          0.,   3.,   1.,   0.,   1.,   2.,   0.,   1.,   0.,   0.,   1.,\n",
              "          0.,   1.,   0.,   0.,   0.,   1.,   0.,   0.,   0.,   0.,   0.,\n",
              "          0.,   0.,   0.,   0.,   1.,   0.,   0.,   0.,   0.,   0.,   0.,\n",
              "          0.,   0.,   0.,   0.,   0.,   0.,   0.,   1.,   1.,   0.,   0.,\n",
              "          0.,   0.,   0.,   0.,   0.,   0.,   0.,   1.,   0.,   0.,   0.,\n",
              "          0.,   1.,   0.,   0.,   2.,   0.,   0.,   0.,   0.,   0.,   1.,\n",
              "          0.],\n",
              "       [  0., 105.,   9.,   8.,   4.,   3.,   3.,   0.,  10.,   7.,   0.,\n",
              "          4.,   6.,   5.,   2.,   5.,   0.,   2.,   0.,   2.,   3.,   1.,\n",
              "          0.,   2.,   0.,   0.,   0.,   1.,   0.,   2.,   1.,   0.,   3.,\n",
              "          4.,   1.,   2.,   0.,   2.,   1.,   0.,   1.,   0.,   0.,   0.,\n",
              "          1.,   4.,   1.,   0.,   1.,   2.,   1.,   0.,   1.,   1.,   2.,\n",
              "          0.,   0.,   1.,   0.,   0.,   0.,   2.,   0.,   0.,   1.,   1.,\n",
              "          0.,   2.,   0.,   0.,   0.,   1.,   0.,   0.,   1.,   0.,   0.,\n",
              "          0.,   0.,   0.,   0.,   0.,   0.,   0.,   2.,   0.,   1.,   1.,\n",
              "          0.,   1.,   0.,   0.,   0.,   1.,   0.,   0.,   0.,   0.,   0.,\n",
              "          0.],\n",
              "       [  0.,  61.,   7.,   4.,   5.,   2.,   0.,   3.,   0.,   1.,   2.,\n",
              "          0.,   0.,   1.,   2.,   3.,   2.,   2.,   3.,   1.,   0.,   1.,\n",
              "          0.,   0.,   0.,   1.,   0.,   0.,   0.,   0.,   3.,   0.,   2.,\n",
              "          0.,   1.,   0.,   0.,   0.,   2.,   0.,   1.,   0.,   0.,   1.,\n",
              "          0.,   0.,   0.,   0.,   0.,   1.,   1.,   0.,   1.,   0.,   0.,\n",
              "          0.,   1.,   0.,   0.,   0.,   0.,   0.,   0.,   0.,   0.,   1.,\n",
              "          0.,   0.,   0.,   0.,   0.,   0.,   0.,   0.,   0.,   0.,   0.,\n",
              "          0.,   1.,   0.,   0.,   0.,   1.,   0.,   1.,   1.,   0.,   0.,\n",
              "          1.,   0.,   0.,   0.,   0.,   0.,   0.,   0.,   1.,   0.,   1.,\n",
              "          0.]])"
            ]
          },
          "metadata": {},
          "execution_count": 98
        }
      ],
      "source": [
        "bow"
      ]
    },
    {
      "cell_type": "markdown",
      "metadata": {
        "id": "4POwl3CKjqat"
      },
      "source": [
        "# BoW with sklearn\n",
        "\n",
        "The BoW model above can be also produced using sklearn"
      ]
    },
    {
      "cell_type": "markdown",
      "metadata": {
        "id": "TlEpHovL7nlf"
      },
      "source": [
        "# CountVectorizer\n",
        "\n",
        "The CountVectorizer provides a simple way to both tokenize a collection of text documents and build a vocabulary of known words"
      ]
    },
    {
      "cell_type": "code",
      "execution_count": null,
      "metadata": {
        "colab": {
          "base_uri": "https://localhost:8080/"
        },
        "id": "Ykk2i3X_KuUv",
        "outputId": "7b4c3224-63fa-4383-d132-4a6b89dd8ec6"
      },
      "outputs": [
        {
          "output_type": "execute_result",
          "data": {
            "text/plain": [
              "(10, 131815)"
            ]
          },
          "metadata": {},
          "execution_count": 99
        }
      ],
      "source": [
        "from sklearn.feature_extraction.text import CountVectorizer\n",
        "\n",
        "vectorizer = CountVectorizer()\n",
        "vectorizer.fit(texts)\n",
        "bow = vectorizer.transform(texts[:10])\n",
        "bow.shape"
      ]
    },
    {
      "cell_type": "code",
      "execution_count": null,
      "metadata": {
        "colab": {
          "base_uri": "https://localhost:8080/"
        },
        "id": "pwTuSII1Liav",
        "outputId": "ba08e5c3-cf5c-4d5a-844d-33bc9a988a63"
      },
      "outputs": [
        {
          "output_type": "execute_result",
          "data": {
            "text/plain": [
              "{'agree': 3179,\n",
              " 'totally': 118650,\n",
              " 'with': 128891,\n",
              " 'the': 116134,\n",
              " 'last': 65248,\n",
              " 'commenter': 23289,\n",
              " 'this': 116724,\n",
              " 'could': 25468,\n",
              " 'be': 10496,\n",
              " 'worst': 129642,\n",
              " 'movie': 76526,\n",
              " 'ever': 38228,\n",
              " 'made': 69495,\n",
              " 'too': 118291,\n",
              " 'had': 50288,\n",
              " 'to': 117914,\n",
              " 'fast': 40451,\n",
              " 'forward': 43713,\n",
              " 'through': 117108,\n",
              " 'most': 76242,\n",
              " 'of': 81879,\n",
              " 'michael': 73637,\n",
              " 'madsen': 69607,\n",
              " 'must': 77682,\n",
              " 'have': 51727,\n",
              " 'done': 32879,\n",
              " 'as': 7277,\n",
              " 'favor': 40642,\n",
              " 'someone': 108002,\n",
              " 'picture': 87776,\n",
              " 'quality': 92960,\n",
              " 'is': 59303,\n",
              " 'grainy': 48594,\n",
              " 'all': 3924,\n",
              " 'way': 126775,\n",
              " 'and': 5076,\n",
              " 'what': 127706,\n",
              " 'little': 67477,\n",
              " 'plot': 88756,\n",
              " 'there': 116402,\n",
              " 'just': 61611,\n",
              " 'plain': 88378,\n",
              " 'stupid': 111870,\n",
              " 'give': 47201,\n",
              " 'out': 83685,\n",
              " '10': 39,\n",
              " 'if': 56246,\n",
              " 'it': 59519,\n",
              " 'lower': 68579,\n",
              " 'score': 101671,\n",
              " 'would': 129686,\n",
              " 'don': 32848,\n",
              " 'waste': 126541,\n",
              " 'your': 130944,\n",
              " 'time': 117466,\n",
              " 'on': 82507,\n",
              " 'or': 83136,\n",
              " 'you': 130873,\n",
              " 'll': 67607,\n",
              " 'regret': 95541,\n",
              " 'jean': 60396,\n",
              " 'rollin': 98414,\n",
              " 'artistic': 7206,\n",
              " 'nonsense': 80408,\n",
              " 'about': 1392,\n",
              " 'vampires': 124037,\n",
              " 'aliens': 3861,\n",
              " 'quest': 93158,\n",
              " 'for': 43317,\n",
              " 'immortality': 56677,\n",
              " 'br': 14804,\n",
              " 'women': 129165,\n",
              " 'are': 6685,\n",
              " 'beautiful': 10676,\n",
              " 'photography': 87600,\n",
              " 'stunning': 111835,\n",
              " 'dialog': 30631,\n",
              " 'inane': 57052,\n",
              " 'its': 59679,\n",
              " 'laughable': 65402,\n",
              " 'mess': 73331,\n",
              " 'great': 48883,\n",
              " 'look': 68075,\n",
              " 'at': 7741,\n",
              " 'but': 16771,\n",
              " 'any': 6023,\n",
              " 'semblance': 102897,\n",
              " 'horror': 54681,\n",
              " 'film': 41565,\n",
              " 'thriller': 117042,\n",
              " 'purely': 92612,\n",
              " 'awful': 8612,\n",
              " 'trying': 120174,\n",
              " 'figure': 41508,\n",
              " 'we': 126877,\n",
              " 're': 94447,\n",
              " 'suppose': 113079,\n",
              " 'scared': 100920,\n",
              " 'not': 80701,\n",
              " 'same': 100047,\n",
              " 'put': 92730,\n",
              " 'an': 4947,\n",
              " 'odd': 81788,\n",
              " 'mix': 74987,\n",
              " 'art': 7113,\n",
              " 'that': 116062,\n",
              " 'never': 79217,\n",
              " 'quite': 93322,\n",
              " 'meshes': 73306,\n",
              " 'while': 127884,\n",
              " 'nice': 79420,\n",
              " 'seems': 102477,\n",
              " 'mean': 72383,\n",
              " 'anything': 6060,\n",
              " 'by': 16944,\n",
              " 'no': 79902,\n",
              " 'means': 72426,\n",
              " 'scary': 100979,\n",
              " 'even': 38193,\n",
              " 'occasional': 81655,\n",
              " 'shot': 104933,\n",
              " 'sequence': 103295,\n",
              " 'creates': 26156,\n",
              " 'moment': 75385,\n",
              " 'frisson': 44531,\n",
              " 'well': 127192,\n",
              " 'pretentious': 90902,\n",
              " 'twaddle': 120668,\n",
              " 'something': 108025,\n",
              " 'leave': 65821,\n",
              " 'in': 57017,\n",
              " 'background': 8957,\n",
              " 'living': 67554,\n",
              " 'wall': 126110,\n",
              " 'paper': 85171,\n",
              " 'those': 116870,\n",
              " 'who': 128093,\n",
              " 'like': 66934,\n",
              " 'naked': 78123,\n",
              " 'johnathan': 61011,\n",
              " 'frakes': 43932,\n",
              " 'good': 47958,\n",
              " 'actor': 2097,\n",
              " 'when': 127827,\n",
              " 'he': 51900,\n",
              " 'directing': 31281,\n",
              " 'family': 40016,\n",
              " 'fine': 41947,\n",
              " 'director': 31310,\n",
              " 'really': 94610,\n",
              " 'shouldn': 104987,\n",
              " 'directed': 31273,\n",
              " 'screenplay': 101852,\n",
              " 'should': 104976,\n",
              " 've': 124306,\n",
              " 'been': 10877,\n",
              " 'rejected': 95732,\n",
              " 'writers': 129892,\n",
              " 'understand': 121958,\n",
              " 'original': 83322,\n",
              " 'tv': 120593,\n",
              " 'show': 105016,\n",
              " 'was': 126463,\n",
              " 'characters': 19824,\n",
              " 'were': 127490,\n",
              " 'how': 55086,\n",
              " 'they': 116501,\n",
              " 'worked': 129450,\n",
              " 'series': 103396,\n",
              " 'many': 70704,\n",
              " 'episodes': 37398,\n",
              " 'razor': 94415,\n",
              " 'sharp': 104163,\n",
              " 'writing': 129910,\n",
              " 'using': 123652,\n",
              " 'dialogue': 30640,\n",
              " 'situations': 106134,\n",
              " 'american': 4699,\n",
              " 'producers': 91355,\n",
              " 'consider': 24309,\n",
              " 'children': 20604,\n",
              " 'programming': 91502,\n",
              " 'much': 77021,\n",
              " 'less': 66334,\n",
              " 'which': 127869,\n",
              " 'so': 107557,\n",
              " 'received': 94858,\n",
              " 'adults': 2592,\n",
              " 'tracys': 118964,\n",
              " 'college': 22842,\n",
              " 'graduates': 48559,\n",
              " 'some': 107979,\n",
              " 'them': 116225,\n",
              " 'did': 30805,\n",
              " 'drank': 33619,\n",
              " 'alcohol': 3681,\n",
              " 'smoked': 107170,\n",
              " 'tobacco': 117936,\n",
              " 'get': 46613,\n",
              " 'killed': 63010,\n",
              " 'although': 4410,\n",
              " 'bad': 9062,\n",
              " 'guys': 50062,\n",
              " 'written': 129927,\n",
              " 'originally': 83333,\n",
              " 'isn': 59427,\n",
              " 'dumbing': 34394,\n",
              " 'things': 116604,\n",
              " 'down': 33351,\n",
              " 'poor': 89488,\n",
              " 'kindergarten': 63134,\n",
              " 'humor': 55490,\n",
              " 'weak': 126878,\n",
              " 'universal': 122552,\n",
              " 'studio': 111766,\n",
              " 'canal': 17601,\n",
              " 'joint': 61063,\n",
              " 'venture': 124497,\n",
              " 'wouldn': 129696,\n",
              " 'such': 112315,\n",
              " 'reviews': 97095,\n",
              " 'motion': 76340,\n",
              " 'almost': 4232,\n",
              " 'pure': 92607,\n",
              " 'blasphemy': 12933,\n",
              " 'seen': 102481,\n",
              " 'supermarionation': 112906,\n",
              " 'then': 116300,\n",
              " 'know': 63653,\n",
              " 'talking': 114467,\n",
              " 'first': 42154,\n",
              " 'thing': 116579,\n",
              " 'place': 88314,\n",
              " 'annoying': 5562,\n",
              " 'constant': 24378,\n",
              " 'references': 95350,\n",
              " 'ford': 43368,\n",
              " 'motor': 76368,\n",
              " 'company': 23443,\n",
              " 'going': 47765,\n",
              " 'far': 40241,\n",
              " 'lady': 64640,\n",
              " 'penelope': 86457,\n",
              " 'riding': 97484,\n",
              " 'around': 6993,\n",
              " 'disfigured': 31740,\n",
              " 'thunderbird': 117221,\n",
              " 'up': 123305,\n",
              " 'fab': 39585,\n",
              " 'instead': 58284,\n",
              " 'more': 75957,\n",
              " 'appropriate': 6443,\n",
              " 'considering': 24318,\n",
              " 'ms': 76945,\n",
              " 'station': 110298,\n",
              " 'mention': 73103,\n",
              " 'being': 11102,\n",
              " 'faithful': 39861,\n",
              " 'rolls': 98423,\n",
              " 'royce': 98995,\n",
              " 'she': 104252,\n",
              " 'supposed': 113081,\n",
              " 'distinguished': 32167,\n",
              " 'member': 72912,\n",
              " 'british': 15516,\n",
              " 'society': 107663,\n",
              " 'hence': 52570,\n",
              " 'preference': 90537,\n",
              " 'england': 36871,\n",
              " 'finest': 41972,\n",
              " 'make': 69944,\n",
              " 'motorcars': 76376,\n",
              " 'one': 82577,\n",
              " 'other': 83566,\n",
              " 'reviewer': 97086,\n",
              " 'here': 52698,\n",
              " 'indicated': 57435,\n",
              " 'caught': 18924,\n",
              " 'dead': 28408,\n",
              " 'pretty': 90918,\n",
              " 'right': 97562,\n",
              " 'context': 24557,\n",
              " 'idea': 56106,\n",
              " 'her': 52657,\n",
              " 'doesn': 32593,\n",
              " 'work': 129437,\n",
              " 'least': 65795,\n",
              " 'ride': 97440,\n",
              " 'jaguar': 60014,\n",
              " 'since': 105842,\n",
              " 'car': 17961,\n",
              " 'owned': 84532,\n",
              " 'use': 123614,\n",
              " 'straight': 111261,\n",
              " 'product': 91368,\n",
              " 'placement': 88332,\n",
              " 'end': 36645,\n",
              " 'every': 38336,\n",
              " 'single': 105904,\n",
              " 'may': 71821,\n",
              " 'see': 102418,\n",
              " 'news': 79309,\n",
              " 'flash': 42452,\n",
              " 'shown': 105066,\n",
              " 'sets': 103546,\n",
              " 'sponsored': 109393,\n",
              " 'predominance': 90494,\n",
              " 'vehicles': 124369,\n",
              " 'makes': 69967,\n",
              " 'obvious': 81628,\n",
              " 'marketing': 71008,\n",
              " 'vehicle': 124368,\n",
              " 'design': 30067,\n",
              " 'futuristic': 45166,\n",
              " '1960s': 364,\n",
              " 'still': 110758,\n",
              " 'remains': 95938,\n",
              " 'ahead': 3237,\n",
              " 'today': 117969,\n",
              " 'because': 10733,\n",
              " 'effort': 35516,\n",
              " 'practical': 90225,\n",
              " 'functional': 44902,\n",
              " 'kind': 63125,\n",
              " 'treatment': 119499,\n",
              " 'didn': 30830,\n",
              " 'exist': 38876,\n",
              " 'where': 127839,\n",
              " 'everything': 38363,\n",
              " 'stylized': 111967,\n",
              " 'excess': 38632,\n",
              " 'defeating': 28994,\n",
              " 'sense': 103112,\n",
              " 'functionality': 44903,\n",
              " 'practicality': 90227,\n",
              " 'lot': 68305,\n",
              " 'strictly': 111537,\n",
              " 'style': 111936,\n",
              " 'times': 117556,\n",
              " 'function': 44901,\n",
              " 'reason': 94689,\n",
              " 'relied': 95865,\n",
              " 'acting': 1939,\n",
              " 'performances': 86765,\n",
              " 'voice': 125549,\n",
              " 'talent': 114412,\n",
              " 'overcome': 84082,\n",
              " 'limited': 67057,\n",
              " 'expressions': 39232,\n",
              " 'puppets': 92570,\n",
              " 'bringing': 15459,\n",
              " 'life': 66734,\n",
              " 'brilliant': 15420,\n",
              " 'lively': 67524,\n",
              " 'music': 77581,\n",
              " 'barry': 10040,\n",
              " 'gray': 48832,\n",
              " 'helped': 52501,\n",
              " 'further': 45101,\n",
              " 'connect': 24159,\n",
              " 'audience': 8072,\n",
              " 'story': 111107,\n",
              " 'came': 17433,\n",
              " 'together': 118031,\n",
              " 'help': 52500,\n",
              " 'achieve': 1792,\n",
              " 'super': 112751,\n",
              " 'objective': 81471,\n",
              " 'bit': 12571,\n",
              " 'stanislavski': 110046,\n",
              " 'talk': 114450,\n",
              " 'hand': 50875,\n",
              " 'overly': 84263,\n",
              " 'grating': 48771,\n",
              " 'anthony': 5700,\n",
              " 'edwards': 35373,\n",
              " 'overplayed': 84307,\n",
              " 'brains': 14904,\n",
              " 'fault': 40598,\n",
              " 'bill': 12313,\n",
              " 'paxton': 86075,\n",
              " 'jeff': 60468,\n",
              " 'tracy': 118962,\n",
              " 'despite': 30156,\n",
              " 'decent': 28721,\n",
              " 'few': 41280,\n",
              " 'better': 11855,\n",
              " 'choices': 20834,\n",
              " 'hood': 54415,\n",
              " 'than': 116024,\n",
              " 'ben': 11365,\n",
              " 'kingsley': 63200,\n",
              " 'others': 83579,\n",
              " 'care': 18056,\n",
              " 'take': 114343,\n",
              " 'long': 67964,\n",
              " 'simply': 105800,\n",
              " 'believable': 11199,\n",
              " 'second': 102271,\n",
              " 'generic': 46272,\n",
              " 'underwhelming': 122022,\n",
              " 'hans': 51082,\n",
              " 'zimmer': 131507,\n",
              " 'sounding': 108490,\n",
              " 'between': 11917,\n",
              " 'days': 28334,\n",
              " 'thunder': 117219,\n",
              " 'apollo': 6215,\n",
              " '13': 119,\n",
              " 'course': 25636,\n",
              " 'ability': 1307,\n",
              " 'communicate': 23393,\n",
              " 'kyrano': 64458,\n",
              " 'statue': 110321,\n",
              " 'outlet': 83799,\n",
              " 'esp': 37767,\n",
              " 'contact': 24466,\n",
              " 'his': 53618,\n",
              " 'extraordinary': 39379,\n",
              " 'capability': 17819,\n",
              " 'ended': 36680,\n",
              " 'master': 71434,\n",
              " 'disguise': 31759,\n",
              " 'deception': 28734,\n",
              " 'allows': 4093,\n",
              " 'him': 53402,\n",
              " 'sneak': 107339,\n",
              " 'undetected': 122049,\n",
              " 'part': 85537,\n",
              " 'anyways': 6090,\n",
              " 'gather': 45912,\n",
              " 'information': 57786,\n",
              " 'thunderbirds': 117222,\n",
              " 'own': 84529,\n",
              " 'also': 4338,\n",
              " 'uses': 123639,\n",
              " 'weapons': 126915,\n",
              " 'defense': 29028,\n",
              " 'including': 57191,\n",
              " 'pistols': 88203,\n",
              " 'generally': 46250,\n",
              " 'collects': 22839,\n",
              " 'camera': 17447,\n",
              " 'tried': 119723,\n",
              " 'steal': 110386,\n",
              " 'thudnerbirds': 117171,\n",
              " 'united': 122543,\n",
              " 'artists': 7215,\n",
              " 'release': 95817,\n",
              " 'filmed': 41616,\n",
              " 'theatrical': 116172,\n",
              " 'nemesis': 79005,\n",
              " 'international': 58661,\n",
              " 'rescue': 96520,\n",
              " 'villain': 125106,\n",
              " 'episode': 37391,\n",
              " 'tends': 115571,\n",
              " 'avoid': 8494,\n",
              " 'direct': 31270,\n",
              " 'confrontation': 24055,\n",
              " 'obviously': 81636,\n",
              " 'main': 69855,\n",
              " 'cohorts': 22670,\n",
              " 'seem': 102468,\n",
              " 'act': 1925,\n",
              " 'morons': 76100,\n",
              " 'along': 4270,\n",
              " 'having': 51758,\n",
              " 'extended': 39295,\n",
              " 'mind': 74203,\n",
              " 'control': 24687,\n",
              " 'move': 76506,\n",
              " 'objects': 81481,\n",
              " 'himself': 53458,\n",
              " 'into': 58825,\n",
              " 'flight': 42716,\n",
              " 'brief': 15341,\n",
              " 'periods': 86831,\n",
              " 'deviates': 30431,\n",
              " 'from': 44590,\n",
              " 'character': 19750,\n",
              " 'kids': 62902,\n",
              " 'laughing': 65429,\n",
              " 'people': 86567,\n",
              " 'familiar': 39996,\n",
              " 'scratching': 101793,\n",
              " 'their': 116203,\n",
              " 'heads': 51973,\n",
              " 'confusion': 24081,\n",
              " 'leaving': 65837,\n",
              " 'theater': 116144,\n",
              " 'disgust': 31764,\n",
              " 'criticisms': 26506,\n",
              " '1000': 41,\n",
              " 'word': 129386,\n",
              " 'limit': 67054,\n",
              " 'imdb': 56587,\n",
              " 'will': 128448,\n",
              " 'allow': 4086,\n",
              " 'me': 72360,\n",
              " 'list': 67373,\n",
              " 'close': 22144,\n",
              " 'point': 89049,\n",
              " 'enjoy': 36943,\n",
              " 'matter': 71668,\n",
              " 'fact': 39703,\n",
              " 'think': 116634,\n",
              " 'sucks': 112359,\n",
              " 'movies': 76692,\n",
              " 'go': 47555,\n",
              " 'hoping': 54544,\n",
              " 'sophisticated': 108268,\n",
              " 'elegant': 35909,\n",
              " 'live': 67510,\n",
              " 'action': 1997,\n",
              " 'farce': 40256,\n",
              " 'saying': 100765,\n",
              " 'nicely': 79427,\n",
              " 'kip': 63257,\n",
              " 'wells': 127377,\n",
              " 'my': 77809,\n",
              " 'friend': 44423,\n",
              " 'brian': 15285,\n",
              " 'said': 99790,\n",
              " 'after': 2910,\n",
              " 'hour': 54977,\n",
              " 'wasn': 126516,\n",
              " 'able': 1321,\n",
              " 'keep': 62417,\n",
              " 'dozing': 33462,\n",
              " 'off': 81893,\n",
              " 'ranting': 94034,\n",
              " 'execrable': 38745,\n",
              " 'finally': 41908,\n",
              " 'relented': 95842,\n",
              " 'played': 88543,\n",
              " 'run': 99253,\n",
              " 'adjectives': 2408,\n",
              " 'boring': 14342,\n",
              " 'imagine': 56542,\n",
              " 'pinnacle': 88066,\n",
              " 'hack': 50247,\n",
              " 'uninspired': 122484,\n",
              " 'impossibly': 56893,\n",
              " 'dreadful': 33679,\n",
              " 'want': 126246,\n",
              " 'do': 32417,\n",
              " 'viewing': 125014,\n",
              " 'sit': 106088,\n",
              " 'alone': 4260,\n",
              " 'dark': 28005,\n",
              " 'speak': 108832,\n",
              " 'anybody': 6026,\n",
              " 'labor': 64513,\n",
              " 'under': 121798,\n",
              " 'illusion': 56469,\n",
              " 'watchable': 126576,\n",
              " 'form': 43546,\n",
              " 'narcotic': 78296,\n",
              " 'brain': 14877,\n",
              " 'damage': 27695,\n",
              " 'only': 82767,\n",
              " 'recommend': 94978,\n",
              " 'order': 83208,\n",
              " 'truly': 120108,\n",
              " 'unbearable': 121523,\n",
              " 'believe': 11210,\n",
              " 'round': 98878,\n",
              " 'granted': 48699,\n",
              " 'nation': 78429,\n",
              " 'america': 4691,\n",
              " 'always': 4464,\n",
              " 'portray': 89762,\n",
              " 'middle': 73753,\n",
              " 'eastern': 35025,\n",
              " 'peoples': 86596,\n",
              " 'tasteful': 114862,\n",
              " 'manner': 70573,\n",
              " 'kid': 62843,\n",
              " 'sheik': 104322,\n",
              " 'outfit': 83754,\n",
              " 'bowing': 14650,\n",
              " 'salaam': 99882,\n",
              " 'fashion': 40430,\n",
              " 'stack': 109822,\n",
              " 'castrol': 18699,\n",
              " 'oil': 82201,\n",
              " 'bottles': 14517,\n",
              " 'find': 41933,\n",
              " 'arab': 6523,\n",
              " 'worships': 129640,\n",
              " 'couldn': 25473,\n",
              " 'seeing': 102444,\n",
              " 'fly': 42992,\n",
              " 'planes': 88413,\n",
              " 'skyscraper': 106472,\n",
              " 'funny': 44987,\n",
              " 'joke': 61072,\n",
              " 'cleverly': 21936,\n",
              " 'offensive': 81938,\n",
              " 'punch': 92467,\n",
              " 'whomever': 128129,\n",
              " 'got': 48346,\n",
              " 'paid': 84798,\n",
              " 'write': 129856,\n",
              " 'face': 39630,\n",
              " 'five': 42288,\n",
              " 'man': 70264,\n",
              " 'singing': 105901,\n",
              " 'group': 49395,\n",
              " 'called': 17325,\n",
              " 'landmines': 64949,\n",
              " 'takes': 114372,\n",
              " 'stage': 109850,\n",
              " 'officers': 81975,\n",
              " 'ball': 9435,\n",
              " 'okay': 82238,\n",
              " 'ready': 94513,\n",
              " 'sing': 105874,\n",
              " 'terribly': 115771,\n",
              " 'key': 62682,\n",
              " 'why': 128192,\n",
              " 'caps': 17912,\n",
              " 'pound': 90109,\n",
              " 'pounded': 90111,\n",
              " 'head': 51901,\n",
              " 'marathon': 70762,\n",
              " 'horrendous': 54641,\n",
              " 'sight': 105524,\n",
              " 'gags': 45331,\n",
              " 'start': 110209,\n",
              " 'mediocre': 72585,\n",
              " 'enough': 37019,\n",
              " 'glasses': 47297,\n",
              " 'cracking': 25886,\n",
              " 'tumblers': 120352,\n",
              " 'shattering': 104205,\n",
              " 'am': 4496,\n",
              " '100': 40,\n",
              " 'serious': 103421,\n",
              " 'two': 120809,\n",
              " 'frame': 43940,\n",
              " 'stop': 111024,\n",
              " 'woman': 129119,\n",
              " 'shoes': 104771,\n",
              " 'coming': 23217,\n",
              " 'read': 94482,\n",
              " 'correctly': 25225,\n",
              " 'feet': 40889,\n",
              " 'very': 124681,\n",
              " 'next': 79365,\n",
              " 'endless': 36727,\n",
              " 'montage': 75688,\n",
              " 'stock': 110887,\n",
              " 'footage': 43256,\n",
              " 'drive': 33872,\n",
              " 'home': 54176,\n",
              " 'human': 55398,\n",
              " 'actually': 2210,\n",
              " 'suffered': 112413,\n",
              " 'scene': 101050,\n",
              " 'without': 128931,\n",
              " 'running': 99284,\n",
              " 'hell': 52421,\n",
              " 'astonished': 7669,\n",
              " 'honestly': 54331,\n",
              " 'bolt': 13865,\n",
              " 'doors': 33027,\n",
              " 'robert': 98018,\n",
              " 'downey': 33367,\n",
              " 'sr': 109756,\n",
              " 'directs': 31368,\n",
              " 'comedy': 23097,\n",
              " 'son': 108101,\n",
              " 'commands': 23250,\n",
              " 'respect': 96673,\n",
              " 'staying': 110351,\n",
              " 'drug': 33991,\n",
              " 'free': 44202,\n",
              " 'badly': 9137,\n",
              " 'watch': 126573,\n",
              " 'popular': 89591,\n",
              " 'shoehorned': 104763,\n",
              " 'wherever': 127854,\n",
              " 'possible': 89861,\n",
              " 'liceman': 66658,\n",
              " 'appears': 6313,\n",
              " 'inappropriate': 57060,\n",
              " 'iggy': 56268,\n",
              " 'pop': 89526,\n",
              " 'song': 108122,\n",
              " 'plays': 88603,\n",
              " 'plus': 88925,\n",
              " 'actors': 2118,\n",
              " 'best': 11749,\n",
              " 'chilly': 20663,\n",
              " 'barbara': 9775,\n",
              " 'bach': 8894,\n",
              " 'criminally': 26394,\n",
              " 'accent': 1596,\n",
              " 'sounds': 108497,\n",
              " 'baby': 8850,\n",
              " 'rolling': 98415,\n",
              " 'marble': 70773,\n",
              " 'tongue': 118243,\n",
              " 'nudity': 81123,\n",
              " 'several': 103624,\n",
              " 'scenes': 101094,\n",
              " 'boys': 14762,\n",
              " 'moan': 75078,\n",
              " 'writhe': 129905,\n",
              " 'glimpse': 47383,\n",
              " 'cleavage': 21865,\n",
              " 'community': 23416,\n",
              " 'school': 101393,\n",
              " 'class': 21695,\n",
              " 'aroused': 7009,\n",
              " 'retarded': 96850,\n",
              " 'feeds': 40859,\n",
              " 'revolting': 97146,\n",
              " 'dog': 32610,\n",
              " 'condom': 23931,\n",
              " 'remember': 95990,\n",
              " 'throwing': 117141,\n",
              " 'abortion': 1376,\n",
              " 'edgy': 35283,\n",
              " 'tom': 118138,\n",
              " 'poston': 89968,\n",
              " 'mincing': 74201,\n",
              " 'boy': 14700,\n",
              " 'hungry': 55578,\n",
              " 'pedophile': 86290,\n",
              " 'back': 8921,\n",
              " 'hollywood': 54074,\n",
              " 'thought': 116896,\n",
              " 'homosexual': 54304,\n",
              " 'flat': 42494,\n",
              " 'embarrassing': 36251,\n",
              " 'ending': 36700,\n",
              " 'nothing': 80765,\n",
              " 'wrong': 129940,\n",
              " 'vcr': 124299,\n",
              " 'tell': 115434,\n",
              " 'explode': 39129,\n",
              " 'everyone': 38354,\n",
              " 'risk': 97788,\n",
              " 'academy': 1576,\n",
              " 'has': 51521,\n",
              " 'known': 63685,\n",
              " 'jerk': 60586,\n",
              " 'blazing': 12974,\n",
              " 'saddles': 99673,\n",
              " 'placing': 88352,\n",
              " 'videotape': 124929,\n",
              " 'near': 78678,\n",
              " 'somehow': 107988,\n",
              " 'summed': 112609,\n",
              " '60': 817,\n",
              " 'ten': 115530,\n",
              " 'years': 130548,\n",
              " 'radically': 93547,\n",
              " 'changed': 19632,\n",
              " 'our': 83671,\n",
              " 'country': 25576,\n",
              " 'four': 43795,\n",
              " 'hours': 54993,\n",
              " 'painful': 84807,\n",
              " 'trivilized': 119893,\n",
              " 'major': 69925,\n",
              " 'events': 38217,\n",
              " 'happenings': 51133,\n",
              " 'claimed': 21591,\n",
              " 'families': 40012,\n",
              " 'yet': 130694,\n",
              " 'barely': 9867,\n",
              " 'saw': 100708,\n",
              " 'african': 2876,\n",
              " 'nbc': 78637,\n",
              " 'ashamed': 7338,\n",
              " 'embarrassed': 36246,\n",
              " 'airing': 3397,\n",
              " 'trash': 119342,\n",
              " 'amusing': 4932,\n",
              " 'happy': 51162,\n",
              " 'lucky': 68765,\n",
              " 'beginning': 11010,\n",
              " 'tortured': 118590,\n",
              " 'ways': 126826,\n",
              " 'managed': 70268,\n",
              " 'attend': 7943,\n",
              " 'event': 38207,\n",
              " 'non': 80095,\n",
              " 'factor': 39725,\n",
              " 'devoted': 30499,\n",
              " 'maybe': 71830,\n",
              " 'six': 106154,\n",
              " 'total': 118642,\n",
              " 'please': 88653,\n",
              " 'eras': 37513,\n",
              " 'pbs': 86132,\n",
              " 'history': 53663,\n",
              " 'channel': 19655,\n",
              " 'old': 82329,\n",
              " 'intellectual': 58418,\n",
              " 'talks': 114474,\n",
              " 'considers': 24320,\n",
              " 'hitchcock': 53689,\n",
              " 'chaplin': 19710,\n",
              " 'bergman': 11581,\n",
              " 'stuff': 111791,\n",
              " 'prior': 91110,\n",
              " '80ies': 907,\n",
              " 'clue': 22271,\n",
              " 'cinemas': 21336,\n",
              " 'these': 116468,\n",
              " 'throws': 117146,\n",
              " 'matrix': 71642,\n",
              " 'lame': 64819,\n",
              " 'speech': 108949,\n",
              " 'over': 83996,\n",
              " 'again': 2967,\n",
              " 'reduced': 95241,\n",
              " 'outdated': 83725,\n",
              " 'psychological': 92186,\n",
              " 'platitudes': 88507,\n",
              " 'ego': 35577,\n",
              " 'anal': 4970,\n",
              " 'phase': 87339,\n",
              " 'sexual': 103752,\n",
              " 'insufficiency': 58362,\n",
              " 'garnished': 45798,\n",
              " 'cheesy': 20272,\n",
              " 'effect': 35446,\n",
              " 'zizte': 131571,\n",
              " 'edited': 35304,\n",
              " 'taking': 114385,\n",
              " 'cinematographicly': 21364,\n",
              " 'speaking': 108838,\n",
              " 'yeiks': 130606,\n",
              " 'zizek': 131568,\n",
              " 'words': 129405,\n",
              " 'screen': 101831,\n",
              " 'night': 79595,\n",
              " 'maker': 69961,\n",
              " 'mr': 76884,\n",
              " 'insanely': 58119,\n",
              " 'idiotic': 56195,\n",
              " 'heard': 52036,\n",
              " 'rambling': 93852,\n",
              " 'incoherent': 57202,\n",
              " 'response': 96709,\n",
              " 'considered': 24317,\n",
              " 'rational': 94232,\n",
              " 'room': 98580,\n",
              " 'now': 80978,\n",
              " 'dumber': 34381,\n",
              " 'listened': 67380,\n",
              " 'award': 8548,\n",
              " 'points': 89091,\n",
              " 'god': 47611,\n",
              " 'mercy': 73186,\n",
              " 'soul': 108439,\n",
              " 'tag': 114248,\n",
              " 'line': 67140,\n",
              " 'tradition': 118979,\n",
              " 'pie': 87823,\n",
              " 'fooled': 43238,\n",
              " 'renting': 96191,\n",
              " 'piece': 87825,\n",
              " 'junk': 61560,\n",
              " 'jackass': 59891,\n",
              " 'difference': 30901,\n",
              " 'compared': 23458,\n",
              " 'citizen': 21499,\n",
              " 'kane': 61940,\n",
              " 'rewarded': 97173,\n",
              " 'can': 17587,\n",
              " 'beneath': 11398,\n",
              " 'cinematic': 21348,\n",
              " 'feats': 40781,\n",
              " 'turned': 120492,\n",
              " '45': 715,\n",
              " 'minutes': 74488,\n",
              " 'rarely': 94130,\n",
              " 'uninteresting': 122505,\n",
              " 'unnecessary': 122727,\n",
              " 'reward': 97172,\n",
              " 'parents': 85379,\n",
              " 'drop': 33943,\n",
              " 'child': 20574,\n",
              " 'compare': 23456,\n",
              " 'virgin': 125273,\n",
              " 'breasts': 15143,\n",
              " 'advice': 2656,\n",
              " 'stay': 110346,\n",
              " 'clear': 21836,\n",
              " 'mood': 75791,\n",
              " 'simple': 105772,\n",
              " 'require': 96484,\n",
              " 'thinking': 116648,\n",
              " 'choose': 20885,\n",
              " 'else': 36128,\n",
              " 'sure': 113145,\n",
              " 'grew': 49084,\n",
              " '1965': 370,\n",
              " 'watching': 126605,\n",
              " 'loving': 68540,\n",
              " 'mates': 71579,\n",
              " 'watched': 126588,\n",
              " 'before': 10949,\n",
              " 'during': 34581,\n",
              " 'lunch': 68928,\n",
              " 'wanted': 126250,\n",
              " 'virgil': 125271,\n",
              " 'scott': 101720,\n",
              " 'alan': 3589,\n",
              " 'counting': 25569,\n",
              " 'became': 10728,\n",
              " 'took': 118320,\n",
              " 'loved': 68445,\n",
              " 'bitterly': 12616,\n",
              " 'disappointing': 31488,\n",
              " 'high': 53155,\n",
              " 'snappy': 107307,\n",
              " 'theme': 116240,\n",
              " 'tune': 120375,\n",
              " 'thankfully': 116039,\n",
              " 'early': 34924,\n",
              " 'saturday': 100589,\n",
              " 'mornings': 76077,\n",
              " 'television': 115418,\n",
              " 'reruns': 96509,\n",
              " 'gerry': 46569,\n",
              " 'anderson': 5104,\n",
              " 'wife': 128314,\n",
              " 'created': 26151,\n",
              " 'jonatha': 61133,\n",
              " 'directors': 31343,\n",
              " 'chair': 19485,\n",
              " 'version': 124637,\n",
              " 'completely': 23566,\n",
              " 'hopeless': 54531,\n",
              " 'utter': 123739,\n",
              " 'rubbish': 99062,\n",
              " 'cgi': 19394,\n",
              " 'remake': 95943,\n",
              " 'acceptable': 1612,\n",
              " 'replacing': 96319,\n",
              " 'marionettes': 70957,\n",
              " 'homo': 54280,\n",
              " 'sapiens': 100342,\n",
              " 'subsp': 112169,\n",
              " 'huge': 55330,\n",
              " 'error': 37645,\n",
              " 'judgment': 61407,\n",
              " 'team': 115092,\n",
              " 'bomb': 13880,\n",
              " 'disposal': 32002,\n",
              " 'experts': 39086,\n",
              " 'iraq': 59141,\n",
              " 'count': 25518,\n",
              " 'itself': 59683,\n",
              " 'caption': 17932,\n",
              " 'telling': 115445,\n",
              " 'us': 123587,\n",
              " 'left': 65939,\n",
              " 'caused': 18941,\n",
              " 'drag': 33501,\n",
              " 'hurry': 55655,\n",
              " 'finish': 42002,\n",
              " 'missing': 74831,\n",
              " 'fan': 40065,\n",
              " 'war': 126267,\n",
              " 'films': 41752,\n",
              " 'jarhead': 60228,\n",
              " 'syndrome': 113999,\n",
              " 'beautifully': 10688,\n",
              " 'cinematography': 21365,\n",
              " 'dull': 34325,\n",
              " 'pointless': 89075,\n",
              " 'slow': 106909,\n",
              " 'mo': 75074,\n",
              " 'cartridges': 18467,\n",
              " 'gun': 49836,\n",
              " 'already': 4315,\n",
              " 'saved': 100669,\n",
              " 'money': 75470,\n",
              " 'empathy': 36459,\n",
              " 'guy': 50038,\n",
              " 'constantly': 24382,\n",
              " 'recklessness': 94920,\n",
              " 'cause': 18940,\n",
              " 'die': 30838,\n",
              " 'seemed': 102471,\n",
              " 'feeling': 40872,\n",
              " 'armed': 6889,\n",
              " 'forces': 43361,\n",
              " 'disliked': 31846,\n",
              " 'drivel': 33880,\n",
              " 'stars': 110183,\n",
              " ...}"
            ]
          },
          "metadata": {},
          "execution_count": 100
        }
      ],
      "source": [
        "vectorizer.vocabulary_"
      ]
    },
    {
      "cell_type": "code",
      "execution_count": null,
      "metadata": {
        "colab": {
          "base_uri": "https://localhost:8080/"
        },
        "id": "NNYIgfrBLFB5",
        "outputId": "844284ef-5941-41bd-e992-5a42643db02c"
      },
      "outputs": [
        {
          "output_type": "execute_result",
          "data": {
            "text/plain": [
              "<10x131815 sparse matrix of type '<class 'numpy.int64'>'\n",
              "\twith 1642 stored elements in Compressed Sparse Row format>"
            ]
          },
          "metadata": {},
          "execution_count": 101
        }
      ],
      "source": [
        "bow"
      ]
    },
    {
      "cell_type": "code",
      "execution_count": null,
      "metadata": {
        "colab": {
          "base_uri": "https://localhost:8080/"
        },
        "id": "LQRNloAyL4Et",
        "outputId": "763311ef-b67b-46a9-da1a-af485ff04e93"
      },
      "outputs": [
        {
          "output_type": "stream",
          "name": "stdout",
          "text": [
            "(10, 131815)\n",
            "[[0 0 0 ... 0 0 0]\n",
            " [0 0 0 ... 0 0 0]\n",
            " [0 0 0 ... 0 0 0]\n",
            " ...\n",
            " [0 0 0 ... 0 0 0]\n",
            " [0 0 0 ... 0 0 0]\n",
            " [0 0 0 ... 0 0 0]]\n"
          ]
        }
      ],
      "source": [
        "bow = bow.toarray()\n",
        "print(bow.shape)\n",
        "print(bow)"
      ]
    },
    {
      "cell_type": "markdown",
      "metadata": {
        "id": "5vLATQ7zLDIG"
      },
      "source": [
        "Notes:\n",
        "\n",
        "- We don't have control on the vocab size unlike keras\n",
        "\n",
        "- The matrix is (CSR) (Compressed Sparse Row), which is more compact representation for matrices with many zeros. The BoW is very sparse, it's a good way to represent it.\n",
        "You can easily recover the array when needed using `toarray()`\n",
        "\n",
        "- Vocab is all lower case, and punctuation is ignored. All those are configurable from sklearn"
      ]
    },
    {
      "cell_type": "markdown",
      "metadata": {
        "id": "_vsRYeZ47pwa"
      },
      "source": [
        "# TFIDF"
      ]
    },
    {
      "cell_type": "markdown",
      "metadata": {
        "id": "NuHvg4cYMJ-A"
      },
      "source": [
        "The word counts suffer some issues: most frequent words are usually not important (like stop words), while they take high focus/count.\n",
        "\n",
        "TFIDF (Term Frequency - Inverse Document) is a way to adjust those counts:\n",
        "\n",
        "- TF: #mentions within a document\n",
        "- IDF: #mentions across all docs (same as the counts before)\n",
        "\n",
        "So it gives higher importance to rare words across all docs (IDF++, TFIDF--), while it emphasyses on words appearing mostly in THIS doc (TF++, TFIDF--).\n",
        "\n",
        "If a word appearing only in the current doc/sentence, it has TFIDF=1.\n",
        "If a word appears in all docs/sents but not the current one, it has TFIDF=0.\n",
        "If a word (stop word for example) appearing a lot in the current doc/sent and also in ALL others, it will have high TF (count) and much higher IDF (discount), so low TFIDF overall."
      ]
    },
    {
      "cell_type": "code",
      "execution_count": null,
      "metadata": {
        "colab": {
          "base_uri": "https://localhost:8080/"
        },
        "id": "vyhPb6b5NzbA",
        "outputId": "27b1caa7-c58f-46e4-b9b7-abbb6be64faa"
      },
      "outputs": [
        {
          "output_type": "execute_result",
          "data": {
            "text/plain": [
              "(10, 131815)"
            ]
          },
          "metadata": {},
          "execution_count": 103
        }
      ],
      "source": [
        "from sklearn.feature_extraction.text import TfidfVectorizer\n",
        "\n",
        "vectorizer = TfidfVectorizer()\n",
        "vectorizer.fit(texts)\n",
        "bow = vectorizer.transform(texts[:10])\n",
        "bow.shape"
      ]
    },
    {
      "cell_type": "code",
      "execution_count": null,
      "metadata": {
        "colab": {
          "base_uri": "https://localhost:8080/"
        },
        "id": "rH_t9CMON4UP",
        "outputId": "4d5f9688-9e19-4844-d690-39cc6a17d040"
      },
      "outputs": [
        {
          "output_type": "execute_result",
          "data": {
            "text/plain": [
              "array([[0., 0., 0., ..., 0., 0., 0.],\n",
              "       [0., 0., 0., ..., 0., 0., 0.],\n",
              "       [0., 0., 0., ..., 0., 0., 0.],\n",
              "       ...,\n",
              "       [0., 0., 0., ..., 0., 0., 0.],\n",
              "       [0., 0., 0., ..., 0., 0., 0.],\n",
              "       [0., 0., 0., ..., 0., 0., 0.]])"
            ]
          },
          "metadata": {},
          "execution_count": 104
        }
      ],
      "source": [
        "bow.toarray()"
      ]
    },
    {
      "cell_type": "code",
      "execution_count": null,
      "metadata": {
        "colab": {
          "base_uri": "https://localhost:8080/"
        },
        "id": "WhFYRm-_N_Dj",
        "outputId": "77c15ffd-fdaa-40cd-c8a7-e5c7b05927b1"
      },
      "outputs": [
        {
          "output_type": "stream",
          "name": "stdout",
          "text": [
            "{'the': 7, 'quick': 6, 'brown': 0, 'fox': 2, 'jumped': 3, 'over': 5, 'lazy': 4, 'dog': 1}\n",
            "[1.69314718 1.28768207 1.28768207 1.69314718 1.69314718 1.69314718\n",
            " 1.69314718 1.        ]\n",
            "(1, 8)\n",
            "[[0.36388646 0.27674503 0.27674503 0.36388646 0.36388646 0.36388646\n",
            "  0.36388646 0.42983441]]\n"
          ]
        }
      ],
      "source": [
        "text = [\"The quick brown fox jumped over the lazy dog.\",\n",
        "\"The dog.\",\n",
        "\"The fox\"]\n",
        "\n",
        "vectorizer = TfidfVectorizer()\n",
        "vectorizer.fit(text)\n",
        "# summarize\n",
        "print(vectorizer.vocabulary_)\n",
        "print(vectorizer.idf_)\n",
        "# encode document\n",
        "vector = vectorizer.transform([text[0]])\n",
        "# summarize encoded vector\n",
        "print(vector.shape)\n",
        "print(vector.toarray())\n",
        "\n"
      ]
    },
    {
      "cell_type": "markdown",
      "metadata": {
        "id": "ysaJv9WHOSPq"
      },
      "source": [
        "\n",
        "Notes:\n",
        "\n",
        "- A vocabulary of 8 words is learned from the documents and each word is assigned a unique integer index in the output vector.\n",
        "\n",
        "- The inverse document frequencies are calculated for each\n",
        "word in the vocabulary, assigning the lowest score of 1.0 to the most frequently observed word: the at index 7.\n",
        "\n",
        "- Finally, the first document is encoded as an 8-element sparse array and we can\n",
        "review the final scorings of each word with di\n",
        "erent values for the, fox, and dog from the otherwords in the vocabulary.\n",
        "\n",
        "Notice how the words the, do, fox have the lowest scores, since they are mentioned in all the 3 docs."
      ]
    },
    {
      "cell_type": "markdown",
      "metadata": {
        "id": "l1JrMZhVKO4y"
      },
      "source": [
        "# Putting gll together"
      ]
    },
    {
      "cell_type": "code",
      "execution_count": null,
      "metadata": {
        "id": "Mutw62D0ftpZ"
      },
      "outputs": [],
      "source": [
        "trn_texts,trn_labels = get_texts(PATH/'train')\n",
        "tst_texts,tst_labels = get_texts(PATH/'test')"
      ]
    },
    {
      "cell_type": "code",
      "execution_count": null,
      "metadata": {
        "id": "INIuKrjOf1nc"
      },
      "outputs": [],
      "source": [
        "trn_texts = normalize_corpus(trn_texts)\n",
        "tst_texts = normalize_corpus(tst_texts)"
      ]
    },
    {
      "cell_type": "markdown",
      "metadata": {
        "id": "bTZq2ivRXbgC"
      },
      "source": [
        "## BoW\n",
        "\n",
        "### Binary features\n",
        "\n",
        "\n",
        "We will use the tokenizer of keras"
      ]
    },
    {
      "cell_type": "code",
      "execution_count": null,
      "metadata": {
        "id": "ypSXTn1oW102"
      },
      "outputs": [],
      "source": [
        "# Fit the tokenizer\n",
        "\n",
        "# Either pre-define vocab size\n",
        "# Or get the max possible vocab from text\n",
        "vocab_sz = 10000 # None means all\n",
        "tok = Tokenizer(num_words=vocab_sz, oov_token='UNK')\n",
        "#tok = Tokenizer(oov_token='UNK')\n",
        "tok.fit_on_texts(trn_texts + tst_texts)\n",
        "#vocab_sz = len(tok.word_index) # If all possible vocab, else, it's the predefine vocab_sz. Remember we cannot always use the len(tok.word_index), since it's always the max.\n",
        "\n",
        "# Extract binary BoW features\n",
        "x_train = tok.texts_to_matrix(trn_texts, mode='binary')\n",
        "x_test = tok.texts_to_matrix(tst_texts, mode='binary')\n"
      ]
    },
    {
      "cell_type": "code",
      "execution_count": null,
      "metadata": {
        "colab": {
          "base_uri": "https://localhost:8080/"
        },
        "id": "fDrS1gCPZa2O",
        "outputId": "ee7d9e9d-08ab-4898-83d5-4262ce855119"
      },
      "outputs": [
        {
          "output_type": "stream",
          "name": "stdout",
          "text": [
            "(25000, 10000)\n",
            "(25000,)\n",
            "(25000, 10000)\n",
            "(25000,)\n"
          ]
        }
      ],
      "source": [
        "y_train = np.asarray(trn_labels).astype('float32')\n",
        "y_test = np.asarray(tst_labels).astype('float32')\n",
        "\n",
        "print(x_train.shape)\n",
        "print(y_train.shape)\n",
        "print(x_test.shape)\n",
        "print(y_test.shape)"
      ]
    },
    {
      "cell_type": "markdown",
      "metadata": {
        "id": "foXU56LHb7K9"
      },
      "source": [
        "Now we are ready to model as before:"
      ]
    },
    {
      "cell_type": "markdown",
      "metadata": {
        "id": "Bqk_-01Ub9QF"
      },
      "source": [
        "# Model"
      ]
    },
    {
      "cell_type": "code",
      "execution_count": null,
      "metadata": {
        "colab": {
          "base_uri": "https://localhost:8080/"
        },
        "id": "HRD1l8jucBYM",
        "outputId": "23ad1add-e2b8-4737-964b-d8dc461cb0ea"
      },
      "outputs": [
        {
          "output_type": "stream",
          "name": "stdout",
          "text": [
            "Model: \"sequential_1\"\n",
            "_________________________________________________________________\n",
            " Layer (type)                Output Shape              Param #   \n",
            "=================================================================\n",
            " dense_3 (Dense)             (None, 16)                160016    \n",
            "                                                                 \n",
            " dense_4 (Dense)             (None, 16)                272       \n",
            "                                                                 \n",
            " dense_5 (Dense)             (None, 1)                 17        \n",
            "                                                                 \n",
            "=================================================================\n",
            "Total params: 160,305\n",
            "Trainable params: 160,305\n",
            "Non-trainable params: 0\n",
            "_________________________________________________________________\n"
          ]
        }
      ],
      "source": [
        "from tensorflow.keras import models\n",
        "from tensorflow.keras import layers\n",
        "\n",
        "model = models.Sequential()\n",
        "model.add(layers.Dense(16, activation='relu', input_shape=(10000,)))\n",
        "model.add(layers.Dense(16, activation='relu'))\n",
        "model.add(layers.Dense(1, activation='sigmoid'))\n",
        "model.summary()"
      ]
    },
    {
      "cell_type": "code",
      "execution_count": null,
      "metadata": {
        "colab": {
          "base_uri": "https://localhost:8080/"
        },
        "id": "TJhVN95_cT-z",
        "outputId": "dccf927e-fd06-40c8-a18c-c561e465e315"
      },
      "outputs": [
        {
          "output_type": "stream",
          "name": "stderr",
          "text": [
            "/usr/local/lib/python3.7/dist-packages/keras/optimizer_v2/rmsprop.py:130: UserWarning: The `lr` argument is deprecated, use `learning_rate` instead.\n",
            "  super(RMSprop, self).__init__(name, **kwargs)\n"
          ]
        }
      ],
      "source": [
        "from tensorflow.keras import losses\n",
        "from tensorflow.keras import metrics\n",
        "from tensorflow.keras import optimizers\n",
        "\n",
        "model.compile(optimizer=optimizers.RMSprop(lr=0.001),\n",
        "              loss=losses.binary_crossentropy,\n",
        "              metrics=[metrics.binary_accuracy])"
      ]
    },
    {
      "cell_type": "markdown",
      "metadata": {
        "id": "NXFNcK3CcekO"
      },
      "source": [
        "We can further split the train data into val and test:"
      ]
    },
    {
      "cell_type": "code",
      "execution_count": null,
      "metadata": {
        "id": "VXg9HmLYciqs"
      },
      "outputs": [],
      "source": [
        "x_val = x_train[:10000]\n",
        "partial_x_train = x_train[10000:]\n",
        "\n",
        "y_val = y_train[:10000]\n",
        "partial_y_train = y_train[10000:]"
      ]
    },
    {
      "cell_type": "code",
      "execution_count": null,
      "metadata": {
        "colab": {
          "base_uri": "https://localhost:8080/"
        },
        "id": "nrxuyDeycX8Z",
        "outputId": "f181b99b-3321-4717-856b-a9a466298e9b"
      },
      "outputs": [
        {
          "output_type": "stream",
          "name": "stdout",
          "text": [
            "Epoch 1/20\n",
            "30/30 [==============================] - 2s 40ms/step - loss: 0.4077 - binary_accuracy: 0.8336 - val_loss: 1.0192 - val_binary_accuracy: 0.1290\n",
            "Epoch 2/20\n",
            "30/30 [==============================] - 1s 20ms/step - loss: 0.2584 - binary_accuracy: 0.8883 - val_loss: 1.0545 - val_binary_accuracy: 0.4258\n",
            "Epoch 3/20\n",
            "30/30 [==============================] - 1s 19ms/step - loss: 0.1864 - binary_accuracy: 0.9375 - val_loss: 0.9724 - val_binary_accuracy: 0.5777\n",
            "Epoch 4/20\n",
            "30/30 [==============================] - 1s 19ms/step - loss: 0.1326 - binary_accuracy: 0.9587 - val_loss: 1.0757 - val_binary_accuracy: 0.5914\n",
            "Epoch 5/20\n",
            "30/30 [==============================] - 1s 20ms/step - loss: 0.0990 - binary_accuracy: 0.9709 - val_loss: 1.2171 - val_binary_accuracy: 0.5871\n",
            "Epoch 6/20\n",
            "30/30 [==============================] - 1s 21ms/step - loss: 0.0747 - binary_accuracy: 0.9801 - val_loss: 1.1535 - val_binary_accuracy: 0.6412\n",
            "Epoch 7/20\n",
            "30/30 [==============================] - 1s 20ms/step - loss: 0.0563 - binary_accuracy: 0.9847 - val_loss: 1.3058 - val_binary_accuracy: 0.6345\n",
            "Epoch 8/20\n",
            "30/30 [==============================] - 1s 20ms/step - loss: 0.0418 - binary_accuracy: 0.9897 - val_loss: 1.5462 - val_binary_accuracy: 0.6147\n",
            "Epoch 9/20\n",
            "30/30 [==============================] - 1s 20ms/step - loss: 0.0307 - binary_accuracy: 0.9934 - val_loss: 1.5704 - val_binary_accuracy: 0.6408\n",
            "Epoch 10/20\n",
            "30/30 [==============================] - 1s 19ms/step - loss: 0.0216 - binary_accuracy: 0.9956 - val_loss: 1.7217 - val_binary_accuracy: 0.6437\n",
            "Epoch 11/20\n",
            "30/30 [==============================] - 1s 19ms/step - loss: 0.0152 - binary_accuracy: 0.9975 - val_loss: 2.1496 - val_binary_accuracy: 0.6149\n",
            "Epoch 12/20\n",
            "30/30 [==============================] - 1s 20ms/step - loss: 0.0099 - binary_accuracy: 0.9981 - val_loss: 2.2381 - val_binary_accuracy: 0.6304\n",
            "Epoch 13/20\n",
            "30/30 [==============================] - 1s 19ms/step - loss: 0.0064 - binary_accuracy: 0.9989 - val_loss: 2.8943 - val_binary_accuracy: 0.5868\n",
            "Epoch 14/20\n",
            "30/30 [==============================] - 1s 23ms/step - loss: 0.0040 - binary_accuracy: 0.9993 - val_loss: 2.4837 - val_binary_accuracy: 0.6498\n",
            "Epoch 15/20\n",
            "30/30 [==============================] - 1s 19ms/step - loss: 0.0026 - binary_accuracy: 0.9995 - val_loss: 3.0311 - val_binary_accuracy: 0.6242\n",
            "Epoch 16/20\n",
            "30/30 [==============================] - 1s 20ms/step - loss: 0.0016 - binary_accuracy: 0.9997 - val_loss: 2.7056 - val_binary_accuracy: 0.6744\n",
            "Epoch 17/20\n",
            "30/30 [==============================] - 1s 19ms/step - loss: 9.8307e-04 - binary_accuracy: 0.9999 - val_loss: 3.2947 - val_binary_accuracy: 0.6471\n",
            "Epoch 18/20\n",
            "30/30 [==============================] - 1s 19ms/step - loss: 5.6176e-04 - binary_accuracy: 0.9999 - val_loss: 3.6972 - val_binary_accuracy: 0.6385\n",
            "Epoch 19/20\n",
            "30/30 [==============================] - 1s 19ms/step - loss: 2.6771e-04 - binary_accuracy: 1.0000 - val_loss: 3.9244 - val_binary_accuracy: 0.6311\n",
            "Epoch 20/20\n",
            "30/30 [==============================] - 1s 19ms/step - loss: 1.6824e-04 - binary_accuracy: 1.0000 - val_loss: 4.1734 - val_binary_accuracy: 0.6300\n"
          ]
        }
      ],
      "source": [
        "history = model.fit(partial_x_train,\n",
        "                    partial_y_train,\n",
        "                    epochs=20,\n",
        "                    batch_size=512,\n",
        "                    validation_data=(x_val, y_val))"
      ]
    },
    {
      "cell_type": "code",
      "execution_count": null,
      "metadata": {
        "colab": {
          "base_uri": "https://localhost:8080/",
          "height": 295
        },
        "id": "KLD7gNzxcwrv",
        "outputId": "47d8d42d-9578-49e6-96be-76816752a8c1"
      },
      "outputs": [
        {
          "output_type": "display_data",
          "data": {
            "text/plain": [
              "<Figure size 432x288 with 1 Axes>"
            ],
            "image/png": "[encoded data removed]"
          },
          "metadata": {
            "needs_background": "light"
          }
        }
      ],
      "source": [
        "history_dict = history.history\n",
        "history_dict.keys()\n",
        "\n",
        "\n",
        "acc = history.history['binary_accuracy']\n",
        "val_acc = history.history['val_binary_accuracy']\n",
        "loss = history.history['loss']\n",
        "val_loss = history.history['val_loss']\n",
        "\n",
        "epochs = range(1, len(acc) + 1)\n",
        "\n",
        "# \"bo\" is for \"blue dot\"\n",
        "plt.plot(epochs, loss, 'bo', label='Training loss')\n",
        "# b is for \"solid blue line\"\n",
        "plt.plot(epochs, val_loss, 'b', label='Validation loss')\n",
        "plt.title('Training and validation loss')\n",
        "plt.xlabel('Epochs')\n",
        "plt.ylabel('Loss')\n",
        "plt.legend()\n",
        "\n",
        "plt.show()"
      ]
    },
    {
      "cell_type": "code",
      "execution_count": null,
      "metadata": {
        "colab": {
          "base_uri": "https://localhost:8080/",
          "height": 295
        },
        "id": "kYDAH7Pac1QJ",
        "outputId": "2cc8f5b1-9b6a-42ae-c63f-f7519676eba4"
      },
      "outputs": [
        {
          "output_type": "display_data",
          "data": {
            "text/plain": [
              "<Figure size 432x288 with 1 Axes>"
            ],
            "image/png": "[encoded data removed]"
          },
          "metadata": {
            "needs_background": "light"
          }
        }
      ],
      "source": [
        "plt.clf()   # clear figure\n",
        "acc_values = history_dict['binary_accuracy']\n",
        "val_acc_values = history_dict['val_binary_accuracy']\n",
        "\n",
        "plt.plot(epochs, acc, 'bo', label='Training acc')\n",
        "plt.plot(epochs, val_acc, 'b', label='Validation acc')\n",
        "plt.title('Training and validation accuracy')\n",
        "plt.xlabel('Epochs')\n",
        "plt.ylabel('Loss')\n",
        "plt.legend()\n",
        "\n",
        "plt.show()"
      ]
    },
    {
      "cell_type": "markdown",
      "metadata": {
        "id": "LweU_KuKuwEy"
      },
      "source": [
        "# Let's compare to the Keras dataset:\n",
        "\n",
        "NOtice that, we could directly use the function `sequences_to_matrix` to obtain the BoW from binarized corpus:"
      ]
    },
    {
      "cell_type": "code",
      "execution_count": null,
      "metadata": {
        "colab": {
          "base_uri": "https://localhost:8080/"
        },
        "id": "Enby9EAAu1ja",
        "outputId": "a2a2d6a0-d6da-41cd-95b7-7a119a8eac75"
      },
      "outputs": [
        {
          "output_type": "stream",
          "name": "stderr",
          "text": [
            "/usr/local/lib/python3.7/dist-packages/keras/optimizer_v2/rmsprop.py:130: UserWarning: The `lr` argument is deprecated, use `learning_rate` instead.\n",
            "  super(RMSprop, self).__init__(name, **kwargs)\n"
          ]
        },
        {
          "output_type": "stream",
          "name": "stdout",
          "text": [
            "Epoch 1/20\n",
            "30/30 [==============================] - 3s 41ms/step - loss: 0.5202 - binary_accuracy: 0.7933 - val_loss: 0.3943 - val_binary_accuracy: 0.8686\n",
            "Epoch 2/20\n",
            "30/30 [==============================] - 1s 19ms/step - loss: 0.3164 - binary_accuracy: 0.9022 - val_loss: 0.3161 - val_binary_accuracy: 0.8809\n",
            "Epoch 3/20\n",
            "30/30 [==============================] - 1s 18ms/step - loss: 0.2277 - binary_accuracy: 0.9313 - val_loss: 0.3058 - val_binary_accuracy: 0.8787\n",
            "Epoch 4/20\n",
            "30/30 [==============================] - 1s 18ms/step - loss: 0.1795 - binary_accuracy: 0.9447 - val_loss: 0.2775 - val_binary_accuracy: 0.8893\n",
            "Epoch 5/20\n",
            "30/30 [==============================] - 1s 19ms/step - loss: 0.1482 - binary_accuracy: 0.9537 - val_loss: 0.2795 - val_binary_accuracy: 0.8895\n",
            "Epoch 6/20\n",
            "30/30 [==============================] - 1s 19ms/step - loss: 0.1220 - binary_accuracy: 0.9622 - val_loss: 0.2963 - val_binary_accuracy: 0.8865\n",
            "Epoch 7/20\n",
            "30/30 [==============================] - 1s 19ms/step - loss: 0.0993 - binary_accuracy: 0.9722 - val_loss: 0.3058 - val_binary_accuracy: 0.8860\n",
            "Epoch 8/20\n",
            "30/30 [==============================] - 1s 18ms/step - loss: 0.0825 - binary_accuracy: 0.9779 - val_loss: 0.3317 - val_binary_accuracy: 0.8818\n",
            "Epoch 9/20\n",
            "30/30 [==============================] - 1s 19ms/step - loss: 0.0659 - binary_accuracy: 0.9838 - val_loss: 0.3591 - val_binary_accuracy: 0.8784\n",
            "Epoch 10/20\n",
            "30/30 [==============================] - 1s 18ms/step - loss: 0.0577 - binary_accuracy: 0.9863 - val_loss: 0.4158 - val_binary_accuracy: 0.8671\n",
            "Epoch 11/20\n",
            "30/30 [==============================] - 1s 19ms/step - loss: 0.0475 - binary_accuracy: 0.9880 - val_loss: 0.3950 - val_binary_accuracy: 0.8762\n",
            "Epoch 12/20\n",
            "30/30 [==============================] - 1s 19ms/step - loss: 0.0367 - binary_accuracy: 0.9922 - val_loss: 0.4252 - val_binary_accuracy: 0.8747\n",
            "Epoch 13/20\n",
            "30/30 [==============================] - 1s 19ms/step - loss: 0.0331 - binary_accuracy: 0.9926 - val_loss: 0.4495 - val_binary_accuracy: 0.8737\n",
            "Epoch 14/20\n",
            "30/30 [==============================] - 1s 19ms/step - loss: 0.0255 - binary_accuracy: 0.9956 - val_loss: 0.4798 - val_binary_accuracy: 0.8718\n",
            "Epoch 15/20\n",
            "30/30 [==============================] - 1s 19ms/step - loss: 0.0221 - binary_accuracy: 0.9957 - val_loss: 0.5071 - val_binary_accuracy: 0.8719\n",
            "Epoch 16/20\n",
            "30/30 [==============================] - 1s 19ms/step - loss: 0.0181 - binary_accuracy: 0.9973 - val_loss: 0.5368 - val_binary_accuracy: 0.8726\n",
            "Epoch 17/20\n",
            "30/30 [==============================] - 1s 19ms/step - loss: 0.0128 - binary_accuracy: 0.9983 - val_loss: 0.5679 - val_binary_accuracy: 0.8686\n",
            "Epoch 18/20\n",
            "30/30 [==============================] - 1s 19ms/step - loss: 0.0118 - binary_accuracy: 0.9979 - val_loss: 0.6683 - val_binary_accuracy: 0.8566\n",
            "Epoch 19/20\n",
            "30/30 [==============================] - 1s 19ms/step - loss: 0.0067 - binary_accuracy: 0.9998 - val_loss: 0.6351 - val_binary_accuracy: 0.8656\n",
            "Epoch 20/20\n",
            "30/30 [==============================] - 1s 19ms/step - loss: 0.0077 - binary_accuracy: 0.9990 - val_loss: 0.6619 - val_binary_accuracy: 0.8668\n"
          ]
        },
        {
          "output_type": "execute_result",
          "data": {
            "text/plain": [
              "dict_keys(['loss', 'binary_accuracy', 'val_loss', 'val_binary_accuracy'])"
            ]
          },
          "metadata": {},
          "execution_count": 11
        }
      ],
      "source": [
        "from tensorflow.keras.datasets import imdb\n",
        "\n",
        "(train_data, train_labels), (test_data, test_labels) = imdb.load_data(num_words=10000)\n",
        "\n",
        "vocab_sz = 10000\n",
        "tok = Tokenizer(num_words=vocab_sz, oov_token='UNK')\n",
        "tok.fit_on_texts(trn_texts + tst_texts)\n",
        "#vocab_sz = len(tok.word_index)\n",
        "\n",
        "# Extract binary BoW features\n",
        "x_train = tok.sequences_to_matrix(train_data, mode='binary')\n",
        "x_test = tok.sequences_to_matrix(test_data, mode='binary')\n",
        "y_train = np.asarray(train_labels).astype('float32')\n",
        "y_test = np.asarray(test_labels).astype('float32')\n",
        "\n",
        "x_val = x_train[:10000]\n",
        "partial_x_train = x_train[10000:]\n",
        "\n",
        "y_val = y_train[:10000]\n",
        "partial_y_train = y_train[10000:]\n",
        "\n",
        "model = models.Sequential()\n",
        "model.add(layers.Dense(16, activation='relu', input_shape=(10000,)))\n",
        "model.add(layers.Dense(16, activation='relu'))\n",
        "model.add(layers.Dense(1, activation='sigmoid'))\n",
        "\n",
        "model.compile(optimizer=optimizers.RMSprop(lr=0.001),\n",
        "              loss=losses.binary_crossentropy,\n",
        "              metrics=[metrics.binary_accuracy])\n",
        "\n",
        "history = model.fit(partial_x_train,\n",
        "                    partial_y_train,\n",
        "                    epochs=20,\n",
        "                    batch_size=512,\n",
        "                    validation_data=(x_val, y_val))\n",
        "\n",
        "history_dict = history.history\n",
        "history_dict.keys()\n",
        "\n",
        "\n"
      ]
    },
    {
      "cell_type": "code",
      "execution_count": null,
      "metadata": {
        "colab": {
          "base_uri": "https://localhost:8080/",
          "height": 295
        },
        "id": "Dkw6_nxnvApZ",
        "outputId": "fcc80ef4-d41d-414d-f0e2-db8c6ab14a1b"
      },
      "outputs": [
        {
          "output_type": "display_data",
          "data": {
            "text/plain": [
              "<Figure size 432x288 with 1 Axes>"
            ],
            "image/png": "[encoded data removed]"
          },
          "metadata": {
            "needs_background": "light"
          }
        }
      ],
      "source": [
        "\n",
        "acc = history.history['binary_accuracy']\n",
        "val_acc = history.history['val_binary_accuracy']\n",
        "loss = history.history['loss']\n",
        "val_loss = history.history['val_loss']\n",
        "\n",
        "epochs = range(1, len(acc) + 1)\n",
        "\n",
        "# \"bo\" is for \"blue dot\"\n",
        "plt.plot(epochs, loss, 'bo', label='Training loss')\n",
        "# b is for \"solid blue line\"\n",
        "plt.plot(epochs, val_loss, 'b', label='Validation loss')\n",
        "plt.title('Training and validation loss')\n",
        "plt.xlabel('Epochs')\n",
        "plt.ylabel('Loss')\n",
        "plt.legend()\n",
        "\n",
        "plt.show()\n"
      ]
    },
    {
      "cell_type": "code",
      "execution_count": null,
      "metadata": {
        "colab": {
          "base_uri": "https://localhost:8080/",
          "height": 295
        },
        "id": "E_y4-5MbvA1j",
        "outputId": "9bde34f4-e3fd-4284-c071-2690573748bb"
      },
      "outputs": [
        {
          "output_type": "display_data",
          "data": {
            "text/plain": [
              "<Figure size 432x288 with 1 Axes>"
            ],
            "image/png": "[encoded data removed]"
          },
          "metadata": {
            "needs_background": "light"
          }
        }
      ],
      "source": [
        "plt.clf()   # clear figure\n",
        "acc_values = history_dict['binary_accuracy']\n",
        "val_acc_values = history_dict['val_binary_accuracy']\n",
        "\n",
        "plt.plot(epochs, acc, 'bo', label='Training acc')\n",
        "plt.plot(epochs, val_acc, 'b', label='Validation acc')\n",
        "plt.title('Training and validation accuracy')\n",
        "plt.xlabel('Epochs')\n",
        "plt.ylabel('Loss')\n",
        "plt.legend()\n",
        "\n",
        "plt.show()"
      ]
    },
    {
      "cell_type": "markdown",
      "metadata": {
        "id": "jotNAH_DwAsJ"
      },
      "source": [
        "# So what happened?\n",
        "\n",
        "As you can see, the val loss curves with Keras data has much higher (~87%) accuracy than the one we used.\n",
        "\n",
        "__The reason is that we assumed the data is shuffled!__\n",
        "\n",
        "If you revise the get_texts function we implemented, it takes all the class data in sequence.\n",
        "\n",
        "Our train/val split did not contain any shuffling.\n",
        "\n",
        "To fix this, we could manually shuffle:\n",
        "\n",
        "```\n",
        "VALIDATION_SPLIT = 0.4 # corresponds to 10,000 samples out of 25,000\n",
        "\n",
        "indices = np.arange(x_train.shape[0])\n",
        "np.random.shuffle(indices)\n",
        "x_train = x_train[indices]\n",
        "y_train = y_train[indices]\n",
        "nb_validation_samples = int(VALIDATION_SPLIT * x_train.shape[0])\n",
        "\n",
        "partial_x_train = train_data[:-nb_validation_samples]\n",
        "partial_y_train = train_targets[:-nb_validation_samples]\n",
        "x_val = train_data[-nb_validation_samples:]\n",
        "y_val = train_targets[-nb_validation_samples:]\n",
        "\n",
        "print('Number of positive and negative reviews in traing and validation set')\n",
        "print(y_train.sum(axis=0))\n",
        "print(y_val.sum(axis=0))\n",
        "```"
      ]
    },
    {
      "cell_type": "markdown",
      "metadata": {
        "id": "TzuqKff0w3Z5"
      },
      "source": [
        "Or we could use sklearn `train_test_split` function:"
      ]
    },
    {
      "cell_type": "code",
      "execution_count": null,
      "metadata": {
        "id": "4K3lDyV5Z7fZ",
        "colab": {
          "base_uri": "https://localhost:8080/",
          "height": 235
        },
        "outputId": "f2e2aa6a-d556-4b85-dd8e-73aab4d7ed6c"
      },
      "outputs": [
        {
          "output_type": "error",
          "ename": "NameError",
          "evalue": "ignored",
          "traceback": [
            "\u001b[0;31m---------------------------------------------------------------------------\u001b[0m",
            "\u001b[0;31mNameError\u001b[0m                                 Traceback (most recent call last)",
            "\u001b[0;32m<ipython-input-11-0001949cf0dd>\u001b[0m in \u001b[0;36m<module>\u001b[0;34m()\u001b[0m\n\u001b[1;32m     10\u001b[0m \u001b[0;31m#vocab_sz = len(tok.word_index)\u001b[0m\u001b[0;34m\u001b[0m\u001b[0;34m\u001b[0m\u001b[0;34m\u001b[0m\u001b[0m\n\u001b[1;32m     11\u001b[0m \u001b[0;31m# Extract binary BoW features\u001b[0m\u001b[0;34m\u001b[0m\u001b[0;34m\u001b[0m\u001b[0;34m\u001b[0m\u001b[0m\n\u001b[0;32m---> 12\u001b[0;31m \u001b[0mx_train\u001b[0m \u001b[0;34m=\u001b[0m \u001b[0mtok\u001b[0m\u001b[0;34m.\u001b[0m\u001b[0msequences_to_matrix\u001b[0m\u001b[0;34m(\u001b[0m\u001b[0mtrain_data\u001b[0m\u001b[0;34m,\u001b[0m \u001b[0mmode\u001b[0m\u001b[0;34m=\u001b[0m\u001b[0;34m'binary'\u001b[0m\u001b[0;34m)\u001b[0m\u001b[0;34m\u001b[0m\u001b[0;34m\u001b[0m\u001b[0m\n\u001b[0m\u001b[1;32m     13\u001b[0m \u001b[0mx_test\u001b[0m \u001b[0;34m=\u001b[0m \u001b[0mtok\u001b[0m\u001b[0;34m.\u001b[0m\u001b[0msequences_to_matrix\u001b[0m\u001b[0;34m(\u001b[0m\u001b[0mtest_data\u001b[0m\u001b[0;34m,\u001b[0m \u001b[0mmode\u001b[0m\u001b[0;34m=\u001b[0m\u001b[0;34m'binary'\u001b[0m\u001b[0;34m)\u001b[0m\u001b[0;34m\u001b[0m\u001b[0;34m\u001b[0m\u001b[0m\n\u001b[1;32m     14\u001b[0m \u001b[0my_train\u001b[0m \u001b[0;34m=\u001b[0m \u001b[0mnp\u001b[0m\u001b[0;34m.\u001b[0m\u001b[0masarray\u001b[0m\u001b[0;34m(\u001b[0m\u001b[0mtrain_labels\u001b[0m\u001b[0;34m)\u001b[0m\u001b[0;34m.\u001b[0m\u001b[0mastype\u001b[0m\u001b[0;34m(\u001b[0m\u001b[0;34m'float32'\u001b[0m\u001b[0;34m)\u001b[0m\u001b[0;34m\u001b[0m\u001b[0;34m\u001b[0m\u001b[0m\n",
            "\u001b[0;31mNameError\u001b[0m: name 'train_data' is not defined"
          ]
        }
      ],
      "source": [
        "trn_texts,trn_labels = get_texts(PATH/'train')\n",
        "tst_texts,tst_labels = get_texts(PATH/'test')\n",
        "\n",
        "trn_texts = normalize_corpus(trn_texts)\n",
        "tst_texts = normalize_corpus(tst_texts)\n",
        "\n",
        "vocab_sz = 10000\n",
        "tok = Tokenizer(num_words=vocab_sz, oov_token='UNK')\n",
        "tok.fit_on_texts(trn_texts + tst_texts)\n",
        "#vocab_sz = len(tok.word_index)\n",
        "# Extract binary BoW features\n",
        "x_train = tok.sequences_to_matrix(train_data, mode='binary')\n",
        "x_test = tok.sequences_to_matrix(test_data, mode='binary')\n",
        "y_train = np.asarray(train_labels).astype('float32')\n",
        "y_test = np.asarray(test_labels).astype('float32')\n",
        "\n",
        "x_train, x_val, y_train, y_val = train_test_split(x_train, y_train, test_size=0.4, random_state=42)"
      ]
    },
    {
      "cell_type": "code",
      "execution_count": null,
      "metadata": {
        "id": "ijcjFCXMt-SR",
        "colab": {
          "base_uri": "https://localhost:8080/"
        },
        "outputId": "22c8274b-f3e1-4bb4-9bb3-2fc96f58d8f6"
      },
      "outputs": [
        {
          "output_type": "stream",
          "name": "stderr",
          "text": [
            "/usr/local/lib/python3.7/dist-packages/keras/optimizer_v2/rmsprop.py:130: UserWarning: The `lr` argument is deprecated, use `learning_rate` instead.\n",
            "  super(RMSprop, self).__init__(name, **kwargs)\n"
          ]
        },
        {
          "output_type": "stream",
          "name": "stdout",
          "text": [
            "Epoch 1/20\n",
            "30/30 [==============================] - 2s 43ms/step - loss: 0.5109 - binary_accuracy: 0.7909 - val_loss: 0.3967 - val_binary_accuracy: 0.8525\n",
            "Epoch 2/20\n",
            "30/30 [==============================] - 1s 20ms/step - loss: 0.2988 - binary_accuracy: 0.9090 - val_loss: 0.3083 - val_binary_accuracy: 0.8822\n",
            "Epoch 3/20\n",
            "30/30 [==============================] - 1s 20ms/step - loss: 0.2182 - binary_accuracy: 0.9306 - val_loss: 0.2848 - val_binary_accuracy: 0.8845\n",
            "Epoch 4/20\n",
            "30/30 [==============================] - 1s 23ms/step - loss: 0.1712 - binary_accuracy: 0.9453 - val_loss: 0.3259 - val_binary_accuracy: 0.8664\n",
            "Epoch 5/20\n",
            "30/30 [==============================] - 1s 20ms/step - loss: 0.1408 - binary_accuracy: 0.9560 - val_loss: 0.2977 - val_binary_accuracy: 0.8806\n",
            "Epoch 6/20\n",
            "30/30 [==============================] - 1s 20ms/step - loss: 0.1130 - binary_accuracy: 0.9651 - val_loss: 0.3108 - val_binary_accuracy: 0.8789\n",
            "Epoch 7/20\n",
            "30/30 [==============================] - 1s 19ms/step - loss: 0.0954 - binary_accuracy: 0.9719 - val_loss: 0.3466 - val_binary_accuracy: 0.8698\n",
            "Epoch 8/20\n",
            "30/30 [==============================] - 1s 20ms/step - loss: 0.0781 - binary_accuracy: 0.9788 - val_loss: 0.3548 - val_binary_accuracy: 0.8757\n",
            "Epoch 9/20\n",
            "30/30 [==============================] - 1s 20ms/step - loss: 0.0640 - binary_accuracy: 0.9834 - val_loss: 0.3822 - val_binary_accuracy: 0.8745\n",
            "Epoch 10/20\n",
            "30/30 [==============================] - 1s 20ms/step - loss: 0.0536 - binary_accuracy: 0.9863 - val_loss: 0.4081 - val_binary_accuracy: 0.8716\n",
            "Epoch 11/20\n",
            "30/30 [==============================] - 1s 20ms/step - loss: 0.0397 - binary_accuracy: 0.9912 - val_loss: 0.4382 - val_binary_accuracy: 0.8704\n",
            "Epoch 12/20\n",
            "30/30 [==============================] - 1s 19ms/step - loss: 0.0332 - binary_accuracy: 0.9933 - val_loss: 0.5678 - val_binary_accuracy: 0.8548\n",
            "Epoch 13/20\n",
            "30/30 [==============================] - 1s 20ms/step - loss: 0.0262 - binary_accuracy: 0.9952 - val_loss: 0.5100 - val_binary_accuracy: 0.8677\n",
            "Epoch 14/20\n",
            "30/30 [==============================] - 1s 20ms/step - loss: 0.0222 - binary_accuracy: 0.9956 - val_loss: 0.5437 - val_binary_accuracy: 0.8654\n",
            "Epoch 15/20\n",
            "30/30 [==============================] - 1s 19ms/step - loss: 0.0181 - binary_accuracy: 0.9962 - val_loss: 0.5877 - val_binary_accuracy: 0.8677\n",
            "Epoch 16/20\n",
            "30/30 [==============================] - 1s 20ms/step - loss: 0.0102 - binary_accuracy: 0.9994 - val_loss: 0.6272 - val_binary_accuracy: 0.8643\n",
            "Epoch 17/20\n",
            "30/30 [==============================] - 1s 20ms/step - loss: 0.0123 - binary_accuracy: 0.9977 - val_loss: 0.6518 - val_binary_accuracy: 0.8615\n",
            "Epoch 18/20\n",
            "30/30 [==============================] - 1s 21ms/step - loss: 0.0060 - binary_accuracy: 0.9997 - val_loss: 0.7567 - val_binary_accuracy: 0.8502\n",
            "Epoch 19/20\n",
            "30/30 [==============================] - 1s 20ms/step - loss: 0.0062 - binary_accuracy: 0.9994 - val_loss: 0.7867 - val_binary_accuracy: 0.8516\n",
            "Epoch 20/20\n",
            "30/30 [==============================] - 1s 20ms/step - loss: 0.0036 - binary_accuracy: 0.9998 - val_loss: 0.7884 - val_binary_accuracy: 0.8610\n"
          ]
        },
        {
          "output_type": "execute_result",
          "data": {
            "text/plain": [
              "dict_keys(['loss', 'binary_accuracy', 'val_loss', 'val_binary_accuracy'])"
            ]
          },
          "metadata": {},
          "execution_count": 19
        }
      ],
      "source": [
        "\n",
        "\n",
        "model = models.Sequential()\n",
        "model.add(layers.Dense(16, activation='relu', input_shape=(10000,)))\n",
        "model.add(layers.Dense(16, activation='relu'))\n",
        "model.add(layers.Dense(1, activation='sigmoid'))\n",
        "\n",
        "model.compile(optimizer=optimizers.RMSprop(lr=0.001),\n",
        "              loss=losses.binary_crossentropy,\n",
        "              metrics=[metrics.binary_accuracy])\n",
        "\n",
        "history = model.fit(x_train,\n",
        "                    y_train,\n",
        "                    epochs=20,\n",
        "                    batch_size=512,\n",
        "                    validation_data=(x_val, y_val))\n",
        "history_dict = history.history\n",
        "history_dict.keys()"
      ]
    },
    {
      "cell_type": "code",
      "execution_count": null,
      "metadata": {
        "id": "9hDnTL_2vGrX",
        "colab": {
          "base_uri": "https://localhost:8080/",
          "height": 295
        },
        "outputId": "cbf0538b-640e-4dd6-ec74-f0bc0e98126a"
      },
      "outputs": [
        {
          "output_type": "display_data",
          "data": {
            "text/plain": [
              "<Figure size 432x288 with 1 Axes>"
            ],
            "image/png": "[encoded data removed]"
          },
          "metadata": {
            "needs_background": "light"
          }
        }
      ],
      "source": [
        "\n",
        "acc = history.history['binary_accuracy']\n",
        "val_acc = history.history['val_binary_accuracy']\n",
        "loss = history.history['loss']\n",
        "val_loss = history.history['val_loss']\n",
        "\n",
        "epochs = range(1, len(acc) + 1)\n",
        "\n",
        "# \"bo\" is for \"blue dot\"\n",
        "plt.plot(epochs, loss, 'bo', label='Training loss')\n",
        "# b is for \"solid blue line\"\n",
        "plt.plot(epochs, val_loss, 'b', label='Validation loss')\n",
        "plt.title('Training and validation loss')\n",
        "plt.xlabel('Epochs')\n",
        "plt.ylabel('Loss')\n",
        "plt.legend()\n",
        "\n",
        "plt.show()"
      ]
    },
    {
      "cell_type": "code",
      "execution_count": null,
      "metadata": {
        "id": "U7dZJJKgvG2G",
        "colab": {
          "base_uri": "https://localhost:8080/",
          "height": 295
        },
        "outputId": "3f446f23-d44b-48dc-9018-54cf994649df"
      },
      "outputs": [
        {
          "output_type": "display_data",
          "data": {
            "text/plain": [
              "<Figure size 432x288 with 1 Axes>"
            ],
            "image/png": "[encoded data removed]"
          },
          "metadata": {
            "needs_background": "light"
          }
        }
      ],
      "source": [
        "\n",
        "plt.clf()   # clear figure\n",
        "acc_values = history_dict['binary_accuracy']\n",
        "val_acc_values = history_dict['val_binary_accuracy']\n",
        "\n",
        "plt.plot(epochs, acc, 'bo', label='Training acc')\n",
        "plt.plot(epochs, val_acc, 'b', label='Validation acc')\n",
        "plt.title('Training and validation accuracy')\n",
        "plt.xlabel('Epochs')\n",
        "plt.ylabel('Loss')\n",
        "plt.legend()\n",
        "\n",
        "plt.show()"
      ]
    },
    {
      "cell_type": "markdown",
      "metadata": {
        "id": "09Sx4f83INfs"
      },
      "source": [
        "### Count/Freq features"
      ]
    },
    {
      "cell_type": "markdown",
      "metadata": {
        "id": "PUs-eMUwI6Q1"
      },
      "source": [
        "## Count"
      ]
    },
    {
      "cell_type": "code",
      "execution_count": null,
      "metadata": {
        "id": "0Wr8pZCtJApM"
      },
      "outputs": [],
      "source": [
        "'''\n",
        "trn_texts,trn_labels = get_texts(PATH/'train')\n",
        "tst_texts,tst_labels = get_texts(PATH/'test')\n",
        "\n",
        "trn_texts = normalize_corpus(trn_texts)\n",
        "tst_texts = normalize_corpus(tst_texts)\n",
        "\n",
        "vocab_sz = 10000\n",
        "tok = Tokenizer(num_words=vocab_sz, oov_token='UNK')\n",
        "tok.fit_on_texts(trn_texts + tst_texts)\n",
        "#vocab_sz = len(tok.word_index)\n",
        "'''\n",
        "# Extract binary BoW features\n",
        "x_train = tok.texts_to_matrix(trn_texts, mode='count')\n",
        "x_test = tok.texts_to_matrix(tst_texts, mode='count')\n",
        "y_train = np.asarray(trn_labels).astype('float32')\n",
        "y_test = np.asarray(tst_labels).astype('float32')\n",
        "\n",
        "x_train, x_val, y_train, y_val = train_test_split(x_train, y_train, test_size=0.4, random_state=42)\n"
      ]
    },
    {
      "cell_type": "code",
      "execution_count": null,
      "metadata": {
        "id": "P7GMwSfDJN8D",
        "colab": {
          "base_uri": "https://localhost:8080/"
        },
        "outputId": "e01b4971-12cb-46a9-e720-0d564c0b3614"
      },
      "outputs": [
        {
          "output_type": "execute_result",
          "data": {
            "text/plain": [
              "array([[0., 0., 0., ..., 0., 0., 0.],\n",
              "       [0., 1., 2., ..., 0., 0., 0.],\n",
              "       [0., 7., 0., ..., 0., 0., 0.],\n",
              "       ...,\n",
              "       [0., 2., 1., ..., 0., 0., 0.],\n",
              "       [0., 7., 2., ..., 0., 0., 0.],\n",
              "       [0., 1., 2., ..., 0., 0., 0.]])"
            ]
          },
          "metadata": {},
          "execution_count": 23
        }
      ],
      "source": [
        "x_train"
      ]
    },
    {
      "cell_type": "code",
      "execution_count": null,
      "metadata": {
        "id": "cZ_DxI9nJFi_",
        "colab": {
          "base_uri": "https://localhost:8080/"
        },
        "outputId": "7949eb4a-9af7-4f4d-c4a4-37152dfa6b21"
      },
      "outputs": [
        {
          "output_type": "stream",
          "name": "stderr",
          "text": [
            "/usr/local/lib/python3.7/dist-packages/keras/optimizer_v2/rmsprop.py:130: UserWarning: The `lr` argument is deprecated, use `learning_rate` instead.\n",
            "  super(RMSprop, self).__init__(name, **kwargs)\n"
          ]
        },
        {
          "output_type": "stream",
          "name": "stdout",
          "text": [
            "Epoch 1/20\n",
            "18/18 [==============================] - 1s 40ms/step - loss: 0.6027 - binary_accuracy: 0.7408 - val_loss: 0.5109 - val_binary_accuracy: 0.8377\n",
            "Epoch 2/20\n",
            "18/18 [==============================] - 0s 20ms/step - loss: 0.4184 - binary_accuracy: 0.8826 - val_loss: 0.4013 - val_binary_accuracy: 0.8597\n",
            "Epoch 3/20\n",
            "18/18 [==============================] - 0s 20ms/step - loss: 0.3043 - binary_accuracy: 0.9173 - val_loss: 0.3469 - val_binary_accuracy: 0.8768\n",
            "Epoch 4/20\n",
            "18/18 [==============================] - 0s 20ms/step - loss: 0.2362 - binary_accuracy: 0.9377 - val_loss: 0.3279 - val_binary_accuracy: 0.8758\n",
            "Epoch 5/20\n",
            "18/18 [==============================] - 0s 20ms/step - loss: 0.1901 - binary_accuracy: 0.9497 - val_loss: 0.3219 - val_binary_accuracy: 0.8740\n",
            "Epoch 6/20\n",
            "18/18 [==============================] - 0s 20ms/step - loss: 0.1535 - binary_accuracy: 0.9611 - val_loss: 0.3322 - val_binary_accuracy: 0.8718\n",
            "Epoch 7/20\n",
            "18/18 [==============================] - 0s 20ms/step - loss: 0.1261 - binary_accuracy: 0.9687 - val_loss: 0.3448 - val_binary_accuracy: 0.8698\n",
            "Epoch 8/20\n",
            "18/18 [==============================] - 0s 20ms/step - loss: 0.1022 - binary_accuracy: 0.9774 - val_loss: 0.3462 - val_binary_accuracy: 0.8737\n",
            "Epoch 9/20\n",
            "18/18 [==============================] - 0s 20ms/step - loss: 0.0839 - binary_accuracy: 0.9809 - val_loss: 0.3695 - val_binary_accuracy: 0.8698\n",
            "Epoch 10/20\n",
            "18/18 [==============================] - 0s 20ms/step - loss: 0.0667 - binary_accuracy: 0.9877 - val_loss: 0.3859 - val_binary_accuracy: 0.8722\n",
            "Epoch 11/20\n",
            "18/18 [==============================] - 0s 20ms/step - loss: 0.0555 - binary_accuracy: 0.9892 - val_loss: 0.4133 - val_binary_accuracy: 0.8702\n",
            "Epoch 12/20\n",
            "18/18 [==============================] - 0s 21ms/step - loss: 0.0433 - binary_accuracy: 0.9932 - val_loss: 0.4605 - val_binary_accuracy: 0.8603\n",
            "Epoch 13/20\n",
            "18/18 [==============================] - 0s 20ms/step - loss: 0.0358 - binary_accuracy: 0.9944 - val_loss: 0.4696 - val_binary_accuracy: 0.8660\n",
            "Epoch 14/20\n",
            "18/18 [==============================] - 0s 20ms/step - loss: 0.0280 - binary_accuracy: 0.9959 - val_loss: 0.5114 - val_binary_accuracy: 0.8597\n",
            "Epoch 15/20\n",
            "18/18 [==============================] - 0s 20ms/step - loss: 0.0224 - binary_accuracy: 0.9973 - val_loss: 0.5405 - val_binary_accuracy: 0.8575\n",
            "Epoch 16/20\n",
            "18/18 [==============================] - 0s 20ms/step - loss: 0.0195 - binary_accuracy: 0.9966 - val_loss: 0.5843 - val_binary_accuracy: 0.8562\n",
            "Epoch 17/20\n",
            "18/18 [==============================] - 0s 20ms/step - loss: 0.0137 - binary_accuracy: 0.9987 - val_loss: 0.5918 - val_binary_accuracy: 0.8615\n",
            "Epoch 18/20\n",
            "18/18 [==============================] - 0s 20ms/step - loss: 0.0111 - binary_accuracy: 0.9989 - val_loss: 0.6284 - val_binary_accuracy: 0.8592\n",
            "Epoch 19/20\n",
            "18/18 [==============================] - 0s 19ms/step - loss: 0.0104 - binary_accuracy: 0.9987 - val_loss: 0.6660 - val_binary_accuracy: 0.8565\n",
            "Epoch 20/20\n",
            "18/18 [==============================] - 0s 20ms/step - loss: 0.0069 - binary_accuracy: 0.9994 - val_loss: 0.6971 - val_binary_accuracy: 0.8557\n"
          ]
        },
        {
          "output_type": "execute_result",
          "data": {
            "text/plain": [
              "dict_keys(['loss', 'binary_accuracy', 'val_loss', 'val_binary_accuracy'])"
            ]
          },
          "metadata": {},
          "execution_count": 24
        }
      ],
      "source": [
        "\n",
        "x_train, x_val, y_train, y_val = train_test_split(x_train, y_train, test_size=0.4, random_state=42)\n",
        "\n",
        "model = models.Sequential()\n",
        "model.add(layers.Dense(16, activation='relu', input_shape=(10000,)))\n",
        "model.add(layers.Dense(16, activation='relu'))\n",
        "model.add(layers.Dense(1, activation='sigmoid'))\n",
        "\n",
        "model.compile(optimizer=optimizers.RMSprop(lr=0.001),\n",
        "              loss=losses.binary_crossentropy,\n",
        "              metrics=[metrics.binary_accuracy])\n",
        "\n",
        "history = model.fit(x_train,\n",
        "                    y_train,\n",
        "                    epochs=20,\n",
        "                    batch_size=512,\n",
        "                    validation_data=(x_val, y_val))\n",
        "history_dict = history.history\n",
        "history_dict.keys()"
      ]
    },
    {
      "cell_type": "code",
      "execution_count": null,
      "metadata": {
        "id": "jHsc1C-GJXzH",
        "colab": {
          "base_uri": "https://localhost:8080/",
          "height": 295
        },
        "outputId": "e782358c-2040-46fd-97eb-59217fc2c961"
      },
      "outputs": [
        {
          "output_type": "display_data",
          "data": {
            "text/plain": [
              "<Figure size 432x288 with 1 Axes>"
            ],
            "image/png": "[encoded data removed]"
          },
          "metadata": {
            "needs_background": "light"
          }
        }
      ],
      "source": [
        "\n",
        "acc = history.history['binary_accuracy']\n",
        "val_acc = history.history['val_binary_accuracy']\n",
        "loss = history.history['loss']\n",
        "val_loss = history.history['val_loss']\n",
        "\n",
        "epochs = range(1, len(acc) + 1)\n",
        "\n",
        "# \"bo\" is for \"blue dot\"\n",
        "plt.plot(epochs, loss, 'bo', label='Training loss')\n",
        "# b is for \"solid blue line\"\n",
        "plt.plot(epochs, val_loss, 'b', label='Validation loss')\n",
        "plt.title('Training and validation loss')\n",
        "plt.xlabel('Epochs')\n",
        "plt.ylabel('Loss')\n",
        "plt.legend()\n",
        "\n",
        "plt.show()"
      ]
    },
    {
      "cell_type": "code",
      "execution_count": null,
      "metadata": {
        "id": "PVx73BhUJYcS",
        "colab": {
          "base_uri": "https://localhost:8080/",
          "height": 295
        },
        "outputId": "c0eacc4d-dbd3-4fb6-e0ce-6f4a2d1250e1"
      },
      "outputs": [
        {
          "output_type": "display_data",
          "data": {
            "text/plain": [
              "<Figure size 432x288 with 1 Axes>"
            ],
            "image/png": "[encoded data removed]"
          },
          "metadata": {
            "needs_background": "light"
          }
        }
      ],
      "source": [
        "plt.clf()   # clear figure\n",
        "acc_values = history_dict['binary_accuracy']\n",
        "val_acc_values = history_dict['val_binary_accuracy']\n",
        "\n",
        "plt.plot(epochs, acc, 'bo', label='Training acc')\n",
        "plt.plot(epochs, val_acc, 'b', label='Validation acc')\n",
        "plt.title('Training and validation accuracy')\n",
        "plt.xlabel('Epochs')\n",
        "plt.ylabel('Loss')\n",
        "plt.legend()\n",
        "\n",
        "plt.show()"
      ]
    },
    {
      "cell_type": "markdown",
      "metadata": {
        "id": "IA4YrDZbI9HI"
      },
      "source": [
        "As you can see above, the counts are not normalized values, which is not good for the NN (neurons activations prefer normalized values, however, for Dense and Relu it makes no big difference).\n",
        "\n",
        "However, making just unnormalized counts is the same as binary BoW, since high frequency words will dominate the vector, specially that it's very sparse, causing quick overfitting. In other words, important low freq words are discarded. This can be treated with TF-IDF, or at least by normalizing, so the network might undersand that low frequencies have special importance.\n",
        "\n",
        "In all cases, let's try to normalize into freq and see the differene:"
      ]
    },
    {
      "cell_type": "markdown",
      "metadata": {
        "id": "K1vYACbaI7v7"
      },
      "source": [
        "## Freq"
      ]
    },
    {
      "cell_type": "code",
      "execution_count": null,
      "metadata": {
        "id": "gDZ53eLWJSuX"
      },
      "outputs": [],
      "source": [
        "'''\n",
        "trn_texts,trn_labels = get_texts(PATH/'train')\n",
        "tst_texts,tst_labels = get_texts(PATH/'test')\n",
        "\n",
        "trn_texts = normalize_corpus(trn_texts)\n",
        "tst_texts = normalize_corpus(tst_texts)\n",
        "\n",
        "vocab_sz = 10000\n",
        "tok = Tokenizer(num_words=vocab_sz, oov_token='UNK')\n",
        "tok.fit_on_texts(trn_texts + tst_texts)\n",
        "#vocab_sz = len(tok.word_index)\n",
        "'''\n",
        "# Extract binary BoW features\n",
        "x_train = tok.texts_to_matrix(trn_texts, mode='freq')\n",
        "x_test = tok.texts_to_matrix(tst_texts, mode='freq')\n",
        "y_train = np.asarray(trn_labels).astype('float32')\n",
        "y_test = np.asarray(tst_labels).astype('float32')\n",
        "\n",
        "x_train, x_val, y_train, y_val = train_test_split(x_train, y_train, test_size=0.4, random_state=42)"
      ]
    },
    {
      "cell_type": "code",
      "execution_count": null,
      "metadata": {
        "id": "MoBF-8cKJTLo",
        "colab": {
          "base_uri": "https://localhost:8080/"
        },
        "outputId": "3c92d744-767c-4120-a299-cb9dfce135ae"
      },
      "outputs": [
        {
          "output_type": "execute_result",
          "data": {
            "text/plain": [
              "(15000, 10000)"
            ]
          },
          "metadata": {},
          "execution_count": 13
        }
      ],
      "source": [
        "x_train.shape"
      ]
    },
    {
      "cell_type": "code",
      "execution_count": null,
      "metadata": {
        "id": "DY3EF3oJIW0R",
        "colab": {
          "base_uri": "https://localhost:8080/"
        },
        "outputId": "24048aee-cfc4-44e1-9e8e-eebf65b28622"
      },
      "outputs": [
        {
          "output_type": "stream",
          "name": "stderr",
          "text": [
            "/usr/local/lib/python3.7/dist-packages/keras/optimizer_v2/rmsprop.py:130: UserWarning: The `lr` argument is deprecated, use `learning_rate` instead.\n",
            "  super(RMSprop, self).__init__(name, **kwargs)\n"
          ]
        },
        {
          "output_type": "stream",
          "name": "stdout",
          "text": [
            "Epoch 1/20\n",
            "18/18 [==============================] - 2s 37ms/step - loss: 0.6891 - binary_accuracy: 0.6371 - val_loss: 0.6842 - val_binary_accuracy: 0.8148\n",
            "Epoch 2/20\n",
            "18/18 [==============================] - 0s 20ms/step - loss: 0.6784 - binary_accuracy: 0.7914 - val_loss: 0.6735 - val_binary_accuracy: 0.8083\n",
            "Epoch 3/20\n",
            "18/18 [==============================] - 0s 20ms/step - loss: 0.6643 - binary_accuracy: 0.8297 - val_loss: 0.6590 - val_binary_accuracy: 0.8303\n",
            "Epoch 4/20\n",
            "18/18 [==============================] - 0s 20ms/step - loss: 0.6467 - binary_accuracy: 0.8441 - val_loss: 0.6421 - val_binary_accuracy: 0.8328\n",
            "Epoch 5/20\n",
            "18/18 [==============================] - 0s 20ms/step - loss: 0.6264 - binary_accuracy: 0.8519 - val_loss: 0.6228 - val_binary_accuracy: 0.8352\n",
            "Epoch 6/20\n",
            "18/18 [==============================] - 0s 20ms/step - loss: 0.6038 - binary_accuracy: 0.8566 - val_loss: 0.6019 - val_binary_accuracy: 0.8362\n",
            "Epoch 7/20\n",
            "18/18 [==============================] - 0s 19ms/step - loss: 0.5788 - binary_accuracy: 0.8617 - val_loss: 0.5795 - val_binary_accuracy: 0.8385\n",
            "Epoch 8/20\n",
            "18/18 [==============================] - 0s 19ms/step - loss: 0.5526 - binary_accuracy: 0.8692 - val_loss: 0.5558 - val_binary_accuracy: 0.8437\n",
            "Epoch 9/20\n",
            "18/18 [==============================] - 0s 20ms/step - loss: 0.5253 - binary_accuracy: 0.8738 - val_loss: 0.5321 - val_binary_accuracy: 0.8455\n",
            "Epoch 10/20\n",
            "18/18 [==============================] - 0s 20ms/step - loss: 0.4974 - binary_accuracy: 0.8791 - val_loss: 0.5079 - val_binary_accuracy: 0.8513\n",
            "Epoch 11/20\n",
            "18/18 [==============================] - 0s 20ms/step - loss: 0.4697 - binary_accuracy: 0.8813 - val_loss: 0.4847 - val_binary_accuracy: 0.8515\n",
            "Epoch 12/20\n",
            "18/18 [==============================] - 0s 19ms/step - loss: 0.4422 - binary_accuracy: 0.8873 - val_loss: 0.4626 - val_binary_accuracy: 0.8532\n",
            "Epoch 13/20\n",
            "18/18 [==============================] - 0s 19ms/step - loss: 0.4156 - binary_accuracy: 0.8917 - val_loss: 0.4419 - val_binary_accuracy: 0.8537\n",
            "Epoch 14/20\n",
            "18/18 [==============================] - 0s 20ms/step - loss: 0.3908 - binary_accuracy: 0.8952 - val_loss: 0.4215 - val_binary_accuracy: 0.8613\n",
            "Epoch 15/20\n",
            "18/18 [==============================] - 0s 19ms/step - loss: 0.3676 - binary_accuracy: 0.9003 - val_loss: 0.4046 - val_binary_accuracy: 0.8605\n",
            "Epoch 16/20\n",
            "18/18 [==============================] - 0s 20ms/step - loss: 0.3457 - binary_accuracy: 0.9037 - val_loss: 0.3884 - val_binary_accuracy: 0.8642\n",
            "Epoch 17/20\n",
            "18/18 [==============================] - 0s 20ms/step - loss: 0.3252 - binary_accuracy: 0.9080 - val_loss: 0.3748 - val_binary_accuracy: 0.8650\n",
            "Epoch 18/20\n",
            "18/18 [==============================] - 0s 20ms/step - loss: 0.3062 - binary_accuracy: 0.9108 - val_loss: 0.3612 - val_binary_accuracy: 0.8693\n",
            "Epoch 19/20\n",
            "18/18 [==============================] - 0s 20ms/step - loss: 0.2888 - binary_accuracy: 0.9140 - val_loss: 0.3494 - val_binary_accuracy: 0.8695\n",
            "Epoch 20/20\n",
            "18/18 [==============================] - 0s 19ms/step - loss: 0.2730 - binary_accuracy: 0.9197 - val_loss: 0.3408 - val_binary_accuracy: 0.8700\n"
          ]
        },
        {
          "output_type": "execute_result",
          "data": {
            "text/plain": [
              "dict_keys(['loss', 'binary_accuracy', 'val_loss', 'val_binary_accuracy'])"
            ]
          },
          "metadata": {},
          "execution_count": 14
        }
      ],
      "source": [
        "\n",
        "\n",
        "x_train, x_val, y_train, y_val = train_test_split(x_train, y_train, test_size=0.4, random_state=42)\n",
        "\n",
        "model = models.Sequential()\n",
        "model.add(layers.Dense(16, activation='relu', input_shape=(10000,)))\n",
        "model.add(layers.Dense(16, activation='relu'))\n",
        "model.add(layers.Dense(1, activation='sigmoid'))\n",
        "\n",
        "model.compile(optimizer=optimizers.RMSprop(lr=0.001),\n",
        "              loss=losses.binary_crossentropy,\n",
        "              metrics=[metrics.binary_accuracy])\n",
        "\n",
        "history = model.fit(x_train,\n",
        "                    y_train,\n",
        "                    epochs=20,\n",
        "                    batch_size=512,\n",
        "                    validation_data=(x_val, y_val))\n",
        "history_dict = history.history\n",
        "history_dict.keys()"
      ]
    },
    {
      "cell_type": "code",
      "execution_count": null,
      "metadata": {
        "id": "8ULZMZbZIZLp",
        "colab": {
          "base_uri": "https://localhost:8080/",
          "height": 295
        },
        "outputId": "35984341-52e7-4c61-f3d6-e797fec94b7e"
      },
      "outputs": [
        {
          "output_type": "display_data",
          "data": {
            "text/plain": [
              "<Figure size 432x288 with 1 Axes>"
            ],
            "image/png": "[encoded data removed]"
          },
          "metadata": {
            "needs_background": "light"
          }
        }
      ],
      "source": [
        "\n",
        "acc = history.history['binary_accuracy']\n",
        "val_acc = history.history['val_binary_accuracy']\n",
        "loss = history.history['loss']\n",
        "val_loss = history.history['val_loss']\n",
        "\n",
        "epochs = range(1, len(acc) + 1)\n",
        "\n",
        "# \"bo\" is for \"blue dot\"\n",
        "plt.plot(epochs, loss, 'bo', label='Training loss')\n",
        "# b is for \"solid blue line\"\n",
        "plt.plot(epochs, val_loss, 'b', label='Validation loss')\n",
        "plt.title('Training and validation loss')\n",
        "plt.xlabel('Epochs')\n",
        "plt.ylabel('Loss')\n",
        "plt.legend()\n",
        "\n",
        "plt.show()"
      ]
    },
    {
      "cell_type": "code",
      "execution_count": null,
      "metadata": {
        "id": "Zd7wjsvvIZtd",
        "colab": {
          "base_uri": "https://localhost:8080/",
          "height": 295
        },
        "outputId": "c176496c-bbc3-49e7-b8e6-112715b20085"
      },
      "outputs": [
        {
          "output_type": "display_data",
          "data": {
            "text/plain": [
              "<Figure size 432x288 with 1 Axes>"
            ],
            "image/png": "[encoded data removed]"
          },
          "metadata": {
            "needs_background": "light"
          }
        }
      ],
      "source": [
        "\n",
        "plt.clf()   # clear figure\n",
        "acc_values = history_dict['binary_accuracy']\n",
        "val_acc_values = history_dict['val_binary_accuracy']\n",
        "\n",
        "plt.plot(epochs, acc, 'bo', label='Training acc')\n",
        "plt.plot(epochs, val_acc, 'b', label='Validation acc')\n",
        "plt.title('Training and validation accuracy')\n",
        "plt.xlabel('Epochs')\n",
        "plt.ylabel('Loss')\n",
        "plt.legend()\n",
        "\n",
        "plt.show()"
      ]
    },
    {
      "cell_type": "markdown",
      "metadata": {
        "id": "t09AeCNDIoNt"
      },
      "source": [
        "As you can see, normalizing the counts correctly has a good effect to delay the overfitting. Even at the max epoch, we got higher acc (88%)"
      ]
    },
    {
      "cell_type": "markdown",
      "metadata": {
        "id": "4OtESOiiIQVS"
      },
      "source": [
        "### TF-IDF features"
      ]
    },
    {
      "cell_type": "code",
      "execution_count": null,
      "metadata": {
        "id": "rmbxpYAHJo50"
      },
      "outputs": [],
      "source": [
        "'''\n",
        "trn_texts,trn_labels = get_texts(PATH/'train')\n",
        "tst_texts,tst_labels = get_texts(PATH/'test')\n",
        "\n",
        "trn_texts = normalize_corpus(trn_texts)\n",
        "tst_texts = normalize_corpus(tst_texts)\n",
        "\n",
        "vocab_sz = 10000\n",
        "tok = Tokenizer(num_words=vocab_sz, oov_token='UNK')\n",
        "tok.fit_on_texts(trn_texts + tst_texts)\n",
        "#vocab_sz = len(tok.word_index)\n",
        "'''\n",
        "# Extract binary BoW features\n",
        "x_train = tok.texts_to_matrix(trn_texts, mode='tfidf')\n",
        "x_test = tok.texts_to_matrix(tst_texts, mode='tfidf')\n",
        "y_train = np.asarray(trn_labels).astype('float32')\n",
        "y_test = np.asarray(tst_labels).astype('float32')\n",
        "\n",
        "\n",
        "x_train, x_val, y_train, y_val = train_test_split(x_train, y_train, test_size=0.4, random_state=42)"
      ]
    },
    {
      "cell_type": "code",
      "execution_count": null,
      "metadata": {
        "id": "_jmgynn4Jo52",
        "colab": {
          "base_uri": "https://localhost:8080/"
        },
        "outputId": "3ac52f77-5dad-4aab-8ef7-df84a69b7361"
      },
      "outputs": [
        {
          "output_type": "execute_result",
          "data": {
            "text/plain": [
              "(15000, 10000)"
            ]
          },
          "metadata": {},
          "execution_count": 27
        }
      ],
      "source": [
        "x_train.shape"
      ]
    },
    {
      "cell_type": "code",
      "execution_count": null,
      "metadata": {
        "id": "Kg-6qOC-Jo55",
        "colab": {
          "base_uri": "https://localhost:8080/"
        },
        "outputId": "ad0487bd-45c4-49da-a2f6-08085d25e21c"
      },
      "outputs": [
        {
          "output_type": "stream",
          "name": "stderr",
          "text": [
            "/usr/local/lib/python3.7/dist-packages/keras/optimizer_v2/rmsprop.py:130: UserWarning: The `lr` argument is deprecated, use `learning_rate` instead.\n",
            "  super(RMSprop, self).__init__(name, **kwargs)\n"
          ]
        },
        {
          "output_type": "stream",
          "name": "stdout",
          "text": [
            "Epoch 1/20\n",
            "30/30 [==============================] - 2s 38ms/step - loss: 0.4552 - binary_accuracy: 0.7953 - val_loss: 0.3365 - val_binary_accuracy: 0.8686\n",
            "Epoch 2/20\n",
            "30/30 [==============================] - 1s 23ms/step - loss: 0.2157 - binary_accuracy: 0.9222 - val_loss: 0.3060 - val_binary_accuracy: 0.8772\n",
            "Epoch 3/20\n",
            "30/30 [==============================] - 1s 20ms/step - loss: 0.1428 - binary_accuracy: 0.9516 - val_loss: 0.3225 - val_binary_accuracy: 0.8758\n",
            "Epoch 4/20\n",
            "30/30 [==============================] - 1s 20ms/step - loss: 0.0930 - binary_accuracy: 0.9728 - val_loss: 0.3583 - val_binary_accuracy: 0.8753\n",
            "Epoch 5/20\n",
            "30/30 [==============================] - 1s 19ms/step - loss: 0.0641 - binary_accuracy: 0.9821 - val_loss: 0.4147 - val_binary_accuracy: 0.8704\n",
            "Epoch 6/20\n",
            "30/30 [==============================] - 1s 20ms/step - loss: 0.0504 - binary_accuracy: 0.9853 - val_loss: 0.4586 - val_binary_accuracy: 0.8687\n",
            "Epoch 7/20\n",
            "30/30 [==============================] - 1s 19ms/step - loss: 0.0279 - binary_accuracy: 0.9937 - val_loss: 0.5115 - val_binary_accuracy: 0.8651\n",
            "Epoch 8/20\n",
            "30/30 [==============================] - 1s 24ms/step - loss: 0.0229 - binary_accuracy: 0.9946 - val_loss: 0.5679 - val_binary_accuracy: 0.8642\n",
            "Epoch 9/20\n",
            "30/30 [==============================] - 1s 20ms/step - loss: 0.0129 - binary_accuracy: 0.9978 - val_loss: 0.6310 - val_binary_accuracy: 0.8586\n",
            "Epoch 10/20\n",
            "30/30 [==============================] - 1s 19ms/step - loss: 0.0130 - binary_accuracy: 0.9968 - val_loss: 0.7179 - val_binary_accuracy: 0.8610\n",
            "Epoch 11/20\n",
            "30/30 [==============================] - 1s 20ms/step - loss: 0.0054 - binary_accuracy: 0.9993 - val_loss: 0.7600 - val_binary_accuracy: 0.8594\n",
            "Epoch 12/20\n",
            "30/30 [==============================] - 1s 20ms/step - loss: 0.0034 - binary_accuracy: 0.9995 - val_loss: 0.8637 - val_binary_accuracy: 0.8604\n",
            "Epoch 13/20\n",
            "30/30 [==============================] - 1s 19ms/step - loss: 0.0052 - binary_accuracy: 0.9989 - val_loss: 0.9223 - val_binary_accuracy: 0.8579\n",
            "Epoch 14/20\n",
            "30/30 [==============================] - 1s 20ms/step - loss: 0.0015 - binary_accuracy: 0.9998 - val_loss: 0.9787 - val_binary_accuracy: 0.8566\n",
            "Epoch 15/20\n",
            "30/30 [==============================] - 1s 20ms/step - loss: 9.6397e-04 - binary_accuracy: 0.9999 - val_loss: 1.0734 - val_binary_accuracy: 0.8561\n",
            "Epoch 16/20\n",
            "30/30 [==============================] - 1s 20ms/step - loss: 0.0013 - binary_accuracy: 0.9996 - val_loss: 1.2195 - val_binary_accuracy: 0.8527\n",
            "Epoch 17/20\n",
            "30/30 [==============================] - 1s 20ms/step - loss: 4.1850e-04 - binary_accuracy: 1.0000 - val_loss: 1.2526 - val_binary_accuracy: 0.8530\n",
            "Epoch 18/20\n",
            "30/30 [==============================] - 1s 20ms/step - loss: 2.4545e-04 - binary_accuracy: 1.0000 - val_loss: 1.3256 - val_binary_accuracy: 0.8519\n",
            "Epoch 19/20\n",
            "30/30 [==============================] - 1s 19ms/step - loss: 1.5742e-04 - binary_accuracy: 1.0000 - val_loss: 1.4270 - val_binary_accuracy: 0.8518\n",
            "Epoch 20/20\n",
            "30/30 [==============================] - 1s 20ms/step - loss: 0.0068 - binary_accuracy: 0.9989 - val_loss: 1.5497 - val_binary_accuracy: 0.8513\n"
          ]
        },
        {
          "output_type": "execute_result",
          "data": {
            "text/plain": [
              "dict_keys(['loss', 'binary_accuracy', 'val_loss', 'val_binary_accuracy'])"
            ]
          },
          "metadata": {},
          "execution_count": 19
        }
      ],
      "source": [
        "\n",
        "#x_train, x_val, y_train, y_val = train_test_split(x_train, y_train, test_size=0.4, random_state=42)\n",
        "\n",
        "model = models.Sequential()\n",
        "model.add(layers.Dense(16, activation='relu', input_shape=(10000,)))\n",
        "model.add(layers.Dense(16, activation='relu'))\n",
        "model.add(layers.Dense(1, activation='sigmoid'))\n",
        "\n",
        "model.compile(optimizer=optimizers.RMSprop(lr=0.001),\n",
        "              loss=losses.binary_crossentropy,\n",
        "              metrics=[metrics.binary_accuracy])\n",
        "\n",
        "history = model.fit(x_train,\n",
        "                    y_train,\n",
        "                    epochs=20,\n",
        "                    batch_size=512,\n",
        "                    validation_data=(x_val, y_val))\n",
        "history_dict = history.history\n",
        "history_dict.keys()"
      ]
    },
    {
      "cell_type": "code",
      "execution_count": null,
      "metadata": {
        "id": "kAKIYgykJo58",
        "colab": {
          "base_uri": "https://localhost:8080/",
          "height": 295
        },
        "outputId": "56e292b0-36dc-4c6c-d530-9b9535883520"
      },
      "outputs": [
        {
          "output_type": "display_data",
          "data": {
            "text/plain": [
              "<Figure size 432x288 with 1 Axes>"
            ],
            "image/png": "[encoded data removed]"
          },
          "metadata": {
            "needs_background": "light"
          }
        }
      ],
      "source": [
        "\n",
        "acc = history.history['binary_accuracy']\n",
        "val_acc = history.history['val_binary_accuracy']\n",
        "loss = history.history['loss']\n",
        "val_loss = history.history['val_loss']\n",
        "\n",
        "epochs = range(1, len(acc) + 1)\n",
        "\n",
        "# \"bo\" is for \"blue dot\"\n",
        "plt.plot(epochs, loss, 'bo', label='Training loss')\n",
        "# b is for \"solid blue line\"\n",
        "plt.plot(epochs, val_loss, 'b', label='Validation loss')\n",
        "plt.title('Training and validation loss')\n",
        "plt.xlabel('Epochs')\n",
        "plt.ylabel('Loss')\n",
        "plt.legend()\n",
        "\n",
        "plt.show()"
      ]
    },
    {
      "cell_type": "code",
      "execution_count": null,
      "metadata": {
        "id": "4rjONJcaJo5-",
        "colab": {
          "base_uri": "https://localhost:8080/",
          "height": 295
        },
        "outputId": "5c97c184-f801-44a4-87e7-433951b26e70"
      },
      "outputs": [
        {
          "output_type": "display_data",
          "data": {
            "text/plain": [
              "<Figure size 432x288 with 1 Axes>"
            ],
            "image/png": "[encoded data removed]"
          },
          "metadata": {
            "needs_background": "light"
          }
        }
      ],
      "source": [
        "plt.clf()   # clear figure\n",
        "acc_values = history_dict['binary_accuracy']\n",
        "val_acc_values = history_dict['val_binary_accuracy']\n",
        "\n",
        "plt.plot(epochs, acc, 'bo', label='Training acc')\n",
        "plt.plot(epochs, val_acc, 'b', label='Validation acc')\n",
        "plt.title('Training and validation accuracy')\n",
        "plt.xlabel('Epochs')\n",
        "plt.ylabel('Loss')\n",
        "plt.legend()\n",
        "\n",
        "plt.show()"
      ]
    },
    {
      "cell_type": "markdown",
      "metadata": {
        "id": "Eu5XZiU6J5xO"
      },
      "source": [
        "__TF-IDF not normalized?__\n",
        "\n",
        "In the above setting, TFIDF in keras texts_to_matrix produce non normalized values. This is because the IDF ~= 1/DF, but log(1+DF) (for math convenience the log is calculated): http://www.tfidf.com/\n",
        "\n",
        "https://github.com/keras-team/keras/issues/2974\n",
        "\n",
        "For this bug, it's better to use sklearn TfidfVectorizer"
      ]
    },
    {
      "cell_type": "markdown",
      "metadata": {
        "id": "6BS2cW7eKHzu"
      },
      "source": [
        "__Using sklearn TfidfVectorizer__\n"
      ]
    },
    {
      "cell_type": "code",
      "execution_count": null,
      "metadata": {
        "id": "kFnXxODkKOsR"
      },
      "outputs": [],
      "source": [
        "from sklearn.feature_extraction.text import TfidfVectorizer\n",
        "\n",
        "vectorizer = TfidfVectorizer()\n",
        "# tokenize and build vocab\n",
        "vectorizer.fit(trn_texts+tst_texts)\n",
        "\n",
        "\n",
        "x_train = vectorizer.transform(trn_texts)\n",
        "x_test =vectorizer.transform(tst_texts)\n",
        "y_train = np.asarray(trn_labels).astype('float32')\n",
        "y_test = np.asarray(tst_labels).astype('float32')\n"
      ]
    },
    {
      "cell_type": "code",
      "execution_count": null,
      "metadata": {
        "id": "rpAXpZPAKT4m",
        "colab": {
          "base_uri": "https://localhost:8080/"
        },
        "outputId": "00b09587-9360-44eb-8247-4f2c3e9bf9bc"
      },
      "outputs": [
        {
          "output_type": "execute_result",
          "data": {
            "text/plain": [
              "(25000, 140805)"
            ]
          },
          "metadata": {},
          "execution_count": 23
        }
      ],
      "source": [
        "x_train.shape"
      ]
    },
    {
      "cell_type": "code",
      "execution_count": null,
      "metadata": {
        "id": "SwsniDsMKZvO",
        "colab": {
          "base_uri": "https://localhost:8080/"
        },
        "outputId": "c3b87131-6b40-4365-8ff1-cd3c067cef52"
      },
      "outputs": [
        {
          "output_type": "stream",
          "name": "stdout",
          "text": [
            "0.3760780390875514\n",
            "0.0\n"
          ]
        }
      ],
      "source": [
        "print(x_train[0].toarray().max())\n",
        "print(x_train[0].toarray().min())"
      ]
    },
    {
      "cell_type": "markdown",
      "metadata": {
        "id": "DjHCkhB0KZAb"
      },
      "source": [
        "Now we get normalized values, but on ALL vocab.\n",
        "\n",
        "If we try toarray we will get out of mem!\n",
        "\n",
        "__How to limit the vocab?__"
      ]
    },
    {
      "cell_type": "code",
      "execution_count": null,
      "metadata": {
        "id": "TEWAvQ4QKUh9"
      },
      "outputs": [],
      "source": [
        "from sklearn.feature_extraction.text import TfidfVectorizer\n",
        "vocab_sz = 10000\n",
        "vectorizer = TfidfVectorizer(max_features=vocab_sz)\n",
        "# tokenize and build vocab\n",
        "vectorizer.fit(trn_texts+tst_texts)\n",
        "\n",
        "\n",
        "x_train = vectorizer.transform(trn_texts)\n",
        "x_test =vectorizer.transform(tst_texts)\n",
        "y_train = np.asarray(trn_labels).astype('float32')\n",
        "y_test = np.asarray(tst_labels).astype('float32')"
      ]
    },
    {
      "cell_type": "code",
      "execution_count": null,
      "metadata": {
        "id": "MMa9Io9DKrIP",
        "colab": {
          "base_uri": "https://localhost:8080/",
          "height": 467
        },
        "outputId": "9b5314b9-482e-45b0-efd9-3f2a9a8189bb"
      },
      "outputs": [
        {
          "output_type": "stream",
          "name": "stderr",
          "text": [
            "/usr/local/lib/python3.7/dist-packages/keras/optimizer_v2/rmsprop.py:130: UserWarning: The `lr` argument is deprecated, use `learning_rate` instead.\n",
            "  super(RMSprop, self).__init__(name, **kwargs)\n"
          ]
        },
        {
          "output_type": "error",
          "ename": "InvalidArgumentError",
          "evalue": "ignored",
          "traceback": [
            "\u001b[0;31m---------------------------------------------------------------------------\u001b[0m",
            "\u001b[0;31mInvalidArgumentError\u001b[0m                      Traceback (most recent call last)",
            "\u001b[0;32m<ipython-input-28-496a964ef50c>\u001b[0m in \u001b[0;36m<module>\u001b[0;34m()\u001b[0m\n\u001b[1;32m     15\u001b[0m                     \u001b[0mepochs\u001b[0m\u001b[0;34m=\u001b[0m\u001b[0;36m20\u001b[0m\u001b[0;34m,\u001b[0m\u001b[0;34m\u001b[0m\u001b[0;34m\u001b[0m\u001b[0m\n\u001b[1;32m     16\u001b[0m                     \u001b[0mbatch_size\u001b[0m\u001b[0;34m=\u001b[0m\u001b[0;36m512\u001b[0m\u001b[0;34m,\u001b[0m\u001b[0;34m\u001b[0m\u001b[0;34m\u001b[0m\u001b[0m\n\u001b[0;32m---> 17\u001b[0;31m                     validation_data=(x_val, y_val))\n\u001b[0m\u001b[1;32m     18\u001b[0m \u001b[0mhistory_dict\u001b[0m \u001b[0;34m=\u001b[0m \u001b[0mhistory\u001b[0m\u001b[0;34m.\u001b[0m\u001b[0mhistory\u001b[0m\u001b[0;34m\u001b[0m\u001b[0;34m\u001b[0m\u001b[0m\n\u001b[1;32m     19\u001b[0m \u001b[0mhistory_dict\u001b[0m\u001b[0;34m.\u001b[0m\u001b[0mkeys\u001b[0m\u001b[0;34m(\u001b[0m\u001b[0;34m)\u001b[0m\u001b[0;34m\u001b[0m\u001b[0;34m\u001b[0m\u001b[0m\n",
            "\u001b[0;32m/usr/local/lib/python3.7/dist-packages/keras/utils/traceback_utils.py\u001b[0m in \u001b[0;36merror_handler\u001b[0;34m(*args, **kwargs)\u001b[0m\n\u001b[1;32m     65\u001b[0m     \u001b[0;32mexcept\u001b[0m \u001b[0mException\u001b[0m \u001b[0;32mas\u001b[0m \u001b[0me\u001b[0m\u001b[0;34m:\u001b[0m  \u001b[0;31m# pylint: disable=broad-except\u001b[0m\u001b[0;34m\u001b[0m\u001b[0;34m\u001b[0m\u001b[0m\n\u001b[1;32m     66\u001b[0m       \u001b[0mfiltered_tb\u001b[0m \u001b[0;34m=\u001b[0m \u001b[0m_process_traceback_frames\u001b[0m\u001b[0;34m(\u001b[0m\u001b[0me\u001b[0m\u001b[0;34m.\u001b[0m\u001b[0m__traceback__\u001b[0m\u001b[0;34m)\u001b[0m\u001b[0;34m\u001b[0m\u001b[0;34m\u001b[0m\u001b[0m\n\u001b[0;32m---> 67\u001b[0;31m       \u001b[0;32mraise\u001b[0m \u001b[0me\u001b[0m\u001b[0;34m.\u001b[0m\u001b[0mwith_traceback\u001b[0m\u001b[0;34m(\u001b[0m\u001b[0mfiltered_tb\u001b[0m\u001b[0;34m)\u001b[0m \u001b[0;32mfrom\u001b[0m \u001b[0;32mNone\u001b[0m\u001b[0;34m\u001b[0m\u001b[0;34m\u001b[0m\u001b[0m\n\u001b[0m\u001b[1;32m     68\u001b[0m     \u001b[0;32mfinally\u001b[0m\u001b[0;34m:\u001b[0m\u001b[0;34m\u001b[0m\u001b[0;34m\u001b[0m\u001b[0m\n\u001b[1;32m     69\u001b[0m       \u001b[0;32mdel\u001b[0m \u001b[0mfiltered_tb\u001b[0m\u001b[0;34m\u001b[0m\u001b[0;34m\u001b[0m\u001b[0m\n",
            "\u001b[0;32m/usr/local/lib/python3.7/dist-packages/tensorflow/python/framework/ops.py\u001b[0m in \u001b[0;36mraise_from_not_ok_status\u001b[0;34m(e, name)\u001b[0m\n\u001b[1;32m   7184\u001b[0m \u001b[0;32mdef\u001b[0m \u001b[0mraise_from_not_ok_status\u001b[0m\u001b[0;34m(\u001b[0m\u001b[0me\u001b[0m\u001b[0;34m,\u001b[0m \u001b[0mname\u001b[0m\u001b[0;34m)\u001b[0m\u001b[0;34m:\u001b[0m\u001b[0;34m\u001b[0m\u001b[0;34m\u001b[0m\u001b[0m\n\u001b[1;32m   7185\u001b[0m   \u001b[0me\u001b[0m\u001b[0;34m.\u001b[0m\u001b[0mmessage\u001b[0m \u001b[0;34m+=\u001b[0m \u001b[0;34m(\u001b[0m\u001b[0;34m\" name: \"\u001b[0m \u001b[0;34m+\u001b[0m \u001b[0mname\u001b[0m \u001b[0;32mif\u001b[0m \u001b[0mname\u001b[0m \u001b[0;32mis\u001b[0m \u001b[0;32mnot\u001b[0m \u001b[0;32mNone\u001b[0m \u001b[0;32melse\u001b[0m \u001b[0;34m\"\"\u001b[0m\u001b[0;34m)\u001b[0m\u001b[0;34m\u001b[0m\u001b[0;34m\u001b[0m\u001b[0m\n\u001b[0;32m-> 7186\u001b[0;31m   \u001b[0;32mraise\u001b[0m \u001b[0mcore\u001b[0m\u001b[0;34m.\u001b[0m\u001b[0m_status_to_exception\u001b[0m\u001b[0;34m(\u001b[0m\u001b[0me\u001b[0m\u001b[0;34m)\u001b[0m \u001b[0;32mfrom\u001b[0m \u001b[0;32mNone\u001b[0m  \u001b[0;31m# pylint: disable=protected-access\u001b[0m\u001b[0;34m\u001b[0m\u001b[0;34m\u001b[0m\u001b[0m\n\u001b[0m\u001b[1;32m   7187\u001b[0m \u001b[0;34m\u001b[0m\u001b[0m\n\u001b[1;32m   7188\u001b[0m \u001b[0;34m\u001b[0m\u001b[0m\n",
            "\u001b[0;31mInvalidArgumentError\u001b[0m: indices[1] = [0,9895] is out of order. Many sparse ops require sorted indices.\n    Use `tf.sparse.reorder` to create a correctly ordered copy.\n\n [Op:SerializeManySparse]"
          ]
        }
      ],
      "source": [
        "\n",
        "x_train, x_val, y_train, y_val = train_test_split(x_train, y_train, test_size=0.4, random_state=42)\n",
        "\n",
        "model = models.Sequential()\n",
        "model.add(layers.Dense(16, activation='relu', input_shape=(10000,)))\n",
        "model.add(layers.Dense(16, activation='relu'))\n",
        "model.add(layers.Dense(1, activation='sigmoid'))\n",
        "\n",
        "model.compile(optimizer=optimizers.RMSprop(lr=0.001),\n",
        "              loss=losses.binary_crossentropy,\n",
        "              metrics=[metrics.binary_accuracy])\n",
        "\n",
        "history = model.fit(x_train,\n",
        "                    y_train,\n",
        "                    epochs=20,\n",
        "                    batch_size=512,\n",
        "                    validation_data=(x_val, y_val))\n",
        "history_dict = history.history\n",
        "history_dict.keys()"
      ]
    },
    {
      "cell_type": "code",
      "execution_count": null,
      "metadata": {
        "id": "aJHqJ1y9KrIU"
      },
      "outputs": [],
      "source": [
        "\n",
        "acc = history.history['binary_accuracy']\n",
        "val_acc = history.history['val_binary_accuracy']\n",
        "loss = history.history['loss']\n",
        "val_loss = history.history['val_loss']\n",
        "\n",
        "epochs = range(1, len(acc) + 1)\n",
        "\n",
        "# \"bo\" is for \"blue dot\"\n",
        "plt.plot(epochs, loss, 'bo', label='Training loss')\n",
        "# b is for \"solid blue line\"\n",
        "plt.plot(epochs, val_loss, 'b', label='Validation loss')\n",
        "plt.title('Training and validation loss')\n",
        "plt.xlabel('Epochs')\n",
        "plt.ylabel('Loss')\n",
        "plt.legend()\n",
        "\n",
        "plt.show()"
      ]
    },
    {
      "cell_type": "code",
      "execution_count": null,
      "metadata": {
        "id": "6E8sEeS2KrIX"
      },
      "outputs": [],
      "source": [
        "plt.clf()   # clear figure\n",
        "acc_values = history_dict['binary_accuracy']\n",
        "val_acc_values = history_dict['val_binary_accuracy']\n",
        "\n",
        "plt.plot(epochs, acc, 'bo', label='Training acc')\n",
        "plt.plot(epochs, val_acc, 'b', label='Validation acc')\n",
        "plt.title('Training and validation accuracy')\n",
        "plt.xlabel('Epochs')\n",
        "plt.ylabel('Loss')\n",
        "plt.legend()\n",
        "\n",
        "plt.show()"
      ]
    },
    {
      "cell_type": "markdown",
      "metadata": {
        "id": "0W9RdS8yyDD6"
      },
      "source": [
        "## Let's see the effect without text cleaning steps:"
      ]
    },
    {
      "cell_type": "code",
      "execution_count": null,
      "metadata": {
        "id": "5D1J-BUnxEW2",
        "colab": {
          "base_uri": "https://localhost:8080/"
        },
        "outputId": "4832c1c7-0a69-45a6-f5b0-3b6a7f3e23ab"
      },
      "outputs": [
        {
          "output_type": "stream",
          "name": "stderr",
          "text": [
            "/usr/local/lib/python3.7/dist-packages/keras/optimizer_v2/rmsprop.py:130: UserWarning: The `lr` argument is deprecated, use `learning_rate` instead.\n",
            "  super(RMSprop, self).__init__(name, **kwargs)\n"
          ]
        },
        {
          "output_type": "stream",
          "name": "stdout",
          "text": [
            "Epoch 1/20\n",
            "30/30 [==============================] - 2s 35ms/step - loss: 0.5259 - binary_accuracy: 0.7897 - val_loss: 0.3925 - val_binary_accuracy: 0.8783\n",
            "Epoch 2/20\n",
            "30/30 [==============================] - 1s 19ms/step - loss: 0.3272 - binary_accuracy: 0.8980 - val_loss: 0.3104 - val_binary_accuracy: 0.8901\n",
            "Epoch 3/20\n",
            "30/30 [==============================] - 1s 19ms/step - loss: 0.2403 - binary_accuracy: 0.9219 - val_loss: 0.2832 - val_binary_accuracy: 0.8941\n",
            "Epoch 4/20\n",
            "30/30 [==============================] - 1s 19ms/step - loss: 0.1877 - binary_accuracy: 0.9412 - val_loss: 0.2959 - val_binary_accuracy: 0.8834\n",
            "Epoch 5/20\n",
            "30/30 [==============================] - 1s 19ms/step - loss: 0.1530 - binary_accuracy: 0.9509 - val_loss: 0.2819 - val_binary_accuracy: 0.8919\n",
            "Epoch 6/20\n",
            "30/30 [==============================] - 1s 19ms/step - loss: 0.1286 - binary_accuracy: 0.9595 - val_loss: 0.2881 - val_binary_accuracy: 0.8926\n",
            "Epoch 7/20\n",
            "30/30 [==============================] - 1s 19ms/step - loss: 0.1051 - binary_accuracy: 0.9679 - val_loss: 0.3014 - val_binary_accuracy: 0.8898\n",
            "Epoch 8/20\n",
            "30/30 [==============================] - 1s 20ms/step - loss: 0.0908 - binary_accuracy: 0.9727 - val_loss: 0.3184 - val_binary_accuracy: 0.8857\n",
            "Epoch 9/20\n",
            "30/30 [==============================] - 1s 19ms/step - loss: 0.0744 - binary_accuracy: 0.9792 - val_loss: 0.3377 - val_binary_accuracy: 0.8838\n",
            "Epoch 10/20\n",
            "30/30 [==============================] - 1s 20ms/step - loss: 0.0609 - binary_accuracy: 0.9849 - val_loss: 0.3636 - val_binary_accuracy: 0.8814\n",
            "Epoch 11/20\n",
            "30/30 [==============================] - 1s 19ms/step - loss: 0.0531 - binary_accuracy: 0.9867 - val_loss: 0.4046 - val_binary_accuracy: 0.8781\n",
            "Epoch 12/20\n",
            "30/30 [==============================] - 1s 19ms/step - loss: 0.0439 - binary_accuracy: 0.9898 - val_loss: 0.4161 - val_binary_accuracy: 0.8776\n",
            "Epoch 13/20\n",
            "30/30 [==============================] - 1s 20ms/step - loss: 0.0344 - binary_accuracy: 0.9934 - val_loss: 0.4492 - val_binary_accuracy: 0.8742\n",
            "Epoch 14/20\n",
            "30/30 [==============================] - 1s 19ms/step - loss: 0.0292 - binary_accuracy: 0.9941 - val_loss: 0.4781 - val_binary_accuracy: 0.8723\n",
            "Epoch 15/20\n",
            "30/30 [==============================] - 1s 20ms/step - loss: 0.0239 - binary_accuracy: 0.9953 - val_loss: 0.5095 - val_binary_accuracy: 0.8717\n",
            "Epoch 16/20\n",
            "30/30 [==============================] - 1s 18ms/step - loss: 0.0188 - binary_accuracy: 0.9969 - val_loss: 0.5418 - val_binary_accuracy: 0.8706\n",
            "Epoch 17/20\n",
            "30/30 [==============================] - 1s 19ms/step - loss: 0.0167 - binary_accuracy: 0.9967 - val_loss: 0.5784 - val_binary_accuracy: 0.8689\n",
            "Epoch 18/20\n",
            "30/30 [==============================] - 1s 19ms/step - loss: 0.0129 - binary_accuracy: 0.9977 - val_loss: 0.6067 - val_binary_accuracy: 0.8658\n",
            "Epoch 19/20\n",
            "30/30 [==============================] - 1s 20ms/step - loss: 0.0081 - binary_accuracy: 0.9992 - val_loss: 0.7557 - val_binary_accuracy: 0.8515\n",
            "Epoch 20/20\n",
            "30/30 [==============================] - 1s 19ms/step - loss: 0.0074 - binary_accuracy: 0.9991 - val_loss: 0.6856 - val_binary_accuracy: 0.8625\n"
          ]
        },
        {
          "output_type": "execute_result",
          "data": {
            "text/plain": [
              "dict_keys(['loss', 'binary_accuracy', 'val_loss', 'val_binary_accuracy'])"
            ]
          },
          "metadata": {},
          "execution_count": 29
        }
      ],
      "source": [
        "\n",
        "trn_texts,trn_labels = get_texts(PATH/'train')\n",
        "tst_texts,tst_labels = get_texts(PATH/'test')\n",
        "\n",
        "#trn_texts = normalize_corpus(trn_texts)\n",
        "#tst_texts = normalize_corpus(tst_texts)\n",
        "\n",
        "vocab_sz = 10000\n",
        "tok = Tokenizer(num_words=vocab_sz, oov_token='UNK')\n",
        "tok.fit_on_texts(trn_texts + tst_texts)\n",
        "#vocab_sz = len(tok.word_index)\n",
        "\n",
        "# Extract binary BoW features\n",
        "x_train = tok.texts_to_matrix(trn_texts, mode='binary')\n",
        "x_test = tok.texts_to_matrix(tst_texts, mode='binary')\n",
        "y_train = np.asarray(trn_labels).astype('float32')\n",
        "y_test = np.asarray(tst_labels).astype('float32')\n",
        "\n",
        "from sklearn.model_selection import train_test_split\n",
        "\n",
        "x_train, x_val, y_train, y_val = train_test_split(x_train, y_train, test_size=0.4, random_state=42)\n",
        "\n",
        "model = models.Sequential()\n",
        "model.add(layers.Dense(16, activation='relu', input_shape=(10000,)))\n",
        "model.add(layers.Dense(16, activation='relu'))\n",
        "model.add(layers.Dense(1, activation='sigmoid'))\n",
        "\n",
        "model.compile(optimizer=optimizers.RMSprop(lr=0.001),\n",
        "              loss=losses.binary_crossentropy,\n",
        "              metrics=[metrics.binary_accuracy])\n",
        "\n",
        "history = model.fit(x_train,\n",
        "                    y_train,\n",
        "                    epochs=20,\n",
        "                    batch_size=512,\n",
        "                    validation_data=(x_val, y_val))\n",
        "history_dict = history.history\n",
        "history_dict.keys()"
      ]
    },
    {
      "cell_type": "code",
      "execution_count": null,
      "metadata": {
        "id": "kosmNJRjxG8M",
        "colab": {
          "base_uri": "https://localhost:8080/",
          "height": 295
        },
        "outputId": "fd691c88-1653-4e6c-f8b9-a43786785243"
      },
      "outputs": [
        {
          "output_type": "display_data",
          "data": {
            "text/plain": [
              "<Figure size 432x288 with 1 Axes>"
            ],
            "image/png": "[encoded data removed]"
          },
          "metadata": {
            "needs_background": "light"
          }
        }
      ],
      "source": [
        "\n",
        "acc = history.history['binary_accuracy']\n",
        "val_acc = history.history['val_binary_accuracy']\n",
        "loss = history.history['loss']\n",
        "val_loss = history.history['val_loss']\n",
        "\n",
        "epochs = range(1, len(acc) + 1)\n",
        "\n",
        "# \"bo\" is for \"blue dot\"\n",
        "plt.plot(epochs, loss, 'bo', label='Training loss')\n",
        "# b is for \"solid blue line\"\n",
        "plt.plot(epochs, val_loss, 'b', label='Validation loss')\n",
        "plt.title('Training and validation loss')\n",
        "plt.xlabel('Epochs')\n",
        "plt.ylabel('Loss')\n",
        "plt.legend()\n",
        "\n",
        "plt.show()"
      ]
    },
    {
      "cell_type": "code",
      "execution_count": null,
      "metadata": {
        "id": "wtHEj47gxIYU",
        "colab": {
          "base_uri": "https://localhost:8080/",
          "height": 295
        },
        "outputId": "2616ebbd-e0dd-4788-c6cd-fc95606ce60c"
      },
      "outputs": [
        {
          "output_type": "display_data",
          "data": {
            "text/plain": [
              "<Figure size 432x288 with 1 Axes>"
            ],
            "image/png": "[encoded data removed]"
          },
          "metadata": {
            "needs_background": "light"
          }
        }
      ],
      "source": [
        "\n",
        "plt.clf()   # clear figure\n",
        "acc_values = history_dict['binary_accuracy']\n",
        "val_acc_values = history_dict['val_binary_accuracy']\n",
        "\n",
        "plt.plot(epochs, acc, 'bo', label='Training acc')\n",
        "plt.plot(epochs, val_acc, 'b', label='Validation acc')\n",
        "plt.title('Training and validation accuracy')\n",
        "plt.xlabel('Epochs')\n",
        "plt.ylabel('Loss')\n",
        "plt.legend()\n",
        "\n",
        "plt.show()"
      ]
    },
    {
      "cell_type": "markdown",
      "metadata": {
        "id": "9jCxnJutyH8o"
      },
      "source": [
        "As you can see, the effect is minimal, but the val curve a bit smoother in case of text clean-up\n",
        "\n",
        "# Why?\n",
        "\n",
        "We already limit the vocab to the most frequent 10K words, and we use BoW features, so cleanining up the text has minimal effect, since the words context is neglected (high frequent words are likely to always be scored no matter different morphologies might be missed sometimes).\n",
        "\n",
        "For sequence models for example with word embeddings (as we will see), the context of the word will have strong effect, so the clean up step will have more importance."
      ]
    },
    {
      "cell_type": "markdown",
      "metadata": {
        "id": "3UTmbTtC2RXr"
      },
      "source": [
        "# Bag-of-word Vectors:\n",
        "\n",
        "Th above model suffers two issues:\n",
        "\n",
        "1- Sequence info is lost. We will treat that later with sequence models\n",
        "\n",
        "2- __Sparsity__: the input scalars represent words indices. Those are sparse, and do not include any info about the word (is it a verb, is it a noun, is it a sarcastic word,....etc). Also, this input is very sparse, where in a sentence, we only have few words of the vocab.\n",
        "\n",
        "Thus, we use `Embedding` layer, that will encode _latent_ factors of the word features. In the current setup, we will _learn_ what those latent features are during training.\n",
        "\n",
        "## Embedding\n",
        "\n",
        "The input scalars represent words indices. Those are sparse, and do not include any info about the word (is it a verb, is it a noun, is it a sarcastic word,....etc). Also, this input is very sparse, where in a sentence, we only have few words of the vocab.\n",
        "\n",
        "Thus, we use `Embedding` layer, that will encode _latent_ factors of the word features. In the current setup, we will _learn_ what those latent features are during training.\n"
      ]
    },
    {
      "cell_type": "markdown",
      "metadata": {
        "id": "RTbuz88ACjvu"
      },
      "source": [
        "# Word Embedding\n",
        "A word embedding is a class of approaches for representing words and documents using a\n",
        "dense vector representation. It is an improvement over more the traditional bag-of-word model\n",
        "encoding schemes where large sparse vectors were used to represent each word or to score each\n",
        "word within a vector to represent an entire vocabulary. These representations were sparse\n",
        "because the vocabularies were vast and a given word or document would be represented by a\n",
        "large vector comprised mostly of zero values.\n",
        "Instead, in an embedding, words are represented by dense vectors where a vector represents\n",
        "the projection of the word into a continuous vector space. The position of a word within the\n",
        "vector space is learned from text and is based on the words that surround the word when it is\n",
        "used. The position of a word in the learned vector space is referred to as its embedding. Two\n",
        "popular examples of methods of learning word embeddings from text include:\n",
        "\n",
        "- Word2Vec.\n",
        "- GloVe.\n",
        "In addition to these carefully designed methods, a word embedding can be learned as part\n",
        "of a deep learning model. This can be a slower approach, but tailors the model to a speci\n",
        "c\n",
        "training dataset."
      ]
    },
    {
      "cell_type": "markdown",
      "metadata": {
        "id": "SO3MC_C7CrPD"
      },
      "source": [
        "# Keras Embedding Layer\n",
        "Keras offers an Embedding layer that can be used for neural networks on text data.\n",
        "\n",
        "You can think of it as:\n",
        "- LUT\n",
        "- Weight Matrix: n_vocab x emb_sz\n",
        "\n",
        "It requires that the input data be integer encoded, so that each word is represented by a unique integer.\n",
        "\n",
        "This data preparation step can be performed using the Tokenizer API also provided with Keras.\n",
        "\n",
        "\n",
        "The Embedding layer is initialized with random weights and will learn an embedding for all of the words in the training dataset.\n",
        "\n",
        "It is a layer that can be used in a variety of ways, such as:\n",
        "\n",
        "- _From scratch embeddings_ It can be used alone to learn a word embedding that can be saved and used in another model later.\n",
        "\n",
        "- _Learnable embeddings_ It can be used as part of a deep learning model where the embedding is learned along with the model itself.\n",
        "\n",
        "- _Pre-trained embeddings_ It can be used to load a pre-trained word embedding model, a type of transfer learning. This can be mixed with learnable embeddings, where those weights are later updated or frozen as part of the larger model.\n"
      ]
    },
    {
      "cell_type": "markdown",
      "metadata": {
        "id": "o-QV5y-DDVoT"
      },
      "source": [
        "The Embedding layer is defined as the first hidden layer of a network. It must specify 3 arguments:\n",
        "- input dim: This is the size of the vocabulary in the text data. For example, if your data is integer encoded to values between 0-10, then the size of the vocabulary would be 11 words.\n",
        "\n",
        "- output dim: This is the size of the vector space in which words will be embedded. It defines the size of the output vectors from this layer for each word. For example, it could be 32 or 100 or even larger. Test different values for your problem.\n",
        "\n",
        "-  input length: This is the length of input sequences, as you would de\n",
        "ne for any input layer of a Keras model. For example, if all of your input documents are comprised of 1000 words, this would be 1000."
      ]
    },
    {
      "cell_type": "code",
      "execution_count": null,
      "metadata": {
        "id": "LfM3VFpqBTKq"
      },
      "outputs": [],
      "source": [
        "from tensorflow.keras.layers import Embedding\n",
        "e = Embedding(200, 32, input_length=50)"
      ]
    },
    {
      "cell_type": "markdown",
      "metadata": {
        "id": "qYE6hJ3-DpwL"
      },
      "source": [
        "The Embedding layer has weights that are learned. If you save your model to file, this will include weights for the Embedding layer.\n",
        "\n",
        "The output of the Embedding layer is a 2D vector with one embedding for each word in the input sequence of words (input document).\n",
        "\n",
        "If you wish to connect a Dense layer directly to an Embedding layer, you must first flatten the 2D output matrix to a 1D vector using the Flatten layer.\n",
        "\n",
        "Now, let's see how we can use an Embedding layer in practice."
      ]
    },
    {
      "cell_type": "markdown",
      "metadata": {
        "id": "ikQJu7gsD0LZ"
      },
      "source": [
        "# Example\n",
        "\n",
        "we will look at how we can learn a word embedding while setting a neural\n",
        "network on a text classifiation problem. We will define a small problem where we have 10 text documents, each with a comment about a piece of work a student submitted.\n",
        "\n",
        "Each text document is classified as positive 1 or negative 0. This is a simple sentiment analysis problem.\n",
        "First, we will de\n",
        "ne the documents and their class labels."
      ]
    },
    {
      "cell_type": "markdown",
      "metadata": {
        "id": "pHcFbWASEcsx"
      },
      "source": [
        "Keras provides the one hot() function that creates a\n",
        "hash of each word as an efficient integer encoding. We will estimate the vocabulary size of 50,\n",
        "which is much larger than needed to reduce the probability of collisions from the hash function."
      ]
    },
    {
      "cell_type": "code",
      "execution_count": null,
      "metadata": {
        "id": "-YoNAZkoECpY",
        "colab": {
          "base_uri": "https://localhost:8080/",
          "height": 849
        },
        "outputId": "0cf71fb7-723a-4360-f19b-8c4ddaeb879f"
      },
      "outputs": [
        {
          "output_type": "stream",
          "name": "stdout",
          "text": [
            "[[6, 2], [3, 1], [7, 4], [8, 1], [9], [10], [5, 4], [11, 3], [5, 1], [12, 13, 2, 14]]\n",
            "[[6, 2], [3, 1], [7, 4], [8, 1], [9], [10], [5, 4], [11, 3], [5, 1], [12, 13, 2, 14]]\n",
            "[[ 6  2  0  0]\n",
            " [ 3  1  0  0]\n",
            " [ 7  4  0  0]\n",
            " [ 8  1  0  0]\n",
            " [ 9  0  0  0]\n",
            " [10  0  0  0]\n",
            " [ 5  4  0  0]\n",
            " [11  3  0  0]\n",
            " [ 5  1  0  0]\n",
            " [12 13  2 14]]\n",
            "Model: \"sequential_5\"\n",
            "_________________________________________________________________\n",
            " Layer (type)                Output Shape              Param #   \n",
            "=================================================================\n",
            " embedding_1 (Embedding)     (None, 4, 8)              120       \n",
            "                                                                 \n",
            " flatten (Flatten)           (None, 32)                0         \n",
            "                                                                 \n",
            " dense_15 (Dense)            (None, 1)                 33        \n",
            "                                                                 \n",
            "=================================================================\n",
            "Total params: 153\n",
            "Trainable params: 153\n",
            "Non-trainable params: 0\n",
            "_________________________________________________________________\n"
          ]
        },
        {
          "output_type": "error",
          "ename": "ValueError",
          "evalue": "ignored",
          "traceback": [
            "\u001b[0;31m---------------------------------------------------------------------------\u001b[0m",
            "\u001b[0;31mValueError\u001b[0m                                Traceback (most recent call last)",
            "\u001b[0;32m<ipython-input-34-4abaf9ec33f1>\u001b[0m in \u001b[0;36m<module>\u001b[0;34m()\u001b[0m\n\u001b[1;32m     44\u001b[0m \u001b[0mmodel\u001b[0m\u001b[0;34m.\u001b[0m\u001b[0msummary\u001b[0m\u001b[0;34m(\u001b[0m\u001b[0;34m)\u001b[0m\u001b[0;34m\u001b[0m\u001b[0;34m\u001b[0m\u001b[0m\n\u001b[1;32m     45\u001b[0m \u001b[0;31m# fit the model\u001b[0m\u001b[0;34m\u001b[0m\u001b[0;34m\u001b[0m\u001b[0;34m\u001b[0m\u001b[0m\n\u001b[0;32m---> 46\u001b[0;31m \u001b[0mmodel\u001b[0m\u001b[0;34m.\u001b[0m\u001b[0mfit\u001b[0m\u001b[0;34m(\u001b[0m\u001b[0mpadded_docs\u001b[0m\u001b[0;34m,\u001b[0m \u001b[0mlabels\u001b[0m\u001b[0;34m,\u001b[0m \u001b[0mepochs\u001b[0m\u001b[0;34m=\u001b[0m\u001b[0;36m50\u001b[0m\u001b[0;34m,\u001b[0m \u001b[0mverbose\u001b[0m\u001b[0;34m=\u001b[0m\u001b[0;36m0\u001b[0m\u001b[0;34m)\u001b[0m\u001b[0;34m\u001b[0m\u001b[0;34m\u001b[0m\u001b[0m\n\u001b[0m\u001b[1;32m     47\u001b[0m \u001b[0;31m# evaluate the model\u001b[0m\u001b[0;34m\u001b[0m\u001b[0;34m\u001b[0m\u001b[0;34m\u001b[0m\u001b[0m\n\u001b[1;32m     48\u001b[0m \u001b[0mloss\u001b[0m\u001b[0;34m,\u001b[0m \u001b[0maccuracy\u001b[0m \u001b[0;34m=\u001b[0m \u001b[0mmodel\u001b[0m\u001b[0;34m.\u001b[0m\u001b[0mevaluate\u001b[0m\u001b[0;34m(\u001b[0m\u001b[0mpadded_docs\u001b[0m\u001b[0;34m,\u001b[0m \u001b[0mlabels\u001b[0m\u001b[0;34m,\u001b[0m \u001b[0mverbose\u001b[0m\u001b[0;34m=\u001b[0m\u001b[0;36m0\u001b[0m\u001b[0;34m)\u001b[0m\u001b[0;34m\u001b[0m\u001b[0;34m\u001b[0m\u001b[0m\n",
            "\u001b[0;32m/usr/local/lib/python3.7/dist-packages/keras/utils/traceback_utils.py\u001b[0m in \u001b[0;36merror_handler\u001b[0;34m(*args, **kwargs)\u001b[0m\n\u001b[1;32m     65\u001b[0m     \u001b[0;32mexcept\u001b[0m \u001b[0mException\u001b[0m \u001b[0;32mas\u001b[0m \u001b[0me\u001b[0m\u001b[0;34m:\u001b[0m  \u001b[0;31m# pylint: disable=broad-except\u001b[0m\u001b[0;34m\u001b[0m\u001b[0;34m\u001b[0m\u001b[0m\n\u001b[1;32m     66\u001b[0m       \u001b[0mfiltered_tb\u001b[0m \u001b[0;34m=\u001b[0m \u001b[0m_process_traceback_frames\u001b[0m\u001b[0;34m(\u001b[0m\u001b[0me\u001b[0m\u001b[0;34m.\u001b[0m\u001b[0m__traceback__\u001b[0m\u001b[0;34m)\u001b[0m\u001b[0;34m\u001b[0m\u001b[0;34m\u001b[0m\u001b[0m\n\u001b[0;32m---> 67\u001b[0;31m       \u001b[0;32mraise\u001b[0m \u001b[0me\u001b[0m\u001b[0;34m.\u001b[0m\u001b[0mwith_traceback\u001b[0m\u001b[0;34m(\u001b[0m\u001b[0mfiltered_tb\u001b[0m\u001b[0;34m)\u001b[0m \u001b[0;32mfrom\u001b[0m \u001b[0;32mNone\u001b[0m\u001b[0;34m\u001b[0m\u001b[0;34m\u001b[0m\u001b[0m\n\u001b[0m\u001b[1;32m     68\u001b[0m     \u001b[0;32mfinally\u001b[0m\u001b[0;34m:\u001b[0m\u001b[0;34m\u001b[0m\u001b[0;34m\u001b[0m\u001b[0m\n\u001b[1;32m     69\u001b[0m       \u001b[0;32mdel\u001b[0m \u001b[0mfiltered_tb\u001b[0m\u001b[0;34m\u001b[0m\u001b[0;34m\u001b[0m\u001b[0m\n",
            "\u001b[0;32m/usr/local/lib/python3.7/dist-packages/keras/engine/data_adapter.py\u001b[0m in \u001b[0;36mselect_data_adapter\u001b[0;34m(x, y)\u001b[0m\n\u001b[1;32m    985\u001b[0m         \u001b[0;34m\"Failed to find data adapter that can handle \"\u001b[0m\u001b[0;34m\u001b[0m\u001b[0;34m\u001b[0m\u001b[0m\n\u001b[1;32m    986\u001b[0m         \"input: {}, {}\".format(\n\u001b[0;32m--> 987\u001b[0;31m             _type_name(x), _type_name(y)))\n\u001b[0m\u001b[1;32m    988\u001b[0m   \u001b[0;32melif\u001b[0m \u001b[0mlen\u001b[0m\u001b[0;34m(\u001b[0m\u001b[0madapter_cls\u001b[0m\u001b[0;34m)\u001b[0m \u001b[0;34m>\u001b[0m \u001b[0;36m1\u001b[0m\u001b[0;34m:\u001b[0m\u001b[0;34m\u001b[0m\u001b[0;34m\u001b[0m\u001b[0m\n\u001b[1;32m    989\u001b[0m     raise RuntimeError(\n",
            "\u001b[0;31mValueError\u001b[0m: Failed to find data adapter that can handle input: <class 'numpy.ndarray'>, (<class 'list'> containing values of types {\"<class 'int'>\"})"
          ]
        }
      ],
      "source": [
        "from tensorflow.keras.preprocessing.text import one_hot\n",
        "from tensorflow.keras.preprocessing.sequence import pad_sequences\n",
        "from tensorflow.keras.preprocessing.text import Tokenizer\n",
        "from tensorflow.keras.models import Sequential\n",
        "from tensorflow.keras.layers import Dense\n",
        "from tensorflow.keras.layers import Flatten\n",
        "from tensorflow.keras.layers import Embedding\n",
        "# define documents\n",
        "docs = ['Well done!',\n",
        "'Good work','Great effort',\n",
        "'nice work',\n",
        "'Excellent!',\n",
        "'Weak',\n",
        "'Poor effort!',\n",
        "'not good',\n",
        "'poor work',\n",
        "'Could have done better.']\n",
        "# define class labels\n",
        "labels = [1,1,1,1,1,0,0,0,0,0]\n",
        "# integer encode the documents\n",
        "#vocab_size = 50\n",
        "\n",
        "#encoded_docs = [one_hot(d, vocab_size) for d in docs]\n",
        "t = Tokenizer()\n",
        "t.fit_on_texts(docs)\n",
        "vocab_size = len(t.word_index) + 1\n",
        "# integer encode the documents\n",
        "encoded_docs = t.texts_to_sequences(docs)\n",
        "print(encoded_docs)\n",
        "\n",
        "print(encoded_docs)\n",
        "# pad documents to a max length of 4 words\n",
        "max_length = 4\n",
        "padded_docs = pad_sequences(encoded_docs, maxlen=max_length, padding='post')\n",
        "print(padded_docs)\n",
        "# define the model\n",
        "model = Sequential()\n",
        "model.add(Embedding(vocab_size, 8, input_length=max_length))\n",
        "model.add(Flatten())\n",
        "model.add(Dense(1, activation='sigmoid'))\n",
        "# compile the model\n",
        "model.compile(optimizer='adam', loss='binary_crossentropy', metrics=['acc'])\n",
        "# summarize the model\n",
        "model.summary()\n",
        "# fit the model\n",
        "model.fit(padded_docs, labels, epochs=50, verbose=0)\n",
        "# evaluate the model\n",
        "loss, accuracy = model.evaluate(padded_docs, labels, verbose=0)\n",
        "print('Accuracy: %f' % (accuracy*100))"
      ]
    },
    {
      "cell_type": "code",
      "execution_count": null,
      "metadata": {
        "id": "o8ggjxju-0UI",
        "colab": {
          "base_uri": "https://localhost:8080/",
          "height": 564
        },
        "outputId": "f87cdb60-63c5-47b9-a04d-0afa0dd71b0b"
      },
      "outputs": [
        {
          "output_type": "execute_result",
          "data": {
            "text/plain": [
              "<IPython.core.display.Image object>"
            ],
            "image/png": "[encoded data removed]"
          },
          "metadata": {},
          "execution_count": 40
        }
      ],
      "source": [
        "emb_sz = 50\n",
        "model = models.Sequential()\n",
        "model.add(layers.Embedding(vocab_sz+1, n_latent_factors, input_length=vocab_sz))\n",
        "model.add(layers.Flatten())\n",
        "model.add(layers.Dense(emb_sz, activation='relu'))\n",
        "model.add(layers.Dense(16, activation='relu'))\n",
        "model.add(layers.Dense(1, activation='sigmoid'))\n",
        "plot_model(model)\n"
      ]
    },
    {
      "cell_type": "code",
      "execution_count": null,
      "metadata": {
        "id": "A6IAqxQG-y5h",
        "colab": {
          "base_uri": "https://localhost:8080/",
          "height": 693
        },
        "outputId": "3916fc24-d802-413b-f3ac-2da795fa5bc6"
      },
      "outputs": [
        {
          "output_type": "stream",
          "name": "stderr",
          "text": [
            "/usr/local/lib/python3.7/dist-packages/keras/optimizer_v2/rmsprop.py:130: UserWarning: The `lr` argument is deprecated, use `learning_rate` instead.\n",
            "  super(RMSprop, self).__init__(name, **kwargs)\n"
          ]
        },
        {
          "output_type": "stream",
          "name": "stdout",
          "text": [
            "Epoch 1/20\n"
          ]
        },
        {
          "output_type": "error",
          "ename": "ValueError",
          "evalue": "ignored",
          "traceback": [
            "\u001b[0;31m---------------------------------------------------------------------------\u001b[0m",
            "\u001b[0;31mValueError\u001b[0m                                Traceback (most recent call last)",
            "\u001b[0;32m<ipython-input-36-35a158ce9c96>\u001b[0m in \u001b[0;36m<module>\u001b[0;34m()\u001b[0m\n\u001b[1;32m     21\u001b[0m                     \u001b[0mepochs\u001b[0m\u001b[0;34m=\u001b[0m\u001b[0;36m20\u001b[0m\u001b[0;34m,\u001b[0m\u001b[0;34m\u001b[0m\u001b[0;34m\u001b[0m\u001b[0m\n\u001b[1;32m     22\u001b[0m                     \u001b[0mbatch_size\u001b[0m\u001b[0;34m=\u001b[0m\u001b[0;36m512\u001b[0m\u001b[0;34m,\u001b[0m\u001b[0;34m\u001b[0m\u001b[0;34m\u001b[0m\u001b[0m\n\u001b[0;32m---> 23\u001b[0;31m                     validation_data=(x_val, y_val))\n\u001b[0m\u001b[1;32m     24\u001b[0m \u001b[0mhistory_dict\u001b[0m \u001b[0;34m=\u001b[0m \u001b[0mhistory\u001b[0m\u001b[0;34m.\u001b[0m\u001b[0mhistory\u001b[0m\u001b[0;34m\u001b[0m\u001b[0;34m\u001b[0m\u001b[0m\n\u001b[1;32m     25\u001b[0m \u001b[0mhistory_dict\u001b[0m\u001b[0;34m.\u001b[0m\u001b[0mkeys\u001b[0m\u001b[0;34m(\u001b[0m\u001b[0;34m)\u001b[0m\u001b[0;34m\u001b[0m\u001b[0;34m\u001b[0m\u001b[0m\n",
            "\u001b[0;32m/usr/local/lib/python3.7/dist-packages/keras/utils/traceback_utils.py\u001b[0m in \u001b[0;36merror_handler\u001b[0;34m(*args, **kwargs)\u001b[0m\n\u001b[1;32m     65\u001b[0m     \u001b[0;32mexcept\u001b[0m \u001b[0mException\u001b[0m \u001b[0;32mas\u001b[0m \u001b[0me\u001b[0m\u001b[0;34m:\u001b[0m  \u001b[0;31m# pylint: disable=broad-except\u001b[0m\u001b[0;34m\u001b[0m\u001b[0;34m\u001b[0m\u001b[0m\n\u001b[1;32m     66\u001b[0m       \u001b[0mfiltered_tb\u001b[0m \u001b[0;34m=\u001b[0m \u001b[0m_process_traceback_frames\u001b[0m\u001b[0;34m(\u001b[0m\u001b[0me\u001b[0m\u001b[0;34m.\u001b[0m\u001b[0m__traceback__\u001b[0m\u001b[0;34m)\u001b[0m\u001b[0;34m\u001b[0m\u001b[0;34m\u001b[0m\u001b[0m\n\u001b[0;32m---> 67\u001b[0;31m       \u001b[0;32mraise\u001b[0m \u001b[0me\u001b[0m\u001b[0;34m.\u001b[0m\u001b[0mwith_traceback\u001b[0m\u001b[0;34m(\u001b[0m\u001b[0mfiltered_tb\u001b[0m\u001b[0;34m)\u001b[0m \u001b[0;32mfrom\u001b[0m \u001b[0;32mNone\u001b[0m\u001b[0;34m\u001b[0m\u001b[0;34m\u001b[0m\u001b[0m\n\u001b[0m\u001b[1;32m     68\u001b[0m     \u001b[0;32mfinally\u001b[0m\u001b[0;34m:\u001b[0m\u001b[0;34m\u001b[0m\u001b[0;34m\u001b[0m\u001b[0m\n\u001b[1;32m     69\u001b[0m       \u001b[0;32mdel\u001b[0m \u001b[0mfiltered_tb\u001b[0m\u001b[0;34m\u001b[0m\u001b[0;34m\u001b[0m\u001b[0m\n",
            "\u001b[0;32m/usr/local/lib/python3.7/dist-packages/tensorflow/python/framework/func_graph.py\u001b[0m in \u001b[0;36mautograph_handler\u001b[0;34m(*args, **kwargs)\u001b[0m\n\u001b[1;32m   1145\u001b[0m           \u001b[0;32mexcept\u001b[0m \u001b[0mException\u001b[0m \u001b[0;32mas\u001b[0m \u001b[0me\u001b[0m\u001b[0;34m:\u001b[0m  \u001b[0;31m# pylint:disable=broad-except\u001b[0m\u001b[0;34m\u001b[0m\u001b[0;34m\u001b[0m\u001b[0m\n\u001b[1;32m   1146\u001b[0m             \u001b[0;32mif\u001b[0m \u001b[0mhasattr\u001b[0m\u001b[0;34m(\u001b[0m\u001b[0me\u001b[0m\u001b[0;34m,\u001b[0m \u001b[0;34m\"ag_error_metadata\"\u001b[0m\u001b[0;34m)\u001b[0m\u001b[0;34m:\u001b[0m\u001b[0;34m\u001b[0m\u001b[0;34m\u001b[0m\u001b[0m\n\u001b[0;32m-> 1147\u001b[0;31m               \u001b[0;32mraise\u001b[0m \u001b[0me\u001b[0m\u001b[0;34m.\u001b[0m\u001b[0mag_error_metadata\u001b[0m\u001b[0;34m.\u001b[0m\u001b[0mto_exception\u001b[0m\u001b[0;34m(\u001b[0m\u001b[0me\u001b[0m\u001b[0;34m)\u001b[0m\u001b[0;34m\u001b[0m\u001b[0;34m\u001b[0m\u001b[0m\n\u001b[0m\u001b[1;32m   1148\u001b[0m             \u001b[0;32melse\u001b[0m\u001b[0;34m:\u001b[0m\u001b[0;34m\u001b[0m\u001b[0;34m\u001b[0m\u001b[0m\n\u001b[1;32m   1149\u001b[0m               \u001b[0;32mraise\u001b[0m\u001b[0;34m\u001b[0m\u001b[0;34m\u001b[0m\u001b[0m\n",
            "\u001b[0;31mValueError\u001b[0m: in user code:\n\n    File \"/usr/local/lib/python3.7/dist-packages/keras/engine/training.py\", line 1021, in train_function  *\n        return step_function(self, iterator)\n    File \"/usr/local/lib/python3.7/dist-packages/keras/engine/training.py\", line 1010, in step_function  **\n        outputs = model.distribute_strategy.run(run_step, args=(data,))\n    File \"/usr/local/lib/python3.7/dist-packages/keras/engine/training.py\", line 1000, in run_step  **\n        outputs = model.train_step(data)\n    File \"/usr/local/lib/python3.7/dist-packages/keras/engine/training.py\", line 859, in train_step\n        y_pred = self(x, training=True)\n    File \"/usr/local/lib/python3.7/dist-packages/keras/utils/traceback_utils.py\", line 67, in error_handler\n        raise e.with_traceback(filtered_tb) from None\n    File \"/usr/local/lib/python3.7/dist-packages/keras/engine/input_spec.py\", line 264, in assert_input_compatibility\n        raise ValueError(f'Input {input_index} of layer \"{layer_name}\" is '\n\n    ValueError: Input 0 of layer \"sequential_5\" is incompatible with the layer: expected shape=(None, 4), found shape=(None, 10000)\n"
          ]
        }
      ],
      "source": [
        "\n",
        "vocab_sz = 10000\n",
        "(train_data, train_labels), (test_data, test_labels) = imdb.load_data(num_words=vocab_sz)\n",
        "\n",
        "tok = Tokenizer(num_words=vocab_sz, oov_token='UNK')\n",
        "tok.fit_on_texts(trn_texts + tst_texts)\n",
        "#vocab_sz = len(tok.word_index)\n",
        "\n",
        "# Extract binary BoW features\n",
        "x_train = tok.sequences_to_matrix(train_data, mode='binary')\n",
        "x_val = tok.sequences_to_matrix(test_data, mode='binary')\n",
        "y_train = np.asarray(train_labels).astype('float32')\n",
        "y_val = np.asarray(test_labels).astype('float32')\n",
        "\n",
        "model.compile(optimizer=optimizers.RMSprop(lr=0.001),\n",
        "              loss=losses.binary_crossentropy,\n",
        "              metrics=[metrics.binary_accuracy])\n",
        "\n",
        "history = model.fit(x_train,\n",
        "                    y_train,\n",
        "                    epochs=20,\n",
        "                    batch_size=512,\n",
        "                    validation_data=(x_val, y_val))\n",
        "history_dict = history.history\n",
        "history_dict.keys()"
      ]
    },
    {
      "cell_type": "markdown",
      "metadata": {
        "id": "JJzhlcYmCjl5"
      },
      "source": [
        "# What happened?\n",
        "\n",
        "In the above model, we encode the word feature as:\n",
        "- 1--> word exists in the sentence\n",
        "- 0 --> word doesnt exist in the sentence\n",
        "\n",
        "So we don't have word index as feature anymore! In other words, the input to Embedding layer is invalid, since the Embedding layer can only be indexed with word index\n",
        "\n",
        "__What do we do?__\n",
        "\n",
        "We need to feed actual word indices. In other words, we need to convert back the binary features into sequence features.\n",
        "\n",
        "__`pad_sequences`__\n",
        "\n",
        "Now since we have a `Dense` layer in the model, we need to have fixed size input. We use keras `pad_sequences` to fill in to some `max_len`.\n",
        "\n",
        "# BoW vectors model:\n",
        "\n",
        "__This is still a BoW model!__\n",
        "\n",
        "Note that, although we now have inputs as words indices.\n",
        "\n",
        "But at some point in the model, we merge them as ___soup___ of word vectors in the `Flatten` layer, followed by a merger `Dense` layer. This is just a weighted sum of the words vectors.\n",
        "\n",
        "\n"
      ]
    },
    {
      "cell_type": "markdown",
      "metadata": {
        "id": "ltEndTI7ByLx"
      },
      "source": [
        "__PAD token: Embedding(vocab_sz+1, emb_sz)__\n",
        "\n",
        "Notice that we put the size of Embedding table = vocab_sz+1 X emb_sz.\n",
        "\n",
        "This is because we want to reserve extra entry in the table for the _PAD_ token. In our BoW model, we reserve that token index to be 0.\n",
        "\n",
        "___This must be considered in the tokenizer__\n",
        "\n",
        "The tokenizer must reserve a token for the PAD token. It could be 0 or any other token. In all cases, it must not be used for any other word.\n",
        "\n",
        "Keras `Embedding` is indifferent to the value of the reserved PAD token (0 or otherwise). It just needs extra value for the number of rows.\n",
        "\n",
        "Without this vocab_sz+1 rows, we will have values of words indices = 1..vocab_sz + 0, so vocab_sz+1 values, which might cause run time error since we don't have entry for the PAD token."
      ]
    },
    {
      "cell_type": "code",
      "execution_count": null,
      "metadata": {
        "id": "Qwaps0dI-u8z"
      },
      "outputs": [],
      "source": [
        "\n",
        "vocab_size = 10000\n",
        "(x_train, y_train), (x_val, y_val) = imdb.load_data(num_words=vocab_size)\n",
        "\n",
        "y_train = np.asarray(y_train).astype('float32')\n",
        "y_val = np.asarray(y_val).astype('float32')\n",
        "\n",
        "\n",
        "max_length = 100\n",
        "x_train = pad_sequences(x_train, maxlen=max_length, padding='post')\n",
        "x_val = pad_sequences(x_val, maxlen=max_length, padding='post')\n",
        "\n",
        "\n",
        "x_train, x_val, y_train, y_val = train_test_split(x_train, y_train, test_size=0.4, random_state=42)\n",
        "\n",
        "\n",
        "\n",
        "\n",
        "\n"
      ]
    },
    {
      "cell_type": "code",
      "execution_count": null,
      "metadata": {
        "id": "TiuaVafNGccR"
      },
      "outputs": [],
      "source": [
        "n_latent_factors = 25\n",
        "model = models.Sequential()\n",
        "model.add(layers.Embedding(vocab_sz+1, n_latent_factors, input_length=max_length))\n",
        "model.add(layers.Flatten())\n",
        "model.add(layers.Dense(16, activation='relu'))\n",
        "model.add(layers.Dense(16, activation='relu'))\n",
        "model.add(layers.Dense(1, activation='sigmoid'))\n",
        "model.summary()"
      ]
    },
    {
      "cell_type": "code",
      "execution_count": null,
      "metadata": {
        "id": "Q0v29Iv8GaxR"
      },
      "outputs": [],
      "source": [
        "plot_model(model)"
      ]
    },
    {
      "cell_type": "code",
      "execution_count": null,
      "metadata": {
        "id": "k3VIJqHGGuaA"
      },
      "outputs": [],
      "source": [
        "model.compile(optimizer=optimizers.RMSprop(lr=0.001),\n",
        "              loss=losses.binary_crossentropy,\n",
        "              metrics=[metrics.binary_accuracy])\n",
        "\n",
        "history = model.fit(x_train,\n",
        "                    y_train,\n",
        "                    epochs=20,\n",
        "                    batch_size=512,\n",
        "                    validation_data=(x_val, y_val))\n",
        "history_dict = history.history\n",
        "history_dict.keys()"
      ]
    },
    {
      "cell_type": "code",
      "execution_count": null,
      "metadata": {
        "id": "D0A3eGmOFawX"
      },
      "outputs": [],
      "source": [
        "\n",
        "acc = history.history['binary_accuracy']\n",
        "val_acc = history.history['val_binary_accuracy']\n",
        "loss = history.history['loss']\n",
        "val_loss = history.history['val_loss']\n",
        "\n",
        "epochs = range(1, len(acc) + 1)\n",
        "\n",
        "# \"bo\" is for \"blue dot\"\n",
        "plt.plot(epochs, loss, 'bo', label='Training loss')\n",
        "# b is for \"solid blue line\"\n",
        "plt.plot(epochs, val_loss, 'b', label='Validation loss')\n",
        "plt.title('Training and validation loss')\n",
        "plt.xlabel('Epochs')\n",
        "plt.ylabel('Loss')\n",
        "plt.legend()\n",
        "\n",
        "plt.show()"
      ]
    },
    {
      "cell_type": "code",
      "execution_count": null,
      "metadata": {
        "id": "VhdB5RUGFRzC"
      },
      "outputs": [],
      "source": [
        "\n",
        "plt.clf()   # clear figure\n",
        "acc_values = history_dict['binary_accuracy']\n",
        "val_acc_values = history_dict['val_binary_accuracy']\n",
        "\n",
        "plt.plot(epochs, acc, 'bo', label='Training acc')\n",
        "plt.plot(epochs, val_acc, 'b', label='Validation acc')\n",
        "plt.title('Training and validation accuracy')\n",
        "plt.xlabel('Epochs')\n",
        "plt.ylabel('Loss')\n",
        "plt.legend()\n",
        "\n",
        "plt.show()"
      ]
    },
    {
      "cell_type": "markdown",
      "metadata": {
        "id": "B1onhEUXFCMk"
      },
      "source": [
        "# Pros:\n",
        "- We have dense word representation\n",
        "- We somehow encode sequence information, since the inputs are now word positions, and their values=the word index at that position\n",
        "\n",
        "# Cons:\n",
        "- We still have BoW model. Although sequence is encoded in the input, but the info is lost later in the flatten layer --> ___RNN___\n",
        "- It's hard for the `Dense` layer to capture ALL different patterns of the input, with each word appearing at different positions for different samples.\n",
        "__We need some local features, that capture the word features, __wherever__ it occurs --> ___Conv1D___\n",
        "- The model now is larger, with too many parameters to be learnt (word latent features). So it needs more data to learn words context. --> ___word2vec___\n",
        "\n",
        "__We will treat the above issues one by one in the next lectures__"
      ]
    },
    {
      "cell_type": "markdown",
      "metadata": {
        "id": "T216wAtyQiv6"
      },
      "source": [
        "# Tips for Cleaning Text for Word Embedding\n",
        "Recently, the field of natural language processing has been moving away from bag-of-word models and word encoding toward word embeddings.\n",
        "\n",
        "The benefit of word embeddings is that\n",
        "they encode each word into a dense vector that captures something about its relative meaning within the training text.\n",
        "\n",
        "This means that variations of words like case, spelling, punctuation,\n",
        "and so on will automatically be learned to be similar in the embedding space.\n",
        "\n",
        "In turn, this can mean that the amount of cleaning required from your text may be less and perhaps quite diffeerent to classical text cleaning.\n",
        "\n",
        "For example, __it may no-longer make sense to stem words or\n",
        "remove punctuation for contractions.__\n",
        "\n",
        "Tomas Mikolov is one of the developers of Word2Vec, a popular word embedding method. He suggests only very minimal text cleaning is required when learning a word embedding model. Below is his response when pressed with the question about how to best prepare text data for Word2Vec.\n",
        "\n",
        "_There is no universal answer. It all depends on what you plan to use the vectors\n",
        "for. In my experience, it is usually good to disconnect (or remove) punctuation from\n",
        "words, and sometimes also convert all characters to lowercase. One can also replace\n",
        "all numbers (possibly greater than some constant) with some single token such as .\n",
        "All these pre-processing steps aim to reduce the vocabulary size without removing\n",
        "any important content (which in some cases may not be true when you lowercase\n",
        "certain words, ie. `Bush' is di\n",
        "erent than `bush', while `Another' has usually the\n",
        "same sense as `another'). The smaller the vocabulary is, the lower is the memory\n",
        "complexity, and the more robustly are the parameters for the words estimated. You\n",
        "also have to pre-process the test data in the same way.\n",
        "[...]\n",
        "In short, you will understand all this much better if you will run experiments.\n",
        "| Tomas Mikolov, word2vec-toolkit: google groups thread., 2015.\n",
        "https://goo.gl/KtDGst_"
      ]
    },
    {
      "cell_type": "markdown",
      "metadata": {
        "id": "FZlGYYf4QkLa"
      },
      "source": [
        "# Pre-trained word Embeddings\n",
        "\n",
        "In the above setting, we used a _learnable_ `Embedding` layer, which updates its ___randomly___ initialized weights, from the task at hand.\n",
        "\n",
        "Another approach would be to load some pre-trained word vectors, that are trained on some other useful task in NLP, and then use those pre-trained vectors to initialize our Embedding table vectors.\n",
        "\n",
        "One of the popular pre-trained embeddings is _GloVe_"
      ]
    },
    {
      "cell_type": "markdown",
      "metadata": {
        "id": "Av3m2YfxRSNE"
      },
      "source": []
    },
    {
      "cell_type": "markdown",
      "metadata": {
        "id": "S7kyWHyPFMaf"
      },
      "source": [
        "# Loading GloVe"
      ]
    },
    {
      "cell_type": "markdown",
      "metadata": {
        "id": "MVea98AxFl9H"
      },
      "source": [
        "The Keras Embedding layer can also use a word embedding learned elsewhere. It is common in the NLP to learn, save, and make freely available word\n",
        "embeddings. For example, the researchers behind GloVe method provide a suite of pre-trained word embeddings on their website released under a public domain license."
      ]
    },
    {
      "cell_type": "markdown",
      "metadata": {
        "id": "rFnC9N7lF2lK"
      },
      "source": [
        "__Load embeddings for your vocab__\n",
        "\n",
        "We need to create a matrix of one embedding for each word in the training\n",
        "dataset. We can do that by enumerating all unique words in the Tokenizer.word index and\n",
        "locating the embedding weight vector from the loaded GloVe embedding. The result is a matrix\n",
        "of weights only for words we will see during training.\n",
        "\n",
        "```\n",
        "# create a weight matrix for words in training docs\n",
        "embedding_matrix = zeros((vocab_size, 100))\n",
        "for word, i in t.word_index.items():\n",
        "  embedding_vector = embeddings_index.get(word)\n",
        "  if embedding_vector is not None:\n",
        "    embedding_matrix[i] = embedding_vector\n",
        "```"
      ]
    },
    {
      "cell_type": "markdown",
      "metadata": {
        "id": "ifraxXz_GAmz"
      },
      "source": [
        "Now we can de\n",
        "ne our model,\n",
        "t, and evaluate it as before. The key di\n",
        "erence is that\n",
        "the Embedding layer can be seeded with the GloVe word embedding weights. We chose the\n",
        "100-dimensional version, therefore the Embedding layer must be de\n",
        "ned with output dim set to\n",
        "100. Finally, we do not want to update the learned word weights in this model, therefore we\n",
        "will set the trainable attribute for the model to be False.\n",
        "\n",
        "```\n",
        "e = Embedding(vocab_size, 100, weights=[embedding_matrix], input_length=4, trainable=False)\n",
        "```"
      ]
    },
    {
      "cell_type": "code",
      "execution_count": null,
      "metadata": {
        "id": "-HxwI2_UFLoQ"
      },
      "outputs": [],
      "source": [
        "!wget http://nlp.stanford.edu/data/glove.6B.zip\n",
        "!unzip glove.6B.zip"
      ]
    },
    {
      "cell_type": "code",
      "execution_count": null,
      "metadata": {
        "id": "6Kx6w_TcgfCN"
      },
      "outputs": [],
      "source": [
        "#!unzip glove.6B.zip.1"
      ]
    },
    {
      "cell_type": "code",
      "execution_count": null,
      "metadata": {
        "id": "fI8QPEaxEtcf"
      },
      "outputs": [],
      "source": [
        "from numpy import asarray\n",
        "from numpy import zeros\n",
        "from tensorflow.keras.preprocessing.text import Tokenizer\n",
        "from tensorflow.keras.preprocessing.sequence import pad_sequences\n",
        "from tensorflow.keras.models import Sequential\n",
        "from tensorflow.keras.layers import Dense\n",
        "from tensorflow.keras.layers import Flatten\n",
        "from tensorflow.keras.layers import Embedding\n",
        "# define documents\n",
        "docs = ['Well done!',\n",
        "'Good work',\n",
        "'Great effort',\n",
        "'nice work',\n",
        "'Excellent!',\n",
        "'Weak',\n",
        "'Poor effort!',\n",
        "'not good',\n",
        "'poor work',\n",
        "'Could have done better.']\n",
        "# define class labels\n",
        "labels = [1,1,1,1,1,0,0,0,0,0]\n",
        "# prepare tokenizer\n",
        "t = Tokenizer()\n",
        "t.fit_on_texts(docs)\n",
        "vocab_size = len(t.word_index) + 1\n",
        "# integer encode the documents\n",
        "encoded_docs = t.texts_to_sequences(docs)\n",
        "print(encoded_docs)\n",
        "# pad documents to a max length of 4 words\n",
        "max_length = 4\n",
        "padded_docs = pad_sequences(encoded_docs, maxlen=max_length, padding='post')\n",
        "print(padded_docs)\n",
        "# load the whole embedding into memory\n",
        "embeddings_index = dict()\n",
        "f = open('glove.6B.100d.txt', mode='rt', encoding='utf-8')\n",
        "for line in f:\n",
        "  values = line.split()\n",
        "  word = values[0]\n",
        "  coefs = asarray(values[1:], dtype='float32')\n",
        "  embeddings_index[word] = coefs\n",
        "f.close()\n",
        "print('Loaded %s word vectors.' % len(embeddings_index))\n",
        "# create a weight matrix for words in training docs\n",
        "embedding_matrix = zeros((vocab_size, 100))\n",
        "for word, i in t.word_index.items():\n",
        "  embedding_vector = embeddings_index.get(word)\n",
        "  if embedding_vector is not None:\n",
        "    embedding_matrix[i] = embedding_vector\n",
        "# define model\n",
        "model = Sequential()\n",
        "e = Embedding(vocab_size, 100, weights=[embedding_matrix], input_length=4, trainable=False)\n",
        "model.add(e)\n",
        "model.add(Flatten())\n",
        "model.add(Dense(1, activation='sigmoid'))\n",
        "# compile the model\n",
        "model.compile(optimizer='adam', loss='binary_crossentropy', metrics=['acc'])\n",
        "# summarize the model\n",
        "model.summary()\n",
        "# fit the model\n",
        "model.fit(padded_docs, labels, epochs=50, verbose=0)\n",
        "# evaluate the model\n",
        "loss, accuracy = model.evaluate(padded_docs, labels, verbose=0)\n",
        "print('Accuracy: %f' % (accuracy*100))"
      ]
    },
    {
      "cell_type": "markdown",
      "metadata": {
        "id": "XdVQT72zRWEb"
      },
      "source": [
        "# BoW vectors with GloVe Embeddings"
      ]
    },
    {
      "cell_type": "code",
      "execution_count": null,
      "metadata": {
        "id": "mBrjQzW-Rgz3"
      },
      "outputs": [],
      "source": [
        "\n",
        "vocab_size = 10000\n",
        "(x_train, y_train), (x_val, y_val) = imdb.load_data(num_words=vocab_size)\n",
        "\n",
        "y_train = np.asarray(y_train).astype('float32')\n",
        "y_val = np.asarray(y_val).astype('float32')\n",
        "\n",
        "\n",
        "max_length = 100\n",
        "x_train = pad_sequences(x_train, maxlen=max_length, padding='post')\n",
        "x_val = pad_sequences(x_val, maxlen=max_length, padding='post')\n",
        "\n",
        "\n",
        "x_train, x_val, y_train, y_val = train_test_split(x_train, y_train, test_size=0.4, random_state=42)\n",
        "\n",
        "\n",
        "\n",
        "\n",
        "\n"
      ]
    },
    {
      "cell_type": "code",
      "execution_count": null,
      "metadata": {
        "id": "gYST3z0pRoJC"
      },
      "outputs": [],
      "source": [
        "# load the whole embedding into memory\n",
        "embeddings_index = dict()\n",
        "f = open('glove.6B.100d.txt', mode='rt', encoding='utf-8')\n",
        "for line in f:\n",
        "  values = line.split()\n",
        "  word = values[0]\n",
        "  coefs = asarray(values[1:], dtype='float32')\n",
        "  embeddings_index[word] = coefs\n",
        "f.close()\n",
        "print('Loaded %s word vectors.' % len(embeddings_index))\n",
        "# create a weight matrix for words in training docs\n",
        "embedding_matrix = zeros((vocab_size, 100))\n",
        "for word, i in t.word_index.items():\n",
        "  embedding_vector = embeddings_index.get(word)\n",
        "  if embedding_vector is not None:\n",
        "    embedding_matrix[i] = embedding_vector\n",
        "# define model\n",
        "model = Sequential()\n",
        "e = Embedding(vocab_size, 100, weights=[embedding_matrix], input_length=4, trainable=False)"
      ]
    },
    {
      "cell_type": "code",
      "execution_count": null,
      "metadata": {
        "id": "75B3i3BDRgz6"
      },
      "outputs": [],
      "source": [
        "n_latent_factors = 100\n",
        "model = models.Sequential()\n",
        "model.add(layers.Embedding(vocab_sz, n_latent_factors, weights=[embedding_matrix], input_length=max_length, trainable=False))\n",
        "model.add(layers.Flatten())\n",
        "model.add(layers.Dense(16, activation='relu'))\n",
        "model.add(layers.Dense(16, activation='relu'))\n",
        "model.add(layers.Dense(1, activation='sigmoid'))\n",
        "model.summary()"
      ]
    },
    {
      "cell_type": "code",
      "execution_count": null,
      "metadata": {
        "id": "CH31GfueRgz9"
      },
      "outputs": [],
      "source": [
        "plot_model(model)"
      ]
    },
    {
      "cell_type": "code",
      "execution_count": null,
      "metadata": {
        "id": "HyrtErleRg0C"
      },
      "outputs": [],
      "source": [
        "model.compile(optimizer=optimizers.RMSprop(lr=0.001),\n",
        "              loss=losses.binary_crossentropy,\n",
        "              metrics=[metrics.binary_accuracy])\n",
        "\n",
        "history = model.fit(x_train,\n",
        "                    y_train,\n",
        "                    epochs=20,\n",
        "                    batch_size=512,\n",
        "                    validation_data=(x_val, y_val))\n",
        "history_dict = history.history\n",
        "history_dict.keys()"
      ]
    },
    {
      "cell_type": "code",
      "execution_count": null,
      "metadata": {
        "id": "nHgWbt_8Rg0H"
      },
      "outputs": [],
      "source": [
        "\n",
        "acc = history.history['binary_accuracy']\n",
        "val_acc = history.history['val_binary_accuracy']\n",
        "loss = history.history['loss']\n",
        "val_loss = history.history['val_loss']\n",
        "\n",
        "epochs = range(1, len(acc) + 1)\n",
        "\n",
        "# \"bo\" is for \"blue dot\"\n",
        "plt.plot(epochs, loss, 'bo', label='Training loss')\n",
        "# b is for \"solid blue line\"\n",
        "plt.plot(epochs, val_loss, 'b', label='Validation loss')\n",
        "plt.title('Training and validation loss')\n",
        "plt.xlabel('Epochs')\n",
        "plt.ylabel('Loss')\n",
        "plt.legend()\n",
        "\n",
        "plt.show()"
      ]
    },
    {
      "cell_type": "code",
      "execution_count": null,
      "metadata": {
        "id": "YblCXZVIRg0J"
      },
      "outputs": [],
      "source": [
        "\n",
        "plt.clf()   # clear figure\n",
        "acc_values = history_dict['binary_accuracy']\n",
        "val_acc_values = history_dict['val_binary_accuracy']\n",
        "\n",
        "plt.plot(epochs, acc, 'bo', label='Training acc')\n",
        "plt.plot(epochs, val_acc, 'b', label='Validation acc')\n",
        "plt.title('Training and validation accuracy')\n",
        "plt.xlabel('Epochs')\n",
        "plt.ylabel('Loss')\n",
        "plt.legend()\n",
        "\n",
        "plt.show()"
      ]
    },
    {
      "cell_type": "markdown",
      "metadata": {
        "id": "Oj9vRhvShPkf"
      },
      "source": [
        "Make trainable"
      ]
    },
    {
      "cell_type": "code",
      "execution_count": null,
      "metadata": {
        "id": "9XE8ERt9hUHU"
      },
      "outputs": [],
      "source": []
    },
    {
      "cell_type": "code",
      "execution_count": null,
      "metadata": {
        "id": "wt4SZSEnhUi6"
      },
      "outputs": [],
      "source": [
        "n_latent_factors = 100\n",
        "model = models.Sequential()\n",
        "model.add(layers.Embedding(vocab_sz, n_latent_factors, weights=[embedding_matrix], input_length=max_length, trainable=True))\n",
        "model.add(layers.Flatten())\n",
        "model.add(layers.Dense(16, activation='relu'))\n",
        "model.add(layers.Dense(16, activation='relu'))\n",
        "model.add(layers.Dense(1, activation='sigmoid'))\n",
        "model.summary()"
      ]
    },
    {
      "cell_type": "code",
      "execution_count": null,
      "metadata": {
        "id": "OXMWYp4LhUi9"
      },
      "outputs": [],
      "source": [
        "plot_model(model)"
      ]
    },
    {
      "cell_type": "code",
      "execution_count": null,
      "metadata": {
        "id": "5bldXSkShUi_"
      },
      "outputs": [],
      "source": [
        "model.compile(optimizer=optimizers.RMSprop(lr=0.001),\n",
        "              loss=losses.binary_crossentropy,\n",
        "              metrics=[metrics.binary_accuracy])\n",
        "\n",
        "history = model.fit(x_train,\n",
        "                    y_train,\n",
        "                    epochs=20,\n",
        "                    batch_size=512,\n",
        "                    validation_data=(x_val, y_val))\n",
        "history_dict = history.history\n",
        "history_dict.keys()"
      ]
    },
    {
      "cell_type": "code",
      "execution_count": null,
      "metadata": {
        "id": "shE0kvN_hUjC"
      },
      "outputs": [],
      "source": [
        "\n",
        "acc = history.history['binary_accuracy']\n",
        "val_acc = history.history['val_binary_accuracy']\n",
        "loss = history.history['loss']\n",
        "val_loss = history.history['val_loss']\n",
        "\n",
        "epochs = range(1, len(acc) + 1)\n",
        "\n",
        "# \"bo\" is for \"blue dot\"\n",
        "plt.plot(epochs, loss, 'bo', label='Training loss')\n",
        "# b is for \"solid blue line\"\n",
        "plt.plot(epochs, val_loss, 'b', label='Validation loss')\n",
        "plt.title('Training and validation loss')\n",
        "plt.xlabel('Epochs')\n",
        "plt.ylabel('Loss')\n",
        "plt.legend()\n",
        "\n",
        "plt.show()"
      ]
    },
    {
      "cell_type": "code",
      "execution_count": null,
      "metadata": {
        "id": "n9HXZOophUjE"
      },
      "outputs": [],
      "source": [
        "\n",
        "plt.clf()   # clear figure\n",
        "acc_values = history_dict['binary_accuracy']\n",
        "val_acc_values = history_dict['val_binary_accuracy']\n",
        "\n",
        "plt.plot(epochs, acc, 'bo', label='Training acc')\n",
        "plt.plot(epochs, val_acc, 'b', label='Validation acc')\n",
        "plt.title('Training and validation accuracy')\n",
        "plt.xlabel('Epochs')\n",
        "plt.ylabel('Loss')\n",
        "plt.legend()\n",
        "\n",
        "plt.show()"
      ]
    }
  ],
  "metadata": {
    "colab": {
      "provenance": []
    },
    "gpuClass": "standard",
    "kernelspec": {
      "display_name": "Python 3",
      "name": "python3"
    },
    "accelerator": "GPU"
  },
  "nbformat": 4,
  "nbformat_minor": 0
}